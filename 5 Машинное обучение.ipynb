{
 "cells": [
  {
   "cell_type": "markdown",
   "metadata": {},
   "source": [
    "<div class=\"alert alert-info\">\n",
    "<font size=\"5\"><b>Комментарий ревьюера</b></font>\n",
    "\n",
    "Привет Руслан! Меня зовут Марат, и я буду твоим ревьюером. Спешу сообщить что все ключевые этапы в работе выполнены,  с задачей тебе удалось справиться. По поводу обращения - в IT сфере принято общаться на «ты» :) Но, если привычней на «вы», дай знать. Как ревьюера моя задача помочь тебе в развитии, дав хорошие советы. Я внимательно посмотрю твой код, ознакомлюсь с твоими выводами и оставлю комментарии. Где то могу предложить небольшие исправление в коде, но ненавязчиво. Где потребуются уточнения, я оставлю много наводящих вопросов. Они помогут тебя с поиском верного решения.\n",
    "\n",
    "Все мои комментарии размечены по цветам, для лучшего восприятия. \n",
    "    \n",
    "<div class=\"alert alert-success\">Зеленым цветом и словом «Успех» отмечены особо удачные и элегантные решения, которыми ты можешь гордиться. </div>\n",
    "        \n",
    "<div class=\"alert alert-warning\">Желтым и значком словом «Совет», помечены решения у которых есть альтернативные решения, более оптимальные. Ты можешь найти их сразу и доработать проект, или отложить это на потом, для будущих проектах. Проект будет принят и без их доработки. </div>\n",
    "        \n",
    "<div class=\"alert alert-danger\"> Красным цветом и значком словом «Ошибка» помечу твои решения, на которые стоит обратить внимание прежде всего. После их доработки проект будет принят. </div>\n",
    "        \n",
    "Залог успеха - работа сообща, взаимное уважение и работа в диалоге. Поэтому, помечай свои ответные комментарии на мои реплики заметным цветом или курсивом, так мне будет легче их отслеживать. Пожалуйста, не изменяй и не удаляй мои комментарии. Все это поможет выполнить повторную проверку быстрей.\n",
    "\n",
    "</div>"
   ]
  },
  {
   "cell_type": "markdown",
   "metadata": {},
   "source": [
    "# Рекомендация тарифов"
   ]
  },
  {
   "cell_type": "markdown",
   "metadata": {},
   "source": [
    "В вашем распоряжении данные о поведении клиентов, которые уже перешли на эти тарифы (из проекта курса «Статистический анализ данных»). Нужно построить модель для задачи классификации, которая выберет подходящий тариф. Предобработка данных не понадобится — вы её уже сделали.\n",
    "\n",
    "Постройте модель с максимально большим значением *accuracy*. Чтобы сдать проект успешно, нужно довести долю правильных ответов по крайней мере до 0.75. Проверьте *accuracy* на тестовой выборке самостоятельно."
   ]
  },
  {
   "cell_type": "markdown",
   "metadata": {},
   "source": [
    "# Описание данных \n",
    "Каждый объект в наборе данных — это информация о поведении одного пользователя за месяц. Известно:\n",
    "* сalls — количество звонков,\n",
    "* minutes — суммарная длительность звонков в минутах,\n",
    "* messages — количество sms-сообщений,\n",
    "* mb_used — израсходованный интернет-трафик в Мб,\n",
    "* is_ultra — каким тарифом пользовался в течение месяца («Ультра» — 1, «Смарт» — 0)."
   ]
  },
  {
   "cell_type": "markdown",
   "metadata": {},
   "source": [
    "# План работы:\n",
    "* 1 Откройте и изучите файл\n",
    "* 2 Разбейте данные на выборки\n",
    "* 3 Исследуйте модели\n",
    "* 4 Проверьте модель на тестовой выборке\n",
    "* 5 (бонус)Проверьте модели на адекватность\n"
   ]
  },
  {
   "cell_type": "markdown",
   "metadata": {},
   "source": [
    "<div class=\"alert alert-success\">\n",
    "<font size=\"5\"><b>Комментарий ревьюера</b></font>\n",
    "\n",
    "Успех:\n",
    "\n",
    "\n",
    "Вступление в работу очень важно, так человек, который смотрит твой проект (и на работе в том числе) будет сразу введен в курс дела.\n",
    "\n",
    "\n",
    "\n",
    "\n",
    "\n",
    "</div>"
   ]
  },
  {
   "cell_type": "markdown",
   "metadata": {},
   "source": [
    "## Откройте и изучите файл"
   ]
  },
  {
   "cell_type": "code",
   "execution_count": 1,
   "metadata": {},
   "outputs": [],
   "source": [
    "import pandas as pd\n",
    "import matplotlib.pyplot as plt\n",
    "from sklearn.model_selection import train_test_split\n",
    "from sklearn.tree import DecisionTreeClassifier\n",
    "from sklearn.metrics import accuracy_score\n",
    "from sklearn.linear_model import LogisticRegression\n",
    "from sklearn.ensemble import RandomForestClassifier\n",
    "from sklearn.metrics import mean_squared_error\n",
    "from sklearn.dummy import DummyClassifier"
   ]
  },
  {
   "cell_type": "markdown",
   "metadata": {},
   "source": [
    "<div class=\"alert alert-success\">\n",
    "<font size=\"5\"><b>Комментарий ревьюера</b></font>\n",
    "\n",
    "Успех:\n",
    "\n",
    "Собираем все импорты в верхней части, чтобы легче было ориентироваться и добавлять новые по необходимости. \n",
    "\n",
    "\n",
    "<div class=\"alert alert-warning\">\n",
    "\n",
    "Совет:     \n",
    "    \n",
    "    \n",
    "\n",
    "\n",
    "- Руслан, у тебя тут есть лишние импорты, их стоит убрать, чтобы поберечь ресурсы  \n",
    "\n",
    "- кстати есть рекомендации PEP-8 при написании кода, в том числе и для импортов. Если интересно можешь почитать [тут](https://pythonworld.ru/osnovy/pep-8-rukovodstvo-po-napisaniyu-koda-na-python.html), в будущем пригодится )  \n",
    "\n",
    "\n",
    "\n",
    "<div>"
   ]
  },
  {
   "cell_type": "markdown",
   "metadata": {},
   "source": [
    "<div class=\"alert alert-info\" style=\"border-radius: 10px; box-shadow: 2px 2px 2px; border: 1px solid; padding: 10px \"> \n",
    "<b>Комментарий студента\n",
    "    \n",
    "Лишнее удалил \n",
    "    </b> "
   ]
  },
  {
   "cell_type": "markdown",
   "metadata": {},
   "source": [
    "<div class=\"alert alert-warning\">\n",
    "<font size=\"5\"><b>Комментарий ревьюераV2</b></font>\n",
    "\n",
    "\n",
    "\n",
    "Совет 🤔:\n",
    "\n",
    "    \n",
    "Привет Руслан!    \n",
    "    \n",
    "А вот ещё лишнее\n",
    "    \n",
    "    from sklearn.metrics import mean_squared_error"
   ]
  },
  {
   "cell_type": "code",
   "execution_count": 2,
   "metadata": {},
   "outputs": [
    {
     "data": {
      "text/html": [
       "<div>\n",
       "<style scoped>\n",
       "    .dataframe tbody tr th:only-of-type {\n",
       "        vertical-align: middle;\n",
       "    }\n",
       "\n",
       "    .dataframe tbody tr th {\n",
       "        vertical-align: top;\n",
       "    }\n",
       "\n",
       "    .dataframe thead th {\n",
       "        text-align: right;\n",
       "    }\n",
       "</style>\n",
       "<table border=\"1\" class=\"dataframe\">\n",
       "  <thead>\n",
       "    <tr style=\"text-align: right;\">\n",
       "      <th></th>\n",
       "      <th>calls</th>\n",
       "      <th>minutes</th>\n",
       "      <th>messages</th>\n",
       "      <th>mb_used</th>\n",
       "      <th>is_ultra</th>\n",
       "    </tr>\n",
       "  </thead>\n",
       "  <tbody>\n",
       "    <tr>\n",
       "      <th>0</th>\n",
       "      <td>40.0</td>\n",
       "      <td>311.90</td>\n",
       "      <td>83.0</td>\n",
       "      <td>19915.42</td>\n",
       "      <td>0</td>\n",
       "    </tr>\n",
       "    <tr>\n",
       "      <th>1</th>\n",
       "      <td>85.0</td>\n",
       "      <td>516.75</td>\n",
       "      <td>56.0</td>\n",
       "      <td>22696.96</td>\n",
       "      <td>0</td>\n",
       "    </tr>\n",
       "    <tr>\n",
       "      <th>2</th>\n",
       "      <td>77.0</td>\n",
       "      <td>467.66</td>\n",
       "      <td>86.0</td>\n",
       "      <td>21060.45</td>\n",
       "      <td>0</td>\n",
       "    </tr>\n",
       "    <tr>\n",
       "      <th>3</th>\n",
       "      <td>106.0</td>\n",
       "      <td>745.53</td>\n",
       "      <td>81.0</td>\n",
       "      <td>8437.39</td>\n",
       "      <td>1</td>\n",
       "    </tr>\n",
       "    <tr>\n",
       "      <th>4</th>\n",
       "      <td>66.0</td>\n",
       "      <td>418.74</td>\n",
       "      <td>1.0</td>\n",
       "      <td>14502.75</td>\n",
       "      <td>0</td>\n",
       "    </tr>\n",
       "    <tr>\n",
       "      <th>...</th>\n",
       "      <td>...</td>\n",
       "      <td>...</td>\n",
       "      <td>...</td>\n",
       "      <td>...</td>\n",
       "      <td>...</td>\n",
       "    </tr>\n",
       "    <tr>\n",
       "      <th>3209</th>\n",
       "      <td>122.0</td>\n",
       "      <td>910.98</td>\n",
       "      <td>20.0</td>\n",
       "      <td>35124.90</td>\n",
       "      <td>1</td>\n",
       "    </tr>\n",
       "    <tr>\n",
       "      <th>3210</th>\n",
       "      <td>25.0</td>\n",
       "      <td>190.36</td>\n",
       "      <td>0.0</td>\n",
       "      <td>3275.61</td>\n",
       "      <td>0</td>\n",
       "    </tr>\n",
       "    <tr>\n",
       "      <th>3211</th>\n",
       "      <td>97.0</td>\n",
       "      <td>634.44</td>\n",
       "      <td>70.0</td>\n",
       "      <td>13974.06</td>\n",
       "      <td>0</td>\n",
       "    </tr>\n",
       "    <tr>\n",
       "      <th>3212</th>\n",
       "      <td>64.0</td>\n",
       "      <td>462.32</td>\n",
       "      <td>90.0</td>\n",
       "      <td>31239.78</td>\n",
       "      <td>0</td>\n",
       "    </tr>\n",
       "    <tr>\n",
       "      <th>3213</th>\n",
       "      <td>80.0</td>\n",
       "      <td>566.09</td>\n",
       "      <td>6.0</td>\n",
       "      <td>29480.52</td>\n",
       "      <td>1</td>\n",
       "    </tr>\n",
       "  </tbody>\n",
       "</table>\n",
       "<p>3214 rows × 5 columns</p>\n",
       "</div>"
      ],
      "text/plain": [
       "      calls  minutes  messages   mb_used  is_ultra\n",
       "0      40.0   311.90      83.0  19915.42         0\n",
       "1      85.0   516.75      56.0  22696.96         0\n",
       "2      77.0   467.66      86.0  21060.45         0\n",
       "3     106.0   745.53      81.0   8437.39         1\n",
       "4      66.0   418.74       1.0  14502.75         0\n",
       "...     ...      ...       ...       ...       ...\n",
       "3209  122.0   910.98      20.0  35124.90         1\n",
       "3210   25.0   190.36       0.0   3275.61         0\n",
       "3211   97.0   634.44      70.0  13974.06         0\n",
       "3212   64.0   462.32      90.0  31239.78         0\n",
       "3213   80.0   566.09       6.0  29480.52         1\n",
       "\n",
       "[3214 rows x 5 columns]"
      ]
     },
     "execution_count": 2,
     "metadata": {},
     "output_type": "execute_result"
    }
   ],
   "source": [
    "data = pd.read_csv('/datasets/users_behavior.csv')\n",
    "data"
   ]
  },
  {
   "cell_type": "code",
   "execution_count": 3,
   "metadata": {},
   "outputs": [
    {
     "name": "stdout",
     "output_type": "stream",
     "text": [
      "<class 'pandas.core.frame.DataFrame'>\n",
      "RangeIndex: 3214 entries, 0 to 3213\n",
      "Data columns (total 5 columns):\n",
      " #   Column    Non-Null Count  Dtype  \n",
      "---  ------    --------------  -----  \n",
      " 0   calls     3214 non-null   float64\n",
      " 1   minutes   3214 non-null   float64\n",
      " 2   messages  3214 non-null   float64\n",
      " 3   mb_used   3214 non-null   float64\n",
      " 4   is_ultra  3214 non-null   int64  \n",
      "dtypes: float64(4), int64(1)\n",
      "memory usage: 125.7 KB\n"
     ]
    }
   ],
   "source": [
    "data.info()"
   ]
  },
  {
   "cell_type": "markdown",
   "metadata": {},
   "source": [
    "<div class=\"alert alert-success\">\n",
    "<font size=\"5\"><b>Комментарий ревьюера</b></font>\n",
    "\n",
    "Успех:\n",
    "\n",
    "👍 Данные изучены.\n",
    "\n",
    "<div class=\"alert alert-warning\">\n",
    "\n",
    "\n",
    "\n",
    "Совет: \n",
    "\n",
    "\n",
    "- .info (дает тебе информацию о пропусках и типах данных), а .describe (медианы, квантили, max, min итд) это такой джентльменский набор при первичной разведке данных (EDA).  \n",
    "\n",
    "\n",
    "\n",
    "- Можно еще отдельно проверить датасет на сбалансированность классов в таргете. Это помогло бы решить бонусное задание сразу (Только не надо балансировать данные, это тема следующего проекта).\n",
    "\n",
    "\n",
    "\n",
    "\n",
    "- Можно посмотреть корреляцию признаков. Знаешь что такое мультиколлинеарность, какие два типа проблем возникает, для каких моделей и какие варианты решения?\n",
    "\n",
    "\n",
    "\n",
    "\n",
    "\n",
    "\n",
    "- сейчас это не нужно (пока лучше вручную набивать все эти .info, count_values, .describe, .diplicate...) но в будущем можешь обратить внимание на библиотечки, в которых уже собран необходимый минимум при EDA (и не только минимум), например [pandas_profiling](https://habr.com/ru/companies/ruvds/articles/451478/) - будет информативно и красиво"
   ]
  },
  {
   "cell_type": "markdown",
   "metadata": {},
   "source": [
    "## Разбейте данные на выборки"
   ]
  },
  {
   "cell_type": "markdown",
   "metadata": {},
   "source": [
    "**Отделим целевой признак от остальных признаков**"
   ]
  },
  {
   "cell_type": "code",
   "execution_count": 4,
   "metadata": {},
   "outputs": [
    {
     "data": {
      "text/html": [
       "<div>\n",
       "<style scoped>\n",
       "    .dataframe tbody tr th:only-of-type {\n",
       "        vertical-align: middle;\n",
       "    }\n",
       "\n",
       "    .dataframe tbody tr th {\n",
       "        vertical-align: top;\n",
       "    }\n",
       "\n",
       "    .dataframe thead th {\n",
       "        text-align: right;\n",
       "    }\n",
       "</style>\n",
       "<table border=\"1\" class=\"dataframe\">\n",
       "  <thead>\n",
       "    <tr style=\"text-align: right;\">\n",
       "      <th></th>\n",
       "      <th>calls</th>\n",
       "      <th>minutes</th>\n",
       "      <th>messages</th>\n",
       "      <th>mb_used</th>\n",
       "    </tr>\n",
       "  </thead>\n",
       "  <tbody>\n",
       "    <tr>\n",
       "      <th>0</th>\n",
       "      <td>40.0</td>\n",
       "      <td>311.90</td>\n",
       "      <td>83.0</td>\n",
       "      <td>19915.42</td>\n",
       "    </tr>\n",
       "    <tr>\n",
       "      <th>1</th>\n",
       "      <td>85.0</td>\n",
       "      <td>516.75</td>\n",
       "      <td>56.0</td>\n",
       "      <td>22696.96</td>\n",
       "    </tr>\n",
       "    <tr>\n",
       "      <th>2</th>\n",
       "      <td>77.0</td>\n",
       "      <td>467.66</td>\n",
       "      <td>86.0</td>\n",
       "      <td>21060.45</td>\n",
       "    </tr>\n",
       "    <tr>\n",
       "      <th>3</th>\n",
       "      <td>106.0</td>\n",
       "      <td>745.53</td>\n",
       "      <td>81.0</td>\n",
       "      <td>8437.39</td>\n",
       "    </tr>\n",
       "    <tr>\n",
       "      <th>4</th>\n",
       "      <td>66.0</td>\n",
       "      <td>418.74</td>\n",
       "      <td>1.0</td>\n",
       "      <td>14502.75</td>\n",
       "    </tr>\n",
       "  </tbody>\n",
       "</table>\n",
       "</div>"
      ],
      "text/plain": [
       "   calls  minutes  messages   mb_used\n",
       "0   40.0   311.90      83.0  19915.42\n",
       "1   85.0   516.75      56.0  22696.96\n",
       "2   77.0   467.66      86.0  21060.45\n",
       "3  106.0   745.53      81.0   8437.39\n",
       "4   66.0   418.74       1.0  14502.75"
      ]
     },
     "metadata": {},
     "output_type": "display_data"
    },
    {
     "data": {
      "text/plain": [
       "0    0\n",
       "1    0\n",
       "2    0\n",
       "3    1\n",
       "4    0\n",
       "Name: is_ultra, dtype: int64"
      ]
     },
     "metadata": {},
     "output_type": "display_data"
    }
   ],
   "source": [
    "features= data.drop(['is_ultra'], axis=1)\n",
    "target = data['is_ultra']\n",
    "display(features.head(5)) # проверим разделение\n",
    "display(target.head(5))"
   ]
  },
  {
   "cell_type": "markdown",
   "metadata": {},
   "source": [
    "<div class=\"alert alert-warning\">\n",
    "<font size=\"5\"><b>Комментарий ревьюера</b></font>\n",
    "\n",
    "\n",
    "\n",
    "Совет 🤔:\n",
    "\n",
    "print не всегда нужен, вывод часто произойдет и так, а когда нужен, вместо print лучше использовать display, будет красивей\n",
    "\n",
    "\n",
    "\n",
    "\n",
    "\n",
    "</div>"
   ]
  },
  {
   "cell_type": "markdown",
   "metadata": {},
   "source": [
    "<div class=\"alert alert-info\" style=\"border-radius: 10px; box-shadow: 2px 2px 2px; border: 1px solid; padding: 10px \"> \n",
    "<b>Комментарий студента\n",
    "    \n",
    "Применил (display())\n",
    "    </b> "
   ]
  },
  {
   "cell_type": "markdown",
   "metadata": {},
   "source": [
    "<div class=\"alert alert-success\">\n",
    "<font size=\"5\"><b>Комментарий ревьюераV2</b></font>\n",
    "\n",
    "\n",
    "\n",
    "Успех 👍:\n",
    "\n",
    "\n",
    "\n",
    "Симпатичнее\n",
    "\n",
    "\n",
    "\n",
    "\n",
    "</div>\n"
   ]
  },
  {
   "cell_type": "markdown",
   "metadata": {},
   "source": [
    "**Разделим исходные данные на обучающую, валидационную и тестовую выборки.**"
   ]
  },
  {
   "cell_type": "markdown",
   "metadata": {},
   "source": [
    "Разделим данные в соотношении 60/20/20 на обучающая/валидационну/тестовую выборку."
   ]
  },
  {
   "cell_type": "markdown",
   "metadata": {},
   "source": [
    "**Обучающая выборка**"
   ]
  },
  {
   "cell_type": "code",
   "execution_count": 5,
   "metadata": {},
   "outputs": [],
   "source": [
    "features_train, features_1, target_train, target_1 = train_test_split(\\\n",
    "                                                                      features,\\\n",
    "                                                                      target, \\\n",
    "                                                                      test_size=0.4,\\\n",
    "                                                                      random_state=12345) "
   ]
  },
  {
   "cell_type": "code",
   "execution_count": 6,
   "metadata": {
    "scrolled": false
   },
   "outputs": [
    {
     "name": "stdout",
     "output_type": "stream",
     "text": [
      "(1928, 4)\n",
      "(1928,)\n",
      "Обучающая выборка: 59.98755444928439% от data\n"
     ]
    }
   ],
   "source": [
    "#проверяю разбивку\n",
    "print(features_train.shape)\n",
    "print(target_train.shape) \n",
    "print(f'Обучающая выборка: {features_train.shape[0] / data.shape[0] * 100}% от data')"
   ]
  },
  {
   "cell_type": "markdown",
   "metadata": {},
   "source": [
    "**Валидационная и тестовая выборка**"
   ]
  },
  {
   "cell_type": "code",
   "execution_count": 7,
   "metadata": {},
   "outputs": [],
   "source": [
    "features_valid, features_test, target_valid, target_test = train_test_split(\\\n",
    "                                                                            features_1,\\\n",
    "                                                                            target_1,\\\n",
    "                                                                            test_size=0.5,\\\n",
    "                                                                            random_state=12345) "
   ]
  },
  {
   "cell_type": "code",
   "execution_count": 8,
   "metadata": {},
   "outputs": [
    {
     "name": "stdout",
     "output_type": "stream",
     "text": [
      "Валидационная выборка features:(643, 4)\n",
      "Валидационная выборка target:(643,)\n",
      "Тестовая выборка features:(643, 4)\n",
      "Тестовая выборка target:(643,)\n",
      "Валидационная выборка: 20.00622277535781% от data\n",
      "Тестовая выборка: 20.00622277535781% от data\n"
     ]
    }
   ],
   "source": [
    "#проверяю разбивку\n",
    "print(f'Валидационная выборка features:{features_valid.shape}')\n",
    "print(f'Валидационная выборка target:{target_valid.shape}')\n",
    "print(f'Тестовая выборка features:{features_test.shape}')\n",
    "print(f'Тестовая выборка target:{target_test.shape}')\n",
    "print(f'Валидационная выборка: {features_valid.shape[0] / data.shape[0] * 100}% от data')\n",
    "print(f'Тестовая выборка: {features_test.shape[0] / data.shape[0] * 100}% от data')"
   ]
  },
  {
   "cell_type": "markdown",
   "metadata": {},
   "source": [
    "<div class=\"alert alert-success\">\n",
    "<font size=\"5\"><b>Комментарий ревьюера</b></font>\n",
    "\n",
    "Успех:\n",
    "\n",
    "Все правильно!\n",
    "\n",
    "Здорово что проконтролировано разбиение (можно с помощью .shape,  можно .len)\n",
    "\n",
    "\n",
    "\n",
    "<div class=\"alert alert-warning\">\n",
    "\n",
    "\n",
    "\n",
    "Совет: \n",
    "\n",
    "\n",
    "- Обрати внимание на аргумент stratify, он позволит сохранить изначальное распределение таргетов во всех новых датасетах.  Существующий дисбаланс никуда не денется, но в каждом датасете он будет одинаковым. [Почитать](https://pythonru.com/baza-znanij/sklearn-train-test-split) можно тут\n",
    "\n",
    "\n",
    "\n",
    "\n"
   ]
  },
  {
   "cell_type": "markdown",
   "metadata": {},
   "source": [
    "## Исследуйте модели"
   ]
  },
  {
   "cell_type": "markdown",
   "metadata": {},
   "source": [
    "### **DecisionTreeClassifie (Деревья решений)**"
   ]
  },
  {
   "cell_type": "code",
   "execution_count": 9,
   "metadata": {},
   "outputs": [
    {
     "name": "stdout",
     "output_type": "stream",
     "text": [
      "max_depth = 1 :0.7542768273716952\n",
      "max_depth = 2 :0.7822706065318819\n",
      "max_depth = 3 :0.7853810264385692\n",
      "max_depth = 4 :0.7791601866251944\n",
      "max_depth = 5 :0.7791601866251944\n",
      "max_depth = 6 :0.7838258164852255\n",
      "max_depth = 7 :0.7822706065318819\n",
      "max_depth = 8 :0.7791601866251944\n",
      "max_depth = 9 :0.7822706065318819\n",
      "max_depth = 10 :0.7744945567651633\n"
     ]
    }
   ],
   "source": [
    "for depth_1 in range(1,11):\n",
    "    model_1 = DecisionTreeClassifier(random_state=12345, max_depth=depth_1) \n",
    "    model_1.fit(features_train, target_train)\n",
    "    predictions_valid_1 = model_1.predict(features_valid)\n",
    "    print('max_depth =', depth_1, ':', end='')\n",
    "    print(accuracy_score(target_valid, predictions_valid_1))"
   ]
  },
  {
   "cell_type": "markdown",
   "metadata": {},
   "source": [
    "**Вывод:** Accuracy лучшей модели равно 0.7853810264385692, с гиперпараметром max_depth равным - 3."
   ]
  },
  {
   "cell_type": "markdown",
   "metadata": {},
   "source": [
    "<div class=\"alert alert-success\">\n",
    "<font size=\"5\"><b>Комментарий ревьюера</b></font>\n",
    "\n",
    "Успех:\n",
    " \n",
    "Работа выполнена в соответствии с критериями: \n",
    "\n",
    "\n",
    "\n",
    " - модель обучена на обучающем наборе\n",
    " - получена оценка качества на валидационном наборе\n",
    " - перебор гиперпараметров осуществляется в цикле\n",
    "\n",
    "\n",
    "\n",
    "\n",
    "\n",
    "<div class=\"alert alert-warning\">\n",
    "\n",
    "\n",
    "Совет: \n",
    "\n",
    "\n",
    "\n",
    "\n",
    "- Можно добавить график, хорошо оформленный график украсит проект. Тут на графике можно посмотреть как при изменении max_depth меняется точность на train и validation датасете (для этого собираем наши метрики на валидации и train в списки, а затем по ним обычный plt.plot()) Такой способ используют чтобы лучше отследить переобучение, но для этого стоит взять пернебор по max_depth поглубже\n",
    "\n",
    "\n",
    "- tree_plot можно построить, с max_depth равной 3 или 4 (глубже уже будет громоздко) - глянуть как DT сплиты делает, будет понимание как модель принимает решения: какие признаки  использует, на каких значениях делает разбиение вправо - влево \n",
    "\n",
    "\n",
    "\n",
    "\n",
    "</div>\n",
    "\n"
   ]
  },
  {
   "cell_type": "markdown",
   "metadata": {},
   "source": [
    "### **RandomForestClassifier(Случайный лес)**"
   ]
  },
  {
   "cell_type": "code",
   "execution_count": 17,
   "metadata": {},
   "outputs": [
    {
     "name": "stdout",
     "output_type": "stream",
     "text": [
      "Лучший гиперпараметр n_estimators = 8\n",
      "Лучший гиперпараметр max_depth = 8\n",
      "Accuracy наилучшей модели 0.80248833592535\n",
      "CPU times: user 1.77 s, sys: 20.9 ms, total: 1.79 s\n",
      "Wall time: 1.79 s\n"
     ]
    }
   ],
   "source": [
    "%%time\n",
    "best_model_2 = None\n",
    "best_est_2 = 0\n",
    "best_depth_2 = 0\n",
    "best_result_2 = 0\n",
    "for est in range(1, 11):\n",
    "    for depth in range(1, 11):\n",
    "        model_2 = RandomForestClassifier(random_state=12345, n_estimators=est, max_depth = depth)\n",
    "        model_2.fit(features_train, target_train)\n",
    "        predictions_valid_2 = model_2.predict(features_valid)\n",
    "        result_2 = accuracy_score(target_valid, predictions_valid_2)\n",
    "        if best_result_2 < result_2:\n",
    "            best_model_2 = model_2\n",
    "            best_est_2 = est\n",
    "            best_depth_2 = depth\n",
    "            best_result_2 = result_2\n",
    "            \n",
    "print('Лучший гиперпараметр n_estimators =', best_est_2)\n",
    "print('Лучший гиперпараметр max_depth =', best_depth_2)\n",
    "print('Accuracy наилучшей модели',best_result_2)"
   ]
  },
  {
   "cell_type": "markdown",
   "metadata": {},
   "source": [
    "\n",
    "\n",
    "<div class=\"alert alert-success\">\n",
    "<font size=\"5\"><b>Комментарий ревьюера</b></font>\n",
    "\n",
    "Успех:\n",
    "   \n",
    "\n",
    "\n",
    " \n",
    "По большему числу гиперпараметров перебор -   тем лучше метрика. Случайный лес мощная модель и по ней действительно стоит поперебирать несколько гиперпораметров. Здорово   \n",
    "\n",
    "\n",
    "\n",
    "\n",
    "<div class=\"alert alert-warning\">\n",
    "\n",
    "\n",
    "Совет: \n",
    "\n",
    "\n",
    "\n",
    "\n",
    "- Когда что то долго крутиться, можно использовать  %%time - ставишь на самый вверх ячейки с кодом, время выполнения которого хочешь замерить, может не знаешь.  Быстрее не станет, но все будут видеть стоит ли ждать не отходя от ПК или можно сходить чаек поставить )) \n",
    "    \n",
    "    Или tqdm, это ещё лучше, потому что он показывает интерактивно, на каком этапе расчетов мы находимся\n",
    "\n",
    "    \n",
    "    from tqdm import tqdm\n",
    "\n",
    "\n",
    "    for n_estimators in tqdm(range(3,58)):\n",
    "\n",
    "        ..........\n",
    "\n",
    "\n",
    "\n",
    "(дальше мы будем уходить от неэффективных в питоне циклов к apply.  Там тоже есть аналог прогресс-баров:  .progress_apply)\n",
    "    \n",
    "И будет красиво )   \n",
    " \n",
    "\n",
    "\n",
    "\n",
    "\n",
    "\n",
    "</div>\n"
   ]
  },
  {
   "cell_type": "markdown",
   "metadata": {},
   "source": [
    "<div class=\"alert alert-info\" style=\"border-radius: 10px; box-shadow: 2px 2px 2px; border: 1px solid; padding: 10px \"> \n",
    "<b>Комментарий студента\n",
    "    \n",
    "Применил (%%time)\n",
    "    </b> "
   ]
  },
  {
   "cell_type": "markdown",
   "metadata": {},
   "source": [
    "### Logistic Regression (Логистическая регрессия)"
   ]
  },
  {
   "cell_type": "code",
   "execution_count": 12,
   "metadata": {},
   "outputs": [
    {
     "name": "stdout",
     "output_type": "stream",
     "text": [
      "Accuracy логистической регрессии 0.7107309486780715"
     ]
    }
   ],
   "source": [
    "model_3 = LogisticRegression(random_state=12345)\n",
    "model_3.fit(features_train, target_train)\n",
    "predictions_valid_3 = model_3.predict(features_valid)\n",
    "accuracy_3 = accuracy_score( target_valid, predictions_valid_3)\n",
    "print('Accuracy логистической регрессии', accuracy_3, end ='')"
   ]
  },
  {
   "cell_type": "markdown",
   "metadata": {},
   "source": [
    "**3.Вывод:**\n",
    "* Accuracy лучший результат из выбронных моделий у RandomForestClassifier(Случайный лес), равен 0.80248833592535 с гиперпараметрами n_estimators = 8 и max_depth = 8\n",
    "* Accuracy Logistic Regression (логистической регрессии) 0.7107309486780715, эта модель не подходит для задания она ниже 0.75\n",
    "* Accuracy DecisionTreeClassifie (Деревья решений) равен 0.7853810264385692, с гиперпараметром max_depth равным - 3."
   ]
  },
  {
   "cell_type": "markdown",
   "metadata": {},
   "source": [
    "## Проверьте модель на тестовой выборке"
   ]
  },
  {
   "cell_type": "markdown",
   "metadata": {},
   "source": [
    "Наилучший результат показала RandomForestClassifier(Случайный лес), проверим ее на тестовой выборке."
   ]
  },
  {
   "cell_type": "markdown",
   "metadata": {},
   "source": [
    "\n",
    "<div class=\"alert alert-success\">\n",
    "<font size=\"5\"><b>Комментарий ревьюера</b></font>\n",
    "\n",
    "Успех:\n",
    "\n",
    "\n",
    "Все верно, RF лучший. \n",
    "\n",
    "\n",
    "<div class=\"alert alert-warning\">\n",
    "\n",
    "\n",
    "Совет: \n",
    "\n",
    "Если есть желание можешь ответить на вопросики ))    \n",
    "\n",
    "\n",
    "\n",
    "- Как назвать ситуацию, когда на валидации при увеличении глубины дерева (модель DT), метрика качества стала снижаться? Как по твоему в это же время вела себя эта же метрика на train?\n",
    "\n",
    "\n",
    "- Насколько знаю вы еще под капот моделям не заглядывали, но может знаешь почему обычно RF показывает более высокие результаты из выбранных?\n",
    "\n",
    "\n",
    "- Мы решаем задачу классификации (а еще есть задача регрессии), а в названии модели с помощью которой мы решаем задачу \"классификации\" (Логистическая регрессия) есть слово \"регрессия\".  Нет ли тут парадокса? )\n",
    "    \n",
    "\n",
    "- Почему логистическая регрессия может показывать на много более худшие результаты?  \n",
    "\n",
    "\n",
    "</div>\n",
    "\n",
    "\n",
    "\n"
   ]
  },
  {
   "cell_type": "code",
   "execution_count": 13,
   "metadata": {},
   "outputs": [
    {
     "name": "stdout",
     "output_type": "stream",
     "text": [
      "Accuracy 0.7962674961119751\n"
     ]
    }
   ],
   "source": [
    "model_4 = RandomForestClassifier(random_state=12345, n_estimators = 8, max_depth = 8)\n",
    "model_4.fit(features_train, target_train)\n",
    "predictions_test_4 = model_4.predict(features_test)\n",
    "result_test_4 = accuracy_score(predictions_test_4, target_test)\n",
    "print('Accuracy', result_test_4)"
   ]
  },
  {
   "cell_type": "markdown",
   "metadata": {},
   "source": [
    "**4.Вывод:**\n",
    "* Accuracy RandomForestClassifier(Случайный лес) на тестовой выборке 0.7962674961119751."
   ]
  },
  {
   "cell_type": "markdown",
   "metadata": {},
   "source": [
    "\n",
    "<div class=\"alert alert-success\">\n",
    "<font size=\"5\"><b>Комментарий ревьюера</b></font>\n",
    "\n",
    "Успех:\n",
    "\n",
    "\n",
    "- Все верно, логика моделирования не нарушена, тут тестируем только лучшую модель (или парочку, если метрики были близки) отобранную на валидации. \n",
    "\n",
    "- Если студент получил на тесте accuraсy  выше 0,78, это считается отличным результатом. Ты подбираешь лучшую комбинацию не по одному гиперпараметру и вот он результат!\n",
    "\n",
    "\n",
    "<div class=\"alert alert-warning\">\n",
    "\n",
    "Вопросики и совет:\n",
    "\n",
    "\n",
    "\n",
    "\n",
    "- Как попробовать улучшить результат, не мучаясь с кодом?! Смотри - мы сформировали train выборку на которой обучаем модель, а валидационную используем для поиска лучших значений гиперпараметров. Оке, нашли их. Так почему бы теперь модель с выбранными гиперпараметрами не обучить на тренировочной + валидационной выборке (только не нужно делать новые сплиты, используй pd.concat(), к примеру)?! Чем больше данных, тем лучше модель может обучиться. И эту дообученную модель проверим на тесте. Гаранитий что станет лучше нет, но ML это постоянные эксперименты.  \n",
    "    \n",
    "    \n",
    "- А можешь предложить как нам использовать полученный результат в бизнесе? Как нам на этих прогнозах сделать деньги? \n",
    "\n",
    "\n",
    "\n",
    "\n",
    "- Руслан, в качестве бонуса можешь вывести еще несколько метрик своей модели - precision, recall, F1 и confussion matrix) Все есть в sklearn)\n",
    "\n",
    "\n",
    "    \n",
    "- Если ты не будешь дообучать модель, поможешь заметить что лучшую модель ты уже записал тут  -  best_model_2, поэтому это уже не нужно  \n",
    "    \n",
    "    \n",
    "    model_4 = RandomForestClassifier(random_state=12345, n_estimators = 8, max_depth = 8)\n",
    "    model_4.fit(features_train, target_train)\n"
   ]
  },
  {
   "cell_type": "markdown",
   "metadata": {},
   "source": [
    "## (бонус) Проверьте модели на адекватность"
   ]
  },
  {
   "cell_type": "markdown",
   "metadata": {},
   "source": [
    "Проверяем с помощью модели DummyClassifier"
   ]
  },
  {
   "cell_type": "code",
   "execution_count": 14,
   "metadata": {},
   "outputs": [
    {
     "name": "stdout",
     "output_type": "stream",
     "text": [
      "Accuracy DummyClassifier: 0.7060653188180405\n"
     ]
    }
   ],
   "source": [
    "model_5 = DummyClassifier(strategy='most_frequent', random_state=12345)\n",
    "model_5.fit(features_train, target_train)\n",
    "result_5 = model_5.score(features_valid, target_valid)\n",
    "print('Accuracy DummyClassifier:', result_5)"
   ]
  },
  {
   "cell_type": "markdown",
   "metadata": {},
   "source": [
    "**4.Вывод:**\n",
    "* Accuracy модели RandomForestClassifier(Случайный лес) выше Accuracy DummyClassifier, значит модель адекватна. "
   ]
  },
  {
   "cell_type": "markdown",
   "metadata": {},
   "source": [
    "<div class=\"alert alert-success\">\n",
    "<font size=\"5\"><b>Комментарий ревьюера</b></font>\n",
    "\n",
    "Успех:\n",
    "\n",
    "Все верно. \n",
    "\n",
    "👍 что используешь специальную обертку для проверки на адекватность\n"
   ]
  },
  {
   "cell_type": "markdown",
   "metadata": {},
   "source": [
    "## Общий вывод"
   ]
  },
  {
   "cell_type": "markdown",
   "metadata": {},
   "source": [
    "* **Разбили данные на выборки:**\n",
    "    * на обучающую, валидационную и тестовую в соотношении 60/20/20\n",
    "* **Проведено исследование моделей:**\n",
    "    * DecisionTreeClassifie (Деревья решений)\n",
    "    * RandomForestClassifier(Случайный лес)\n",
    "    * Logistic Regression (Логистическая регрессия)\n",
    "\n",
    "* Accuracy лучший результат из выбронных моделий у RandomForestClassifier(Случайный лес), равен 0.80248833592535 с гиперпараметрами n_estimators = 8 и max_depth = 8\n",
    "* Accuracy Logistic Regression (логистической регрессии) 0.7107309486780715, эта модель не подходит для задания она ниже 0.75\n",
    "* Accuracy DecisionTreeClassifie (Деревья решений) равен 0.7853810264385692, с гиперпараметром max_depth равным - 3.\n",
    "   \n",
    "* **Проверена модель на тестовой выборке:**\n",
    "    * Наилучший результат показала RandomForestClassifier(Случайный лес), проверим ее на тестовой выборке\n",
    "    * Accuracy RandomForestClassifier(Случайный лес) на тестовой выборке 0.7962674961119751\n",
    "* **Проверена модель на адекватность:**\n",
    "    * Проверяем на адекватность с помощью модели DummyClassifier\n",
    "    * Accuracy модели RandomForestClassifier(Случайный лес) выше Accuracy DummyClassifier, значит модель адекватна.  \n",
    "    \n",
    "* Самая лучшая модель для данной задачи RandomForestClassifier(Случайный лес)"
   ]
  },
  {
   "cell_type": "markdown",
   "metadata": {},
   "source": [
    "\n",
    "<div class=\"alert alert-info\">\n",
    "<font size=\"5\"><b>Комментарий ревьюера</b></font>\n",
    "\n",
    "\n",
    "\n",
    "\n",
    "Руслан, у тебя старательно выполненная работа, все четко, осмысленно. Выводы присутствуют, с комментированием кода тоже никаких проблем нет, твоих объяснений достаточно для понимания коллегами хода твоих мыслей. \n",
    "\n",
    "    \n",
    "    \n",
    "\n",
    "\n",
    "Я оставил небольшие советы и вопросики (если есть время и желание можешь воспользоваться/ответить): \n",
    "\n",
    "\n",
    "\n",
    "\n",
    "- обрати внимание на проверку сбалансированность классов в таргете в разделе EDA\n",
    "- использовать stratify\n",
    "- добавить график метрики    \n",
    "- как можно улучшить результаты \n",
    "\n",
    "\n",
    "\n",
    "Посылаю на вторую итерацию, чтобы ответить на вопросы если они появятся\n"
   ]
  },
  {
   "cell_type": "markdown",
   "metadata": {},
   "source": [
    "\n",
    "<div class=\"alert alert-info\">\n",
    "<font size=\"5\"><b>Комментарий ревьюераV2</b></font>\n",
    "\n",
    "Спасибо за работу! Небольшие изменения внесены    \n",
    "\n",
    "    \n",
    "\n",
    "Красного нет, вопросов нет, значит все, пора принимать) Надеюсь мои советы и вопросики были полезны и в копилочку знаний упало что то новое, а проект стал лучше, и симпатичней.\n",
    "\n",
    "  \n",
    "Отличная работа Руслан. Желаю успехов в дальнейшей учебе!\n"
   ]
  },
  {
   "cell_type": "markdown",
   "metadata": {},
   "source": [
    "## Чек-лист готовности проекта"
   ]
  },
  {
   "cell_type": "markdown",
   "metadata": {},
   "source": [
    "Поставьте 'x' в выполненных пунктах. Далее нажмите Shift+Enter."
   ]
  },
  {
   "cell_type": "markdown",
   "metadata": {},
   "source": [
    "- [x] Jupyter Notebook открыт\n",
    "- [x] Весь код исполняется без ошибок\n",
    "- [x] Ячейки с кодом расположены в порядке исполнения\n",
    "- [x] Выполнено задание 1: данные загружены и изучены\n",
    "- [x] Выполнено задание 2: данные разбиты на три выборки\n",
    "- [x] Выполнено задание 3: проведено исследование моделей\n",
    "    - [x] Рассмотрено больше одной модели\n",
    "    - [x] Рассмотрено хотя бы 3 значения гипепараметров для какой-нибудь модели\n",
    "    - [x] Написаны выводы по результатам исследования\n",
    "- [x] Выполнено задание 3: Проведено тестирование\n",
    "- [x] Удалось достичь accuracy не меньше 0.75\n"
   ]
  },
  {
   "cell_type": "code",
   "execution_count": null,
   "metadata": {},
   "outputs": [],
   "source": []
  }
 ],
 "metadata": {
  "ExecuteTimeLog": [
   {
    "duration": 1622,
    "start_time": "2023-09-22T10:53:11.407Z"
   },
   {
    "duration": 127,
    "start_time": "2023-09-22T10:53:13.031Z"
   },
   {
    "duration": 30,
    "start_time": "2023-09-22T10:53:23.461Z"
   },
   {
    "duration": 45,
    "start_time": "2023-09-22T10:53:28.262Z"
   },
   {
    "duration": 10,
    "start_time": "2023-09-22T10:54:23.290Z"
   },
   {
    "duration": 17,
    "start_time": "2023-09-22T10:54:33.343Z"
   },
   {
    "duration": 11,
    "start_time": "2023-09-22T10:54:38.969Z"
   },
   {
    "duration": 15,
    "start_time": "2023-09-22T10:54:46.188Z"
   },
   {
    "duration": 9,
    "start_time": "2023-09-23T07:22:55.528Z"
   },
   {
    "duration": 17,
    "start_time": "2023-09-23T07:23:09.860Z"
   },
   {
    "duration": 10,
    "start_time": "2023-09-23T07:23:32.024Z"
   },
   {
    "duration": 10,
    "start_time": "2023-09-23T07:26:51.583Z"
   },
   {
    "duration": 13,
    "start_time": "2023-09-23T07:38:22.203Z"
   },
   {
    "duration": 113,
    "start_time": "2023-09-23T07:58:47.328Z"
   },
   {
    "duration": 10,
    "start_time": "2023-09-23T07:59:02.597Z"
   },
   {
    "duration": 11,
    "start_time": "2023-09-23T07:59:17.262Z"
   },
   {
    "duration": 10,
    "start_time": "2023-09-23T07:59:24.492Z"
   },
   {
    "duration": 2,
    "start_time": "2023-09-23T08:34:28.421Z"
   },
   {
    "duration": 10,
    "start_time": "2023-09-23T08:36:30.753Z"
   },
   {
    "duration": 1584,
    "start_time": "2023-09-23T08:36:37.978Z"
   },
   {
    "duration": 45,
    "start_time": "2023-09-23T08:36:39.565Z"
   },
   {
    "duration": 12,
    "start_time": "2023-09-23T08:36:39.611Z"
   },
   {
    "duration": 12,
    "start_time": "2023-09-23T08:36:39.625Z"
   },
   {
    "duration": 153,
    "start_time": "2023-09-23T08:36:39.639Z"
   },
   {
    "duration": 0,
    "start_time": "2023-09-23T08:36:39.793Z"
   },
   {
    "duration": 15,
    "start_time": "2023-09-23T08:38:14.084Z"
   },
   {
    "duration": 40,
    "start_time": "2023-09-23T08:38:14.679Z"
   },
   {
    "duration": 12,
    "start_time": "2023-09-23T08:38:15.117Z"
   },
   {
    "duration": 9,
    "start_time": "2023-09-23T08:38:16.522Z"
   },
   {
    "duration": 10,
    "start_time": "2023-09-23T08:38:18.304Z"
   },
   {
    "duration": 10,
    "start_time": "2023-09-23T08:38:19.084Z"
   },
   {
    "duration": 1477,
    "start_time": "2023-09-23T08:38:23.559Z"
   },
   {
    "duration": 45,
    "start_time": "2023-09-23T08:38:25.038Z"
   },
   {
    "duration": 12,
    "start_time": "2023-09-23T08:38:25.085Z"
   },
   {
    "duration": 38,
    "start_time": "2023-09-23T08:38:25.099Z"
   },
   {
    "duration": 156,
    "start_time": "2023-09-23T08:38:25.139Z"
   },
   {
    "duration": 0,
    "start_time": "2023-09-23T08:38:25.298Z"
   },
   {
    "duration": 1579,
    "start_time": "2023-09-23T08:38:45.427Z"
   },
   {
    "duration": 46,
    "start_time": "2023-09-23T08:38:47.007Z"
   },
   {
    "duration": 13,
    "start_time": "2023-09-23T08:38:47.055Z"
   },
   {
    "duration": 13,
    "start_time": "2023-09-23T08:38:47.071Z"
   },
   {
    "duration": 153,
    "start_time": "2023-09-23T08:38:47.085Z"
   },
   {
    "duration": 0,
    "start_time": "2023-09-23T08:38:47.239Z"
   },
   {
    "duration": 1532,
    "start_time": "2023-09-23T08:39:57.591Z"
   },
   {
    "duration": 44,
    "start_time": "2023-09-23T08:39:59.125Z"
   },
   {
    "duration": 12,
    "start_time": "2023-09-23T08:39:59.171Z"
   },
   {
    "duration": 22,
    "start_time": "2023-09-23T08:39:59.185Z"
   },
   {
    "duration": 8,
    "start_time": "2023-09-23T08:39:59.209Z"
   },
   {
    "duration": 6,
    "start_time": "2023-09-23T08:39:59.218Z"
   },
   {
    "duration": 126,
    "start_time": "2023-09-23T08:42:43.065Z"
   },
   {
    "duration": 170,
    "start_time": "2023-09-23T08:43:20.653Z"
   },
   {
    "duration": 16,
    "start_time": "2023-09-23T08:43:25.557Z"
   },
   {
    "duration": 7,
    "start_time": "2023-09-23T08:43:36.562Z"
   },
   {
    "duration": 12,
    "start_time": "2023-09-23T08:43:58.444Z"
   },
   {
    "duration": 4,
    "start_time": "2023-09-23T08:45:03.582Z"
   },
   {
    "duration": 4,
    "start_time": "2023-09-23T08:45:22.363Z"
   },
   {
    "duration": 6,
    "start_time": "2023-09-23T08:45:42.881Z"
   },
   {
    "duration": 4,
    "start_time": "2023-09-23T08:45:45.082Z"
   },
   {
    "duration": 14,
    "start_time": "2023-09-23T08:46:03.919Z"
   },
   {
    "duration": 5,
    "start_time": "2023-09-23T08:46:10.325Z"
   },
   {
    "duration": 6,
    "start_time": "2023-09-23T08:46:21.737Z"
   },
   {
    "duration": 4,
    "start_time": "2023-09-23T08:46:24.518Z"
   },
   {
    "duration": 4,
    "start_time": "2023-09-23T08:46:25.031Z"
   },
   {
    "duration": 1576,
    "start_time": "2023-09-23T08:46:44.097Z"
   },
   {
    "duration": 45,
    "start_time": "2023-09-23T08:46:45.675Z"
   },
   {
    "duration": 13,
    "start_time": "2023-09-23T08:46:45.722Z"
   },
   {
    "duration": 18,
    "start_time": "2023-09-23T08:46:45.737Z"
   },
   {
    "duration": 7,
    "start_time": "2023-09-23T08:46:45.756Z"
   },
   {
    "duration": 6,
    "start_time": "2023-09-23T08:46:45.764Z"
   },
   {
    "duration": 137,
    "start_time": "2023-09-23T08:46:45.772Z"
   },
   {
    "duration": 4,
    "start_time": "2023-09-23T08:46:56.530Z"
   },
   {
    "duration": 4,
    "start_time": "2023-09-23T08:47:35.889Z"
   },
   {
    "duration": 4,
    "start_time": "2023-09-23T08:47:36.339Z"
   },
   {
    "duration": 4,
    "start_time": "2023-09-23T08:47:49.810Z"
   },
   {
    "duration": 6,
    "start_time": "2023-09-23T09:15:15.393Z"
   },
   {
    "duration": 6,
    "start_time": "2023-09-23T09:16:13.114Z"
   },
   {
    "duration": 8,
    "start_time": "2023-09-23T09:16:29.678Z"
   },
   {
    "duration": 17,
    "start_time": "2023-09-23T09:18:04.474Z"
   },
   {
    "duration": 7,
    "start_time": "2023-09-23T09:18:19.599Z"
   },
   {
    "duration": 6,
    "start_time": "2023-09-23T09:23:27.035Z"
   },
   {
    "duration": 1888,
    "start_time": "2023-09-23T09:23:31.043Z"
   },
   {
    "duration": 62,
    "start_time": "2023-09-23T09:23:32.934Z"
   },
   {
    "duration": 13,
    "start_time": "2023-09-23T09:23:33.000Z"
   },
   {
    "duration": 21,
    "start_time": "2023-09-23T09:23:33.014Z"
   },
   {
    "duration": 29,
    "start_time": "2023-09-23T09:23:33.037Z"
   },
   {
    "duration": 32,
    "start_time": "2023-09-23T09:23:33.068Z"
   },
   {
    "duration": 92,
    "start_time": "2023-09-23T09:23:33.103Z"
   },
   {
    "duration": 8,
    "start_time": "2023-09-23T09:24:10.863Z"
   },
   {
    "duration": 5,
    "start_time": "2023-09-23T09:24:13.095Z"
   },
   {
    "duration": 4,
    "start_time": "2023-09-23T09:26:05.487Z"
   },
   {
    "duration": 4,
    "start_time": "2023-09-23T09:26:11.336Z"
   },
   {
    "duration": 7,
    "start_time": "2023-09-23T09:26:19.047Z"
   },
   {
    "duration": 158,
    "start_time": "2023-09-23T09:27:28.620Z"
   },
   {
    "duration": 6,
    "start_time": "2023-09-23T09:27:41.686Z"
   },
   {
    "duration": 5,
    "start_time": "2023-09-23T09:28:12.325Z"
   },
   {
    "duration": 7,
    "start_time": "2023-09-23T09:28:48.356Z"
   },
   {
    "duration": 5,
    "start_time": "2023-09-23T09:30:36.113Z"
   },
   {
    "duration": 8,
    "start_time": "2023-09-23T09:33:51.759Z"
   },
   {
    "duration": 40,
    "start_time": "2023-09-23T09:48:51.052Z"
   },
   {
    "duration": 46,
    "start_time": "2023-09-23T09:49:03.738Z"
   },
   {
    "duration": 41,
    "start_time": "2023-09-23T09:52:28.932Z"
   },
   {
    "duration": 103,
    "start_time": "2023-09-23T10:08:36.103Z"
   },
   {
    "duration": 58,
    "start_time": "2023-09-23T10:08:46.031Z"
   },
   {
    "duration": 327,
    "start_time": "2023-09-23T10:19:44.889Z"
   },
   {
    "duration": 83,
    "start_time": "2023-09-23T10:20:12.862Z"
   },
   {
    "duration": 311,
    "start_time": "2023-09-23T10:20:52.431Z"
   },
   {
    "duration": 285,
    "start_time": "2023-09-23T10:21:50.383Z"
   },
   {
    "duration": 1520,
    "start_time": "2023-09-23T10:21:56.398Z"
   },
   {
    "duration": 46,
    "start_time": "2023-09-23T10:21:57.920Z"
   },
   {
    "duration": 12,
    "start_time": "2023-09-23T10:21:57.968Z"
   },
   {
    "duration": 46,
    "start_time": "2023-09-23T10:21:57.983Z"
   },
   {
    "duration": 11,
    "start_time": "2023-09-23T10:21:58.031Z"
   },
   {
    "duration": 16,
    "start_time": "2023-09-23T10:21:58.044Z"
   },
   {
    "duration": 23,
    "start_time": "2023-09-23T10:21:58.062Z"
   },
   {
    "duration": 17,
    "start_time": "2023-09-23T10:21:58.087Z"
   },
   {
    "duration": 78,
    "start_time": "2023-09-23T10:21:58.106Z"
   },
   {
    "duration": 310,
    "start_time": "2023-09-23T10:21:58.187Z"
   },
   {
    "duration": 309,
    "start_time": "2023-09-23T10:23:32.268Z"
   },
   {
    "duration": 1670,
    "start_time": "2023-09-23T10:23:37.526Z"
   },
   {
    "duration": 45,
    "start_time": "2023-09-23T10:23:39.198Z"
   },
   {
    "duration": 19,
    "start_time": "2023-09-23T10:23:39.245Z"
   },
   {
    "duration": 25,
    "start_time": "2023-09-23T10:23:39.266Z"
   },
   {
    "duration": 6,
    "start_time": "2023-09-23T10:23:39.293Z"
   },
   {
    "duration": 5,
    "start_time": "2023-09-23T10:23:39.300Z"
   },
   {
    "duration": 14,
    "start_time": "2023-09-23T10:23:39.307Z"
   },
   {
    "duration": 5,
    "start_time": "2023-09-23T10:23:39.323Z"
   },
   {
    "duration": 60,
    "start_time": "2023-09-23T10:23:39.347Z"
   },
   {
    "duration": 177,
    "start_time": "2023-09-23T10:23:39.410Z"
   },
   {
    "duration": 343,
    "start_time": "2023-09-23T10:24:08.948Z"
   },
   {
    "duration": 308,
    "start_time": "2023-09-23T10:24:28.659Z"
   },
   {
    "duration": 1776,
    "start_time": "2023-09-23T10:24:34.536Z"
   },
   {
    "duration": 57,
    "start_time": "2023-09-23T10:24:36.314Z"
   },
   {
    "duration": 15,
    "start_time": "2023-09-23T10:24:36.374Z"
   },
   {
    "duration": 27,
    "start_time": "2023-09-23T10:24:36.392Z"
   },
   {
    "duration": 18,
    "start_time": "2023-09-23T10:24:36.421Z"
   },
   {
    "duration": 14,
    "start_time": "2023-09-23T10:24:36.441Z"
   },
   {
    "duration": 31,
    "start_time": "2023-09-23T10:24:36.459Z"
   },
   {
    "duration": 19,
    "start_time": "2023-09-23T10:24:36.492Z"
   },
   {
    "duration": 97,
    "start_time": "2023-09-23T10:24:36.513Z"
   },
   {
    "duration": 327,
    "start_time": "2023-09-23T10:24:36.612Z"
   },
   {
    "duration": 80,
    "start_time": "2023-09-23T10:28:37.227Z"
   },
   {
    "duration": 126,
    "start_time": "2023-09-23T10:29:42.879Z"
   },
   {
    "duration": 1930,
    "start_time": "2023-09-23T10:36:41.813Z"
   },
   {
    "duration": 16,
    "start_time": "2023-09-23T10:49:46.954Z"
   },
   {
    "duration": 12,
    "start_time": "2023-09-23T10:52:28.900Z"
   },
   {
    "duration": 1909,
    "start_time": "2023-09-23T10:52:42.925Z"
   },
   {
    "duration": 11,
    "start_time": "2023-09-23T10:54:39.014Z"
   },
   {
    "duration": 17,
    "start_time": "2023-09-23T10:54:50.886Z"
   },
   {
    "duration": 18,
    "start_time": "2023-09-23T10:55:05.462Z"
   },
   {
    "duration": 19,
    "start_time": "2023-09-23T10:55:19.964Z"
   },
   {
    "duration": 1915,
    "start_time": "2023-09-23T10:55:32.833Z"
   },
   {
    "duration": 2150,
    "start_time": "2023-09-23T10:55:51.730Z"
   },
   {
    "duration": 2059,
    "start_time": "2023-09-23T10:56:04.934Z"
   },
   {
    "duration": 1672,
    "start_time": "2023-09-23T10:56:18.896Z"
   },
   {
    "duration": 46,
    "start_time": "2023-09-23T10:56:20.570Z"
   },
   {
    "duration": 13,
    "start_time": "2023-09-23T10:56:20.618Z"
   },
   {
    "duration": 24,
    "start_time": "2023-09-23T10:56:20.633Z"
   },
   {
    "duration": 10,
    "start_time": "2023-09-23T10:56:20.659Z"
   },
   {
    "duration": 15,
    "start_time": "2023-09-23T10:56:20.675Z"
   },
   {
    "duration": 13,
    "start_time": "2023-09-23T10:56:20.692Z"
   },
   {
    "duration": 9,
    "start_time": "2023-09-23T10:56:20.707Z"
   },
   {
    "duration": 104,
    "start_time": "2023-09-23T10:56:20.718Z"
   },
   {
    "duration": 2119,
    "start_time": "2023-09-23T10:56:20.824Z"
   },
   {
    "duration": 1832,
    "start_time": "2023-09-23T10:57:00.810Z"
   },
   {
    "duration": 67,
    "start_time": "2023-09-23T10:57:02.645Z"
   },
   {
    "duration": 108,
    "start_time": "2023-09-23T10:57:02.714Z"
   },
   {
    "duration": 83,
    "start_time": "2023-09-23T10:57:02.825Z"
   },
   {
    "duration": 34,
    "start_time": "2023-09-23T10:57:02.910Z"
   },
   {
    "duration": 46,
    "start_time": "2023-09-23T10:57:02.946Z"
   },
   {
    "duration": 22,
    "start_time": "2023-09-23T10:57:02.994Z"
   },
   {
    "duration": 44,
    "start_time": "2023-09-23T10:57:03.018Z"
   },
   {
    "duration": 201,
    "start_time": "2023-09-23T10:57:03.065Z"
   },
   {
    "duration": 2213,
    "start_time": "2023-09-23T10:57:03.272Z"
   },
   {
    "duration": 86,
    "start_time": "2023-09-23T10:57:58.615Z"
   },
   {
    "duration": 85,
    "start_time": "2023-09-23T10:58:10.206Z"
   },
   {
    "duration": 83,
    "start_time": "2023-09-23T10:58:17.800Z"
   },
   {
    "duration": 1599,
    "start_time": "2023-09-23T10:58:51.861Z"
   },
   {
    "duration": 44,
    "start_time": "2023-09-23T10:58:53.468Z"
   },
   {
    "duration": 12,
    "start_time": "2023-09-23T10:58:53.514Z"
   },
   {
    "duration": 17,
    "start_time": "2023-09-23T10:58:53.529Z"
   },
   {
    "duration": 33,
    "start_time": "2023-09-23T10:58:53.549Z"
   },
   {
    "duration": 14,
    "start_time": "2023-09-23T10:58:53.584Z"
   },
   {
    "duration": 18,
    "start_time": "2023-09-23T10:58:53.600Z"
   },
   {
    "duration": 9,
    "start_time": "2023-09-23T10:58:53.620Z"
   },
   {
    "duration": 112,
    "start_time": "2023-09-23T10:58:53.631Z"
   },
   {
    "duration": 2141,
    "start_time": "2023-09-23T10:58:53.746Z"
   },
   {
    "duration": 1937,
    "start_time": "2023-09-23T11:00:17.990Z"
   },
   {
    "duration": 76,
    "start_time": "2023-09-23T11:46:11.767Z"
   },
   {
    "duration": 1833,
    "start_time": "2023-09-23T11:49:12.808Z"
   },
   {
    "duration": 1917,
    "start_time": "2023-09-23T11:49:31.182Z"
   },
   {
    "duration": 1845,
    "start_time": "2023-09-23T11:55:36.487Z"
   },
   {
    "duration": 1848,
    "start_time": "2023-09-23T11:56:30.396Z"
   },
   {
    "duration": 1873,
    "start_time": "2023-09-23T11:57:29.781Z"
   },
   {
    "duration": 1890,
    "start_time": "2023-09-23T11:59:24.422Z"
   },
   {
    "duration": 94,
    "start_time": "2023-09-23T12:00:31.310Z"
   },
   {
    "duration": 157,
    "start_time": "2023-09-23T12:00:38.716Z"
   },
   {
    "duration": 1764,
    "start_time": "2023-09-23T12:00:50.838Z"
   },
   {
    "duration": 47,
    "start_time": "2023-09-23T12:00:52.605Z"
   },
   {
    "duration": 17,
    "start_time": "2023-09-23T12:00:52.654Z"
   },
   {
    "duration": 25,
    "start_time": "2023-09-23T12:00:52.673Z"
   },
   {
    "duration": 46,
    "start_time": "2023-09-23T12:00:52.700Z"
   },
   {
    "duration": 28,
    "start_time": "2023-09-23T12:00:52.748Z"
   },
   {
    "duration": 17,
    "start_time": "2023-09-23T12:00:52.778Z"
   },
   {
    "duration": 28,
    "start_time": "2023-09-23T12:00:52.797Z"
   },
   {
    "duration": 101,
    "start_time": "2023-09-23T12:00:52.826Z"
   },
   {
    "duration": 0,
    "start_time": "2023-09-23T12:00:52.928Z"
   },
   {
    "duration": 91,
    "start_time": "2023-09-23T12:01:39.088Z"
   },
   {
    "duration": 1303,
    "start_time": "2023-09-23T12:01:46.873Z"
   },
   {
    "duration": 85,
    "start_time": "2023-09-23T12:02:03.174Z"
   },
   {
    "duration": 2110,
    "start_time": "2023-09-23T12:02:44.762Z"
   },
   {
    "duration": 1272,
    "start_time": "2023-09-23T12:06:19.000Z"
   },
   {
    "duration": 59,
    "start_time": "2023-09-23T12:06:20.274Z"
   },
   {
    "duration": 13,
    "start_time": "2023-09-23T12:06:20.335Z"
   },
   {
    "duration": 20,
    "start_time": "2023-09-23T12:06:20.351Z"
   },
   {
    "duration": 39,
    "start_time": "2023-09-23T12:06:20.373Z"
   },
   {
    "duration": 26,
    "start_time": "2023-09-23T12:06:20.414Z"
   },
   {
    "duration": 30,
    "start_time": "2023-09-23T12:06:20.441Z"
   },
   {
    "duration": 40,
    "start_time": "2023-09-23T12:06:20.473Z"
   },
   {
    "duration": 108,
    "start_time": "2023-09-23T12:06:20.515Z"
   },
   {
    "duration": 1999,
    "start_time": "2023-09-23T12:06:20.625Z"
   },
   {
    "duration": 47,
    "start_time": "2023-09-24T12:39:52.666Z"
   },
   {
    "duration": 7,
    "start_time": "2023-09-24T12:40:31.902Z"
   },
   {
    "duration": 1081,
    "start_time": "2023-09-24T12:40:54.923Z"
   },
   {
    "duration": 131,
    "start_time": "2023-09-24T12:40:56.006Z"
   },
   {
    "duration": 11,
    "start_time": "2023-09-24T12:40:56.138Z"
   },
   {
    "duration": 10,
    "start_time": "2023-09-24T12:40:56.151Z"
   },
   {
    "duration": 8,
    "start_time": "2023-09-24T12:40:56.162Z"
   },
   {
    "duration": 5,
    "start_time": "2023-09-24T12:40:56.171Z"
   },
   {
    "duration": 8,
    "start_time": "2023-09-24T12:40:56.177Z"
   },
   {
    "duration": 10,
    "start_time": "2023-09-24T12:40:56.187Z"
   },
   {
    "duration": 74,
    "start_time": "2023-09-24T12:40:56.198Z"
   },
   {
    "duration": 1722,
    "start_time": "2023-09-24T12:40:56.281Z"
   },
   {
    "duration": 126,
    "start_time": "2023-09-24T12:40:58.005Z"
   },
   {
    "duration": 4,
    "start_time": "2023-09-24T12:43:41.152Z"
   },
   {
    "duration": 1111,
    "start_time": "2023-09-24T12:43:44.312Z"
   },
   {
    "duration": 47,
    "start_time": "2023-09-24T12:43:45.425Z"
   },
   {
    "duration": 12,
    "start_time": "2023-09-24T12:43:45.474Z"
   },
   {
    "duration": 20,
    "start_time": "2023-09-24T12:43:45.488Z"
   },
   {
    "duration": 17,
    "start_time": "2023-09-24T12:43:45.510Z"
   },
   {
    "duration": 12,
    "start_time": "2023-09-24T12:43:45.529Z"
   },
   {
    "duration": 10,
    "start_time": "2023-09-24T12:43:45.542Z"
   },
   {
    "duration": 6,
    "start_time": "2023-09-24T12:43:45.554Z"
   },
   {
    "duration": 76,
    "start_time": "2023-09-24T12:43:45.561Z"
   },
   {
    "duration": 1763,
    "start_time": "2023-09-24T12:43:45.640Z"
   },
   {
    "duration": 117,
    "start_time": "2023-09-24T12:43:47.404Z"
   },
   {
    "duration": 23,
    "start_time": "2023-09-24T12:43:58.594Z"
   },
   {
    "duration": 24,
    "start_time": "2023-09-24T12:45:31.737Z"
   },
   {
    "duration": 24,
    "start_time": "2023-09-24T12:45:34.070Z"
   },
   {
    "duration": 24,
    "start_time": "2023-09-24T12:45:35.501Z"
   },
   {
    "duration": 29,
    "start_time": "2023-09-24T12:51:16.293Z"
   },
   {
    "duration": 24,
    "start_time": "2023-09-24T12:51:19.445Z"
   },
   {
    "duration": 23,
    "start_time": "2023-09-24T12:52:25.837Z"
   },
   {
    "duration": 1768,
    "start_time": "2023-09-24T12:57:25.169Z"
   },
   {
    "duration": 1700,
    "start_time": "2023-09-24T12:57:32.522Z"
   },
   {
    "duration": 33,
    "start_time": "2023-09-24T13:09:27.625Z"
   },
   {
    "duration": 32,
    "start_time": "2023-09-24T13:18:33.372Z"
   },
   {
    "duration": 1091,
    "start_time": "2023-09-24T13:21:16.505Z"
   },
   {
    "duration": 45,
    "start_time": "2023-09-24T13:21:17.598Z"
   },
   {
    "duration": 12,
    "start_time": "2023-09-24T13:21:17.644Z"
   },
   {
    "duration": 22,
    "start_time": "2023-09-24T13:21:17.658Z"
   },
   {
    "duration": 6,
    "start_time": "2023-09-24T13:21:17.681Z"
   },
   {
    "duration": 7,
    "start_time": "2023-09-24T13:21:17.688Z"
   },
   {
    "duration": 9,
    "start_time": "2023-09-24T13:21:17.697Z"
   },
   {
    "duration": 7,
    "start_time": "2023-09-24T13:21:17.707Z"
   },
   {
    "duration": 85,
    "start_time": "2023-09-24T13:21:17.715Z"
   },
   {
    "duration": 1700,
    "start_time": "2023-09-24T13:21:17.803Z"
   },
   {
    "duration": 24,
    "start_time": "2023-09-24T13:21:19.505Z"
   },
   {
    "duration": 84,
    "start_time": "2023-09-24T13:21:19.531Z"
   },
   {
    "duration": 0,
    "start_time": "2023-09-24T13:21:19.617Z"
   },
   {
    "duration": 1135,
    "start_time": "2023-09-24T13:21:44.189Z"
   },
   {
    "duration": 49,
    "start_time": "2023-09-24T13:21:45.326Z"
   },
   {
    "duration": 13,
    "start_time": "2023-09-24T13:21:45.379Z"
   },
   {
    "duration": 22,
    "start_time": "2023-09-24T13:21:45.394Z"
   },
   {
    "duration": 20,
    "start_time": "2023-09-24T13:21:45.418Z"
   },
   {
    "duration": 16,
    "start_time": "2023-09-24T13:21:45.440Z"
   },
   {
    "duration": 10,
    "start_time": "2023-09-24T13:21:45.458Z"
   },
   {
    "duration": 10,
    "start_time": "2023-09-24T13:21:45.469Z"
   },
   {
    "duration": 96,
    "start_time": "2023-09-24T13:21:45.482Z"
   },
   {
    "duration": 1736,
    "start_time": "2023-09-24T13:21:45.579Z"
   },
   {
    "duration": 22,
    "start_time": "2023-09-24T13:21:47.317Z"
   },
   {
    "duration": 115,
    "start_time": "2023-09-24T13:21:47.341Z"
   },
   {
    "duration": 32,
    "start_time": "2023-09-24T13:54:11.514Z"
   },
   {
    "duration": 1136,
    "start_time": "2023-09-24T13:59:13.849Z"
   },
   {
    "duration": 47,
    "start_time": "2023-09-24T13:59:14.987Z"
   },
   {
    "duration": 11,
    "start_time": "2023-09-24T13:59:15.035Z"
   },
   {
    "duration": 41,
    "start_time": "2023-09-24T13:59:15.048Z"
   },
   {
    "duration": 23,
    "start_time": "2023-09-24T13:59:15.090Z"
   },
   {
    "duration": 5,
    "start_time": "2023-09-24T13:59:15.115Z"
   },
   {
    "duration": 12,
    "start_time": "2023-09-24T13:59:15.122Z"
   },
   {
    "duration": 9,
    "start_time": "2023-09-24T13:59:15.136Z"
   },
   {
    "duration": 80,
    "start_time": "2023-09-24T13:59:15.146Z"
   },
   {
    "duration": 1779,
    "start_time": "2023-09-24T13:59:15.230Z"
   },
   {
    "duration": 25,
    "start_time": "2023-09-24T13:59:17.011Z"
   },
   {
    "duration": 51,
    "start_time": "2023-09-24T13:59:17.038Z"
   },
   {
    "duration": 118,
    "start_time": "2023-09-24T16:29:36.174Z"
   },
   {
    "duration": 1224,
    "start_time": "2023-09-24T16:29:39.996Z"
   },
   {
    "duration": 47,
    "start_time": "2023-09-24T16:29:41.222Z"
   },
   {
    "duration": 13,
    "start_time": "2023-09-24T16:29:41.270Z"
   },
   {
    "duration": 18,
    "start_time": "2023-09-24T16:29:41.286Z"
   },
   {
    "duration": 5,
    "start_time": "2023-09-24T16:29:41.306Z"
   },
   {
    "duration": 10,
    "start_time": "2023-09-24T16:29:41.313Z"
   },
   {
    "duration": 26,
    "start_time": "2023-09-24T16:29:41.325Z"
   },
   {
    "duration": 15,
    "start_time": "2023-09-24T16:29:41.352Z"
   },
   {
    "duration": 88,
    "start_time": "2023-09-24T16:29:41.368Z"
   },
   {
    "duration": 1970,
    "start_time": "2023-09-24T16:29:41.458Z"
   },
   {
    "duration": 25,
    "start_time": "2023-09-24T16:29:43.430Z"
   },
   {
    "duration": 57,
    "start_time": "2023-09-24T16:29:43.457Z"
   },
   {
    "duration": 6,
    "start_time": "2023-09-24T16:29:43.516Z"
   },
   {
    "duration": 1352,
    "start_time": "2023-09-24T16:31:30.634Z"
   },
   {
    "duration": 61,
    "start_time": "2023-09-24T16:31:31.989Z"
   },
   {
    "duration": 12,
    "start_time": "2023-09-24T16:31:32.052Z"
   },
   {
    "duration": 42,
    "start_time": "2023-09-24T16:31:32.067Z"
   },
   {
    "duration": 17,
    "start_time": "2023-09-24T16:31:32.111Z"
   },
   {
    "duration": 23,
    "start_time": "2023-09-24T16:31:32.130Z"
   },
   {
    "duration": 22,
    "start_time": "2023-09-24T16:31:32.154Z"
   },
   {
    "duration": 42,
    "start_time": "2023-09-24T16:31:32.179Z"
   },
   {
    "duration": 123,
    "start_time": "2023-09-24T16:31:32.223Z"
   },
   {
    "duration": 2066,
    "start_time": "2023-09-24T16:31:32.348Z"
   },
   {
    "duration": 26,
    "start_time": "2023-09-24T16:31:34.416Z"
   },
   {
    "duration": 52,
    "start_time": "2023-09-24T16:31:34.444Z"
   },
   {
    "duration": 7,
    "start_time": "2023-09-24T16:31:34.498Z"
   },
   {
    "duration": 1231,
    "start_time": "2023-09-24T16:38:44.598Z"
   },
   {
    "duration": 47,
    "start_time": "2023-09-24T16:38:45.830Z"
   },
   {
    "duration": 24,
    "start_time": "2023-09-24T16:38:45.879Z"
   },
   {
    "duration": 10,
    "start_time": "2023-09-24T16:38:45.905Z"
   },
   {
    "duration": 15,
    "start_time": "2023-09-24T16:38:45.916Z"
   },
   {
    "duration": 19,
    "start_time": "2023-09-24T16:38:45.932Z"
   },
   {
    "duration": 22,
    "start_time": "2023-09-24T16:38:45.953Z"
   },
   {
    "duration": 22,
    "start_time": "2023-09-24T16:38:45.976Z"
   },
   {
    "duration": 73,
    "start_time": "2023-09-24T16:38:46.000Z"
   },
   {
    "duration": 1886,
    "start_time": "2023-09-24T16:38:46.075Z"
   },
   {
    "duration": 32,
    "start_time": "2023-09-24T16:38:47.963Z"
   },
   {
    "duration": 31,
    "start_time": "2023-09-24T16:38:47.997Z"
   },
   {
    "duration": 5,
    "start_time": "2023-09-24T16:38:48.030Z"
   },
   {
    "duration": 1246,
    "start_time": "2023-09-24T16:53:00.477Z"
   },
   {
    "duration": 46,
    "start_time": "2023-09-24T16:53:01.725Z"
   },
   {
    "duration": 25,
    "start_time": "2023-09-24T16:53:01.773Z"
   },
   {
    "duration": 60,
    "start_time": "2023-09-24T16:53:01.800Z"
   },
   {
    "duration": 104,
    "start_time": "2023-09-24T16:53:01.862Z"
   },
   {
    "duration": 97,
    "start_time": "2023-09-24T16:53:01.968Z"
   },
   {
    "duration": 38,
    "start_time": "2023-09-24T16:53:02.067Z"
   },
   {
    "duration": 35,
    "start_time": "2023-09-24T16:53:02.106Z"
   },
   {
    "duration": 126,
    "start_time": "2023-09-24T16:53:02.143Z"
   },
   {
    "duration": 1889,
    "start_time": "2023-09-24T16:53:02.272Z"
   },
   {
    "duration": 44,
    "start_time": "2023-09-24T16:53:04.163Z"
   },
   {
    "duration": 35,
    "start_time": "2023-09-24T16:53:04.209Z"
   },
   {
    "duration": 6,
    "start_time": "2023-09-24T16:53:04.246Z"
   },
   {
    "duration": 3782,
    "start_time": "2023-09-25T11:10:18.256Z"
   },
   {
    "duration": 143,
    "start_time": "2023-09-25T11:10:22.039Z"
   },
   {
    "duration": 13,
    "start_time": "2023-09-25T11:10:22.184Z"
   },
   {
    "duration": 60,
    "start_time": "2023-09-25T11:10:22.199Z"
   },
   {
    "duration": 15,
    "start_time": "2023-09-25T11:10:22.261Z"
   },
   {
    "duration": 37,
    "start_time": "2023-09-25T11:10:22.278Z"
   },
   {
    "duration": 29,
    "start_time": "2023-09-25T11:10:22.317Z"
   },
   {
    "duration": 48,
    "start_time": "2023-09-25T11:10:22.348Z"
   },
   {
    "duration": 162,
    "start_time": "2023-09-25T11:10:22.398Z"
   },
   {
    "duration": 2191,
    "start_time": "2023-09-25T11:10:22.563Z"
   },
   {
    "duration": 40,
    "start_time": "2023-09-25T11:10:24.756Z"
   },
   {
    "duration": 61,
    "start_time": "2023-09-25T11:10:24.799Z"
   },
   {
    "duration": 7,
    "start_time": "2023-09-25T11:10:24.862Z"
   },
   {
    "duration": 1162,
    "start_time": "2023-09-30T09:02:37.317Z"
   },
   {
    "duration": 132,
    "start_time": "2023-09-30T09:02:38.481Z"
   },
   {
    "duration": 13,
    "start_time": "2023-09-30T09:02:38.615Z"
   },
   {
    "duration": 277,
    "start_time": "2023-09-30T09:02:38.631Z"
   },
   {
    "duration": 313,
    "start_time": "2023-09-30T09:02:38.910Z"
   },
   {
    "duration": 111,
    "start_time": "2023-09-30T09:02:39.225Z"
   },
   {
    "duration": 21,
    "start_time": "2023-09-30T09:02:39.338Z"
   },
   {
    "duration": 37,
    "start_time": "2023-09-30T09:02:39.361Z"
   },
   {
    "duration": 123,
    "start_time": "2023-09-30T09:02:39.399Z"
   },
   {
    "duration": 1811,
    "start_time": "2023-09-30T09:02:39.525Z"
   },
   {
    "duration": 25,
    "start_time": "2023-09-30T09:02:41.338Z"
   },
   {
    "duration": 54,
    "start_time": "2023-09-30T09:02:41.365Z"
   },
   {
    "duration": 85,
    "start_time": "2023-09-30T09:02:41.421Z"
   },
   {
    "duration": 1122,
    "start_time": "2023-09-30T09:03:48.116Z"
   },
   {
    "duration": 48,
    "start_time": "2023-09-30T09:03:49.240Z"
   },
   {
    "duration": 12,
    "start_time": "2023-09-30T09:03:49.290Z"
   },
   {
    "duration": 27,
    "start_time": "2023-09-30T09:03:49.303Z"
   },
   {
    "duration": 32,
    "start_time": "2023-09-30T09:03:49.331Z"
   },
   {
    "duration": 63,
    "start_time": "2023-09-30T09:03:49.365Z"
   },
   {
    "duration": 23,
    "start_time": "2023-09-30T09:03:49.430Z"
   },
   {
    "duration": 23,
    "start_time": "2023-09-30T09:03:49.455Z"
   },
   {
    "duration": 100,
    "start_time": "2023-09-30T09:03:49.480Z"
   },
   {
    "duration": 1781,
    "start_time": "2023-09-30T09:03:49.583Z"
   },
   {
    "duration": 36,
    "start_time": "2023-09-30T09:03:51.366Z"
   },
   {
    "duration": 39,
    "start_time": "2023-09-30T09:03:51.404Z"
   },
   {
    "duration": 5,
    "start_time": "2023-09-30T09:03:51.445Z"
   },
   {
    "duration": 13,
    "start_time": "2023-09-30T09:10:06.690Z"
   },
   {
    "duration": 15,
    "start_time": "2023-09-30T09:10:15.132Z"
   },
   {
    "duration": 12,
    "start_time": "2023-09-30T09:10:22.679Z"
   },
   {
    "duration": 12,
    "start_time": "2023-09-30T09:10:31.598Z"
   },
   {
    "duration": 16,
    "start_time": "2023-09-30T09:10:44.709Z"
   },
   {
    "duration": 109,
    "start_time": "2023-09-30T09:17:33.892Z"
   },
   {
    "duration": 527,
    "start_time": "2023-09-30T09:18:01.529Z"
   },
   {
    "duration": 1658,
    "start_time": "2023-09-30T09:18:06.227Z"
   },
   {
    "duration": 45,
    "start_time": "2023-09-30T09:18:07.887Z"
   },
   {
    "duration": 39,
    "start_time": "2023-09-30T09:18:07.933Z"
   },
   {
    "duration": 107,
    "start_time": "2023-09-30T09:18:07.974Z"
   },
   {
    "duration": 14,
    "start_time": "2023-09-30T09:18:08.083Z"
   },
   {
    "duration": 40,
    "start_time": "2023-09-30T09:18:08.099Z"
   },
   {
    "duration": 38,
    "start_time": "2023-09-30T09:18:08.141Z"
   },
   {
    "duration": 17,
    "start_time": "2023-09-30T09:18:08.181Z"
   },
   {
    "duration": 99,
    "start_time": "2023-09-30T09:18:08.199Z"
   },
   {
    "duration": 275,
    "start_time": "2023-09-30T09:18:08.300Z"
   },
   {
    "duration": 0,
    "start_time": "2023-09-30T09:18:08.578Z"
   },
   {
    "duration": 0,
    "start_time": "2023-09-30T09:18:08.580Z"
   },
   {
    "duration": 0,
    "start_time": "2023-09-30T09:18:08.581Z"
   },
   {
    "duration": 0,
    "start_time": "2023-09-30T09:18:08.582Z"
   },
   {
    "duration": 149,
    "start_time": "2023-09-30T09:18:44.311Z"
   },
   {
    "duration": 134,
    "start_time": "2023-09-30T09:19:17.320Z"
   },
   {
    "duration": 114,
    "start_time": "2023-09-30T09:19:30.144Z"
   },
   {
    "duration": 10,
    "start_time": "2023-09-30T09:20:09.610Z"
   },
   {
    "duration": 11,
    "start_time": "2023-09-30T09:20:12.215Z"
   },
   {
    "duration": 120,
    "start_time": "2023-09-30T09:20:49.407Z"
   },
   {
    "duration": 10,
    "start_time": "2023-09-30T09:22:32.512Z"
   },
   {
    "duration": 10,
    "start_time": "2023-09-30T09:22:40.525Z"
   },
   {
    "duration": 108,
    "start_time": "2023-09-30T09:23:43.512Z"
   },
   {
    "duration": 10,
    "start_time": "2023-09-30T09:23:49.762Z"
   },
   {
    "duration": 203,
    "start_time": "2023-09-30T09:25:43.328Z"
   },
   {
    "duration": 99,
    "start_time": "2023-09-30T09:27:20.740Z"
   },
   {
    "duration": 105,
    "start_time": "2023-09-30T09:28:00.027Z"
   },
   {
    "duration": 1430,
    "start_time": "2023-09-30T09:28:11.922Z"
   },
   {
    "duration": 46,
    "start_time": "2023-09-30T09:28:13.354Z"
   },
   {
    "duration": 12,
    "start_time": "2023-09-30T09:28:13.402Z"
   },
   {
    "duration": 62,
    "start_time": "2023-09-30T09:28:13.416Z"
   },
   {
    "duration": 82,
    "start_time": "2023-09-30T09:28:13.480Z"
   },
   {
    "duration": 38,
    "start_time": "2023-09-30T09:28:13.564Z"
   },
   {
    "duration": 29,
    "start_time": "2023-09-30T09:28:13.604Z"
   },
   {
    "duration": 37,
    "start_time": "2023-09-30T09:28:13.634Z"
   },
   {
    "duration": 154,
    "start_time": "2023-09-30T09:28:13.673Z"
   },
   {
    "duration": 0,
    "start_time": "2023-09-30T09:28:13.829Z"
   },
   {
    "duration": 0,
    "start_time": "2023-09-30T09:28:13.830Z"
   },
   {
    "duration": 0,
    "start_time": "2023-09-30T09:28:13.831Z"
   },
   {
    "duration": 0,
    "start_time": "2023-09-30T09:28:13.833Z"
   },
   {
    "duration": 0,
    "start_time": "2023-09-30T09:28:13.834Z"
   },
   {
    "duration": 1512,
    "start_time": "2023-09-30T09:29:00.779Z"
   },
   {
    "duration": 50,
    "start_time": "2023-09-30T09:29:02.300Z"
   },
   {
    "duration": 14,
    "start_time": "2023-09-30T09:29:02.352Z"
   },
   {
    "duration": 74,
    "start_time": "2023-09-30T09:29:02.369Z"
   },
   {
    "duration": 43,
    "start_time": "2023-09-30T09:29:02.446Z"
   },
   {
    "duration": 55,
    "start_time": "2023-09-30T09:29:02.491Z"
   },
   {
    "duration": 31,
    "start_time": "2023-09-30T09:29:02.548Z"
   },
   {
    "duration": 22,
    "start_time": "2023-09-30T09:29:02.581Z"
   },
   {
    "duration": 170,
    "start_time": "2023-09-30T09:29:02.605Z"
   },
   {
    "duration": 0,
    "start_time": "2023-09-30T09:29:02.777Z"
   },
   {
    "duration": 0,
    "start_time": "2023-09-30T09:29:02.779Z"
   },
   {
    "duration": 0,
    "start_time": "2023-09-30T09:29:02.780Z"
   },
   {
    "duration": 0,
    "start_time": "2023-09-30T09:29:02.781Z"
   },
   {
    "duration": 0,
    "start_time": "2023-09-30T09:29:02.782Z"
   },
   {
    "duration": 1489,
    "start_time": "2023-09-30T09:29:44.572Z"
   },
   {
    "duration": 45,
    "start_time": "2023-09-30T09:29:46.063Z"
   },
   {
    "duration": 54,
    "start_time": "2023-09-30T09:29:46.110Z"
   },
   {
    "duration": 27,
    "start_time": "2023-09-30T09:29:46.167Z"
   },
   {
    "duration": 13,
    "start_time": "2023-09-30T09:29:46.196Z"
   },
   {
    "duration": 7,
    "start_time": "2023-09-30T09:29:46.211Z"
   },
   {
    "duration": 24,
    "start_time": "2023-09-30T09:29:46.220Z"
   },
   {
    "duration": 14,
    "start_time": "2023-09-30T09:29:46.246Z"
   },
   {
    "duration": 116,
    "start_time": "2023-09-30T09:29:46.262Z"
   },
   {
    "duration": 260,
    "start_time": "2023-09-30T09:29:46.381Z"
   },
   {
    "duration": 0,
    "start_time": "2023-09-30T09:29:46.643Z"
   },
   {
    "duration": 0,
    "start_time": "2023-09-30T09:29:46.644Z"
   },
   {
    "duration": 0,
    "start_time": "2023-09-30T09:29:46.645Z"
   },
   {
    "duration": 0,
    "start_time": "2023-09-30T09:29:46.646Z"
   },
   {
    "duration": 1442,
    "start_time": "2023-09-30T09:30:27.967Z"
   },
   {
    "duration": 117,
    "start_time": "2023-09-30T09:30:57.472Z"
   },
   {
    "duration": 120,
    "start_time": "2023-09-30T09:31:22.302Z"
   },
   {
    "duration": 1427,
    "start_time": "2023-09-30T09:31:27.171Z"
   },
   {
    "duration": 46,
    "start_time": "2023-09-30T09:31:28.601Z"
   },
   {
    "duration": 14,
    "start_time": "2023-09-30T09:31:28.649Z"
   },
   {
    "duration": 31,
    "start_time": "2023-09-30T09:31:28.665Z"
   },
   {
    "duration": 16,
    "start_time": "2023-09-30T09:31:28.698Z"
   },
   {
    "duration": 12,
    "start_time": "2023-09-30T09:31:28.716Z"
   },
   {
    "duration": 20,
    "start_time": "2023-09-30T09:31:28.730Z"
   },
   {
    "duration": 22,
    "start_time": "2023-09-30T09:31:28.752Z"
   },
   {
    "duration": 118,
    "start_time": "2023-09-30T09:31:28.776Z"
   },
   {
    "duration": 133,
    "start_time": "2023-09-30T09:31:28.896Z"
   },
   {
    "duration": 1780,
    "start_time": "2023-09-30T09:31:29.030Z"
   },
   {
    "duration": 25,
    "start_time": "2023-09-30T09:31:30.812Z"
   },
   {
    "duration": 76,
    "start_time": "2023-09-30T09:31:30.839Z"
   },
   {
    "duration": 102,
    "start_time": "2023-09-30T09:31:30.917Z"
   },
   {
    "duration": 118,
    "start_time": "2023-09-30T09:34:50.085Z"
   },
   {
    "duration": 16,
    "start_time": "2023-09-30T09:35:54.595Z"
   },
   {
    "duration": 1794,
    "start_time": "2023-09-30T09:38:38.591Z"
   }
  ],
  "kernelspec": {
   "display_name": "Python 3 (ipykernel)",
   "language": "python",
   "name": "python3"
  },
  "language_info": {
   "codemirror_mode": {
    "name": "ipython",
    "version": 3
   },
   "file_extension": ".py",
   "mimetype": "text/x-python",
   "name": "python",
   "nbconvert_exporter": "python",
   "pygments_lexer": "ipython3",
   "version": "3.9.5"
  },
  "toc": {
   "base_numbering": 1,
   "nav_menu": {},
   "number_sections": true,
   "sideBar": true,
   "skip_h1_title": true,
   "title_cell": "Table of Contents",
   "title_sidebar": "Contents",
   "toc_cell": false,
   "toc_position": {},
   "toc_section_display": true,
   "toc_window_display": false
  }
 },
 "nbformat": 4,
 "nbformat_minor": 2
}

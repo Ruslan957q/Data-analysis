{
 "cells": [
  {
   "cell_type": "markdown",
   "metadata": {},
   "source": [
    "<div class=\"alert alert-success\">\n",
    "<font size=\"4\"><b>✔️ Комментарий ревьюера V2</b></font>\n",
    "    <br /> \n",
    "    <font size=\"3\", color = \"black\">\n",
    "<br />    \n",
    "Привет ещё раз!\n",
    "\n",
    "Критические замечания устранены, проект можно принимать.\n",
    "\n",
    "Если захочешь в свободное время после курса довести проект до ещё более приятного состояния - попробуй RandomizedSearchCV или GridSearchCV и избавься от подбора гиперпараметров.\n",
    "\n",
    "И на этом всё. Успехов в реальных рабочих DS/DA проектах!"
   ]
  },
  {
   "cell_type": "markdown",
   "metadata": {},
   "source": [
    "<div class=\"alert alert-info\">\n",
    "<font size=\"4\"><b>Комментарий ревьюера</b></font>\n",
    "    <br /> \n",
    "    <font size=\"3\", color = \"black\">\n",
    "<br />\n",
    "    Привет, Руслан! Спасибо, что прислал задание :) <br>Меня зовут Никита Сон и я буду проверять твой проект. Предлагаю обращаться друг к другу на ты, как это принято в Практикуме, если ты не против. Но если хочешь на Вы - не буду возражать 🙂\n",
    "        \n",
    "Поехали 🚀\n",
    "    <br />\n",
    "\n",
    "Мои комментарии обозначены пометкой <b>Комментарий ревьюера</b>. При внесении правок в проект, пожалуйста, не меняй и не удаляй их т.к. дальнейшая проверка будет происходить в том числе на основе того, исправлены замечания в комментариях или нет. Зато ты всегда можешь оставить свои комментарии для меня :)\n",
    "    </font>\n",
    "</div>\n",
    "\n",
    "<div class=\"alert alert-success\">\n",
    "<font size=\"4\"><b>✔️ Комментарий ревьюера</b></font>\n",
    "    <br /> \n",
    "    <font size=\"3\", color = \"black\">\n",
    "<br />\n",
    "В зелёных блоках будут позитивные комментарии\n",
    "<br />\n",
    "    </font>\n",
    "</div>\n",
    "\n",
    "<div class=\"alert alert-warning\">\n",
    "<font size=\"4\"><b>⚠️ Комментарий ревьюера</b></font>\n",
    "    <br /> \n",
    "    <font size=\"3\", color = \"black\">\n",
    "<br />\n",
    "В жёлтых - некритичные замечания\n",
    "    </font>\n",
    "</div>\n",
    "\n",
    "<div class=\"alert alert-danger\">\n",
    "<font size=\"4\"><b>❌ Комментарий ревьюера</b></font>\n",
    "    <br /> \n",
    "    <font size=\"3\", color = \"black\">\n",
    "<br /> \n",
    "В красных - важные замечания, которые надо обязательно устранить\n",
    "    </font>\n",
    "</div>\n",
    "\n",
    "<div class=\"alert alert-info\">\n",
    "<font size=\"4\">🍕<b> Комментарий ревьюера</b></font>\n",
    "    <br /> \n",
    "    <font size=\"3\", color = \"black\">\n",
    "<br /> \n",
    "В синих с пиццей - различные нейтральные сообщения, советы на будещее и прочее.\n",
    "    </font>\n",
    "</div>"
   ]
  },
  {
   "cell_type": "markdown",
   "metadata": {
    "toc": true
   },
   "source": [
    "<h1>Содержание<span class=\"tocSkip\"></span></h1>\n",
    "<div class=\"toc\"><ul class=\"toc-item\"><li><span><a href=\"#Подготовка-данных\" data-toc-modified-id=\"Подготовка-данных-1\"><span class=\"toc-item-num\">1&nbsp;&nbsp;</span>Подготовка данных</a></span><ul class=\"toc-item\"><li><span><a href=\"#Открыть-файлы-и-изучить.\" data-toc-modified-id=\"Открыть-файлы-и-изучить.-1.1\"><span class=\"toc-item-num\">1.1&nbsp;&nbsp;</span>Открыть файлы и изучить.</a></span></li><li><span><a href=\"#Проверка,-что-эффективность-обогащения-рассчитана-правильно.-Вычислите-её-на-обучающей-выборке-для-признака-rougher.output.recovery.-Нахождение-MAE-между-расчётами-и-значением-признака.\" data-toc-modified-id=\"Проверка,-что-эффективность-обогащения-рассчитана-правильно.-Вычислите-её-на-обучающей-выборке-для-признака-rougher.output.recovery.-Нахождение-MAE-между-расчётами-и-значением-признака.-1.2\"><span class=\"toc-item-num\">1.2&nbsp;&nbsp;</span>Проверка, что эффективность обогащения рассчитана правильно. Вычислите её на обучающей выборке для признака rougher.output.recovery. Нахождение MAE между расчётами и значением признака.</a></span></li><li><span><a href=\"#Проанализировать-признаки,-недоступные-в-тестовой-выборке.\" data-toc-modified-id=\"Проанализировать-признаки,-недоступные-в-тестовой-выборке.-1.3\"><span class=\"toc-item-num\">1.3&nbsp;&nbsp;</span>Проанализировать признаки, недоступные в тестовой выборке.</a></span></li><li><span><a href=\"#Предобработка-данных.\" data-toc-modified-id=\"Предобработка-данных.-1.4\"><span class=\"toc-item-num\">1.4&nbsp;&nbsp;</span>Предобработка данных.</a></span></li></ul></li><li><span><a href=\"#Анализ-данных\" data-toc-modified-id=\"Анализ-данных-2\"><span class=\"toc-item-num\">2&nbsp;&nbsp;</span>Анализ данных</a></span><ul class=\"toc-item\"><li><span><a href=\"#Посмотрим,-как-меняется-концентрация-металлов-(Au,-Ag,-Pb)-на-различных-этапах-очистки.\" data-toc-modified-id=\"Посмотрим,-как-меняется-концентрация-металлов-(Au,-Ag,-Pb)-на-различных-этапах-очистки.-2.1\"><span class=\"toc-item-num\">2.1&nbsp;&nbsp;</span>Посмотрим, как меняется концентрация металлов (Au, Ag, Pb) на различных этапах очистки.</a></span></li><li><span><a href=\"#Сравнение-распределения-размеров-гранул-сырья-на-обучающей-и-тестовой-выборках.-Если-распределения-сильно-отличаются-друг-от-друга,-оценка-модели-будет-неправильной.\" data-toc-modified-id=\"Сравнение-распределения-размеров-гранул-сырья-на-обучающей-и-тестовой-выборках.-Если-распределения-сильно-отличаются-друг-от-друга,-оценка-модели-будет-неправильной.-2.2\"><span class=\"toc-item-num\">2.2&nbsp;&nbsp;</span>Сравнение распределения размеров гранул сырья на обучающей и тестовой выборках. Если распределения сильно отличаются друг от друга, оценка модели будет неправильной.</a></span></li><li><span><a href=\"#Исследование-суммарных-концентраций-всех-веществ-на-разных-стадиях:-в-сырье,-в-черновом-и-финальном-концентратах.\" data-toc-modified-id=\"Исследование-суммарных-концентраций-всех-веществ-на-разных-стадиях:-в-сырье,-в-черновом-и-финальном-концентратах.-2.3\"><span class=\"toc-item-num\">2.3&nbsp;&nbsp;</span>Исследование суммарных концентраций всех веществ на разных стадиях: в сырье, в черновом и финальном концентратах.</a></span></li></ul></li><li><span><a href=\"#Модель\" data-toc-modified-id=\"Модель-3\"><span class=\"toc-item-num\">3&nbsp;&nbsp;</span>Модель</a></span><ul class=\"toc-item\"><li><span><a href=\"#Функция-для-вычисления-итоговой-sMAPE\" data-toc-modified-id=\"Функция-для-вычисления-итоговой-sMAPE-3.1\"><span class=\"toc-item-num\">3.1&nbsp;&nbsp;</span>Функция для вычисления итоговой sMAPE</a></span></li><li><span><a href=\"#Обучение-разных-моделей-и-оценка-их-качества.-Лучшую-модель-и-проверка-её-на-тестовой-выборке.\" data-toc-modified-id=\"Обучение-разных-моделей-и-оценка-их-качества.-Лучшую-модель-и-проверка-её-на-тестовой-выборке.-3.2\"><span class=\"toc-item-num\">3.2&nbsp;&nbsp;</span>Обучение разных моделей и оценка их качества. Лучшую модель и проверка её на тестовой выборке.</a></span></li></ul></li><li><span><a href=\"#Общий-вывод:\" data-toc-modified-id=\"Общий-вывод:-4\"><span class=\"toc-item-num\">4&nbsp;&nbsp;</span>Общий вывод:</a></span></li><li><span><a href=\"#Чек-лист-готовности-проекта\" data-toc-modified-id=\"Чек-лист-готовности-проекта-5\"><span class=\"toc-item-num\">5&nbsp;&nbsp;</span>Чек-лист готовности проекта</a></span></li></ul></div>"
   ]
  },
  {
   "cell_type": "markdown",
   "metadata": {},
   "source": [
    "# Восстановление золота из руды"
   ]
  },
  {
   "cell_type": "markdown",
   "metadata": {},
   "source": [
    "Необходимо подготовить прототип модели машинного обучения для «Цифры». Компания разрабатывает решения для эффективной работы промышленных предприятий.\n",
    "\n",
    "Модель должна предсказать коэффициент восстановления золота из золотосодержащей руды. Будут использованы данные с параметрами добычи и очистки. \n",
    "\n",
    "Модель поможет оптимизировать производство, чтобы не запускать предприятие с убыточными характеристиками.\n",
    "\n",
    "Нужно:\n",
    "\n",
    "1. Подготовить данные;\n",
    "2. Провести исследовательский анализ данных;\n",
    "3. Построить и обучить модель.\n"
   ]
  },
  {
   "cell_type": "markdown",
   "metadata": {},
   "source": [
    "# Описание данных\n",
    "**Технологический процесс**\n",
    "\n",
    "\t• Rougher feed — исходное сырье\n",
    "\t• Rougher additions (или reagent additions) — флотационные реагенты: Xanthate, Sulphate, Depressant\n",
    "\t\t• Xanthate — ксантогенат (промотер, или активатор флотации);\n",
    "\t\t• Sulphate — сульфат (на данном производстве сульфид натрия);\n",
    "\t\t• Depressant — депрессант (силикат натрия).\n",
    "\t• Rougher process (англ. «грубый процесс») — флотация\n",
    "\t• Rougher tails — отвальные хвосты\n",
    "\t• Float banks — флотационная установка\n",
    "\t• Cleaner process — очистка\n",
    "\t• Rougher Au — черновой концентрат золота\n",
    "\t• Final Au — финальный концентрат золота\n",
    "\n",
    "**Параметры этапов**\n",
    "\n",
    "\t• air amount — объём воздуха\n",
    "\t• fluid levels — уровень жидкости\n",
    "\t• feed size — размер гранул сырья\n",
    "\t• feed rate — скорость подачи\n",
    "    \n",
    "**Наименование признаков должно быть такое:**\n",
    "[этап].[тип_параметра].[название_параметра]\n",
    "Пример: rougher.input.feed_ag\n",
    "Возможные значения для блока [этап]:\n",
    "\n",
    "\t• rougher — флотация\n",
    "\t• primary_cleaner — первичная очистка\n",
    "\t• secondary_cleaner — вторичная очистка\n",
    "\t• final — финальные характеристики\n",
    "    \n",
    "Возможные значения для блока [тип_параметра]:\n",
    "\n",
    "\t• input — параметры сырья\n",
    "\t• output — параметры продукта\n",
    "\t• state — параметры, характеризующие текущее состояние этапа\n",
    "\t• calculation — расчётные характеристики\n",
    "    "
   ]
  },
  {
   "cell_type": "markdown",
   "metadata": {},
   "source": [
    "**План работы:**\n",
    " \n",
    "    1. Подготовьте данные\n",
    "        1.1. Открыть файлы и изучить.\n",
    "        Путь к файлам:\n",
    "        /datasets/gold_recovery_train_new.csv. Скачать датасет\n",
    "        /datasets/gold_recovery_test_new.csv. Скачать датасет\n",
    "        /datasets/gold_recovery_full_new.csv. Скачать датасет\n",
    "\n",
    "        1.2. Проверить, что эффективность обогащения рассчитана правильно. Вычислите её на обучающей выборке для признака rougher.output.recovery. Найти MAE между вашими расчётами и значением признака. Описать выводы.\n",
    "        1.3. Проанализировать признаки, недоступные в тестовой выборке. Что это за параметры? К какому типу относятся?\n",
    "        1.4. Провести предобработку данных.\n",
    "    2. Проанализировать данные\n",
    "        2.1. Посмотреть, как меняется концентрация металлов (Au, Ag, Pb) на различных этапах очистки. Опишите выводы.\n",
    "        2.2.  Сравнить распределения размеров гранул сырья на обучающей и тестовой выборках. Если распределения сильно отличаются друг от друга, оценка модели будет неправильной.\n",
    "        2.3. Исследовать суммарную концентрацию всех веществ на разных стадиях: в сырье, в черновом и финальном концентратах. \n",
    "    3. Построить модель\n",
    "        3.1. Написать функцию для вычисления итоговой sMAPE.\n",
    "        3.2. Обучить разные модели и оцените их качество. Выбрать лучшую модель и проверить её на тестовой выборке. Описать выводы."
   ]
  },
  {
   "cell_type": "markdown",
   "metadata": {},
   "source": [
    "## Подготовка данных"
   ]
  },
  {
   "cell_type": "markdown",
   "metadata": {},
   "source": [
    "###  Открыть файлы и изучить."
   ]
  },
  {
   "cell_type": "code",
   "execution_count": 1,
   "metadata": {},
   "outputs": [],
   "source": [
    "import pandas as pd\n",
    "import matplotlib.pyplot as plt\n",
    "import seaborn as sns\n",
    "import numpy as np\n",
    "from sklearn.metrics import mean_absolute_error\n",
    "from sklearn.tree import DecisionTreeRegressor\n",
    "from sklearn.linear_model import LinearRegression\n",
    "from sklearn.ensemble import RandomForestRegressor\n",
    "from sklearn.model_selection import train_test_split\n",
    "from sklearn.dummy import DummyRegressor"
   ]
  },
  {
   "cell_type": "markdown",
   "metadata": {},
   "source": [
    "<div class=\"alert alert-warning\">\n",
    "<font size=\"4\"><b>⚠️ Комментарий ревьюера</b></font>\n",
    "    <br /> \n",
    "    <font size=\"3\", color = \"black\">\n",
    "<br />\n",
    "Не стоит импортировать то, что не используется в работе. А зачем тебе случайный лес **классификатор** я даже не могу представить."
   ]
  },
  {
   "cell_type": "markdown",
   "metadata": {},
   "source": [
    "<div class=\"alert alert-info\">\n",
    "<font size=\"4\"><b>✔️ Комментарий студента</b></font>\n",
    "    <br /> \n",
    "    <font size=\"3\", color = \"black\">\n",
    "<br /> \n",
    "Удалил лишнее\n",
    "    </font>\n",
    "</div>"
   ]
  },
  {
   "cell_type": "markdown",
   "metadata": {},
   "source": [
    "<div class=\"alert alert-success\">\n",
    "<font size=\"4\"><b>✔️ Комментарий ревьюера V2</b></font>\n",
    "    <br /> \n",
    "    <font size=\"3\", color = \"black\">\n",
    "<br />    \n",
    "<img src=\"https://kartinkof.club/uploads/posts/2022-03/1648241141_25-kartinkof-club-p-mem-priemlemo-s-kotom-25.jpg\" width=300>"
   ]
  },
  {
   "cell_type": "code",
   "execution_count": 2,
   "metadata": {},
   "outputs": [],
   "source": [
    "data_train = pd.read_csv('/datasets/gold_recovery_train_new.csv')\n",
    "data_test = pd.read_csv('/datasets/gold_recovery_test_new.csv')\n",
    "data_full = pd.read_csv('/datasets/gold_recovery_full_new.csv')"
   ]
  },
  {
   "cell_type": "code",
   "execution_count": 3,
   "metadata": {},
   "outputs": [],
   "source": [
    "pd.set_option('display.max_columns', 50)\n"
   ]
  },
  {
   "cell_type": "code",
   "execution_count": 4,
   "metadata": {
    "scrolled": false
   },
   "outputs": [
    {
     "data": {
      "text/html": [
       "<div>\n",
       "<style scoped>\n",
       "    .dataframe tbody tr th:only-of-type {\n",
       "        vertical-align: middle;\n",
       "    }\n",
       "\n",
       "    .dataframe tbody tr th {\n",
       "        vertical-align: top;\n",
       "    }\n",
       "\n",
       "    .dataframe thead th {\n",
       "        text-align: right;\n",
       "    }\n",
       "</style>\n",
       "<table border=\"1\" class=\"dataframe\">\n",
       "  <thead>\n",
       "    <tr style=\"text-align: right;\">\n",
       "      <th></th>\n",
       "      <th>date</th>\n",
       "      <th>final.output.concentrate_ag</th>\n",
       "      <th>final.output.concentrate_pb</th>\n",
       "      <th>final.output.concentrate_sol</th>\n",
       "      <th>final.output.concentrate_au</th>\n",
       "      <th>final.output.recovery</th>\n",
       "      <th>final.output.tail_ag</th>\n",
       "      <th>final.output.tail_pb</th>\n",
       "      <th>final.output.tail_sol</th>\n",
       "      <th>final.output.tail_au</th>\n",
       "      <th>primary_cleaner.input.sulfate</th>\n",
       "      <th>primary_cleaner.input.depressant</th>\n",
       "      <th>primary_cleaner.input.feed_size</th>\n",
       "      <th>primary_cleaner.input.xanthate</th>\n",
       "      <th>primary_cleaner.output.concentrate_ag</th>\n",
       "      <th>primary_cleaner.output.concentrate_pb</th>\n",
       "      <th>primary_cleaner.output.concentrate_sol</th>\n",
       "      <th>primary_cleaner.output.concentrate_au</th>\n",
       "      <th>primary_cleaner.output.tail_ag</th>\n",
       "      <th>primary_cleaner.output.tail_pb</th>\n",
       "      <th>primary_cleaner.output.tail_sol</th>\n",
       "      <th>primary_cleaner.output.tail_au</th>\n",
       "      <th>primary_cleaner.state.floatbank8_a_air</th>\n",
       "      <th>primary_cleaner.state.floatbank8_a_level</th>\n",
       "      <th>primary_cleaner.state.floatbank8_b_air</th>\n",
       "      <th>...</th>\n",
       "      <th>rougher.state.floatbank10_e_level</th>\n",
       "      <th>rougher.state.floatbank10_f_air</th>\n",
       "      <th>rougher.state.floatbank10_f_level</th>\n",
       "      <th>secondary_cleaner.output.tail_ag</th>\n",
       "      <th>secondary_cleaner.output.tail_pb</th>\n",
       "      <th>secondary_cleaner.output.tail_sol</th>\n",
       "      <th>secondary_cleaner.output.tail_au</th>\n",
       "      <th>secondary_cleaner.state.floatbank2_a_air</th>\n",
       "      <th>secondary_cleaner.state.floatbank2_a_level</th>\n",
       "      <th>secondary_cleaner.state.floatbank2_b_air</th>\n",
       "      <th>secondary_cleaner.state.floatbank2_b_level</th>\n",
       "      <th>secondary_cleaner.state.floatbank3_a_air</th>\n",
       "      <th>secondary_cleaner.state.floatbank3_a_level</th>\n",
       "      <th>secondary_cleaner.state.floatbank3_b_air</th>\n",
       "      <th>secondary_cleaner.state.floatbank3_b_level</th>\n",
       "      <th>secondary_cleaner.state.floatbank4_a_air</th>\n",
       "      <th>secondary_cleaner.state.floatbank4_a_level</th>\n",
       "      <th>secondary_cleaner.state.floatbank4_b_air</th>\n",
       "      <th>secondary_cleaner.state.floatbank4_b_level</th>\n",
       "      <th>secondary_cleaner.state.floatbank5_a_air</th>\n",
       "      <th>secondary_cleaner.state.floatbank5_a_level</th>\n",
       "      <th>secondary_cleaner.state.floatbank5_b_air</th>\n",
       "      <th>secondary_cleaner.state.floatbank5_b_level</th>\n",
       "      <th>secondary_cleaner.state.floatbank6_a_air</th>\n",
       "      <th>secondary_cleaner.state.floatbank6_a_level</th>\n",
       "    </tr>\n",
       "  </thead>\n",
       "  <tbody>\n",
       "    <tr>\n",
       "      <th>0</th>\n",
       "      <td>2016-01-15 00:00:00</td>\n",
       "      <td>6.055403</td>\n",
       "      <td>9.889648</td>\n",
       "      <td>5.507324</td>\n",
       "      <td>42.192020</td>\n",
       "      <td>70.541216</td>\n",
       "      <td>10.411962</td>\n",
       "      <td>0.895447</td>\n",
       "      <td>16.904297</td>\n",
       "      <td>2.143149</td>\n",
       "      <td>127.092003</td>\n",
       "      <td>10.128295</td>\n",
       "      <td>7.25</td>\n",
       "      <td>0.988759</td>\n",
       "      <td>8.547551</td>\n",
       "      <td>10.389648</td>\n",
       "      <td>19.529297</td>\n",
       "      <td>34.174427</td>\n",
       "      <td>14.936526</td>\n",
       "      <td>2.534912</td>\n",
       "      <td>7.476074</td>\n",
       "      <td>2.106679</td>\n",
       "      <td>1549.775757</td>\n",
       "      <td>-498.912140</td>\n",
       "      <td>1551.434204</td>\n",
       "      <td>...</td>\n",
       "      <td>-455.462982</td>\n",
       "      <td>1416.354980</td>\n",
       "      <td>-451.939636</td>\n",
       "      <td>14.500184</td>\n",
       "      <td>4.694824</td>\n",
       "      <td>8.764648</td>\n",
       "      <td>2.606185</td>\n",
       "      <td>25.853109</td>\n",
       "      <td>-498.526489</td>\n",
       "      <td>23.893660</td>\n",
       "      <td>-501.406281</td>\n",
       "      <td>23.961798</td>\n",
       "      <td>-495.262817</td>\n",
       "      <td>21.940409</td>\n",
       "      <td>-499.340973</td>\n",
       "      <td>14.016835</td>\n",
       "      <td>-502.488007</td>\n",
       "      <td>12.099931</td>\n",
       "      <td>-504.715942</td>\n",
       "      <td>9.925633</td>\n",
       "      <td>-498.310211</td>\n",
       "      <td>8.079666</td>\n",
       "      <td>-500.470978</td>\n",
       "      <td>14.151341</td>\n",
       "      <td>-605.841980</td>\n",
       "    </tr>\n",
       "    <tr>\n",
       "      <th>1</th>\n",
       "      <td>2016-01-15 01:00:00</td>\n",
       "      <td>6.029369</td>\n",
       "      <td>9.968944</td>\n",
       "      <td>5.257781</td>\n",
       "      <td>42.701629</td>\n",
       "      <td>69.266198</td>\n",
       "      <td>10.462676</td>\n",
       "      <td>0.927452</td>\n",
       "      <td>16.634514</td>\n",
       "      <td>2.224930</td>\n",
       "      <td>125.629232</td>\n",
       "      <td>10.296251</td>\n",
       "      <td>7.25</td>\n",
       "      <td>1.002663</td>\n",
       "      <td>8.558743</td>\n",
       "      <td>10.497069</td>\n",
       "      <td>19.369147</td>\n",
       "      <td>34.118526</td>\n",
       "      <td>16.250511</td>\n",
       "      <td>3.049646</td>\n",
       "      <td>6.733907</td>\n",
       "      <td>2.353017</td>\n",
       "      <td>1576.166671</td>\n",
       "      <td>-500.904965</td>\n",
       "      <td>1575.950626</td>\n",
       "      <td>...</td>\n",
       "      <td>-450.869848</td>\n",
       "      <td>1399.719514</td>\n",
       "      <td>-450.119001</td>\n",
       "      <td>14.265474</td>\n",
       "      <td>4.592547</td>\n",
       "      <td>9.001494</td>\n",
       "      <td>2.488248</td>\n",
       "      <td>25.880539</td>\n",
       "      <td>-499.989656</td>\n",
       "      <td>23.889530</td>\n",
       "      <td>-500.372428</td>\n",
       "      <td>23.970550</td>\n",
       "      <td>-500.085473</td>\n",
       "      <td>22.085714</td>\n",
       "      <td>-499.446897</td>\n",
       "      <td>13.992281</td>\n",
       "      <td>-505.503262</td>\n",
       "      <td>11.950531</td>\n",
       "      <td>-501.331529</td>\n",
       "      <td>10.039245</td>\n",
       "      <td>-500.169983</td>\n",
       "      <td>7.984757</td>\n",
       "      <td>-500.582168</td>\n",
       "      <td>13.998353</td>\n",
       "      <td>-599.787184</td>\n",
       "    </tr>\n",
       "    <tr>\n",
       "      <th>2</th>\n",
       "      <td>2016-01-15 02:00:00</td>\n",
       "      <td>6.055926</td>\n",
       "      <td>10.213995</td>\n",
       "      <td>5.383759</td>\n",
       "      <td>42.657501</td>\n",
       "      <td>68.116445</td>\n",
       "      <td>10.507046</td>\n",
       "      <td>0.953716</td>\n",
       "      <td>16.208849</td>\n",
       "      <td>2.257889</td>\n",
       "      <td>123.819808</td>\n",
       "      <td>11.316280</td>\n",
       "      <td>7.25</td>\n",
       "      <td>0.991265</td>\n",
       "      <td>8.603505</td>\n",
       "      <td>10.354494</td>\n",
       "      <td>19.167579</td>\n",
       "      <td>33.969464</td>\n",
       "      <td>16.491823</td>\n",
       "      <td>3.124664</td>\n",
       "      <td>6.471768</td>\n",
       "      <td>2.416800</td>\n",
       "      <td>1601.556163</td>\n",
       "      <td>-499.997791</td>\n",
       "      <td>1600.386685</td>\n",
       "      <td>...</td>\n",
       "      <td>-449.937588</td>\n",
       "      <td>1400.316682</td>\n",
       "      <td>-450.527147</td>\n",
       "      <td>14.115662</td>\n",
       "      <td>4.624775</td>\n",
       "      <td>8.842896</td>\n",
       "      <td>2.458187</td>\n",
       "      <td>26.005245</td>\n",
       "      <td>-499.929616</td>\n",
       "      <td>23.886657</td>\n",
       "      <td>-499.951928</td>\n",
       "      <td>23.913535</td>\n",
       "      <td>-499.442343</td>\n",
       "      <td>23.957717</td>\n",
       "      <td>-499.901982</td>\n",
       "      <td>14.015015</td>\n",
       "      <td>-502.520901</td>\n",
       "      <td>11.912783</td>\n",
       "      <td>-501.133383</td>\n",
       "      <td>10.070913</td>\n",
       "      <td>-500.129135</td>\n",
       "      <td>8.013877</td>\n",
       "      <td>-500.517572</td>\n",
       "      <td>14.028663</td>\n",
       "      <td>-601.427363</td>\n",
       "    </tr>\n",
       "    <tr>\n",
       "      <th>3</th>\n",
       "      <td>2016-01-15 03:00:00</td>\n",
       "      <td>6.047977</td>\n",
       "      <td>9.977019</td>\n",
       "      <td>4.858634</td>\n",
       "      <td>42.689819</td>\n",
       "      <td>68.347543</td>\n",
       "      <td>10.422762</td>\n",
       "      <td>0.883763</td>\n",
       "      <td>16.532835</td>\n",
       "      <td>2.146849</td>\n",
       "      <td>122.270188</td>\n",
       "      <td>11.322140</td>\n",
       "      <td>7.25</td>\n",
       "      <td>0.996739</td>\n",
       "      <td>7.221879</td>\n",
       "      <td>8.496563</td>\n",
       "      <td>15.978538</td>\n",
       "      <td>28.260743</td>\n",
       "      <td>16.024359</td>\n",
       "      <td>2.960362</td>\n",
       "      <td>6.843791</td>\n",
       "      <td>2.262051</td>\n",
       "      <td>1599.968720</td>\n",
       "      <td>-500.951778</td>\n",
       "      <td>1600.659236</td>\n",
       "      <td>...</td>\n",
       "      <td>-450.030142</td>\n",
       "      <td>1400.234743</td>\n",
       "      <td>-449.790835</td>\n",
       "      <td>13.732071</td>\n",
       "      <td>4.482453</td>\n",
       "      <td>9.122857</td>\n",
       "      <td>2.322062</td>\n",
       "      <td>25.942508</td>\n",
       "      <td>-499.176749</td>\n",
       "      <td>23.955516</td>\n",
       "      <td>-499.848796</td>\n",
       "      <td>23.966838</td>\n",
       "      <td>-500.008812</td>\n",
       "      <td>23.954443</td>\n",
       "      <td>-499.944710</td>\n",
       "      <td>14.036510</td>\n",
       "      <td>-500.857308</td>\n",
       "      <td>11.999550</td>\n",
       "      <td>-501.193686</td>\n",
       "      <td>9.970366</td>\n",
       "      <td>-499.201640</td>\n",
       "      <td>7.977324</td>\n",
       "      <td>-500.255908</td>\n",
       "      <td>14.005551</td>\n",
       "      <td>-599.996129</td>\n",
       "    </tr>\n",
       "    <tr>\n",
       "      <th>4</th>\n",
       "      <td>2016-01-15 04:00:00</td>\n",
       "      <td>6.148599</td>\n",
       "      <td>10.142511</td>\n",
       "      <td>4.939416</td>\n",
       "      <td>42.774141</td>\n",
       "      <td>66.927016</td>\n",
       "      <td>10.360302</td>\n",
       "      <td>0.792826</td>\n",
       "      <td>16.525686</td>\n",
       "      <td>2.055292</td>\n",
       "      <td>117.988169</td>\n",
       "      <td>11.913613</td>\n",
       "      <td>7.25</td>\n",
       "      <td>1.009869</td>\n",
       "      <td>9.089428</td>\n",
       "      <td>9.986786</td>\n",
       "      <td>19.199864</td>\n",
       "      <td>33.044932</td>\n",
       "      <td>16.480185</td>\n",
       "      <td>3.112100</td>\n",
       "      <td>6.550154</td>\n",
       "      <td>2.277073</td>\n",
       "      <td>1601.339707</td>\n",
       "      <td>-498.975456</td>\n",
       "      <td>1601.437854</td>\n",
       "      <td>...</td>\n",
       "      <td>-448.877187</td>\n",
       "      <td>1401.160227</td>\n",
       "      <td>-450.407128</td>\n",
       "      <td>14.079996</td>\n",
       "      <td>4.470737</td>\n",
       "      <td>8.871028</td>\n",
       "      <td>2.330448</td>\n",
       "      <td>26.024787</td>\n",
       "      <td>-500.279091</td>\n",
       "      <td>23.955345</td>\n",
       "      <td>-500.593614</td>\n",
       "      <td>23.985703</td>\n",
       "      <td>-500.083811</td>\n",
       "      <td>23.958945</td>\n",
       "      <td>-499.990309</td>\n",
       "      <td>14.027298</td>\n",
       "      <td>-499.838632</td>\n",
       "      <td>11.953070</td>\n",
       "      <td>-501.053894</td>\n",
       "      <td>9.925709</td>\n",
       "      <td>-501.686727</td>\n",
       "      <td>7.894242</td>\n",
       "      <td>-500.356035</td>\n",
       "      <td>13.996647</td>\n",
       "      <td>-601.496691</td>\n",
       "    </tr>\n",
       "  </tbody>\n",
       "</table>\n",
       "<p>5 rows × 87 columns</p>\n",
       "</div>"
      ],
      "text/plain": [
       "                  date  final.output.concentrate_ag  \\\n",
       "0  2016-01-15 00:00:00                     6.055403   \n",
       "1  2016-01-15 01:00:00                     6.029369   \n",
       "2  2016-01-15 02:00:00                     6.055926   \n",
       "3  2016-01-15 03:00:00                     6.047977   \n",
       "4  2016-01-15 04:00:00                     6.148599   \n",
       "\n",
       "   final.output.concentrate_pb  final.output.concentrate_sol  \\\n",
       "0                     9.889648                      5.507324   \n",
       "1                     9.968944                      5.257781   \n",
       "2                    10.213995                      5.383759   \n",
       "3                     9.977019                      4.858634   \n",
       "4                    10.142511                      4.939416   \n",
       "\n",
       "   final.output.concentrate_au  final.output.recovery  final.output.tail_ag  \\\n",
       "0                    42.192020              70.541216             10.411962   \n",
       "1                    42.701629              69.266198             10.462676   \n",
       "2                    42.657501              68.116445             10.507046   \n",
       "3                    42.689819              68.347543             10.422762   \n",
       "4                    42.774141              66.927016             10.360302   \n",
       "\n",
       "   final.output.tail_pb  final.output.tail_sol  final.output.tail_au  \\\n",
       "0              0.895447              16.904297              2.143149   \n",
       "1              0.927452              16.634514              2.224930   \n",
       "2              0.953716              16.208849              2.257889   \n",
       "3              0.883763              16.532835              2.146849   \n",
       "4              0.792826              16.525686              2.055292   \n",
       "\n",
       "   primary_cleaner.input.sulfate  primary_cleaner.input.depressant  \\\n",
       "0                     127.092003                         10.128295   \n",
       "1                     125.629232                         10.296251   \n",
       "2                     123.819808                         11.316280   \n",
       "3                     122.270188                         11.322140   \n",
       "4                     117.988169                         11.913613   \n",
       "\n",
       "   primary_cleaner.input.feed_size  primary_cleaner.input.xanthate  \\\n",
       "0                             7.25                        0.988759   \n",
       "1                             7.25                        1.002663   \n",
       "2                             7.25                        0.991265   \n",
       "3                             7.25                        0.996739   \n",
       "4                             7.25                        1.009869   \n",
       "\n",
       "   primary_cleaner.output.concentrate_ag  \\\n",
       "0                               8.547551   \n",
       "1                               8.558743   \n",
       "2                               8.603505   \n",
       "3                               7.221879   \n",
       "4                               9.089428   \n",
       "\n",
       "   primary_cleaner.output.concentrate_pb  \\\n",
       "0                              10.389648   \n",
       "1                              10.497069   \n",
       "2                              10.354494   \n",
       "3                               8.496563   \n",
       "4                               9.986786   \n",
       "\n",
       "   primary_cleaner.output.concentrate_sol  \\\n",
       "0                               19.529297   \n",
       "1                               19.369147   \n",
       "2                               19.167579   \n",
       "3                               15.978538   \n",
       "4                               19.199864   \n",
       "\n",
       "   primary_cleaner.output.concentrate_au  primary_cleaner.output.tail_ag  \\\n",
       "0                              34.174427                       14.936526   \n",
       "1                              34.118526                       16.250511   \n",
       "2                              33.969464                       16.491823   \n",
       "3                              28.260743                       16.024359   \n",
       "4                              33.044932                       16.480185   \n",
       "\n",
       "   primary_cleaner.output.tail_pb  primary_cleaner.output.tail_sol  \\\n",
       "0                        2.534912                         7.476074   \n",
       "1                        3.049646                         6.733907   \n",
       "2                        3.124664                         6.471768   \n",
       "3                        2.960362                         6.843791   \n",
       "4                        3.112100                         6.550154   \n",
       "\n",
       "   primary_cleaner.output.tail_au  primary_cleaner.state.floatbank8_a_air  \\\n",
       "0                        2.106679                             1549.775757   \n",
       "1                        2.353017                             1576.166671   \n",
       "2                        2.416800                             1601.556163   \n",
       "3                        2.262051                             1599.968720   \n",
       "4                        2.277073                             1601.339707   \n",
       "\n",
       "   primary_cleaner.state.floatbank8_a_level  \\\n",
       "0                               -498.912140   \n",
       "1                               -500.904965   \n",
       "2                               -499.997791   \n",
       "3                               -500.951778   \n",
       "4                               -498.975456   \n",
       "\n",
       "   primary_cleaner.state.floatbank8_b_air  ...  \\\n",
       "0                             1551.434204  ...   \n",
       "1                             1575.950626  ...   \n",
       "2                             1600.386685  ...   \n",
       "3                             1600.659236  ...   \n",
       "4                             1601.437854  ...   \n",
       "\n",
       "   rougher.state.floatbank10_e_level  rougher.state.floatbank10_f_air  \\\n",
       "0                        -455.462982                      1416.354980   \n",
       "1                        -450.869848                      1399.719514   \n",
       "2                        -449.937588                      1400.316682   \n",
       "3                        -450.030142                      1400.234743   \n",
       "4                        -448.877187                      1401.160227   \n",
       "\n",
       "   rougher.state.floatbank10_f_level  secondary_cleaner.output.tail_ag  \\\n",
       "0                        -451.939636                         14.500184   \n",
       "1                        -450.119001                         14.265474   \n",
       "2                        -450.527147                         14.115662   \n",
       "3                        -449.790835                         13.732071   \n",
       "4                        -450.407128                         14.079996   \n",
       "\n",
       "   secondary_cleaner.output.tail_pb  secondary_cleaner.output.tail_sol  \\\n",
       "0                          4.694824                           8.764648   \n",
       "1                          4.592547                           9.001494   \n",
       "2                          4.624775                           8.842896   \n",
       "3                          4.482453                           9.122857   \n",
       "4                          4.470737                           8.871028   \n",
       "\n",
       "   secondary_cleaner.output.tail_au  secondary_cleaner.state.floatbank2_a_air  \\\n",
       "0                          2.606185                                 25.853109   \n",
       "1                          2.488248                                 25.880539   \n",
       "2                          2.458187                                 26.005245   \n",
       "3                          2.322062                                 25.942508   \n",
       "4                          2.330448                                 26.024787   \n",
       "\n",
       "   secondary_cleaner.state.floatbank2_a_level  \\\n",
       "0                                 -498.526489   \n",
       "1                                 -499.989656   \n",
       "2                                 -499.929616   \n",
       "3                                 -499.176749   \n",
       "4                                 -500.279091   \n",
       "\n",
       "   secondary_cleaner.state.floatbank2_b_air  \\\n",
       "0                                 23.893660   \n",
       "1                                 23.889530   \n",
       "2                                 23.886657   \n",
       "3                                 23.955516   \n",
       "4                                 23.955345   \n",
       "\n",
       "   secondary_cleaner.state.floatbank2_b_level  \\\n",
       "0                                 -501.406281   \n",
       "1                                 -500.372428   \n",
       "2                                 -499.951928   \n",
       "3                                 -499.848796   \n",
       "4                                 -500.593614   \n",
       "\n",
       "   secondary_cleaner.state.floatbank3_a_air  \\\n",
       "0                                 23.961798   \n",
       "1                                 23.970550   \n",
       "2                                 23.913535   \n",
       "3                                 23.966838   \n",
       "4                                 23.985703   \n",
       "\n",
       "   secondary_cleaner.state.floatbank3_a_level  \\\n",
       "0                                 -495.262817   \n",
       "1                                 -500.085473   \n",
       "2                                 -499.442343   \n",
       "3                                 -500.008812   \n",
       "4                                 -500.083811   \n",
       "\n",
       "   secondary_cleaner.state.floatbank3_b_air  \\\n",
       "0                                 21.940409   \n",
       "1                                 22.085714   \n",
       "2                                 23.957717   \n",
       "3                                 23.954443   \n",
       "4                                 23.958945   \n",
       "\n",
       "   secondary_cleaner.state.floatbank3_b_level  \\\n",
       "0                                 -499.340973   \n",
       "1                                 -499.446897   \n",
       "2                                 -499.901982   \n",
       "3                                 -499.944710   \n",
       "4                                 -499.990309   \n",
       "\n",
       "   secondary_cleaner.state.floatbank4_a_air  \\\n",
       "0                                 14.016835   \n",
       "1                                 13.992281   \n",
       "2                                 14.015015   \n",
       "3                                 14.036510   \n",
       "4                                 14.027298   \n",
       "\n",
       "   secondary_cleaner.state.floatbank4_a_level  \\\n",
       "0                                 -502.488007   \n",
       "1                                 -505.503262   \n",
       "2                                 -502.520901   \n",
       "3                                 -500.857308   \n",
       "4                                 -499.838632   \n",
       "\n",
       "   secondary_cleaner.state.floatbank4_b_air  \\\n",
       "0                                 12.099931   \n",
       "1                                 11.950531   \n",
       "2                                 11.912783   \n",
       "3                                 11.999550   \n",
       "4                                 11.953070   \n",
       "\n",
       "   secondary_cleaner.state.floatbank4_b_level  \\\n",
       "0                                 -504.715942   \n",
       "1                                 -501.331529   \n",
       "2                                 -501.133383   \n",
       "3                                 -501.193686   \n",
       "4                                 -501.053894   \n",
       "\n",
       "   secondary_cleaner.state.floatbank5_a_air  \\\n",
       "0                                  9.925633   \n",
       "1                                 10.039245   \n",
       "2                                 10.070913   \n",
       "3                                  9.970366   \n",
       "4                                  9.925709   \n",
       "\n",
       "   secondary_cleaner.state.floatbank5_a_level  \\\n",
       "0                                 -498.310211   \n",
       "1                                 -500.169983   \n",
       "2                                 -500.129135   \n",
       "3                                 -499.201640   \n",
       "4                                 -501.686727   \n",
       "\n",
       "   secondary_cleaner.state.floatbank5_b_air  \\\n",
       "0                                  8.079666   \n",
       "1                                  7.984757   \n",
       "2                                  8.013877   \n",
       "3                                  7.977324   \n",
       "4                                  7.894242   \n",
       "\n",
       "   secondary_cleaner.state.floatbank5_b_level  \\\n",
       "0                                 -500.470978   \n",
       "1                                 -500.582168   \n",
       "2                                 -500.517572   \n",
       "3                                 -500.255908   \n",
       "4                                 -500.356035   \n",
       "\n",
       "   secondary_cleaner.state.floatbank6_a_air  \\\n",
       "0                                 14.151341   \n",
       "1                                 13.998353   \n",
       "2                                 14.028663   \n",
       "3                                 14.005551   \n",
       "4                                 13.996647   \n",
       "\n",
       "   secondary_cleaner.state.floatbank6_a_level  \n",
       "0                                 -605.841980  \n",
       "1                                 -599.787184  \n",
       "2                                 -601.427363  \n",
       "3                                 -599.996129  \n",
       "4                                 -601.496691  \n",
       "\n",
       "[5 rows x 87 columns]"
      ]
     },
     "metadata": {},
     "output_type": "display_data"
    },
    {
     "data": {
      "text/html": [
       "<div>\n",
       "<style scoped>\n",
       "    .dataframe tbody tr th:only-of-type {\n",
       "        vertical-align: middle;\n",
       "    }\n",
       "\n",
       "    .dataframe tbody tr th {\n",
       "        vertical-align: top;\n",
       "    }\n",
       "\n",
       "    .dataframe thead th {\n",
       "        text-align: right;\n",
       "    }\n",
       "</style>\n",
       "<table border=\"1\" class=\"dataframe\">\n",
       "  <thead>\n",
       "    <tr style=\"text-align: right;\">\n",
       "      <th></th>\n",
       "      <th>date</th>\n",
       "      <th>primary_cleaner.input.sulfate</th>\n",
       "      <th>primary_cleaner.input.depressant</th>\n",
       "      <th>primary_cleaner.input.feed_size</th>\n",
       "      <th>primary_cleaner.input.xanthate</th>\n",
       "      <th>primary_cleaner.state.floatbank8_a_air</th>\n",
       "      <th>primary_cleaner.state.floatbank8_a_level</th>\n",
       "      <th>primary_cleaner.state.floatbank8_b_air</th>\n",
       "      <th>primary_cleaner.state.floatbank8_b_level</th>\n",
       "      <th>primary_cleaner.state.floatbank8_c_air</th>\n",
       "      <th>primary_cleaner.state.floatbank8_c_level</th>\n",
       "      <th>primary_cleaner.state.floatbank8_d_air</th>\n",
       "      <th>primary_cleaner.state.floatbank8_d_level</th>\n",
       "      <th>rougher.input.feed_ag</th>\n",
       "      <th>rougher.input.feed_pb</th>\n",
       "      <th>rougher.input.feed_rate</th>\n",
       "      <th>rougher.input.feed_size</th>\n",
       "      <th>rougher.input.feed_sol</th>\n",
       "      <th>rougher.input.feed_au</th>\n",
       "      <th>rougher.input.floatbank10_sulfate</th>\n",
       "      <th>rougher.input.floatbank10_xanthate</th>\n",
       "      <th>rougher.input.floatbank11_sulfate</th>\n",
       "      <th>rougher.input.floatbank11_xanthate</th>\n",
       "      <th>rougher.state.floatbank10_a_air</th>\n",
       "      <th>rougher.state.floatbank10_a_level</th>\n",
       "      <th>...</th>\n",
       "      <th>rougher.state.floatbank10_c_level</th>\n",
       "      <th>rougher.state.floatbank10_d_air</th>\n",
       "      <th>rougher.state.floatbank10_d_level</th>\n",
       "      <th>rougher.state.floatbank10_e_air</th>\n",
       "      <th>rougher.state.floatbank10_e_level</th>\n",
       "      <th>rougher.state.floatbank10_f_air</th>\n",
       "      <th>rougher.state.floatbank10_f_level</th>\n",
       "      <th>secondary_cleaner.state.floatbank2_a_air</th>\n",
       "      <th>secondary_cleaner.state.floatbank2_a_level</th>\n",
       "      <th>secondary_cleaner.state.floatbank2_b_air</th>\n",
       "      <th>secondary_cleaner.state.floatbank2_b_level</th>\n",
       "      <th>secondary_cleaner.state.floatbank3_a_air</th>\n",
       "      <th>secondary_cleaner.state.floatbank3_a_level</th>\n",
       "      <th>secondary_cleaner.state.floatbank3_b_air</th>\n",
       "      <th>secondary_cleaner.state.floatbank3_b_level</th>\n",
       "      <th>secondary_cleaner.state.floatbank4_a_air</th>\n",
       "      <th>secondary_cleaner.state.floatbank4_a_level</th>\n",
       "      <th>secondary_cleaner.state.floatbank4_b_air</th>\n",
       "      <th>secondary_cleaner.state.floatbank4_b_level</th>\n",
       "      <th>secondary_cleaner.state.floatbank5_a_air</th>\n",
       "      <th>secondary_cleaner.state.floatbank5_a_level</th>\n",
       "      <th>secondary_cleaner.state.floatbank5_b_air</th>\n",
       "      <th>secondary_cleaner.state.floatbank5_b_level</th>\n",
       "      <th>secondary_cleaner.state.floatbank6_a_air</th>\n",
       "      <th>secondary_cleaner.state.floatbank6_a_level</th>\n",
       "    </tr>\n",
       "  </thead>\n",
       "  <tbody>\n",
       "    <tr>\n",
       "      <th>0</th>\n",
       "      <td>2016-09-01 00:59:59</td>\n",
       "      <td>210.800909</td>\n",
       "      <td>14.993118</td>\n",
       "      <td>8.080000</td>\n",
       "      <td>1.005021</td>\n",
       "      <td>1398.981301</td>\n",
       "      <td>-500.225577</td>\n",
       "      <td>1399.144926</td>\n",
       "      <td>-499.919735</td>\n",
       "      <td>1400.102998</td>\n",
       "      <td>-500.704369</td>\n",
       "      <td>1399.001695</td>\n",
       "      <td>-499.485144</td>\n",
       "      <td>13.128569</td>\n",
       "      <td>5.636710</td>\n",
       "      <td>489.793655</td>\n",
       "      <td>62.710452</td>\n",
       "      <td>42.022440</td>\n",
       "      <td>12.084103</td>\n",
       "      <td>16.922877</td>\n",
       "      <td>6.153479</td>\n",
       "      <td>16.867518</td>\n",
       "      <td>6.150709</td>\n",
       "      <td>1001.849317</td>\n",
       "      <td>-350.301265</td>\n",
       "      <td>...</td>\n",
       "      <td>-399.396730</td>\n",
       "      <td>1198.287855</td>\n",
       "      <td>-399.488594</td>\n",
       "      <td>999.472250</td>\n",
       "      <td>-399.530962</td>\n",
       "      <td>949.566189</td>\n",
       "      <td>-398.180807</td>\n",
       "      <td>24.938200</td>\n",
       "      <td>-500.490963</td>\n",
       "      <td>14.947607</td>\n",
       "      <td>-500.013837</td>\n",
       "      <td>20.018166</td>\n",
       "      <td>-450.395995</td>\n",
       "      <td>13.987058</td>\n",
       "      <td>-449.831513</td>\n",
       "      <td>12.023554</td>\n",
       "      <td>-497.795834</td>\n",
       "      <td>8.016656</td>\n",
       "      <td>-501.289139</td>\n",
       "      <td>7.946562</td>\n",
       "      <td>-432.317850</td>\n",
       "      <td>4.872511</td>\n",
       "      <td>-500.037437</td>\n",
       "      <td>26.705889</td>\n",
       "      <td>-499.709414</td>\n",
       "    </tr>\n",
       "    <tr>\n",
       "      <th>1</th>\n",
       "      <td>2016-09-01 01:59:59</td>\n",
       "      <td>215.392455</td>\n",
       "      <td>14.987471</td>\n",
       "      <td>8.080000</td>\n",
       "      <td>0.990469</td>\n",
       "      <td>1398.777912</td>\n",
       "      <td>-500.057435</td>\n",
       "      <td>1398.055362</td>\n",
       "      <td>-499.778182</td>\n",
       "      <td>1396.151033</td>\n",
       "      <td>-499.240168</td>\n",
       "      <td>1399.508091</td>\n",
       "      <td>-500.416324</td>\n",
       "      <td>13.036280</td>\n",
       "      <td>5.526065</td>\n",
       "      <td>490.104534</td>\n",
       "      <td>61.961163</td>\n",
       "      <td>41.187903</td>\n",
       "      <td>11.918977</td>\n",
       "      <td>17.002532</td>\n",
       "      <td>5.999043</td>\n",
       "      <td>16.996063</td>\n",
       "      <td>6.002315</td>\n",
       "      <td>998.690785</td>\n",
       "      <td>-350.425704</td>\n",
       "      <td>...</td>\n",
       "      <td>-399.630810</td>\n",
       "      <td>1200.506459</td>\n",
       "      <td>-399.942434</td>\n",
       "      <td>1000.002114</td>\n",
       "      <td>-399.491528</td>\n",
       "      <td>950.200009</td>\n",
       "      <td>-405.787514</td>\n",
       "      <td>24.923466</td>\n",
       "      <td>-499.813963</td>\n",
       "      <td>14.930873</td>\n",
       "      <td>-500.764452</td>\n",
       "      <td>19.988503</td>\n",
       "      <td>-450.114024</td>\n",
       "      <td>14.092981</td>\n",
       "      <td>-450.059163</td>\n",
       "      <td>12.058140</td>\n",
       "      <td>-498.695773</td>\n",
       "      <td>8.130979</td>\n",
       "      <td>-499.634209</td>\n",
       "      <td>7.958270</td>\n",
       "      <td>-525.839648</td>\n",
       "      <td>4.878850</td>\n",
       "      <td>-500.162375</td>\n",
       "      <td>25.019940</td>\n",
       "      <td>-499.819438</td>\n",
       "    </tr>\n",
       "    <tr>\n",
       "      <th>2</th>\n",
       "      <td>2016-09-01 02:59:59</td>\n",
       "      <td>215.259946</td>\n",
       "      <td>12.884934</td>\n",
       "      <td>7.786667</td>\n",
       "      <td>0.996043</td>\n",
       "      <td>1398.493666</td>\n",
       "      <td>-500.868360</td>\n",
       "      <td>1398.860436</td>\n",
       "      <td>-499.764529</td>\n",
       "      <td>1398.075709</td>\n",
       "      <td>-502.151509</td>\n",
       "      <td>1399.497088</td>\n",
       "      <td>-499.715479</td>\n",
       "      <td>13.138412</td>\n",
       "      <td>5.426561</td>\n",
       "      <td>489.617969</td>\n",
       "      <td>66.903807</td>\n",
       "      <td>42.546294</td>\n",
       "      <td>12.091332</td>\n",
       "      <td>16.992520</td>\n",
       "      <td>5.850632</td>\n",
       "      <td>16.982096</td>\n",
       "      <td>5.853594</td>\n",
       "      <td>998.516720</td>\n",
       "      <td>-349.783538</td>\n",
       "      <td>...</td>\n",
       "      <td>-401.074405</td>\n",
       "      <td>1199.770026</td>\n",
       "      <td>-400.790582</td>\n",
       "      <td>999.925519</td>\n",
       "      <td>-399.236999</td>\n",
       "      <td>950.320481</td>\n",
       "      <td>-400.864340</td>\n",
       "      <td>24.908732</td>\n",
       "      <td>-500.304035</td>\n",
       "      <td>14.996511</td>\n",
       "      <td>-500.993821</td>\n",
       "      <td>20.039689</td>\n",
       "      <td>-450.263164</td>\n",
       "      <td>14.077881</td>\n",
       "      <td>-449.660997</td>\n",
       "      <td>11.962366</td>\n",
       "      <td>-498.767484</td>\n",
       "      <td>8.096893</td>\n",
       "      <td>-500.827423</td>\n",
       "      <td>8.071056</td>\n",
       "      <td>-500.801673</td>\n",
       "      <td>4.905125</td>\n",
       "      <td>-499.828510</td>\n",
       "      <td>24.994862</td>\n",
       "      <td>-500.622559</td>\n",
       "    </tr>\n",
       "    <tr>\n",
       "      <th>3</th>\n",
       "      <td>2016-09-01 03:59:59</td>\n",
       "      <td>215.336236</td>\n",
       "      <td>12.006805</td>\n",
       "      <td>7.640000</td>\n",
       "      <td>0.863514</td>\n",
       "      <td>1399.618111</td>\n",
       "      <td>-498.863574</td>\n",
       "      <td>1397.440120</td>\n",
       "      <td>-499.211024</td>\n",
       "      <td>1400.129303</td>\n",
       "      <td>-498.355873</td>\n",
       "      <td>1401.065165</td>\n",
       "      <td>-501.038738</td>\n",
       "      <td>12.400507</td>\n",
       "      <td>5.114758</td>\n",
       "      <td>476.618130</td>\n",
       "      <td>59.865919</td>\n",
       "      <td>41.060195</td>\n",
       "      <td>12.181597</td>\n",
       "      <td>16.532144</td>\n",
       "      <td>5.801935</td>\n",
       "      <td>16.515277</td>\n",
       "      <td>5.803657</td>\n",
       "      <td>1000.276604</td>\n",
       "      <td>-350.172597</td>\n",
       "      <td>...</td>\n",
       "      <td>-399.746728</td>\n",
       "      <td>1199.398691</td>\n",
       "      <td>-397.503052</td>\n",
       "      <td>1001.930679</td>\n",
       "      <td>-400.437573</td>\n",
       "      <td>950.735324</td>\n",
       "      <td>-399.802986</td>\n",
       "      <td>24.893998</td>\n",
       "      <td>-499.382374</td>\n",
       "      <td>14.916674</td>\n",
       "      <td>-499.862299</td>\n",
       "      <td>20.031100</td>\n",
       "      <td>-449.372570</td>\n",
       "      <td>14.013968</td>\n",
       "      <td>-449.526900</td>\n",
       "      <td>12.033091</td>\n",
       "      <td>-498.350935</td>\n",
       "      <td>8.074946</td>\n",
       "      <td>-499.474407</td>\n",
       "      <td>7.897085</td>\n",
       "      <td>-500.868509</td>\n",
       "      <td>4.931400</td>\n",
       "      <td>-499.963623</td>\n",
       "      <td>24.948919</td>\n",
       "      <td>-498.709987</td>\n",
       "    </tr>\n",
       "    <tr>\n",
       "      <th>4</th>\n",
       "      <td>2016-09-01 04:59:59</td>\n",
       "      <td>199.099327</td>\n",
       "      <td>10.682530</td>\n",
       "      <td>7.530000</td>\n",
       "      <td>0.805575</td>\n",
       "      <td>1401.268123</td>\n",
       "      <td>-500.808305</td>\n",
       "      <td>1398.128818</td>\n",
       "      <td>-499.504543</td>\n",
       "      <td>1402.172226</td>\n",
       "      <td>-500.810606</td>\n",
       "      <td>1399.480508</td>\n",
       "      <td>-499.374053</td>\n",
       "      <td>11.327427</td>\n",
       "      <td>4.767383</td>\n",
       "      <td>488.248117</td>\n",
       "      <td>63.315324</td>\n",
       "      <td>41.269161</td>\n",
       "      <td>11.290425</td>\n",
       "      <td>13.607257</td>\n",
       "      <td>5.738081</td>\n",
       "      <td>13.650053</td>\n",
       "      <td>5.739634</td>\n",
       "      <td>996.541302</td>\n",
       "      <td>-350.562517</td>\n",
       "      <td>...</td>\n",
       "      <td>-399.050685</td>\n",
       "      <td>1248.699349</td>\n",
       "      <td>-400.876894</td>\n",
       "      <td>1058.839106</td>\n",
       "      <td>-398.988239</td>\n",
       "      <td>949.645313</td>\n",
       "      <td>-399.277632</td>\n",
       "      <td>24.886905</td>\n",
       "      <td>-499.357375</td>\n",
       "      <td>14.979233</td>\n",
       "      <td>-500.186804</td>\n",
       "      <td>19.962364</td>\n",
       "      <td>-450.638828</td>\n",
       "      <td>14.009245</td>\n",
       "      <td>-450.022259</td>\n",
       "      <td>12.025367</td>\n",
       "      <td>-500.786497</td>\n",
       "      <td>8.054678</td>\n",
       "      <td>-500.397500</td>\n",
       "      <td>8.107890</td>\n",
       "      <td>-509.526725</td>\n",
       "      <td>4.957674</td>\n",
       "      <td>-500.360026</td>\n",
       "      <td>25.003331</td>\n",
       "      <td>-500.856333</td>\n",
       "    </tr>\n",
       "  </tbody>\n",
       "</table>\n",
       "<p>5 rows × 53 columns</p>\n",
       "</div>"
      ],
      "text/plain": [
       "                  date  primary_cleaner.input.sulfate  \\\n",
       "0  2016-09-01 00:59:59                     210.800909   \n",
       "1  2016-09-01 01:59:59                     215.392455   \n",
       "2  2016-09-01 02:59:59                     215.259946   \n",
       "3  2016-09-01 03:59:59                     215.336236   \n",
       "4  2016-09-01 04:59:59                     199.099327   \n",
       "\n",
       "   primary_cleaner.input.depressant  primary_cleaner.input.feed_size  \\\n",
       "0                         14.993118                         8.080000   \n",
       "1                         14.987471                         8.080000   \n",
       "2                         12.884934                         7.786667   \n",
       "3                         12.006805                         7.640000   \n",
       "4                         10.682530                         7.530000   \n",
       "\n",
       "   primary_cleaner.input.xanthate  primary_cleaner.state.floatbank8_a_air  \\\n",
       "0                        1.005021                             1398.981301   \n",
       "1                        0.990469                             1398.777912   \n",
       "2                        0.996043                             1398.493666   \n",
       "3                        0.863514                             1399.618111   \n",
       "4                        0.805575                             1401.268123   \n",
       "\n",
       "   primary_cleaner.state.floatbank8_a_level  \\\n",
       "0                               -500.225577   \n",
       "1                               -500.057435   \n",
       "2                               -500.868360   \n",
       "3                               -498.863574   \n",
       "4                               -500.808305   \n",
       "\n",
       "   primary_cleaner.state.floatbank8_b_air  \\\n",
       "0                             1399.144926   \n",
       "1                             1398.055362   \n",
       "2                             1398.860436   \n",
       "3                             1397.440120   \n",
       "4                             1398.128818   \n",
       "\n",
       "   primary_cleaner.state.floatbank8_b_level  \\\n",
       "0                               -499.919735   \n",
       "1                               -499.778182   \n",
       "2                               -499.764529   \n",
       "3                               -499.211024   \n",
       "4                               -499.504543   \n",
       "\n",
       "   primary_cleaner.state.floatbank8_c_air  \\\n",
       "0                             1400.102998   \n",
       "1                             1396.151033   \n",
       "2                             1398.075709   \n",
       "3                             1400.129303   \n",
       "4                             1402.172226   \n",
       "\n",
       "   primary_cleaner.state.floatbank8_c_level  \\\n",
       "0                               -500.704369   \n",
       "1                               -499.240168   \n",
       "2                               -502.151509   \n",
       "3                               -498.355873   \n",
       "4                               -500.810606   \n",
       "\n",
       "   primary_cleaner.state.floatbank8_d_air  \\\n",
       "0                             1399.001695   \n",
       "1                             1399.508091   \n",
       "2                             1399.497088   \n",
       "3                             1401.065165   \n",
       "4                             1399.480508   \n",
       "\n",
       "   primary_cleaner.state.floatbank8_d_level  rougher.input.feed_ag  \\\n",
       "0                               -499.485144              13.128569   \n",
       "1                               -500.416324              13.036280   \n",
       "2                               -499.715479              13.138412   \n",
       "3                               -501.038738              12.400507   \n",
       "4                               -499.374053              11.327427   \n",
       "\n",
       "   rougher.input.feed_pb  rougher.input.feed_rate  rougher.input.feed_size  \\\n",
       "0               5.636710               489.793655                62.710452   \n",
       "1               5.526065               490.104534                61.961163   \n",
       "2               5.426561               489.617969                66.903807   \n",
       "3               5.114758               476.618130                59.865919   \n",
       "4               4.767383               488.248117                63.315324   \n",
       "\n",
       "   rougher.input.feed_sol  rougher.input.feed_au  \\\n",
       "0               42.022440              12.084103   \n",
       "1               41.187903              11.918977   \n",
       "2               42.546294              12.091332   \n",
       "3               41.060195              12.181597   \n",
       "4               41.269161              11.290425   \n",
       "\n",
       "   rougher.input.floatbank10_sulfate  rougher.input.floatbank10_xanthate  \\\n",
       "0                          16.922877                            6.153479   \n",
       "1                          17.002532                            5.999043   \n",
       "2                          16.992520                            5.850632   \n",
       "3                          16.532144                            5.801935   \n",
       "4                          13.607257                            5.738081   \n",
       "\n",
       "   rougher.input.floatbank11_sulfate  rougher.input.floatbank11_xanthate  \\\n",
       "0                          16.867518                            6.150709   \n",
       "1                          16.996063                            6.002315   \n",
       "2                          16.982096                            5.853594   \n",
       "3                          16.515277                            5.803657   \n",
       "4                          13.650053                            5.739634   \n",
       "\n",
       "   rougher.state.floatbank10_a_air  rougher.state.floatbank10_a_level  ...  \\\n",
       "0                      1001.849317                        -350.301265  ...   \n",
       "1                       998.690785                        -350.425704  ...   \n",
       "2                       998.516720                        -349.783538  ...   \n",
       "3                      1000.276604                        -350.172597  ...   \n",
       "4                       996.541302                        -350.562517  ...   \n",
       "\n",
       "   rougher.state.floatbank10_c_level  rougher.state.floatbank10_d_air  \\\n",
       "0                        -399.396730                      1198.287855   \n",
       "1                        -399.630810                      1200.506459   \n",
       "2                        -401.074405                      1199.770026   \n",
       "3                        -399.746728                      1199.398691   \n",
       "4                        -399.050685                      1248.699349   \n",
       "\n",
       "   rougher.state.floatbank10_d_level  rougher.state.floatbank10_e_air  \\\n",
       "0                        -399.488594                       999.472250   \n",
       "1                        -399.942434                      1000.002114   \n",
       "2                        -400.790582                       999.925519   \n",
       "3                        -397.503052                      1001.930679   \n",
       "4                        -400.876894                      1058.839106   \n",
       "\n",
       "   rougher.state.floatbank10_e_level  rougher.state.floatbank10_f_air  \\\n",
       "0                        -399.530962                       949.566189   \n",
       "1                        -399.491528                       950.200009   \n",
       "2                        -399.236999                       950.320481   \n",
       "3                        -400.437573                       950.735324   \n",
       "4                        -398.988239                       949.645313   \n",
       "\n",
       "   rougher.state.floatbank10_f_level  \\\n",
       "0                        -398.180807   \n",
       "1                        -405.787514   \n",
       "2                        -400.864340   \n",
       "3                        -399.802986   \n",
       "4                        -399.277632   \n",
       "\n",
       "   secondary_cleaner.state.floatbank2_a_air  \\\n",
       "0                                 24.938200   \n",
       "1                                 24.923466   \n",
       "2                                 24.908732   \n",
       "3                                 24.893998   \n",
       "4                                 24.886905   \n",
       "\n",
       "   secondary_cleaner.state.floatbank2_a_level  \\\n",
       "0                                 -500.490963   \n",
       "1                                 -499.813963   \n",
       "2                                 -500.304035   \n",
       "3                                 -499.382374   \n",
       "4                                 -499.357375   \n",
       "\n",
       "   secondary_cleaner.state.floatbank2_b_air  \\\n",
       "0                                 14.947607   \n",
       "1                                 14.930873   \n",
       "2                                 14.996511   \n",
       "3                                 14.916674   \n",
       "4                                 14.979233   \n",
       "\n",
       "   secondary_cleaner.state.floatbank2_b_level  \\\n",
       "0                                 -500.013837   \n",
       "1                                 -500.764452   \n",
       "2                                 -500.993821   \n",
       "3                                 -499.862299   \n",
       "4                                 -500.186804   \n",
       "\n",
       "   secondary_cleaner.state.floatbank3_a_air  \\\n",
       "0                                 20.018166   \n",
       "1                                 19.988503   \n",
       "2                                 20.039689   \n",
       "3                                 20.031100   \n",
       "4                                 19.962364   \n",
       "\n",
       "   secondary_cleaner.state.floatbank3_a_level  \\\n",
       "0                                 -450.395995   \n",
       "1                                 -450.114024   \n",
       "2                                 -450.263164   \n",
       "3                                 -449.372570   \n",
       "4                                 -450.638828   \n",
       "\n",
       "   secondary_cleaner.state.floatbank3_b_air  \\\n",
       "0                                 13.987058   \n",
       "1                                 14.092981   \n",
       "2                                 14.077881   \n",
       "3                                 14.013968   \n",
       "4                                 14.009245   \n",
       "\n",
       "   secondary_cleaner.state.floatbank3_b_level  \\\n",
       "0                                 -449.831513   \n",
       "1                                 -450.059163   \n",
       "2                                 -449.660997   \n",
       "3                                 -449.526900   \n",
       "4                                 -450.022259   \n",
       "\n",
       "   secondary_cleaner.state.floatbank4_a_air  \\\n",
       "0                                 12.023554   \n",
       "1                                 12.058140   \n",
       "2                                 11.962366   \n",
       "3                                 12.033091   \n",
       "4                                 12.025367   \n",
       "\n",
       "   secondary_cleaner.state.floatbank4_a_level  \\\n",
       "0                                 -497.795834   \n",
       "1                                 -498.695773   \n",
       "2                                 -498.767484   \n",
       "3                                 -498.350935   \n",
       "4                                 -500.786497   \n",
       "\n",
       "   secondary_cleaner.state.floatbank4_b_air  \\\n",
       "0                                  8.016656   \n",
       "1                                  8.130979   \n",
       "2                                  8.096893   \n",
       "3                                  8.074946   \n",
       "4                                  8.054678   \n",
       "\n",
       "   secondary_cleaner.state.floatbank4_b_level  \\\n",
       "0                                 -501.289139   \n",
       "1                                 -499.634209   \n",
       "2                                 -500.827423   \n",
       "3                                 -499.474407   \n",
       "4                                 -500.397500   \n",
       "\n",
       "   secondary_cleaner.state.floatbank5_a_air  \\\n",
       "0                                  7.946562   \n",
       "1                                  7.958270   \n",
       "2                                  8.071056   \n",
       "3                                  7.897085   \n",
       "4                                  8.107890   \n",
       "\n",
       "   secondary_cleaner.state.floatbank5_a_level  \\\n",
       "0                                 -432.317850   \n",
       "1                                 -525.839648   \n",
       "2                                 -500.801673   \n",
       "3                                 -500.868509   \n",
       "4                                 -509.526725   \n",
       "\n",
       "   secondary_cleaner.state.floatbank5_b_air  \\\n",
       "0                                  4.872511   \n",
       "1                                  4.878850   \n",
       "2                                  4.905125   \n",
       "3                                  4.931400   \n",
       "4                                  4.957674   \n",
       "\n",
       "   secondary_cleaner.state.floatbank5_b_level  \\\n",
       "0                                 -500.037437   \n",
       "1                                 -500.162375   \n",
       "2                                 -499.828510   \n",
       "3                                 -499.963623   \n",
       "4                                 -500.360026   \n",
       "\n",
       "   secondary_cleaner.state.floatbank6_a_air  \\\n",
       "0                                 26.705889   \n",
       "1                                 25.019940   \n",
       "2                                 24.994862   \n",
       "3                                 24.948919   \n",
       "4                                 25.003331   \n",
       "\n",
       "   secondary_cleaner.state.floatbank6_a_level  \n",
       "0                                 -499.709414  \n",
       "1                                 -499.819438  \n",
       "2                                 -500.622559  \n",
       "3                                 -498.709987  \n",
       "4                                 -500.856333  \n",
       "\n",
       "[5 rows x 53 columns]"
      ]
     },
     "metadata": {},
     "output_type": "display_data"
    },
    {
     "data": {
      "text/html": [
       "<div>\n",
       "<style scoped>\n",
       "    .dataframe tbody tr th:only-of-type {\n",
       "        vertical-align: middle;\n",
       "    }\n",
       "\n",
       "    .dataframe tbody tr th {\n",
       "        vertical-align: top;\n",
       "    }\n",
       "\n",
       "    .dataframe thead th {\n",
       "        text-align: right;\n",
       "    }\n",
       "</style>\n",
       "<table border=\"1\" class=\"dataframe\">\n",
       "  <thead>\n",
       "    <tr style=\"text-align: right;\">\n",
       "      <th></th>\n",
       "      <th>date</th>\n",
       "      <th>final.output.concentrate_ag</th>\n",
       "      <th>final.output.concentrate_pb</th>\n",
       "      <th>final.output.concentrate_sol</th>\n",
       "      <th>final.output.concentrate_au</th>\n",
       "      <th>final.output.recovery</th>\n",
       "      <th>final.output.tail_ag</th>\n",
       "      <th>final.output.tail_pb</th>\n",
       "      <th>final.output.tail_sol</th>\n",
       "      <th>final.output.tail_au</th>\n",
       "      <th>primary_cleaner.input.sulfate</th>\n",
       "      <th>primary_cleaner.input.depressant</th>\n",
       "      <th>primary_cleaner.input.feed_size</th>\n",
       "      <th>primary_cleaner.input.xanthate</th>\n",
       "      <th>primary_cleaner.output.concentrate_ag</th>\n",
       "      <th>primary_cleaner.output.concentrate_pb</th>\n",
       "      <th>primary_cleaner.output.concentrate_sol</th>\n",
       "      <th>primary_cleaner.output.concentrate_au</th>\n",
       "      <th>primary_cleaner.output.tail_ag</th>\n",
       "      <th>primary_cleaner.output.tail_pb</th>\n",
       "      <th>primary_cleaner.output.tail_sol</th>\n",
       "      <th>primary_cleaner.output.tail_au</th>\n",
       "      <th>primary_cleaner.state.floatbank8_a_air</th>\n",
       "      <th>primary_cleaner.state.floatbank8_a_level</th>\n",
       "      <th>primary_cleaner.state.floatbank8_b_air</th>\n",
       "      <th>...</th>\n",
       "      <th>rougher.state.floatbank10_e_level</th>\n",
       "      <th>rougher.state.floatbank10_f_air</th>\n",
       "      <th>rougher.state.floatbank10_f_level</th>\n",
       "      <th>secondary_cleaner.output.tail_ag</th>\n",
       "      <th>secondary_cleaner.output.tail_pb</th>\n",
       "      <th>secondary_cleaner.output.tail_sol</th>\n",
       "      <th>secondary_cleaner.output.tail_au</th>\n",
       "      <th>secondary_cleaner.state.floatbank2_a_air</th>\n",
       "      <th>secondary_cleaner.state.floatbank2_a_level</th>\n",
       "      <th>secondary_cleaner.state.floatbank2_b_air</th>\n",
       "      <th>secondary_cleaner.state.floatbank2_b_level</th>\n",
       "      <th>secondary_cleaner.state.floatbank3_a_air</th>\n",
       "      <th>secondary_cleaner.state.floatbank3_a_level</th>\n",
       "      <th>secondary_cleaner.state.floatbank3_b_air</th>\n",
       "      <th>secondary_cleaner.state.floatbank3_b_level</th>\n",
       "      <th>secondary_cleaner.state.floatbank4_a_air</th>\n",
       "      <th>secondary_cleaner.state.floatbank4_a_level</th>\n",
       "      <th>secondary_cleaner.state.floatbank4_b_air</th>\n",
       "      <th>secondary_cleaner.state.floatbank4_b_level</th>\n",
       "      <th>secondary_cleaner.state.floatbank5_a_air</th>\n",
       "      <th>secondary_cleaner.state.floatbank5_a_level</th>\n",
       "      <th>secondary_cleaner.state.floatbank5_b_air</th>\n",
       "      <th>secondary_cleaner.state.floatbank5_b_level</th>\n",
       "      <th>secondary_cleaner.state.floatbank6_a_air</th>\n",
       "      <th>secondary_cleaner.state.floatbank6_a_level</th>\n",
       "    </tr>\n",
       "  </thead>\n",
       "  <tbody>\n",
       "    <tr>\n",
       "      <th>0</th>\n",
       "      <td>2016-01-15 00:00:00</td>\n",
       "      <td>6.055403</td>\n",
       "      <td>9.889648</td>\n",
       "      <td>5.507324</td>\n",
       "      <td>42.192020</td>\n",
       "      <td>70.541216</td>\n",
       "      <td>10.411962</td>\n",
       "      <td>0.895447</td>\n",
       "      <td>16.904297</td>\n",
       "      <td>2.143149</td>\n",
       "      <td>127.092003</td>\n",
       "      <td>10.128295</td>\n",
       "      <td>7.25</td>\n",
       "      <td>0.988759</td>\n",
       "      <td>8.547551</td>\n",
       "      <td>10.389648</td>\n",
       "      <td>19.529297</td>\n",
       "      <td>34.174427</td>\n",
       "      <td>14.936526</td>\n",
       "      <td>2.534912</td>\n",
       "      <td>7.476074</td>\n",
       "      <td>2.106679</td>\n",
       "      <td>1549.775757</td>\n",
       "      <td>-498.912140</td>\n",
       "      <td>1551.434204</td>\n",
       "      <td>...</td>\n",
       "      <td>-455.462982</td>\n",
       "      <td>1416.354980</td>\n",
       "      <td>-451.939636</td>\n",
       "      <td>14.500184</td>\n",
       "      <td>4.694824</td>\n",
       "      <td>8.764648</td>\n",
       "      <td>2.606185</td>\n",
       "      <td>25.853109</td>\n",
       "      <td>-498.526489</td>\n",
       "      <td>23.893660</td>\n",
       "      <td>-501.406281</td>\n",
       "      <td>23.961798</td>\n",
       "      <td>-495.262817</td>\n",
       "      <td>21.940409</td>\n",
       "      <td>-499.340973</td>\n",
       "      <td>14.016835</td>\n",
       "      <td>-502.488007</td>\n",
       "      <td>12.099931</td>\n",
       "      <td>-504.715942</td>\n",
       "      <td>9.925633</td>\n",
       "      <td>-498.310211</td>\n",
       "      <td>8.079666</td>\n",
       "      <td>-500.470978</td>\n",
       "      <td>14.151341</td>\n",
       "      <td>-605.841980</td>\n",
       "    </tr>\n",
       "    <tr>\n",
       "      <th>1</th>\n",
       "      <td>2016-01-15 01:00:00</td>\n",
       "      <td>6.029369</td>\n",
       "      <td>9.968944</td>\n",
       "      <td>5.257781</td>\n",
       "      <td>42.701629</td>\n",
       "      <td>69.266198</td>\n",
       "      <td>10.462676</td>\n",
       "      <td>0.927452</td>\n",
       "      <td>16.634514</td>\n",
       "      <td>2.224930</td>\n",
       "      <td>125.629232</td>\n",
       "      <td>10.296251</td>\n",
       "      <td>7.25</td>\n",
       "      <td>1.002663</td>\n",
       "      <td>8.558743</td>\n",
       "      <td>10.497069</td>\n",
       "      <td>19.369147</td>\n",
       "      <td>34.118526</td>\n",
       "      <td>16.250511</td>\n",
       "      <td>3.049646</td>\n",
       "      <td>6.733907</td>\n",
       "      <td>2.353017</td>\n",
       "      <td>1576.166671</td>\n",
       "      <td>-500.904965</td>\n",
       "      <td>1575.950626</td>\n",
       "      <td>...</td>\n",
       "      <td>-450.869848</td>\n",
       "      <td>1399.719514</td>\n",
       "      <td>-450.119001</td>\n",
       "      <td>14.265474</td>\n",
       "      <td>4.592547</td>\n",
       "      <td>9.001494</td>\n",
       "      <td>2.488248</td>\n",
       "      <td>25.880539</td>\n",
       "      <td>-499.989656</td>\n",
       "      <td>23.889530</td>\n",
       "      <td>-500.372428</td>\n",
       "      <td>23.970550</td>\n",
       "      <td>-500.085473</td>\n",
       "      <td>22.085714</td>\n",
       "      <td>-499.446897</td>\n",
       "      <td>13.992281</td>\n",
       "      <td>-505.503262</td>\n",
       "      <td>11.950531</td>\n",
       "      <td>-501.331529</td>\n",
       "      <td>10.039245</td>\n",
       "      <td>-500.169983</td>\n",
       "      <td>7.984757</td>\n",
       "      <td>-500.582168</td>\n",
       "      <td>13.998353</td>\n",
       "      <td>-599.787184</td>\n",
       "    </tr>\n",
       "    <tr>\n",
       "      <th>2</th>\n",
       "      <td>2016-01-15 02:00:00</td>\n",
       "      <td>6.055926</td>\n",
       "      <td>10.213995</td>\n",
       "      <td>5.383759</td>\n",
       "      <td>42.657501</td>\n",
       "      <td>68.116445</td>\n",
       "      <td>10.507046</td>\n",
       "      <td>0.953716</td>\n",
       "      <td>16.208849</td>\n",
       "      <td>2.257889</td>\n",
       "      <td>123.819808</td>\n",
       "      <td>11.316280</td>\n",
       "      <td>7.25</td>\n",
       "      <td>0.991265</td>\n",
       "      <td>8.603505</td>\n",
       "      <td>10.354494</td>\n",
       "      <td>19.167579</td>\n",
       "      <td>33.969464</td>\n",
       "      <td>16.491823</td>\n",
       "      <td>3.124664</td>\n",
       "      <td>6.471768</td>\n",
       "      <td>2.416800</td>\n",
       "      <td>1601.556163</td>\n",
       "      <td>-499.997791</td>\n",
       "      <td>1600.386685</td>\n",
       "      <td>...</td>\n",
       "      <td>-449.937588</td>\n",
       "      <td>1400.316682</td>\n",
       "      <td>-450.527147</td>\n",
       "      <td>14.115662</td>\n",
       "      <td>4.624775</td>\n",
       "      <td>8.842896</td>\n",
       "      <td>2.458187</td>\n",
       "      <td>26.005245</td>\n",
       "      <td>-499.929616</td>\n",
       "      <td>23.886657</td>\n",
       "      <td>-499.951928</td>\n",
       "      <td>23.913535</td>\n",
       "      <td>-499.442343</td>\n",
       "      <td>23.957717</td>\n",
       "      <td>-499.901982</td>\n",
       "      <td>14.015015</td>\n",
       "      <td>-502.520901</td>\n",
       "      <td>11.912783</td>\n",
       "      <td>-501.133383</td>\n",
       "      <td>10.070913</td>\n",
       "      <td>-500.129135</td>\n",
       "      <td>8.013877</td>\n",
       "      <td>-500.517572</td>\n",
       "      <td>14.028663</td>\n",
       "      <td>-601.427363</td>\n",
       "    </tr>\n",
       "    <tr>\n",
       "      <th>3</th>\n",
       "      <td>2016-01-15 03:00:00</td>\n",
       "      <td>6.047977</td>\n",
       "      <td>9.977019</td>\n",
       "      <td>4.858634</td>\n",
       "      <td>42.689819</td>\n",
       "      <td>68.347543</td>\n",
       "      <td>10.422762</td>\n",
       "      <td>0.883763</td>\n",
       "      <td>16.532835</td>\n",
       "      <td>2.146849</td>\n",
       "      <td>122.270188</td>\n",
       "      <td>11.322140</td>\n",
       "      <td>7.25</td>\n",
       "      <td>0.996739</td>\n",
       "      <td>7.221879</td>\n",
       "      <td>8.496563</td>\n",
       "      <td>15.978538</td>\n",
       "      <td>28.260743</td>\n",
       "      <td>16.024359</td>\n",
       "      <td>2.960362</td>\n",
       "      <td>6.843791</td>\n",
       "      <td>2.262051</td>\n",
       "      <td>1599.968720</td>\n",
       "      <td>-500.951778</td>\n",
       "      <td>1600.659236</td>\n",
       "      <td>...</td>\n",
       "      <td>-450.030142</td>\n",
       "      <td>1400.234743</td>\n",
       "      <td>-449.790835</td>\n",
       "      <td>13.732071</td>\n",
       "      <td>4.482453</td>\n",
       "      <td>9.122857</td>\n",
       "      <td>2.322062</td>\n",
       "      <td>25.942508</td>\n",
       "      <td>-499.176749</td>\n",
       "      <td>23.955516</td>\n",
       "      <td>-499.848796</td>\n",
       "      <td>23.966838</td>\n",
       "      <td>-500.008812</td>\n",
       "      <td>23.954443</td>\n",
       "      <td>-499.944710</td>\n",
       "      <td>14.036510</td>\n",
       "      <td>-500.857308</td>\n",
       "      <td>11.999550</td>\n",
       "      <td>-501.193686</td>\n",
       "      <td>9.970366</td>\n",
       "      <td>-499.201640</td>\n",
       "      <td>7.977324</td>\n",
       "      <td>-500.255908</td>\n",
       "      <td>14.005551</td>\n",
       "      <td>-599.996129</td>\n",
       "    </tr>\n",
       "    <tr>\n",
       "      <th>4</th>\n",
       "      <td>2016-01-15 04:00:00</td>\n",
       "      <td>6.148599</td>\n",
       "      <td>10.142511</td>\n",
       "      <td>4.939416</td>\n",
       "      <td>42.774141</td>\n",
       "      <td>66.927016</td>\n",
       "      <td>10.360302</td>\n",
       "      <td>0.792826</td>\n",
       "      <td>16.525686</td>\n",
       "      <td>2.055292</td>\n",
       "      <td>117.988169</td>\n",
       "      <td>11.913613</td>\n",
       "      <td>7.25</td>\n",
       "      <td>1.009869</td>\n",
       "      <td>9.089428</td>\n",
       "      <td>9.986786</td>\n",
       "      <td>19.199864</td>\n",
       "      <td>33.044932</td>\n",
       "      <td>16.480185</td>\n",
       "      <td>3.112100</td>\n",
       "      <td>6.550154</td>\n",
       "      <td>2.277073</td>\n",
       "      <td>1601.339707</td>\n",
       "      <td>-498.975456</td>\n",
       "      <td>1601.437854</td>\n",
       "      <td>...</td>\n",
       "      <td>-448.877187</td>\n",
       "      <td>1401.160227</td>\n",
       "      <td>-450.407128</td>\n",
       "      <td>14.079996</td>\n",
       "      <td>4.470737</td>\n",
       "      <td>8.871028</td>\n",
       "      <td>2.330448</td>\n",
       "      <td>26.024787</td>\n",
       "      <td>-500.279091</td>\n",
       "      <td>23.955345</td>\n",
       "      <td>-500.593614</td>\n",
       "      <td>23.985703</td>\n",
       "      <td>-500.083811</td>\n",
       "      <td>23.958945</td>\n",
       "      <td>-499.990309</td>\n",
       "      <td>14.027298</td>\n",
       "      <td>-499.838632</td>\n",
       "      <td>11.953070</td>\n",
       "      <td>-501.053894</td>\n",
       "      <td>9.925709</td>\n",
       "      <td>-501.686727</td>\n",
       "      <td>7.894242</td>\n",
       "      <td>-500.356035</td>\n",
       "      <td>13.996647</td>\n",
       "      <td>-601.496691</td>\n",
       "    </tr>\n",
       "  </tbody>\n",
       "</table>\n",
       "<p>5 rows × 87 columns</p>\n",
       "</div>"
      ],
      "text/plain": [
       "                  date  final.output.concentrate_ag  \\\n",
       "0  2016-01-15 00:00:00                     6.055403   \n",
       "1  2016-01-15 01:00:00                     6.029369   \n",
       "2  2016-01-15 02:00:00                     6.055926   \n",
       "3  2016-01-15 03:00:00                     6.047977   \n",
       "4  2016-01-15 04:00:00                     6.148599   \n",
       "\n",
       "   final.output.concentrate_pb  final.output.concentrate_sol  \\\n",
       "0                     9.889648                      5.507324   \n",
       "1                     9.968944                      5.257781   \n",
       "2                    10.213995                      5.383759   \n",
       "3                     9.977019                      4.858634   \n",
       "4                    10.142511                      4.939416   \n",
       "\n",
       "   final.output.concentrate_au  final.output.recovery  final.output.tail_ag  \\\n",
       "0                    42.192020              70.541216             10.411962   \n",
       "1                    42.701629              69.266198             10.462676   \n",
       "2                    42.657501              68.116445             10.507046   \n",
       "3                    42.689819              68.347543             10.422762   \n",
       "4                    42.774141              66.927016             10.360302   \n",
       "\n",
       "   final.output.tail_pb  final.output.tail_sol  final.output.tail_au  \\\n",
       "0              0.895447              16.904297              2.143149   \n",
       "1              0.927452              16.634514              2.224930   \n",
       "2              0.953716              16.208849              2.257889   \n",
       "3              0.883763              16.532835              2.146849   \n",
       "4              0.792826              16.525686              2.055292   \n",
       "\n",
       "   primary_cleaner.input.sulfate  primary_cleaner.input.depressant  \\\n",
       "0                     127.092003                         10.128295   \n",
       "1                     125.629232                         10.296251   \n",
       "2                     123.819808                         11.316280   \n",
       "3                     122.270188                         11.322140   \n",
       "4                     117.988169                         11.913613   \n",
       "\n",
       "   primary_cleaner.input.feed_size  primary_cleaner.input.xanthate  \\\n",
       "0                             7.25                        0.988759   \n",
       "1                             7.25                        1.002663   \n",
       "2                             7.25                        0.991265   \n",
       "3                             7.25                        0.996739   \n",
       "4                             7.25                        1.009869   \n",
       "\n",
       "   primary_cleaner.output.concentrate_ag  \\\n",
       "0                               8.547551   \n",
       "1                               8.558743   \n",
       "2                               8.603505   \n",
       "3                               7.221879   \n",
       "4                               9.089428   \n",
       "\n",
       "   primary_cleaner.output.concentrate_pb  \\\n",
       "0                              10.389648   \n",
       "1                              10.497069   \n",
       "2                              10.354494   \n",
       "3                               8.496563   \n",
       "4                               9.986786   \n",
       "\n",
       "   primary_cleaner.output.concentrate_sol  \\\n",
       "0                               19.529297   \n",
       "1                               19.369147   \n",
       "2                               19.167579   \n",
       "3                               15.978538   \n",
       "4                               19.199864   \n",
       "\n",
       "   primary_cleaner.output.concentrate_au  primary_cleaner.output.tail_ag  \\\n",
       "0                              34.174427                       14.936526   \n",
       "1                              34.118526                       16.250511   \n",
       "2                              33.969464                       16.491823   \n",
       "3                              28.260743                       16.024359   \n",
       "4                              33.044932                       16.480185   \n",
       "\n",
       "   primary_cleaner.output.tail_pb  primary_cleaner.output.tail_sol  \\\n",
       "0                        2.534912                         7.476074   \n",
       "1                        3.049646                         6.733907   \n",
       "2                        3.124664                         6.471768   \n",
       "3                        2.960362                         6.843791   \n",
       "4                        3.112100                         6.550154   \n",
       "\n",
       "   primary_cleaner.output.tail_au  primary_cleaner.state.floatbank8_a_air  \\\n",
       "0                        2.106679                             1549.775757   \n",
       "1                        2.353017                             1576.166671   \n",
       "2                        2.416800                             1601.556163   \n",
       "3                        2.262051                             1599.968720   \n",
       "4                        2.277073                             1601.339707   \n",
       "\n",
       "   primary_cleaner.state.floatbank8_a_level  \\\n",
       "0                               -498.912140   \n",
       "1                               -500.904965   \n",
       "2                               -499.997791   \n",
       "3                               -500.951778   \n",
       "4                               -498.975456   \n",
       "\n",
       "   primary_cleaner.state.floatbank8_b_air  ...  \\\n",
       "0                             1551.434204  ...   \n",
       "1                             1575.950626  ...   \n",
       "2                             1600.386685  ...   \n",
       "3                             1600.659236  ...   \n",
       "4                             1601.437854  ...   \n",
       "\n",
       "   rougher.state.floatbank10_e_level  rougher.state.floatbank10_f_air  \\\n",
       "0                        -455.462982                      1416.354980   \n",
       "1                        -450.869848                      1399.719514   \n",
       "2                        -449.937588                      1400.316682   \n",
       "3                        -450.030142                      1400.234743   \n",
       "4                        -448.877187                      1401.160227   \n",
       "\n",
       "   rougher.state.floatbank10_f_level  secondary_cleaner.output.tail_ag  \\\n",
       "0                        -451.939636                         14.500184   \n",
       "1                        -450.119001                         14.265474   \n",
       "2                        -450.527147                         14.115662   \n",
       "3                        -449.790835                         13.732071   \n",
       "4                        -450.407128                         14.079996   \n",
       "\n",
       "   secondary_cleaner.output.tail_pb  secondary_cleaner.output.tail_sol  \\\n",
       "0                          4.694824                           8.764648   \n",
       "1                          4.592547                           9.001494   \n",
       "2                          4.624775                           8.842896   \n",
       "3                          4.482453                           9.122857   \n",
       "4                          4.470737                           8.871028   \n",
       "\n",
       "   secondary_cleaner.output.tail_au  secondary_cleaner.state.floatbank2_a_air  \\\n",
       "0                          2.606185                                 25.853109   \n",
       "1                          2.488248                                 25.880539   \n",
       "2                          2.458187                                 26.005245   \n",
       "3                          2.322062                                 25.942508   \n",
       "4                          2.330448                                 26.024787   \n",
       "\n",
       "   secondary_cleaner.state.floatbank2_a_level  \\\n",
       "0                                 -498.526489   \n",
       "1                                 -499.989656   \n",
       "2                                 -499.929616   \n",
       "3                                 -499.176749   \n",
       "4                                 -500.279091   \n",
       "\n",
       "   secondary_cleaner.state.floatbank2_b_air  \\\n",
       "0                                 23.893660   \n",
       "1                                 23.889530   \n",
       "2                                 23.886657   \n",
       "3                                 23.955516   \n",
       "4                                 23.955345   \n",
       "\n",
       "   secondary_cleaner.state.floatbank2_b_level  \\\n",
       "0                                 -501.406281   \n",
       "1                                 -500.372428   \n",
       "2                                 -499.951928   \n",
       "3                                 -499.848796   \n",
       "4                                 -500.593614   \n",
       "\n",
       "   secondary_cleaner.state.floatbank3_a_air  \\\n",
       "0                                 23.961798   \n",
       "1                                 23.970550   \n",
       "2                                 23.913535   \n",
       "3                                 23.966838   \n",
       "4                                 23.985703   \n",
       "\n",
       "   secondary_cleaner.state.floatbank3_a_level  \\\n",
       "0                                 -495.262817   \n",
       "1                                 -500.085473   \n",
       "2                                 -499.442343   \n",
       "3                                 -500.008812   \n",
       "4                                 -500.083811   \n",
       "\n",
       "   secondary_cleaner.state.floatbank3_b_air  \\\n",
       "0                                 21.940409   \n",
       "1                                 22.085714   \n",
       "2                                 23.957717   \n",
       "3                                 23.954443   \n",
       "4                                 23.958945   \n",
       "\n",
       "   secondary_cleaner.state.floatbank3_b_level  \\\n",
       "0                                 -499.340973   \n",
       "1                                 -499.446897   \n",
       "2                                 -499.901982   \n",
       "3                                 -499.944710   \n",
       "4                                 -499.990309   \n",
       "\n",
       "   secondary_cleaner.state.floatbank4_a_air  \\\n",
       "0                                 14.016835   \n",
       "1                                 13.992281   \n",
       "2                                 14.015015   \n",
       "3                                 14.036510   \n",
       "4                                 14.027298   \n",
       "\n",
       "   secondary_cleaner.state.floatbank4_a_level  \\\n",
       "0                                 -502.488007   \n",
       "1                                 -505.503262   \n",
       "2                                 -502.520901   \n",
       "3                                 -500.857308   \n",
       "4                                 -499.838632   \n",
       "\n",
       "   secondary_cleaner.state.floatbank4_b_air  \\\n",
       "0                                 12.099931   \n",
       "1                                 11.950531   \n",
       "2                                 11.912783   \n",
       "3                                 11.999550   \n",
       "4                                 11.953070   \n",
       "\n",
       "   secondary_cleaner.state.floatbank4_b_level  \\\n",
       "0                                 -504.715942   \n",
       "1                                 -501.331529   \n",
       "2                                 -501.133383   \n",
       "3                                 -501.193686   \n",
       "4                                 -501.053894   \n",
       "\n",
       "   secondary_cleaner.state.floatbank5_a_air  \\\n",
       "0                                  9.925633   \n",
       "1                                 10.039245   \n",
       "2                                 10.070913   \n",
       "3                                  9.970366   \n",
       "4                                  9.925709   \n",
       "\n",
       "   secondary_cleaner.state.floatbank5_a_level  \\\n",
       "0                                 -498.310211   \n",
       "1                                 -500.169983   \n",
       "2                                 -500.129135   \n",
       "3                                 -499.201640   \n",
       "4                                 -501.686727   \n",
       "\n",
       "   secondary_cleaner.state.floatbank5_b_air  \\\n",
       "0                                  8.079666   \n",
       "1                                  7.984757   \n",
       "2                                  8.013877   \n",
       "3                                  7.977324   \n",
       "4                                  7.894242   \n",
       "\n",
       "   secondary_cleaner.state.floatbank5_b_level  \\\n",
       "0                                 -500.470978   \n",
       "1                                 -500.582168   \n",
       "2                                 -500.517572   \n",
       "3                                 -500.255908   \n",
       "4                                 -500.356035   \n",
       "\n",
       "   secondary_cleaner.state.floatbank6_a_air  \\\n",
       "0                                 14.151341   \n",
       "1                                 13.998353   \n",
       "2                                 14.028663   \n",
       "3                                 14.005551   \n",
       "4                                 13.996647   \n",
       "\n",
       "   secondary_cleaner.state.floatbank6_a_level  \n",
       "0                                 -605.841980  \n",
       "1                                 -599.787184  \n",
       "2                                 -601.427363  \n",
       "3                                 -599.996129  \n",
       "4                                 -601.496691  \n",
       "\n",
       "[5 rows x 87 columns]"
      ]
     },
     "metadata": {},
     "output_type": "display_data"
    }
   ],
   "source": [
    "#Проверяю\n",
    "display(data_train.head())\n",
    "display(data_test.head())\n",
    "display(data_full.head())"
   ]
  },
  {
   "cell_type": "code",
   "execution_count": 5,
   "metadata": {
    "scrolled": false
   },
   "outputs": [
    {
     "name": "stdout",
     "output_type": "stream",
     "text": [
      "<class 'pandas.core.frame.DataFrame'>\n",
      "RangeIndex: 14149 entries, 0 to 14148\n",
      "Data columns (total 87 columns):\n",
      " #   Column                                              Non-Null Count  Dtype  \n",
      "---  ------                                              --------------  -----  \n",
      " 0   date                                                14149 non-null  object \n",
      " 1   final.output.concentrate_ag                         14148 non-null  float64\n",
      " 2   final.output.concentrate_pb                         14148 non-null  float64\n",
      " 3   final.output.concentrate_sol                        13938 non-null  float64\n",
      " 4   final.output.concentrate_au                         14149 non-null  float64\n",
      " 5   final.output.recovery                               14149 non-null  float64\n",
      " 6   final.output.tail_ag                                14149 non-null  float64\n",
      " 7   final.output.tail_pb                                14049 non-null  float64\n",
      " 8   final.output.tail_sol                               14144 non-null  float64\n",
      " 9   final.output.tail_au                                14149 non-null  float64\n",
      " 10  primary_cleaner.input.sulfate                       14129 non-null  float64\n",
      " 11  primary_cleaner.input.depressant                    14117 non-null  float64\n",
      " 12  primary_cleaner.input.feed_size                     14149 non-null  float64\n",
      " 13  primary_cleaner.input.xanthate                      14049 non-null  float64\n",
      " 14  primary_cleaner.output.concentrate_ag               14149 non-null  float64\n",
      " 15  primary_cleaner.output.concentrate_pb               14063 non-null  float64\n",
      " 16  primary_cleaner.output.concentrate_sol              13863 non-null  float64\n",
      " 17  primary_cleaner.output.concentrate_au               14149 non-null  float64\n",
      " 18  primary_cleaner.output.tail_ag                      14148 non-null  float64\n",
      " 19  primary_cleaner.output.tail_pb                      14134 non-null  float64\n",
      " 20  primary_cleaner.output.tail_sol                     14103 non-null  float64\n",
      " 21  primary_cleaner.output.tail_au                      14149 non-null  float64\n",
      " 22  primary_cleaner.state.floatbank8_a_air              14145 non-null  float64\n",
      " 23  primary_cleaner.state.floatbank8_a_level            14148 non-null  float64\n",
      " 24  primary_cleaner.state.floatbank8_b_air              14145 non-null  float64\n",
      " 25  primary_cleaner.state.floatbank8_b_level            14148 non-null  float64\n",
      " 26  primary_cleaner.state.floatbank8_c_air              14147 non-null  float64\n",
      " 27  primary_cleaner.state.floatbank8_c_level            14148 non-null  float64\n",
      " 28  primary_cleaner.state.floatbank8_d_air              14146 non-null  float64\n",
      " 29  primary_cleaner.state.floatbank8_d_level            14148 non-null  float64\n",
      " 30  rougher.calculation.sulfate_to_au_concentrate       14148 non-null  float64\n",
      " 31  rougher.calculation.floatbank10_sulfate_to_au_feed  14148 non-null  float64\n",
      " 32  rougher.calculation.floatbank11_sulfate_to_au_feed  14148 non-null  float64\n",
      " 33  rougher.calculation.au_pb_ratio                     14149 non-null  float64\n",
      " 34  rougher.input.feed_ag                               14149 non-null  float64\n",
      " 35  rougher.input.feed_pb                               14049 non-null  float64\n",
      " 36  rougher.input.feed_rate                             14141 non-null  float64\n",
      " 37  rougher.input.feed_size                             14005 non-null  float64\n",
      " 38  rougher.input.feed_sol                              14071 non-null  float64\n",
      " 39  rougher.input.feed_au                               14149 non-null  float64\n",
      " 40  rougher.input.floatbank10_sulfate                   14120 non-null  float64\n",
      " 41  rougher.input.floatbank10_xanthate                  14141 non-null  float64\n",
      " 42  rougher.input.floatbank11_sulfate                   14113 non-null  float64\n",
      " 43  rougher.input.floatbank11_xanthate                  13721 non-null  float64\n",
      " 44  rougher.output.concentrate_ag                       14149 non-null  float64\n",
      " 45  rougher.output.concentrate_pb                       14149 non-null  float64\n",
      " 46  rougher.output.concentrate_sol                      14127 non-null  float64\n",
      " 47  rougher.output.concentrate_au                       14149 non-null  float64\n",
      " 48  rougher.output.recovery                             14149 non-null  float64\n",
      " 49  rougher.output.tail_ag                              14148 non-null  float64\n",
      " 50  rougher.output.tail_pb                              14149 non-null  float64\n",
      " 51  rougher.output.tail_sol                             14149 non-null  float64\n",
      " 52  rougher.output.tail_au                              14149 non-null  float64\n",
      " 53  rougher.state.floatbank10_a_air                     14148 non-null  float64\n",
      " 54  rougher.state.floatbank10_a_level                   14148 non-null  float64\n",
      " 55  rougher.state.floatbank10_b_air                     14148 non-null  float64\n",
      " 56  rougher.state.floatbank10_b_level                   14148 non-null  float64\n",
      " 57  rougher.state.floatbank10_c_air                     14148 non-null  float64\n",
      " 58  rougher.state.floatbank10_c_level                   14148 non-null  float64\n",
      " 59  rougher.state.floatbank10_d_air                     14149 non-null  float64\n",
      " 60  rougher.state.floatbank10_d_level                   14149 non-null  float64\n",
      " 61  rougher.state.floatbank10_e_air                     13713 non-null  float64\n",
      " 62  rougher.state.floatbank10_e_level                   14149 non-null  float64\n",
      " 63  rougher.state.floatbank10_f_air                     14149 non-null  float64\n",
      " 64  rougher.state.floatbank10_f_level                   14149 non-null  float64\n",
      " 65  secondary_cleaner.output.tail_ag                    14147 non-null  float64\n",
      " 66  secondary_cleaner.output.tail_pb                    14139 non-null  float64\n",
      " 67  secondary_cleaner.output.tail_sol                   12544 non-null  float64\n",
      " 68  secondary_cleaner.output.tail_au                    14149 non-null  float64\n",
      " 69  secondary_cleaner.state.floatbank2_a_air            13932 non-null  float64\n",
      " 70  secondary_cleaner.state.floatbank2_a_level          14148 non-null  float64\n",
      " 71  secondary_cleaner.state.floatbank2_b_air            14128 non-null  float64\n",
      " 72  secondary_cleaner.state.floatbank2_b_level          14148 non-null  float64\n",
      " 73  secondary_cleaner.state.floatbank3_a_air            14145 non-null  float64\n",
      " 74  secondary_cleaner.state.floatbank3_a_level          14148 non-null  float64\n",
      " 75  secondary_cleaner.state.floatbank3_b_air            14148 non-null  float64\n",
      " 76  secondary_cleaner.state.floatbank3_b_level          14148 non-null  float64\n",
      " 77  secondary_cleaner.state.floatbank4_a_air            14143 non-null  float64\n",
      " 78  secondary_cleaner.state.floatbank4_a_level          14148 non-null  float64\n",
      " 79  secondary_cleaner.state.floatbank4_b_air            14148 non-null  float64\n",
      " 80  secondary_cleaner.state.floatbank4_b_level          14148 non-null  float64\n",
      " 81  secondary_cleaner.state.floatbank5_a_air            14148 non-null  float64\n",
      " 82  secondary_cleaner.state.floatbank5_a_level          14148 non-null  float64\n",
      " 83  secondary_cleaner.state.floatbank5_b_air            14148 non-null  float64\n",
      " 84  secondary_cleaner.state.floatbank5_b_level          14148 non-null  float64\n",
      " 85  secondary_cleaner.state.floatbank6_a_air            14147 non-null  float64\n",
      " 86  secondary_cleaner.state.floatbank6_a_level          14148 non-null  float64\n",
      "dtypes: float64(86), object(1)\n",
      "memory usage: 9.4+ MB\n"
     ]
    },
    {
     "data": {
      "text/plain": [
       "None"
      ]
     },
     "metadata": {},
     "output_type": "display_data"
    },
    {
     "name": "stdout",
     "output_type": "stream",
     "text": [
      "<class 'pandas.core.frame.DataFrame'>\n",
      "RangeIndex: 5290 entries, 0 to 5289\n",
      "Data columns (total 53 columns):\n",
      " #   Column                                      Non-Null Count  Dtype  \n",
      "---  ------                                      --------------  -----  \n",
      " 0   date                                        5290 non-null   object \n",
      " 1   primary_cleaner.input.sulfate               5286 non-null   float64\n",
      " 2   primary_cleaner.input.depressant            5285 non-null   float64\n",
      " 3   primary_cleaner.input.feed_size             5290 non-null   float64\n",
      " 4   primary_cleaner.input.xanthate              5286 non-null   float64\n",
      " 5   primary_cleaner.state.floatbank8_a_air      5290 non-null   float64\n",
      " 6   primary_cleaner.state.floatbank8_a_level    5290 non-null   float64\n",
      " 7   primary_cleaner.state.floatbank8_b_air      5290 non-null   float64\n",
      " 8   primary_cleaner.state.floatbank8_b_level    5290 non-null   float64\n",
      " 9   primary_cleaner.state.floatbank8_c_air      5290 non-null   float64\n",
      " 10  primary_cleaner.state.floatbank8_c_level    5290 non-null   float64\n",
      " 11  primary_cleaner.state.floatbank8_d_air      5290 non-null   float64\n",
      " 12  primary_cleaner.state.floatbank8_d_level    5290 non-null   float64\n",
      " 13  rougher.input.feed_ag                       5290 non-null   float64\n",
      " 14  rougher.input.feed_pb                       5290 non-null   float64\n",
      " 15  rougher.input.feed_rate                     5287 non-null   float64\n",
      " 16  rougher.input.feed_size                     5289 non-null   float64\n",
      " 17  rougher.input.feed_sol                      5269 non-null   float64\n",
      " 18  rougher.input.feed_au                       5290 non-null   float64\n",
      " 19  rougher.input.floatbank10_sulfate           5285 non-null   float64\n",
      " 20  rougher.input.floatbank10_xanthate          5290 non-null   float64\n",
      " 21  rougher.input.floatbank11_sulfate           5282 non-null   float64\n",
      " 22  rougher.input.floatbank11_xanthate          5265 non-null   float64\n",
      " 23  rougher.state.floatbank10_a_air             5290 non-null   float64\n",
      " 24  rougher.state.floatbank10_a_level           5290 non-null   float64\n",
      " 25  rougher.state.floatbank10_b_air             5290 non-null   float64\n",
      " 26  rougher.state.floatbank10_b_level           5290 non-null   float64\n",
      " 27  rougher.state.floatbank10_c_air             5290 non-null   float64\n",
      " 28  rougher.state.floatbank10_c_level           5290 non-null   float64\n",
      " 29  rougher.state.floatbank10_d_air             5290 non-null   float64\n",
      " 30  rougher.state.floatbank10_d_level           5290 non-null   float64\n",
      " 31  rougher.state.floatbank10_e_air             5290 non-null   float64\n",
      " 32  rougher.state.floatbank10_e_level           5290 non-null   float64\n",
      " 33  rougher.state.floatbank10_f_air             5290 non-null   float64\n",
      " 34  rougher.state.floatbank10_f_level           5290 non-null   float64\n",
      " 35  secondary_cleaner.state.floatbank2_a_air    5287 non-null   float64\n",
      " 36  secondary_cleaner.state.floatbank2_a_level  5290 non-null   float64\n",
      " 37  secondary_cleaner.state.floatbank2_b_air    5288 non-null   float64\n",
      " 38  secondary_cleaner.state.floatbank2_b_level  5290 non-null   float64\n",
      " 39  secondary_cleaner.state.floatbank3_a_air    5281 non-null   float64\n",
      " 40  secondary_cleaner.state.floatbank3_a_level  5290 non-null   float64\n",
      " 41  secondary_cleaner.state.floatbank3_b_air    5290 non-null   float64\n",
      " 42  secondary_cleaner.state.floatbank3_b_level  5290 non-null   float64\n",
      " 43  secondary_cleaner.state.floatbank4_a_air    5290 non-null   float64\n",
      " 44  secondary_cleaner.state.floatbank4_a_level  5290 non-null   float64\n",
      " 45  secondary_cleaner.state.floatbank4_b_air    5290 non-null   float64\n",
      " 46  secondary_cleaner.state.floatbank4_b_level  5290 non-null   float64\n",
      " 47  secondary_cleaner.state.floatbank5_a_air    5290 non-null   float64\n",
      " 48  secondary_cleaner.state.floatbank5_a_level  5290 non-null   float64\n",
      " 49  secondary_cleaner.state.floatbank5_b_air    5290 non-null   float64\n",
      " 50  secondary_cleaner.state.floatbank5_b_level  5290 non-null   float64\n",
      " 51  secondary_cleaner.state.floatbank6_a_air    5290 non-null   float64\n",
      " 52  secondary_cleaner.state.floatbank6_a_level  5290 non-null   float64\n",
      "dtypes: float64(52), object(1)\n",
      "memory usage: 2.1+ MB\n"
     ]
    },
    {
     "data": {
      "text/plain": [
       "None"
      ]
     },
     "metadata": {},
     "output_type": "display_data"
    },
    {
     "name": "stdout",
     "output_type": "stream",
     "text": [
      "<class 'pandas.core.frame.DataFrame'>\n",
      "RangeIndex: 19439 entries, 0 to 19438\n",
      "Data columns (total 87 columns):\n",
      " #   Column                                              Non-Null Count  Dtype  \n",
      "---  ------                                              --------------  -----  \n",
      " 0   date                                                19439 non-null  object \n",
      " 1   final.output.concentrate_ag                         19438 non-null  float64\n",
      " 2   final.output.concentrate_pb                         19438 non-null  float64\n",
      " 3   final.output.concentrate_sol                        19228 non-null  float64\n",
      " 4   final.output.concentrate_au                         19439 non-null  float64\n",
      " 5   final.output.recovery                               19439 non-null  float64\n",
      " 6   final.output.tail_ag                                19438 non-null  float64\n",
      " 7   final.output.tail_pb                                19338 non-null  float64\n",
      " 8   final.output.tail_sol                               19433 non-null  float64\n",
      " 9   final.output.tail_au                                19439 non-null  float64\n",
      " 10  primary_cleaner.input.sulfate                       19415 non-null  float64\n",
      " 11  primary_cleaner.input.depressant                    19402 non-null  float64\n",
      " 12  primary_cleaner.input.feed_size                     19439 non-null  float64\n",
      " 13  primary_cleaner.input.xanthate                      19335 non-null  float64\n",
      " 14  primary_cleaner.output.concentrate_ag               19439 non-null  float64\n",
      " 15  primary_cleaner.output.concentrate_pb               19323 non-null  float64\n",
      " 16  primary_cleaner.output.concentrate_sol              19069 non-null  float64\n",
      " 17  primary_cleaner.output.concentrate_au               19439 non-null  float64\n",
      " 18  primary_cleaner.output.tail_ag                      19435 non-null  float64\n",
      " 19  primary_cleaner.output.tail_pb                      19418 non-null  float64\n",
      " 20  primary_cleaner.output.tail_sol                     19377 non-null  float64\n",
      " 21  primary_cleaner.output.tail_au                      19439 non-null  float64\n",
      " 22  primary_cleaner.state.floatbank8_a_air              19435 non-null  float64\n",
      " 23  primary_cleaner.state.floatbank8_a_level            19438 non-null  float64\n",
      " 24  primary_cleaner.state.floatbank8_b_air              19435 non-null  float64\n",
      " 25  primary_cleaner.state.floatbank8_b_level            19438 non-null  float64\n",
      " 26  primary_cleaner.state.floatbank8_c_air              19437 non-null  float64\n",
      " 27  primary_cleaner.state.floatbank8_c_level            19438 non-null  float64\n",
      " 28  primary_cleaner.state.floatbank8_d_air              19436 non-null  float64\n",
      " 29  primary_cleaner.state.floatbank8_d_level            19438 non-null  float64\n",
      " 30  rougher.calculation.sulfate_to_au_concentrate       19437 non-null  float64\n",
      " 31  rougher.calculation.floatbank10_sulfate_to_au_feed  19437 non-null  float64\n",
      " 32  rougher.calculation.floatbank11_sulfate_to_au_feed  19437 non-null  float64\n",
      " 33  rougher.calculation.au_pb_ratio                     19439 non-null  float64\n",
      " 34  rougher.input.feed_ag                               19439 non-null  float64\n",
      " 35  rougher.input.feed_pb                               19339 non-null  float64\n",
      " 36  rougher.input.feed_rate                             19428 non-null  float64\n",
      " 37  rougher.input.feed_size                             19294 non-null  float64\n",
      " 38  rougher.input.feed_sol                              19340 non-null  float64\n",
      " 39  rougher.input.feed_au                               19439 non-null  float64\n",
      " 40  rougher.input.floatbank10_sulfate                   19405 non-null  float64\n",
      " 41  rougher.input.floatbank10_xanthate                  19431 non-null  float64\n",
      " 42  rougher.input.floatbank11_sulfate                   19395 non-null  float64\n",
      " 43  rougher.input.floatbank11_xanthate                  18986 non-null  float64\n",
      " 44  rougher.output.concentrate_ag                       19439 non-null  float64\n",
      " 45  rougher.output.concentrate_pb                       19439 non-null  float64\n",
      " 46  rougher.output.concentrate_sol                      19416 non-null  float64\n",
      " 47  rougher.output.concentrate_au                       19439 non-null  float64\n",
      " 48  rougher.output.recovery                             19439 non-null  float64\n",
      " 49  rougher.output.tail_ag                              19438 non-null  float64\n",
      " 50  rougher.output.tail_pb                              19439 non-null  float64\n",
      " 51  rougher.output.tail_sol                             19439 non-null  float64\n",
      " 52  rougher.output.tail_au                              19439 non-null  float64\n",
      " 53  rougher.state.floatbank10_a_air                     19438 non-null  float64\n",
      " 54  rougher.state.floatbank10_a_level                   19438 non-null  float64\n",
      " 55  rougher.state.floatbank10_b_air                     19438 non-null  float64\n",
      " 56  rougher.state.floatbank10_b_level                   19438 non-null  float64\n",
      " 57  rougher.state.floatbank10_c_air                     19438 non-null  float64\n",
      " 58  rougher.state.floatbank10_c_level                   19438 non-null  float64\n",
      " 59  rougher.state.floatbank10_d_air                     19439 non-null  float64\n",
      " 60  rougher.state.floatbank10_d_level                   19439 non-null  float64\n",
      " 61  rougher.state.floatbank10_e_air                     19003 non-null  float64\n",
      " 62  rougher.state.floatbank10_e_level                   19439 non-null  float64\n",
      " 63  rougher.state.floatbank10_f_air                     19439 non-null  float64\n",
      " 64  rougher.state.floatbank10_f_level                   19439 non-null  float64\n",
      " 65  secondary_cleaner.output.tail_ag                    19437 non-null  float64\n",
      " 66  secondary_cleaner.output.tail_pb                    19427 non-null  float64\n",
      " 67  secondary_cleaner.output.tail_sol                   17691 non-null  float64\n",
      " 68  secondary_cleaner.output.tail_au                    19439 non-null  float64\n",
      " 69  secondary_cleaner.state.floatbank2_a_air            19219 non-null  float64\n",
      " 70  secondary_cleaner.state.floatbank2_a_level          19438 non-null  float64\n",
      " 71  secondary_cleaner.state.floatbank2_b_air            19416 non-null  float64\n",
      " 72  secondary_cleaner.state.floatbank2_b_level          19438 non-null  float64\n",
      " 73  secondary_cleaner.state.floatbank3_a_air            19426 non-null  float64\n",
      " 74  secondary_cleaner.state.floatbank3_a_level          19438 non-null  float64\n",
      " 75  secondary_cleaner.state.floatbank3_b_air            19438 non-null  float64\n",
      " 76  secondary_cleaner.state.floatbank3_b_level          19438 non-null  float64\n",
      " 77  secondary_cleaner.state.floatbank4_a_air            19433 non-null  float64\n",
      " 78  secondary_cleaner.state.floatbank4_a_level          19438 non-null  float64\n",
      " 79  secondary_cleaner.state.floatbank4_b_air            19438 non-null  float64\n",
      " 80  secondary_cleaner.state.floatbank4_b_level          19438 non-null  float64\n",
      " 81  secondary_cleaner.state.floatbank5_a_air            19438 non-null  float64\n",
      " 82  secondary_cleaner.state.floatbank5_a_level          19438 non-null  float64\n",
      " 83  secondary_cleaner.state.floatbank5_b_air            19438 non-null  float64\n",
      " 84  secondary_cleaner.state.floatbank5_b_level          19438 non-null  float64\n",
      " 85  secondary_cleaner.state.floatbank6_a_air            19437 non-null  float64\n",
      " 86  secondary_cleaner.state.floatbank6_a_level          19438 non-null  float64\n",
      "dtypes: float64(86), object(1)\n",
      "memory usage: 12.9+ MB\n"
     ]
    },
    {
     "data": {
      "text/plain": [
       "None"
      ]
     },
     "metadata": {},
     "output_type": "display_data"
    }
   ],
   "source": [
    "display(data_train.info())\n",
    "display(data_test.info())\n",
    "display(data_full.info())"
   ]
  },
  {
   "cell_type": "markdown",
   "metadata": {},
   "source": [
    "**Промежуточный вывод:**\n",
    "* Ознакомились с данными\n",
    "* Во всех таблицах есть пропуски"
   ]
  },
  {
   "cell_type": "markdown",
   "metadata": {},
   "source": [
    "### Проверка, что эффективность обогащения рассчитана правильно. Вычислите её на обучающей выборке для признака rougher.output.recovery. Нахождение MAE между расчётами и значением признака. "
   ]
  },
  {
   "cell_type": "code",
   "execution_count": 6,
   "metadata": {},
   "outputs": [],
   "source": [
    "#рассчитаем recovery\n",
    "data_train['recovery'] = ((data_train['rougher.output.concentrate_au']\n",
    "                             *(data_train['rougher.input.feed_au'] - data_train['rougher.output.tail_au']))\n",
    "                          /(data_train['rougher.input.feed_au']\n",
    "                             *(data_train['rougher.output.concentrate_au'] - data_train['rougher.output.tail_au'])))*100"
   ]
  },
  {
   "cell_type": "code",
   "execution_count": 7,
   "metadata": {
    "scrolled": true
   },
   "outputs": [
    {
     "data": {
      "text/plain": [
       "0    87.107763\n",
       "1    86.843261\n",
       "2    86.842308\n",
       "3    87.226430\n",
       "4    86.688794\n",
       "Name: recovery, dtype: float64"
      ]
     },
     "execution_count": 7,
     "metadata": {},
     "output_type": "execute_result"
    }
   ],
   "source": [
    "#проверяю\n",
    "data_train['recovery'].head()"
   ]
  },
  {
   "cell_type": "code",
   "execution_count": 8,
   "metadata": {},
   "outputs": [
    {
     "name": "stdout",
     "output_type": "stream",
     "text": [
      "МАЕ = 9.73512347450521e-15\n"
     ]
    }
   ],
   "source": [
    "MAE = mean_absolute_error(data_train['rougher.output.recovery'], data_train['recovery'])\n",
    "print('МАЕ =',MAE)"
   ]
  },
  {
   "cell_type": "markdown",
   "metadata": {},
   "source": [
    "<div class=\"alert alert-success\">\n",
    "<font size=\"4\"><b>✔️ Комментарий ревьюера</b></font>\n",
    "    <br /> \n",
    "    <font size=\"3\", color = \"black\">\n",
    "<br />\n",
    "Расчёт верный"
   ]
  },
  {
   "cell_type": "markdown",
   "metadata": {},
   "source": [
    "<div class=\"alert alert-info\">\n",
    "<font size=\"4\">🍕<b> Комментарий ревьюера</b></font>\n",
    "    <br /> \n",
    "    <font size=\"3\", color = \"black\">\n",
    "<br />\n",
    "Вообще, почему несмотря на неравную в точности нулю ошибку мы можем говорить, что данные корректны? Дело в том, что в питоне, как и любом другом языке программирования, операции с нецелыми числами имеют ограниченную точность. Например:"
   ]
  },
  {
   "cell_type": "code",
   "execution_count": 9,
   "metadata": {},
   "outputs": [
    {
     "data": {
      "text/plain": [
       "-1.1102230246251565e-16"
      ]
     },
     "execution_count": 9,
     "metadata": {},
     "output_type": "execute_result"
    }
   ],
   "source": [
    "# КОД РЕВЬЮЕРА\n",
    "1/2 + 1/3 - 5/6"
   ]
  },
  {
   "cell_type": "markdown",
   "metadata": {},
   "source": [
    "<div class=\"alert alert-info\">\n",
    "<font size=\"4\"></font>\n",
    "    <font size=\"3\", color = \"black\">\n",
    "Приведя к общему знаменателю нетрудно посчитать, что значение выражения в точности равно нулю. Почему же питон считает, что это число порядка 1е-16? 1/3 в десятичном виде == 0.33333 ну и бесконечное число троек после запятой. Разумеется, физически невозможно, да и просто бессмысленно хранить бесконечное число знаков, хранится ограниченное количество, из-за этого и возникают микроскопические расхождения."
   ]
  },
  {
   "cell_type": "markdown",
   "metadata": {},
   "source": [
    "**Промежуточный вывод:**\n",
    "* МАЕ очень мала (9.73512347450521e-15), это значит расчетное значение совпадает со значением признака"
   ]
  },
  {
   "cell_type": "markdown",
   "metadata": {},
   "source": [
    "### Проанализировать признаки, недоступные в тестовой выборке."
   ]
  },
  {
   "cell_type": "code",
   "execution_count": 10,
   "metadata": {
    "scrolled": true
   },
   "outputs": [
    {
     "data": {
      "text/plain": [
       "{'final.output.concentrate_ag',\n",
       " 'final.output.concentrate_au',\n",
       " 'final.output.concentrate_pb',\n",
       " 'final.output.concentrate_sol',\n",
       " 'final.output.recovery',\n",
       " 'final.output.tail_ag',\n",
       " 'final.output.tail_au',\n",
       " 'final.output.tail_pb',\n",
       " 'final.output.tail_sol',\n",
       " 'primary_cleaner.output.concentrate_ag',\n",
       " 'primary_cleaner.output.concentrate_au',\n",
       " 'primary_cleaner.output.concentrate_pb',\n",
       " 'primary_cleaner.output.concentrate_sol',\n",
       " 'primary_cleaner.output.tail_ag',\n",
       " 'primary_cleaner.output.tail_au',\n",
       " 'primary_cleaner.output.tail_pb',\n",
       " 'primary_cleaner.output.tail_sol',\n",
       " 'recovery',\n",
       " 'rougher.calculation.au_pb_ratio',\n",
       " 'rougher.calculation.floatbank10_sulfate_to_au_feed',\n",
       " 'rougher.calculation.floatbank11_sulfate_to_au_feed',\n",
       " 'rougher.calculation.sulfate_to_au_concentrate',\n",
       " 'rougher.output.concentrate_ag',\n",
       " 'rougher.output.concentrate_au',\n",
       " 'rougher.output.concentrate_pb',\n",
       " 'rougher.output.concentrate_sol',\n",
       " 'rougher.output.recovery',\n",
       " 'rougher.output.tail_ag',\n",
       " 'rougher.output.tail_au',\n",
       " 'rougher.output.tail_pb',\n",
       " 'rougher.output.tail_sol',\n",
       " 'secondary_cleaner.output.tail_ag',\n",
       " 'secondary_cleaner.output.tail_au',\n",
       " 'secondary_cleaner.output.tail_pb',\n",
       " 'secondary_cleaner.output.tail_sol'}"
      ]
     },
     "execution_count": 10,
     "metadata": {},
     "output_type": "execute_result"
    }
   ],
   "source": [
    "#смотрим какие столбцы отсутствуют в data_test\n",
    "raznitsa_columns = set(data_train.columns) - set(data_test.columns)\n",
    "raznitsa_columns"
   ]
  },
  {
   "cell_type": "markdown",
   "metadata": {},
   "source": [
    "**Промежуточный вывод:**\n",
    "\n",
    "* Некоторые параметры в тестовой выборке отсутствуют, потому что замеряются и/или рассчитываются значительно позже. Из-за этого в тестовой выборке отсутствуют некоторые признаки, 30 типа 'output' (параметры продукта) и 4 типа 'calculation' (расчетные характеристики).\n",
    "* Также отсутсвуют целевые признаки 'rougher.output.recovery' и 'final.output.recovery'  \n"
   ]
  },
  {
   "cell_type": "markdown",
   "metadata": {},
   "source": [
    "<div class=\"alert alert-success\">\n",
    "<font size=\"4\"><b>✔️ Комментарий ревьюера</b></font>\n",
    "    <br /> \n",
    "    <font size=\"3\", color = \"black\">\n",
    "<br />\n",
    "Всё верно: признаки замеряются позже, поэтому мы не можем их использовать для построения моделей"
   ]
  },
  {
   "cell_type": "markdown",
   "metadata": {},
   "source": [
    "### Предобработка данных."
   ]
  },
  {
   "cell_type": "markdown",
   "metadata": {},
   "source": [
    "Для проверки качества оценки моедли необходимо добавить поля 'rougher.output.recovery', 'final.output.recovery' в тестовый файл для формирования выборки target_test, добавляем по совпадению дат."
   ]
  },
  {
   "cell_type": "code",
   "execution_count": 11,
   "metadata": {},
   "outputs": [
    {
     "data": {
      "text/html": [
       "<div>\n",
       "<style scoped>\n",
       "    .dataframe tbody tr th:only-of-type {\n",
       "        vertical-align: middle;\n",
       "    }\n",
       "\n",
       "    .dataframe tbody tr th {\n",
       "        vertical-align: top;\n",
       "    }\n",
       "\n",
       "    .dataframe thead th {\n",
       "        text-align: right;\n",
       "    }\n",
       "</style>\n",
       "<table border=\"1\" class=\"dataframe\">\n",
       "  <thead>\n",
       "    <tr style=\"text-align: right;\">\n",
       "      <th></th>\n",
       "      <th>final.output.recovery</th>\n",
       "      <th>rougher.output.recovery</th>\n",
       "    </tr>\n",
       "  </thead>\n",
       "  <tbody>\n",
       "    <tr>\n",
       "      <th>0</th>\n",
       "      <td>70.273583</td>\n",
       "      <td>89.993421</td>\n",
       "    </tr>\n",
       "    <tr>\n",
       "      <th>1</th>\n",
       "      <td>68.910432</td>\n",
       "      <td>88.089657</td>\n",
       "    </tr>\n",
       "    <tr>\n",
       "      <th>2</th>\n",
       "      <td>68.143213</td>\n",
       "      <td>88.412756</td>\n",
       "    </tr>\n",
       "    <tr>\n",
       "      <th>3</th>\n",
       "      <td>67.776393</td>\n",
       "      <td>87.360133</td>\n",
       "    </tr>\n",
       "    <tr>\n",
       "      <th>4</th>\n",
       "      <td>61.467078</td>\n",
       "      <td>83.236367</td>\n",
       "    </tr>\n",
       "  </tbody>\n",
       "</table>\n",
       "</div>"
      ],
      "text/plain": [
       "   final.output.recovery  rougher.output.recovery\n",
       "0              70.273583                89.993421\n",
       "1              68.910432                88.089657\n",
       "2              68.143213                88.412756\n",
       "3              67.776393                87.360133\n",
       "4              61.467078                83.236367"
      ]
     },
     "execution_count": 11,
     "metadata": {},
     "output_type": "execute_result"
    }
   ],
   "source": [
    "# добавим недостающие данные в data_test\n",
    "data_test = data_test.merge(data_full[['final.output.recovery', 'rougher.output.recovery', 'date']], how='left', on='date')\n",
    "data_test[['final.output.recovery', 'rougher.output.recovery']].head()#проверяю добавление"
   ]
  },
  {
   "cell_type": "markdown",
   "metadata": {},
   "source": [
    "<div class=\"alert alert-success\">\n",
    "<font size=\"4\"><b>✔️ Комментарий ревьюера</b></font>\n",
    "    <br /> \n",
    "    <font size=\"3\", color = \"black\">\n",
    "<br />\n",
    "Молодец, что присоединил таргеты по дате, а не индексу. Тут из-за присоединения по индексам у многих студентов признаки и таргеты друг другу не соответствуют."
   ]
  },
  {
   "cell_type": "markdown",
   "metadata": {},
   "source": [
    "**Удаляем пропуски**"
   ]
  },
  {
   "cell_type": "code",
   "execution_count": 12,
   "metadata": {},
   "outputs": [
    {
     "data": {
      "text/plain": [
       "'Количество пропусков в data_train '"
      ]
     },
     "metadata": {},
     "output_type": "display_data"
    },
    {
     "data": {
      "text/plain": [
       "date                                                     0\n",
       "final.output.concentrate_ag                              1\n",
       "final.output.concentrate_pb                              1\n",
       "final.output.concentrate_sol                           211\n",
       "final.output.concentrate_au                              0\n",
       "final.output.recovery                                    0\n",
       "final.output.tail_ag                                     0\n",
       "final.output.tail_pb                                   100\n",
       "final.output.tail_sol                                    5\n",
       "final.output.tail_au                                     0\n",
       "primary_cleaner.input.sulfate                           20\n",
       "primary_cleaner.input.depressant                        32\n",
       "primary_cleaner.input.feed_size                          0\n",
       "primary_cleaner.input.xanthate                         100\n",
       "primary_cleaner.output.concentrate_ag                    0\n",
       "primary_cleaner.output.concentrate_pb                   86\n",
       "primary_cleaner.output.concentrate_sol                 286\n",
       "primary_cleaner.output.concentrate_au                    0\n",
       "primary_cleaner.output.tail_ag                           1\n",
       "primary_cleaner.output.tail_pb                          15\n",
       "primary_cleaner.output.tail_sol                         46\n",
       "primary_cleaner.output.tail_au                           0\n",
       "primary_cleaner.state.floatbank8_a_air                   4\n",
       "primary_cleaner.state.floatbank8_a_level                 1\n",
       "primary_cleaner.state.floatbank8_b_air                   4\n",
       "primary_cleaner.state.floatbank8_b_level                 1\n",
       "primary_cleaner.state.floatbank8_c_air                   2\n",
       "primary_cleaner.state.floatbank8_c_level                 1\n",
       "primary_cleaner.state.floatbank8_d_air                   3\n",
       "primary_cleaner.state.floatbank8_d_level                 1\n",
       "rougher.calculation.sulfate_to_au_concentrate            1\n",
       "rougher.calculation.floatbank10_sulfate_to_au_feed       1\n",
       "rougher.calculation.floatbank11_sulfate_to_au_feed       1\n",
       "rougher.calculation.au_pb_ratio                          0\n",
       "rougher.input.feed_ag                                    0\n",
       "rougher.input.feed_pb                                  100\n",
       "rougher.input.feed_rate                                  8\n",
       "rougher.input.feed_size                                144\n",
       "rougher.input.feed_sol                                  78\n",
       "rougher.input.feed_au                                    0\n",
       "rougher.input.floatbank10_sulfate                       29\n",
       "rougher.input.floatbank10_xanthate                       8\n",
       "rougher.input.floatbank11_sulfate                       36\n",
       "rougher.input.floatbank11_xanthate                     428\n",
       "rougher.output.concentrate_ag                            0\n",
       "rougher.output.concentrate_pb                            0\n",
       "rougher.output.concentrate_sol                          22\n",
       "rougher.output.concentrate_au                            0\n",
       "rougher.output.recovery                                  0\n",
       "rougher.output.tail_ag                                   1\n",
       "rougher.output.tail_pb                                   0\n",
       "rougher.output.tail_sol                                  0\n",
       "rougher.output.tail_au                                   0\n",
       "rougher.state.floatbank10_a_air                          1\n",
       "rougher.state.floatbank10_a_level                        1\n",
       "rougher.state.floatbank10_b_air                          1\n",
       "rougher.state.floatbank10_b_level                        1\n",
       "rougher.state.floatbank10_c_air                          1\n",
       "rougher.state.floatbank10_c_level                        1\n",
       "rougher.state.floatbank10_d_air                          0\n",
       "rougher.state.floatbank10_d_level                        0\n",
       "rougher.state.floatbank10_e_air                        436\n",
       "rougher.state.floatbank10_e_level                        0\n",
       "rougher.state.floatbank10_f_air                          0\n",
       "rougher.state.floatbank10_f_level                        0\n",
       "secondary_cleaner.output.tail_ag                         2\n",
       "secondary_cleaner.output.tail_pb                        10\n",
       "secondary_cleaner.output.tail_sol                     1605\n",
       "secondary_cleaner.output.tail_au                         0\n",
       "secondary_cleaner.state.floatbank2_a_air               217\n",
       "secondary_cleaner.state.floatbank2_a_level               1\n",
       "secondary_cleaner.state.floatbank2_b_air                21\n",
       "secondary_cleaner.state.floatbank2_b_level               1\n",
       "secondary_cleaner.state.floatbank3_a_air                 4\n",
       "secondary_cleaner.state.floatbank3_a_level               1\n",
       "secondary_cleaner.state.floatbank3_b_air                 1\n",
       "secondary_cleaner.state.floatbank3_b_level               1\n",
       "secondary_cleaner.state.floatbank4_a_air                 6\n",
       "secondary_cleaner.state.floatbank4_a_level               1\n",
       "secondary_cleaner.state.floatbank4_b_air                 1\n",
       "secondary_cleaner.state.floatbank4_b_level               1\n",
       "secondary_cleaner.state.floatbank5_a_air                 1\n",
       "secondary_cleaner.state.floatbank5_a_level               1\n",
       "secondary_cleaner.state.floatbank5_b_air                 1\n",
       "secondary_cleaner.state.floatbank5_b_level               1\n",
       "secondary_cleaner.state.floatbank6_a_air                 2\n",
       "secondary_cleaner.state.floatbank6_a_level               1\n",
       "recovery                                                 0\n",
       "dtype: int64"
      ]
     },
     "metadata": {},
     "output_type": "display_data"
    },
    {
     "data": {
      "text/plain": [
       "'Количество пропусков в data_test '"
      ]
     },
     "metadata": {},
     "output_type": "display_data"
    },
    {
     "data": {
      "text/plain": [
       "date                                           0\n",
       "primary_cleaner.input.sulfate                  4\n",
       "primary_cleaner.input.depressant               5\n",
       "primary_cleaner.input.feed_size                0\n",
       "primary_cleaner.input.xanthate                 4\n",
       "primary_cleaner.state.floatbank8_a_air         0\n",
       "primary_cleaner.state.floatbank8_a_level       0\n",
       "primary_cleaner.state.floatbank8_b_air         0\n",
       "primary_cleaner.state.floatbank8_b_level       0\n",
       "primary_cleaner.state.floatbank8_c_air         0\n",
       "primary_cleaner.state.floatbank8_c_level       0\n",
       "primary_cleaner.state.floatbank8_d_air         0\n",
       "primary_cleaner.state.floatbank8_d_level       0\n",
       "rougher.input.feed_ag                          0\n",
       "rougher.input.feed_pb                          0\n",
       "rougher.input.feed_rate                        3\n",
       "rougher.input.feed_size                        1\n",
       "rougher.input.feed_sol                        21\n",
       "rougher.input.feed_au                          0\n",
       "rougher.input.floatbank10_sulfate              5\n",
       "rougher.input.floatbank10_xanthate             0\n",
       "rougher.input.floatbank11_sulfate              8\n",
       "rougher.input.floatbank11_xanthate            25\n",
       "rougher.state.floatbank10_a_air                0\n",
       "rougher.state.floatbank10_a_level              0\n",
       "rougher.state.floatbank10_b_air                0\n",
       "rougher.state.floatbank10_b_level              0\n",
       "rougher.state.floatbank10_c_air                0\n",
       "rougher.state.floatbank10_c_level              0\n",
       "rougher.state.floatbank10_d_air                0\n",
       "rougher.state.floatbank10_d_level              0\n",
       "rougher.state.floatbank10_e_air                0\n",
       "rougher.state.floatbank10_e_level              0\n",
       "rougher.state.floatbank10_f_air                0\n",
       "rougher.state.floatbank10_f_level              0\n",
       "secondary_cleaner.state.floatbank2_a_air       3\n",
       "secondary_cleaner.state.floatbank2_a_level     0\n",
       "secondary_cleaner.state.floatbank2_b_air       2\n",
       "secondary_cleaner.state.floatbank2_b_level     0\n",
       "secondary_cleaner.state.floatbank3_a_air       9\n",
       "secondary_cleaner.state.floatbank3_a_level     0\n",
       "secondary_cleaner.state.floatbank3_b_air       0\n",
       "secondary_cleaner.state.floatbank3_b_level     0\n",
       "secondary_cleaner.state.floatbank4_a_air       0\n",
       "secondary_cleaner.state.floatbank4_a_level     0\n",
       "secondary_cleaner.state.floatbank4_b_air       0\n",
       "secondary_cleaner.state.floatbank4_b_level     0\n",
       "secondary_cleaner.state.floatbank5_a_air       0\n",
       "secondary_cleaner.state.floatbank5_a_level     0\n",
       "secondary_cleaner.state.floatbank5_b_air       0\n",
       "secondary_cleaner.state.floatbank5_b_level     0\n",
       "secondary_cleaner.state.floatbank6_a_air       0\n",
       "secondary_cleaner.state.floatbank6_a_level     0\n",
       "final.output.recovery                          0\n",
       "rougher.output.recovery                        0\n",
       "dtype: int64"
      ]
     },
     "metadata": {},
     "output_type": "display_data"
    },
    {
     "data": {
      "text/plain": [
       "'Количество пропусков в data_full '"
      ]
     },
     "metadata": {},
     "output_type": "display_data"
    },
    {
     "data": {
      "text/plain": [
       "date                                                     0\n",
       "final.output.concentrate_ag                              1\n",
       "final.output.concentrate_pb                              1\n",
       "final.output.concentrate_sol                           211\n",
       "final.output.concentrate_au                              0\n",
       "final.output.recovery                                    0\n",
       "final.output.tail_ag                                     1\n",
       "final.output.tail_pb                                   101\n",
       "final.output.tail_sol                                    6\n",
       "final.output.tail_au                                     0\n",
       "primary_cleaner.input.sulfate                           24\n",
       "primary_cleaner.input.depressant                        37\n",
       "primary_cleaner.input.feed_size                          0\n",
       "primary_cleaner.input.xanthate                         104\n",
       "primary_cleaner.output.concentrate_ag                    0\n",
       "primary_cleaner.output.concentrate_pb                  116\n",
       "primary_cleaner.output.concentrate_sol                 370\n",
       "primary_cleaner.output.concentrate_au                    0\n",
       "primary_cleaner.output.tail_ag                           4\n",
       "primary_cleaner.output.tail_pb                          21\n",
       "primary_cleaner.output.tail_sol                         62\n",
       "primary_cleaner.output.tail_au                           0\n",
       "primary_cleaner.state.floatbank8_a_air                   4\n",
       "primary_cleaner.state.floatbank8_a_level                 1\n",
       "primary_cleaner.state.floatbank8_b_air                   4\n",
       "primary_cleaner.state.floatbank8_b_level                 1\n",
       "primary_cleaner.state.floatbank8_c_air                   2\n",
       "primary_cleaner.state.floatbank8_c_level                 1\n",
       "primary_cleaner.state.floatbank8_d_air                   3\n",
       "primary_cleaner.state.floatbank8_d_level                 1\n",
       "rougher.calculation.sulfate_to_au_concentrate            2\n",
       "rougher.calculation.floatbank10_sulfate_to_au_feed       2\n",
       "rougher.calculation.floatbank11_sulfate_to_au_feed       2\n",
       "rougher.calculation.au_pb_ratio                          0\n",
       "rougher.input.feed_ag                                    0\n",
       "rougher.input.feed_pb                                  100\n",
       "rougher.input.feed_rate                                 11\n",
       "rougher.input.feed_size                                145\n",
       "rougher.input.feed_sol                                  99\n",
       "rougher.input.feed_au                                    0\n",
       "rougher.input.floatbank10_sulfate                       34\n",
       "rougher.input.floatbank10_xanthate                       8\n",
       "rougher.input.floatbank11_sulfate                       44\n",
       "rougher.input.floatbank11_xanthate                     453\n",
       "rougher.output.concentrate_ag                            0\n",
       "rougher.output.concentrate_pb                            0\n",
       "rougher.output.concentrate_sol                          23\n",
       "rougher.output.concentrate_au                            0\n",
       "rougher.output.recovery                                  0\n",
       "rougher.output.tail_ag                                   1\n",
       "rougher.output.tail_pb                                   0\n",
       "rougher.output.tail_sol                                  0\n",
       "rougher.output.tail_au                                   0\n",
       "rougher.state.floatbank10_a_air                          1\n",
       "rougher.state.floatbank10_a_level                        1\n",
       "rougher.state.floatbank10_b_air                          1\n",
       "rougher.state.floatbank10_b_level                        1\n",
       "rougher.state.floatbank10_c_air                          1\n",
       "rougher.state.floatbank10_c_level                        1\n",
       "rougher.state.floatbank10_d_air                          0\n",
       "rougher.state.floatbank10_d_level                        0\n",
       "rougher.state.floatbank10_e_air                        436\n",
       "rougher.state.floatbank10_e_level                        0\n",
       "rougher.state.floatbank10_f_air                          0\n",
       "rougher.state.floatbank10_f_level                        0\n",
       "secondary_cleaner.output.tail_ag                         2\n",
       "secondary_cleaner.output.tail_pb                        12\n",
       "secondary_cleaner.output.tail_sol                     1748\n",
       "secondary_cleaner.output.tail_au                         0\n",
       "secondary_cleaner.state.floatbank2_a_air               220\n",
       "secondary_cleaner.state.floatbank2_a_level               1\n",
       "secondary_cleaner.state.floatbank2_b_air                23\n",
       "secondary_cleaner.state.floatbank2_b_level               1\n",
       "secondary_cleaner.state.floatbank3_a_air                13\n",
       "secondary_cleaner.state.floatbank3_a_level               1\n",
       "secondary_cleaner.state.floatbank3_b_air                 1\n",
       "secondary_cleaner.state.floatbank3_b_level               1\n",
       "secondary_cleaner.state.floatbank4_a_air                 6\n",
       "secondary_cleaner.state.floatbank4_a_level               1\n",
       "secondary_cleaner.state.floatbank4_b_air                 1\n",
       "secondary_cleaner.state.floatbank4_b_level               1\n",
       "secondary_cleaner.state.floatbank5_a_air                 1\n",
       "secondary_cleaner.state.floatbank5_a_level               1\n",
       "secondary_cleaner.state.floatbank5_b_air                 1\n",
       "secondary_cleaner.state.floatbank5_b_level               1\n",
       "secondary_cleaner.state.floatbank6_a_air                 2\n",
       "secondary_cleaner.state.floatbank6_a_level               1\n",
       "dtype: int64"
      ]
     },
     "metadata": {},
     "output_type": "display_data"
    }
   ],
   "source": [
    "# смотрим количество пропусков\n",
    "pd.set_option('display.max_rows', 90)\n",
    "display('Количество пропусков в data_train ',data_train.isna().sum())\n",
    "display('Количество пропусков в data_test ',data_test.isna().sum())\n",
    "display('Количество пропусков в data_full ',data_full.isna().sum())"
   ]
  },
  {
   "cell_type": "code",
   "execution_count": 13,
   "metadata": {},
   "outputs": [],
   "source": [
    "# Так как в условии сказано, что соседние параметры похожи, то заполняю следующим непропущенным значением\n",
    "data_train = data_train.fillna(method='bfill')\n",
    "data_test = data_test.fillna(method='bfill')\n",
    "data_full = data_full.fillna(method='bfill')"
   ]
  },
  {
   "cell_type": "markdown",
   "metadata": {},
   "source": [
    "<div class=\"alert alert-success\">\n",
    "<font size=\"4\"><b>✔️ Комментарий ревьюера</b></font>\n",
    "    <br /> \n",
    "    <font size=\"3\", color = \"black\">\n",
    "<br />\n",
    "В условиях нашего проекта, когда строки данных - последовательные во времени измерения одних и тех же величин, ffill/bfill - действительно логичные методы."
   ]
  },
  {
   "cell_type": "code",
   "execution_count": 14,
   "metadata": {
    "scrolled": true
   },
   "outputs": [
    {
     "data": {
      "text/plain": [
       "'Количество пропусков в data_train '"
      ]
     },
     "metadata": {},
     "output_type": "display_data"
    },
    {
     "data": {
      "text/plain": [
       "0"
      ]
     },
     "metadata": {},
     "output_type": "display_data"
    },
    {
     "data": {
      "text/plain": [
       "'Количество пропусков в data_test '"
      ]
     },
     "metadata": {},
     "output_type": "display_data"
    },
    {
     "data": {
      "text/plain": [
       "0"
      ]
     },
     "metadata": {},
     "output_type": "display_data"
    },
    {
     "data": {
      "text/plain": [
       "'Количество пропусков в data_full '"
      ]
     },
     "metadata": {},
     "output_type": "display_data"
    },
    {
     "data": {
      "text/plain": [
       "0"
      ]
     },
     "metadata": {},
     "output_type": "display_data"
    }
   ],
   "source": [
    "#Проверяю\n",
    "display('Количество пропусков в data_train ',data_train.isna().sum().sum())\n",
    "display('Количество пропусков в data_test ',data_test.isna().sum().sum())\n",
    "display('Количество пропусков в data_full ',data_full.isna().sum().sum())"
   ]
  },
  {
   "cell_type": "markdown",
   "metadata": {},
   "source": [
    "**Проверяю на явные дубликаты**"
   ]
  },
  {
   "cell_type": "code",
   "execution_count": 15,
   "metadata": {
    "scrolled": true
   },
   "outputs": [
    {
     "data": {
      "text/plain": [
       "'Количество явных дубликатов в data_train '"
      ]
     },
     "metadata": {},
     "output_type": "display_data"
    },
    {
     "data": {
      "text/plain": [
       "0"
      ]
     },
     "metadata": {},
     "output_type": "display_data"
    },
    {
     "data": {
      "text/plain": [
       "'Количество явных дубликатов в data_test '"
      ]
     },
     "metadata": {},
     "output_type": "display_data"
    },
    {
     "data": {
      "text/plain": [
       "0"
      ]
     },
     "metadata": {},
     "output_type": "display_data"
    },
    {
     "data": {
      "text/plain": [
       "'Количество явных дубликатов в data_full '"
      ]
     },
     "metadata": {},
     "output_type": "display_data"
    },
    {
     "data": {
      "text/plain": [
       "0"
      ]
     },
     "metadata": {},
     "output_type": "display_data"
    }
   ],
   "source": [
    "display('Количество явных дубликатов в data_train ',data_train.duplicated().sum())\n",
    "display('Количество явных дубликатов в data_test ',data_test.duplicated().sum())\n",
    "display('Количество явных дубликатов в data_full ',data_full.duplicated().sum())"
   ]
  },
  {
   "cell_type": "markdown",
   "metadata": {},
   "source": [
    "**Промежуточный вывод:**\n",
    "\n",
    "* Выполнили замену пропусков следующим непропущенным значениями, так как параметры схожи\n",
    "* Явные дубликаты отсутствуют"
   ]
  },
  {
   "cell_type": "markdown",
   "metadata": {},
   "source": [
    "## Анализ данных"
   ]
  },
  {
   "cell_type": "markdown",
   "metadata": {},
   "source": [
    " ### Посмотрим, как меняется концентрация металлов (Au, Ag, Pb) на различных этапах очистки. "
   ]
  },
  {
   "cell_type": "markdown",
   "metadata": {},
   "source": [
    "* Au - Золото;\n",
    "* Ag - Cеребро;\n",
    "* Pb - Свинец"
   ]
  },
  {
   "cell_type": "code",
   "execution_count": 16,
   "metadata": {},
   "outputs": [],
   "source": [
    "#Создадим сводные таблицы концентрации на разных этапах\n",
    "concentration_аu = data_full[['rougher.input.feed_au','rougher.output.concentrate_au','primary_cleaner.output.concentrate_au','final.output.concentrate_au']]\n",
    "concentration_ag = data_full[['rougher.input.feed_ag','rougher.output.concentrate_ag','primary_cleaner.output.concentrate_ag','final.output.concentrate_ag']]\n",
    "concentration_pb = data_full[['rougher.input.feed_pb','rougher.output.concentrate_pb','primary_cleaner.output.concentrate_pb','final.output.concentrate_pb']]"
   ]
  },
  {
   "cell_type": "markdown",
   "metadata": {},
   "source": [
    "**Концентрация золота по этапам**"
   ]
  },
  {
   "cell_type": "code",
   "execution_count": 17,
   "metadata": {},
   "outputs": [
    {
     "data": {
      "image/png": "[encoded data removed]",
      "text/plain": [
       "<Figure size 576x576 with 1 Axes>"
      ]
     },
     "metadata": {
      "needs_background": "light"
     },
     "output_type": "display_data"
    }
   ],
   "source": [
    "plt.figure(figsize=[8,8])\n",
    "plt.hist(concentration_аu['rougher.input.feed_au'], bins=200, \n",
    "         label = 'Концентрация золота в исходном сырье', alpha=.4)\n",
    "plt.hist(concentration_аu['rougher.output.concentrate_au'], bins=200, \n",
    "         label = 'Концентрация золота на флотации', alpha=.4)\n",
    "plt.hist(concentration_аu['primary_cleaner.output.concentrate_au'], bins=200, \n",
    "         label = 'Концентрация золота на первичной очистке', alpha=.4)\n",
    "plt.hist(concentration_аu['final.output.concentrate_au'], bins=200, \n",
    "         label = 'Концентрация золота на финальном этапе', alpha=.4)\n",
    "plt.legend(fontsize='10')\n",
    "plt.xlim([0, 70])\n",
    "plt.ylim([0, 1200])\n",
    "plt.xlabel(\"Концентрация\")\n",
    "plt.ylabel(\"Количество\")\n",
    "plt.title(\"Концентрация золота по этапам\")\n",
    "plt.show()"
   ]
  },
  {
   "cell_type": "code",
   "execution_count": 18,
   "metadata": {
    "scrolled": false
   },
   "outputs": [
    {
     "data": {
      "image/png": "[encoded data removed]",
      "text/plain": [
       "<Figure size 864x432 with 1 Axes>"
      ]
     },
     "metadata": {
      "needs_background": "light"
     },
     "output_type": "display_data"
    }
   ],
   "source": [
    "plt.figure(figsize=(12,6))\n",
    "sns.boxplot(data = concentration_аu, orient = 'h')\n",
    "plt.title('Концентрация золота по этапам')\n",
    "plt.xlabel('Концентрация')\n",
    "plt.ylabel('Этапы')\n",
    "plt.show()"
   ]
  },
  {
   "cell_type": "markdown",
   "metadata": {},
   "source": [
    "**Концентрация серебра по этапам**"
   ]
  },
  {
   "cell_type": "code",
   "execution_count": 19,
   "metadata": {},
   "outputs": [
    {
     "data": {
      "image/png": "[encoded data removed]",
      "text/plain": [
       "<Figure size 576x576 with 1 Axes>"
      ]
     },
     "metadata": {
      "needs_background": "light"
     },
     "output_type": "display_data"
    }
   ],
   "source": [
    "plt.figure(figsize=[8,8])\n",
    "plt.hist(concentration_ag['rougher.input.feed_ag'], bins=200, \n",
    "         label = 'Концентрация серебра в исходном сырье', alpha=.4)\n",
    "plt.hist(concentration_ag['rougher.output.concentrate_ag'], bins=200, \n",
    "         label = 'Концентрация серебра на флотации', alpha=.4)\n",
    "plt.hist(concentration_ag['primary_cleaner.output.concentrate_ag'], bins=200, \n",
    "         label = 'Концентрация серебра на первичной очистке', alpha=.4)\n",
    "plt.hist(concentration_ag['final.output.concentrate_ag'], bins=200, \n",
    "         label = 'Концентрация серебра на финальном этапе', alpha=.4)\n",
    "plt.legend(fontsize='10')\n",
    "plt.xlim([0, 25])\n",
    "plt.ylim([0, 600])\n",
    "plt.xlabel(\"Концентрация\")\n",
    "plt.ylabel(\"Количество\")\n",
    "plt.title(\"Концентрация серебра по этапам\")\n",
    "plt.show()"
   ]
  },
  {
   "cell_type": "code",
   "execution_count": 20,
   "metadata": {
    "scrolled": true
   },
   "outputs": [
    {
     "data": {
      "image/png": "[encoded data removed]",
      "text/plain": [
       "<Figure size 864x432 with 1 Axes>"
      ]
     },
     "metadata": {
      "needs_background": "light"
     },
     "output_type": "display_data"
    }
   ],
   "source": [
    "plt.figure(figsize=(12,6))\n",
    "sns.boxplot(data = concentration_ag, orient = 'h')\n",
    "plt.title('Концентрация серебра по этапам')\n",
    "plt.xlabel('Концентрация')\n",
    "plt.ylabel('Этапы')\n",
    "plt.show()"
   ]
  },
  {
   "cell_type": "markdown",
   "metadata": {},
   "source": [
    "**Концентрация свинца по этапам**"
   ]
  },
  {
   "cell_type": "code",
   "execution_count": 21,
   "metadata": {},
   "outputs": [
    {
     "data": {
      "image/png": "[encoded data removed]",
      "text/plain": [
       "<Figure size 576x576 with 1 Axes>"
      ]
     },
     "metadata": {
      "needs_background": "light"
     },
     "output_type": "display_data"
    }
   ],
   "source": [
    "plt.figure(figsize=[8,8])\n",
    "plt.hist(concentration_pb['rougher.input.feed_pb'], bins=200, \n",
    "         label = 'Концентрация свинца в исходном сырье', alpha=.4)\n",
    "plt.hist(concentration_pb['rougher.output.concentrate_pb'], bins=200, \n",
    "         label = 'Концентрация свинца на флотации', alpha=.4)\n",
    "plt.hist(concentration_pb['primary_cleaner.output.concentrate_pb'], bins=200, \n",
    "         label = 'Концентрация свинца на первичной очистке', alpha=.4)\n",
    "plt.hist(concentration_pb['final.output.concentrate_pb'], bins=200, \n",
    "         label = 'Концентрация свинца на финальном этапе', alpha=.4)\n",
    "plt.legend(fontsize='10')\n",
    "plt.xlim([0, 20])\n",
    "plt.ylim([0, 600])\n",
    "plt.xlabel(\"Концентрация\")\n",
    "plt.ylabel(\"Количество\")\n",
    "plt.title(\"Концентрация свинца по этапам\")\n",
    "plt.show()"
   ]
  },
  {
   "cell_type": "code",
   "execution_count": 22,
   "metadata": {},
   "outputs": [
    {
     "data": {
      "image/png": "[encoded data removed]",
      "text/plain": [
       "<Figure size 864x432 with 1 Axes>"
      ]
     },
     "metadata": {
      "needs_background": "light"
     },
     "output_type": "display_data"
    }
   ],
   "source": [
    "plt.figure(figsize=(12,6))\n",
    "sns.boxplot(data = concentration_pb, orient = 'h')\n",
    "plt.title('Концентрация свинца по этапам')\n",
    "plt.xlabel('Концентрация')\n",
    "plt.ylabel('Этапы')\n",
    "plt.show()"
   ]
  },
  {
   "cell_type": "markdown",
   "metadata": {},
   "source": [
    "**Концентрация металлов на этапе**"
   ]
  },
  {
   "cell_type": "code",
   "execution_count": 23,
   "metadata": {},
   "outputs": [
    {
     "data": {
      "image/png": "[encoded data removed]",
      "text/plain": [
       "<Figure size 432x432 with 1 Axes>"
      ]
     },
     "metadata": {
      "needs_background": "light"
     },
     "output_type": "display_data"
    }
   ],
   "source": [
    "plt.figure(figsize=[6,6])\n",
    "plt.hist(concentration_аu['rougher.input.feed_au'], bins=200, \n",
    "         label = 'Концентрация золота в исходном сырье', alpha=.4)\n",
    "plt.hist(concentration_ag['rougher.input.feed_ag'], bins=200, \n",
    "         label = 'Концентрация серебра в исходном сырье', alpha=.4)\n",
    "plt.hist(concentration_pb['rougher.input.feed_pb'], bins=200, \n",
    "         label = 'Концентрация свинца в исходном сырье', alpha=.4)\n",
    "plt.legend(fontsize='10')\n",
    "plt.xlabel(\"Концентрация\")\n",
    "plt.ylabel(\"Количество\")\n",
    "plt.title(\"Концентрация в исходном сырье\")\n",
    "plt.show()"
   ]
  },
  {
   "cell_type": "code",
   "execution_count": 24,
   "metadata": {},
   "outputs": [
    {
     "data": {
      "image/png": "[encoded data removed]",
      "text/plain": [
       "<Figure size 432x432 with 1 Axes>"
      ]
     },
     "metadata": {
      "needs_background": "light"
     },
     "output_type": "display_data"
    }
   ],
   "source": [
    "plt.figure(figsize=[6,6])\n",
    "plt.hist(concentration_аu['rougher.output.concentrate_au'], bins=200, \n",
    "         label = 'Концентрация золота на флотации', alpha=.4)\n",
    "plt.hist(concentration_ag['rougher.output.concentrate_ag'], bins=200, \n",
    "         label = 'Концентрация серебра на флотации', alpha=.4)\n",
    "plt.hist(concentration_pb['rougher.output.concentrate_pb'], bins=200, \n",
    "         label = 'Концентрация свинца на флотации', alpha=.4)\n",
    "plt.legend(fontsize='10')\n",
    "plt.xlabel(\"Концентрация\")\n",
    "plt.ylabel(\"Количество\")\n",
    "plt.title(\"Концентрация на этапе флотации\")\n",
    "plt.show()"
   ]
  },
  {
   "cell_type": "code",
   "execution_count": 25,
   "metadata": {},
   "outputs": [
    {
     "data": {
      "image/png": "[encoded data removed]",
      "text/plain": [
       "<Figure size 432x432 with 1 Axes>"
      ]
     },
     "metadata": {
      "needs_background": "light"
     },
     "output_type": "display_data"
    }
   ],
   "source": [
    "plt.figure(figsize=[6,6])\n",
    "plt.hist(concentration_аu['primary_cleaner.output.concentrate_au'], bins=200, \n",
    "         label = 'Концентрация золота на первичной очистке', alpha=.4)\n",
    "plt.hist(concentration_ag['primary_cleaner.output.concentrate_ag'], bins=200, \n",
    "         label = 'Концентрация серебра на первичной очистке', alpha=.4)\n",
    "plt.hist(concentration_pb['primary_cleaner.output.concentrate_pb'], bins=200, \n",
    "         label = 'Концентрация свинца на первичной очистке', alpha=.4)\n",
    "plt.legend(fontsize='10')\n",
    "plt.xlabel(\"Концентрация\")\n",
    "plt.ylabel(\"Количество\")\n",
    "plt.title(\"Концентрация на этапе первичной очитке\")\n",
    "plt.show()"
   ]
  },
  {
   "cell_type": "code",
   "execution_count": 26,
   "metadata": {},
   "outputs": [
    {
     "data": {
      "image/png": "[encoded data removed]",
      "text/plain": [
       "<Figure size 432x432 with 1 Axes>"
      ]
     },
     "metadata": {
      "needs_background": "light"
     },
     "output_type": "display_data"
    }
   ],
   "source": [
    "plt.figure(figsize=[6,6])\n",
    "plt.hist(concentration_аu['final.output.concentrate_au'], bins=200, \n",
    "         label = 'Концентрация золота на финальном этапе', alpha=.4)\n",
    "plt.hist(concentration_ag['final.output.concentrate_ag'], bins=200, \n",
    "         label = 'Концентрация серебра на финальном этапе', alpha=.4)\n",
    "plt.hist(concentration_pb['final.output.concentrate_pb'], bins=200, \n",
    "         label = 'Концентрация свинца на финальном этапе', alpha=.4)\n",
    "plt.legend(fontsize='10')\n",
    "plt.xlabel(\"Концентрация\")\n",
    "plt.ylabel(\"Количество\")\n",
    "plt.title(\"Концентрация на финальном этапе\")\n",
    "plt.show()"
   ]
  },
  {
   "cell_type": "markdown",
   "metadata": {},
   "source": [
    "<div class=\"alert alert-danger\">\n",
    "<font size=\"4\"><b>❌ Комментарий ревьюера</b></font>\n",
    "    <br /> \n",
    "    <font size=\"3\", color = \"black\">\n",
    "<br />\n",
    "Тут есть пара моментов:\n",
    "\n",
    "1. По твоим графикам невозможно сделать вывод как на концентрации металлов влияет флотация. Для того, чтобы можно было это понять стоит также добавить на каждый из плотов гистограмму, соотвествующую концентрации металла в исходном сырье.\n",
    "\n",
    "2. Тонкий и неочевидный момент, но стоит построить гистограммы, потому что на них будут хорошо видны околонулевые аномальные столбики, от которых надо избавиться, а на ящиках с усами они не видны."
   ]
  },
  {
   "cell_type": "markdown",
   "metadata": {},
   "source": [
    "<div class=\"alert alert-info\">\n",
    "<font size=\"4\"><b>✔️ Комментарий студента</b></font>\n",
    "    <br /> \n",
    "    <font size=\"3\", color = \"black\">\n",
    "<br /> \n",
    "1. Построил гистограммы концетраций металла (золота, сетебра, свинца) на разных этапах.\n",
    "\n",
    "2. Построил гистограммы концетраций металлов на каждом этапе (флотация, первичная очистка, финальный этап).\n",
    "3. Добавил исходное сырье.\n",
    "    \n"
   ]
  },
  {
   "cell_type": "markdown",
   "metadata": {},
   "source": [
    "<div class=\"alert alert-success\">\n",
    "<font size=\"4\"><b>✔️ Комментарий ревьюера V2</b></font>\n",
    "    <br /> \n",
    "    <font size=\"3\", color = \"black\">\n",
    "<br />    \n",
    "Вижу, красота 👍"
   ]
  },
  {
   "cell_type": "markdown",
   "metadata": {},
   "source": [
    "**Дополнительный вывод после постройки гистограмм:**\n",
    "* Присутствуют около нулевые значения, выбросы (удалим их в дальнейшем)\n",
    "* Концентрация золота на каждом этапе растет и значительно увеличивается по сравнению с другими металлами.\n",
    "* После флотации концентрация всех металлов возрастает"
   ]
  },
  {
   "cell_type": "code",
   "execution_count": 27,
   "metadata": {},
   "outputs": [
    {
     "data": {
      "image/png": "[encoded data removed]",
      "text/plain": [
       "<Figure size 1008x432 with 1 Axes>"
      ]
     },
     "metadata": {
      "needs_background": "light"
     },
     "output_type": "display_data"
    }
   ],
   "source": [
    "#построим линейный график\n",
    "concentration_аu_1 = concentration_аu.mean()\n",
    "concentration_ag_1 = concentration_ag.mean()\n",
    "concentration_pb_1 = concentration_pb.mean()\n",
    "\n",
    "concentration_аu_1.plot(style='-o', grid=True, figsize=(14,6), label='Золото') \n",
    "concentration_ag_1.plot(style='-o', grid=True, figsize=(14,6), label='Серебро')\n",
    "concentration_pb_1.plot(style='-o', grid=True, figsize=(14,6), label='Свинец')\n",
    "plt.title('Концентрация золота, серебра, свинца по этапам')\n",
    "plt.legend()\n",
    "plt.show()"
   ]
  },
  {
   "cell_type": "markdown",
   "metadata": {},
   "source": [
    "**Промежуточный вывод:**\n",
    "\n",
    "* Концентрация золота повышается с каждым этапом\n",
    "* Концентрация серебра с каждым этапом понижается\n",
    "* Концентрация свинца сначала возрастает, потом остается приблизительно одинаковой "
   ]
  },
  {
   "cell_type": "markdown",
   "metadata": {},
   "source": [
    "### Сравнение распределения размеров гранул сырья на обучающей и тестовой выборках. Если распределения сильно отличаются друг от друга, оценка модели будет неправильной."
   ]
  },
  {
   "cell_type": "markdown",
   "metadata": {},
   "source": [
    "**Флотация**"
   ]
  },
  {
   "cell_type": "code",
   "execution_count": 28,
   "metadata": {},
   "outputs": [
    {
     "data": {
      "image/png": "[encoded data removed]",
      "text/plain": [
       "<Figure size 576x576 with 1 Axes>"
      ]
     },
     "metadata": {
      "needs_background": "light"
     },
     "output_type": "display_data"
    }
   ],
   "source": [
    "plt.figure(figsize=[8,8])\n",
    "plt.hist(data_train['rougher.input.feed_size'], bins=200, \n",
    "         label = 'Размер гранул сырья на обучающей выборке', alpha=.4, density=True)\n",
    "plt.hist(data_test['rougher.input.feed_size'], bins=200, \n",
    "         label = 'Размер гранул сырья на тестовой выборке', alpha=.4, density=True)\n",
    "plt.legend(fontsize='10')\n",
    "plt.xlim([0, 200])\n",
    "plt.xlabel(\"Размер гранул сырья\")\n",
    "plt.ylabel(\"Плотность вероятности\")\n",
    "plt.title(\"Флотация, распределения гранул\")\n",
    "plt.show()"
   ]
  },
  {
   "cell_type": "markdown",
   "metadata": {},
   "source": [
    "<div class=\"alert alert-danger\">\n",
    "<font size=\"4\"><b>❌ Комментарий ревьюера</b></font>\n",
    "    <br /> \n",
    "    <font size=\"3\", color = \"black\">\n",
    "<br /> \n",
    "Сравнивать гистограммы, построенные по отличающимся в разы объёмам данных - затея очень плохая. Чтобы сравнение было корректным надо строить такие гистограммы, что высота столбика соответствует не количеству элементов в соответствующей корзине, а доле элементов в корзине по отношению к общему объёму данных.\n",
    "\n",
    "Для этого можно просто передать параметр `density=True`"
   ]
  },
  {
   "cell_type": "markdown",
   "metadata": {},
   "source": [
    "<div class=\"alert alert-info\">\n",
    "<font size=\"4\"><b>✔️ Комментарий студента</b></font>\n",
    "    <br /> \n",
    "    <font size=\"3\", color = \"black\">\n",
    "<br /> \n",
    "Добавил `density=True`"
   ]
  },
  {
   "cell_type": "markdown",
   "metadata": {},
   "source": [
    "<div class=\"alert alert-success\">\n",
    "<font size=\"4\"><b>✔️ Комментарий ревьюера V2</b></font>\n",
    "    <br /> \n",
    "    <font size=\"3\", color = \"black\">\n",
    "<br />    \n",
    "👍"
   ]
  },
  {
   "cell_type": "code",
   "execution_count": 29,
   "metadata": {
    "scrolled": true
   },
   "outputs": [
    {
     "name": "stdout",
     "output_type": "stream",
     "text": [
      "Обучающая выборка на этапе флотации\n",
      "count    14149.000000\n",
      "mean        59.955950\n",
      "std         23.286534\n",
      "min          9.659576\n",
      "25%         48.920770\n",
      "50%         55.301596\n",
      "75%         65.941463\n",
      "max        484.967466\n",
      "Name: rougher.input.feed_size, dtype: float64\n",
      "___________________\n",
      "Тестовыя выборка на этапе флотации\n",
      "count    5290.000000\n",
      "mean       55.952917\n",
      "std        19.080412\n",
      "min         0.046369\n",
      "25%        43.906504\n",
      "50%        50.846843\n",
      "75%        62.451165\n",
      "max       392.494040\n",
      "Name: rougher.input.feed_size, dtype: float64\n"
     ]
    }
   ],
   "source": [
    "print('Обучающая выборка на этапе флотации')\n",
    "print(data_train['rougher.input.feed_size'].describe())\n",
    "print('___________________')\n",
    "print('Тестовыя выборка на этапе флотации')\n",
    "print(data_test['rougher.input.feed_size'].describe())"
   ]
  },
  {
   "cell_type": "markdown",
   "metadata": {},
   "source": [
    "**Первичная очистка**"
   ]
  },
  {
   "cell_type": "code",
   "execution_count": 30,
   "metadata": {},
   "outputs": [
    {
     "data": {
      "image/png": "[encoded data removed]",
      "text/plain": [
       "<Figure size 576x576 with 1 Axes>"
      ]
     },
     "metadata": {
      "needs_background": "light"
     },
     "output_type": "display_data"
    }
   ],
   "source": [
    "plt.figure(figsize=[8,8])\n",
    "plt.hist(data_train['primary_cleaner.input.feed_size'], bins=200, \n",
    "         label = 'Размер гранул сырья на обучающей выборке', alpha=.4, density=True)\n",
    "plt.hist(data_test['primary_cleaner.input.feed_size'], bins=200, \n",
    "         label = 'Размер гранул сырья на тестовой выборке', alpha=.4, density=True)\n",
    "plt.legend(fontsize='10')\n",
    "plt.xlim([0, 14])\n",
    "plt.xlabel(\"Размер гранул сырья\")\n",
    "plt.ylabel(\"Плотность вероятности\")\n",
    "plt.title(\"Первичная очистка, распределения гранул\")\n",
    "plt.show()"
   ]
  },
  {
   "cell_type": "code",
   "execution_count": 31,
   "metadata": {},
   "outputs": [
    {
     "name": "stdout",
     "output_type": "stream",
     "text": [
      "Обучающая выборка на этапе первичной очистке\n",
      "count    14149.000000\n",
      "mean         7.322310\n",
      "std          0.614062\n",
      "min          1.080000\n",
      "25%          6.960000\n",
      "50%          7.290000\n",
      "75%          7.700000\n",
      "max         10.470000\n",
      "Name: primary_cleaner.input.feed_size, dtype: float64\n",
      "___________________\n",
      "Тестовыя выборка на этапе первичной очистке\n",
      "count    5290.000000\n",
      "mean        7.266339\n",
      "std         0.610219\n",
      "min         5.650000\n",
      "25%         6.890000\n",
      "50%         7.250000\n",
      "75%         7.600000\n",
      "max        15.500000\n",
      "Name: primary_cleaner.input.feed_size, dtype: float64\n"
     ]
    }
   ],
   "source": [
    "print('Обучающая выборка на этапе первичной очистке')\n",
    "print(data_train['primary_cleaner.input.feed_size'].describe())\n",
    "print('___________________')\n",
    "print('Тестовыя выборка на этапе первичной очистке')\n",
    "print(data_test['primary_cleaner.input.feed_size'].describe())"
   ]
  },
  {
   "cell_type": "markdown",
   "metadata": {},
   "source": [
    "**Промежуточный вывод:**\n",
    "\n",
    "* На этапе флотации размер гранул сырья на тестовой выборке незначительно смещено влево, средняя не сильно различается на тестовой выборке (55.9) и на обучающей выборке (59.9). \n",
    "* На этапе первичная очистка выборки схожи."
   ]
  },
  {
   "cell_type": "markdown",
   "metadata": {},
   "source": [
    "### Исследование суммарных концентраций всех веществ на разных стадиях: в сырье, в черновом и финальном концентратах. "
   ]
  },
  {
   "cell_type": "code",
   "execution_count": 32,
   "metadata": {},
   "outputs": [],
   "source": [
    "sum_rougher_output_concentrate_train = (data_train['rougher.output.concentrate_au'] + \n",
    "                                        data_train['rougher.output.concentrate_ag'] + \n",
    "                                        data_train['rougher.output.concentrate_pb'] +\n",
    "                                        data_train['rougher.output.concentrate_sol'])\n",
    "sum_primary_cleaner_output_concentrate_train = (data_train['primary_cleaner.output.concentrate_au'] + \n",
    "                                                data_train['primary_cleaner.output.concentrate_ag'] + \n",
    "                                                data_train['primary_cleaner.output.concentrate_pb'] +\n",
    "                                                data_train['primary_cleaner.output.concentrate_sol'])\n",
    "sum_final_output_concentrate_train = (data_train['final.output.concentrate_au'] + \n",
    "                                      data_train['final.output.concentrate_ag'] + \n",
    "                                      data_train['final.output.concentrate_pb'] +\n",
    "                                      data_train['final.output.concentrate_sol'])\n",
    "\n"
   ]
  },
  {
   "cell_type": "code",
   "execution_count": 33,
   "metadata": {
    "scrolled": false
   },
   "outputs": [
    {
     "data": {
      "image/png": "[encoded data removed]",
      "text/plain": [
       "<Figure size 864x576 with 1 Axes>"
      ]
     },
     "metadata": {
      "needs_background": "light"
     },
     "output_type": "display_data"
    }
   ],
   "source": [
    "plt.figure(figsize=[12,8])\n",
    "plt.hist(sum_rougher_output_concentrate_train, bins=200, \n",
    "         label = 'Суммарная концентрация на этапе флотации', alpha=.4)\n",
    "plt.hist(sum_primary_cleaner_output_concentrate_train, bins=200, \n",
    "         label = 'Суммарная концентрация на этапе первичной очистке', alpha=.4)\n",
    "plt.hist(sum_final_output_concentrate_train, bins=200, \n",
    "         label = 'Суммарная концентрация на финальном этапе', alpha=.4)\n",
    "plt.legend(fontsize='10')\n",
    "plt.xlim([0, 90])\n",
    "plt.ylim([0, 1100])\n",
    "plt.xlabel(\"Суммарная концентрация\")\n",
    "plt.ylabel(\"Количество\")\n",
    "plt.title(\"Суммарная концентрация всех веществ на разных стадиях\")\n",
    "plt.show()"
   ]
  },
  {
   "cell_type": "markdown",
   "metadata": {},
   "source": [
    "Видим много значений в около нулевом диапазоне, это выбросы, удалим их."
   ]
  },
  {
   "cell_type": "code",
   "execution_count": 34,
   "metadata": {},
   "outputs": [
    {
     "data": {
      "text/plain": [
       "14149"
      ]
     },
     "execution_count": 34,
     "metadata": {},
     "output_type": "execute_result"
    }
   ],
   "source": [
    "len(data_train)"
   ]
  },
  {
   "cell_type": "code",
   "execution_count": 35,
   "metadata": {},
   "outputs": [],
   "source": [
    "data_train = data_train[(data_train['rougher.input.feed_ag'] >= 1) &\n",
    "            (data_train['rougher.input.feed_pb'] >= 1) &\n",
    "            (data_train['rougher.input.feed_sol'] >= 1) &\n",
    "            (data_train['rougher.input.feed_au'] >= 1) &\n",
    "            (data_train['rougher.output.concentrate_ag'] >= 1) &\n",
    "            (data_train['rougher.output.concentrate_pb'] >= 1) &\n",
    "            (data_train['rougher.output.concentrate_sol'] >= 1) &\n",
    "            (data_train['rougher.output.concentrate_au'] >= 1) &\n",
    "            (data_train['primary_cleaner.output.concentrate_ag'] >= 1) &\n",
    "            (data_train['primary_cleaner.output.concentrate_pb'] >= 1) &\n",
    "            (data_train['primary_cleaner.output.concentrate_sol'] >= 1) &\n",
    "            (data_train['primary_cleaner.output.concentrate_au'] >= 1) &\n",
    "            (data_train['final.output.concentrate_ag'] >= 1) &\n",
    "            (data_train['final.output.concentrate_pb'] >= 1) &\n",
    "            (data_train['final.output.concentrate_sol'] >= 1) &\n",
    "            (data_train['final.output.concentrate_au'] >= 1)]"
   ]
  },
  {
   "cell_type": "markdown",
   "metadata": {},
   "source": [
    "<div class=\"alert alert-success\">\n",
    "<font size=\"4\"><b>✔️ Комментарий ревьюера</b></font>\n",
    "    <br /> \n",
    "    <font size=\"3\", color = \"black\">\n",
    "<br />    \n",
    "Хотя в начале анализа у тебя были боксплоты, а не гистограммы, выбросы ты удалил :)\n",
    "<br />\n",
    "    </font>\n",
    "</div>"
   ]
  },
  {
   "cell_type": "code",
   "execution_count": 36,
   "metadata": {},
   "outputs": [
    {
     "data": {
      "text/plain": [
       "13323"
      ]
     },
     "execution_count": 36,
     "metadata": {},
     "output_type": "execute_result"
    }
   ],
   "source": [
    "#Проверяю количество удаленных\n",
    "len(data_train)"
   ]
  },
  {
   "cell_type": "markdown",
   "metadata": {},
   "source": [
    "**Промежуточный вывод:**\n",
    "\n",
    "* Изучили суммарные концентрации всех веществ на разных стадиях: в сырье, в черновом и финальном концентратах. \n",
    "* Удалили выбросы, в нулевой зоне."
   ]
  },
  {
   "cell_type": "markdown",
   "metadata": {},
   "source": [
    "## Модель"
   ]
  },
  {
   "cell_type": "markdown",
   "metadata": {},
   "source": [
    "### Функция для вычисления итоговой sMAPE"
   ]
  },
  {
   "cell_type": "code",
   "execution_count": 37,
   "metadata": {},
   "outputs": [],
   "source": [
    "#функция для вычисления sMAPE:\n",
    "def sMAPE(y_target, y_predict):\n",
    "    smape = np.mean(abs(y_target - y_predict) / ((abs(y_target) + abs(y_predict)) / 2)) * 100\n",
    "    return smape"
   ]
  },
  {
   "cell_type": "code",
   "execution_count": 38,
   "metadata": {},
   "outputs": [],
   "source": [
    "#функция для вычисления финального sMAPE:\n",
    "def total_sMAPE(smape_rougher, smape_final):\n",
    "    return (0.25*smape_rougher + 0.75*smape_final)"
   ]
  },
  {
   "cell_type": "markdown",
   "metadata": {},
   "source": [
    "### Обучение разных моделей и оценка их качества. Лучшую модель и проверка её на тестовой выборке. "
   ]
  },
  {
   "cell_type": "code",
   "execution_count": 39,
   "metadata": {},
   "outputs": [],
   "source": [
    "features = list(data_test.columns)[1:-2] #признаки для обучения модели\n",
    "features_train = data_train[features]\n",
    "features_test = data_test[features]"
   ]
  },
  {
   "cell_type": "code",
   "execution_count": 40,
   "metadata": {},
   "outputs": [],
   "source": [
    "target_train_rougher= data_train['rougher.output.recovery']\n",
    "target_train_final = data_train['final.output.recovery']\n",
    "target_test_1 = data_test[['rougher.output.recovery','final.output.recovery']]\n"
   ]
  },
  {
   "cell_type": "code",
   "execution_count": 41,
   "metadata": {},
   "outputs": [
    {
     "name": "stdout",
     "output_type": "stream",
     "text": [
      "Валидационная выборка features:(2645, 52)\n",
      "Валидационная выборка target:(2645, 2)\n",
      "Тестовая выборка features:(2645, 52)\n",
      "Тестовая выборка target:(2645, 2)\n"
     ]
    }
   ],
   "source": [
    "#Разбиваем тестовую на валидационную и тестовую выборку\n",
    "features_valid, features_test, target_valid, target_test = train_test_split(\\\n",
    "                                                                            features_test,\\\n",
    "                                                                            target_test_1,\\\n",
    "                                                                            test_size=0.5,\\\n",
    "                                                                            random_state=12345) \n",
    "\n",
    "print(f'Валидационная выборка features:{features_valid.shape}')#проверяю разбивку\n",
    "print(f'Валидационная выборка target:{target_valid.shape}')\n",
    "print(f'Тестовая выборка features:{features_test.shape}')\n",
    "print(f'Тестовая выборка target:{target_test.shape}')\n",
    "target_test_rougher = target_test['rougher.output.recovery']#Разделяю target на rougher и final\n",
    "target_test_final = target_test['final.output.recovery']\n",
    "target_valid_rougher = target_valid['rougher.output.recovery']\n",
    "target_valid_final = target_valid['final.output.recovery']"
   ]
  },
  {
   "cell_type": "markdown",
   "metadata": {},
   "source": [
    "<div class=\"alert alert-info\">\n",
    "<font size=\"4\">🍕<b> Комментарий ревьюера</b></font>\n",
    "    <br /> \n",
    "    <font size=\"3\", color = \"black\">\n",
    "<br />\n",
    "Настоятельно тебе рекомендую рандом стейт (и другие глобальные константы) в начале работы сохранять в отдельную переменную и оперировать дальше ей. Иногда бывает нужно провести эксперимент с другим рандомом и менять по коду во всех местах где он испоьзуется явно хуже, чем одну переменную в начале поменять."
   ]
  },
  {
   "cell_type": "markdown",
   "metadata": {},
   "source": [
    "<div class=\"alert alert-warning\">\n",
    "<font size=\"4\"><b>⚠️ Комментарий ревьюера</b></font>\n",
    "    <br /> \n",
    "    <font size=\"3\", color = \"black\">\n",
    "<br />\n",
    "Выделять для валидации столько же данных, сколько для обучения - жестковато. Лучше чтобы на обучении было раза в 2 больше"
   ]
  },
  {
   "cell_type": "markdown",
   "metadata": {},
   "source": [
    "<div class=\"alert alert-warning\">\n",
    "<font size=\"4\"><b>⚠️ Комментарий ревьюера</b></font>\n",
    "    <br /> \n",
    "    <font size=\"3\", color = \"black\">\n",
    "<br />\n",
    "И я очень рекомендую тебе разобраться и использовать либо <a href=\"https://scikit-learn.org/stable/modules/generated/sklearn.model_selection.GridSearchCV.html\">GridSearchCV</a>, либо, что в текущем проекте несколько лучше, <a href=\"https://scikit-learn.org/stable/modules/generated/sklearn.model_selection.RandomizedSearchCV.html\">RandomizedSearchCV</a>. Это упростит тебе жизнь и сделает код намного более легко воспринимаемым.\n",
    "\n",
    "Сразу проведу небольшой ликбез:\n",
    "\n",
    "1. Задаём сетку поиска гиперпараметров в виде словаря. Например: `dtr_params = {'max_depth': range(1, 10)}`\n",
    "2. Создаём скорер с помощью функции <a href=\"https://scikit-learn.org/stable/modules/generated/sklearn.metrics.make_scorer.html\">make_scorer</a>: `custom_scorer = make_scorer(...)`.\n",
    "3. Создаём переменную GridSearchCV или RandomizedSearchCV, передаём нужные аргументы, первые 2 - собственно модели и сетка из шага 1: `dtr_grid = GridSearchCV(DecisionTreeRegressor(random_state=12345), dtr_params, scoring=custom_scorer)`\n",
    "4. Фитим грид серч как обучную модель: `dtr_grid.fit(features_train_rougher, target_train_rougher)`\n",
    "5. Поздравляю, ты великолепен )) После того как процесс закончился в `dtr_grid.best_params_` сохраняются оптимальные гиперпараметры, в `dtr_grid.best_score_` - метрика на них, а в `dtr_grid.best_estimator_` - модель, обученная на оптимальных гиперпараметрах на всём наборе данных, которые ты передал в грид серч. То есть после грид серча модель готова к использованию, перед тестированием можно ничего не обучать."
   ]
  },
  {
   "cell_type": "markdown",
   "metadata": {},
   "source": [
    "**LinearRegression (Линейная регрессия)**"
   ]
  },
  {
   "cell_type": "code",
   "execution_count": 42,
   "metadata": {},
   "outputs": [
    {
     "name": "stdout",
     "output_type": "stream",
     "text": [
      "sMAPE для rougher 8.33872918181375"
     ]
    }
   ],
   "source": [
    "model_1 = LinearRegression()\n",
    "model_1.fit(features_train, target_train_rougher) #обучим модель на тренировочной выборке\n",
    "predictions_valid_1 = model_1.predict(features_valid)\n",
    "smape_rougher_1 = sMAPE(target_valid_rougher, predictions_valid_1)\n",
    "print('sMAPE для rougher',smape_rougher_1 , end ='')"
   ]
  },
  {
   "cell_type": "code",
   "execution_count": 43,
   "metadata": {},
   "outputs": [
    {
     "name": "stdout",
     "output_type": "stream",
     "text": [
      "sMAPE для final 9.390319211694534"
     ]
    }
   ],
   "source": [
    "model_2 = LinearRegression()\n",
    "model_2.fit(features_train, target_train_final) #обучим модель на тренировочной выборке\n",
    "predictions_valid_2 = model_2.predict(features_valid)\n",
    "smape_final_2 = sMAPE(target_valid_final, predictions_valid_2)\n",
    "print('sMAPE для final',smape_final_2 , end ='')"
   ]
  },
  {
   "cell_type": "markdown",
   "metadata": {},
   "source": [
    "<div class=\"alert alert-success\">\n",
    "<font size=\"4\"><b>✔️ Комментарий ревьюера</b></font>\n",
    "    <br /> \n",
    "    <font size=\"3\", color = \"black\">\n",
    "<br />    \n",
    "Молодец, что строишь отдельные модели под каждый из 2 имеющихся в задаче таргетов, решаешь задачи независимо друг от друга.\n",
    "<br />\n",
    "    </font>\n",
    "</div>"
   ]
  },
  {
   "cell_type": "code",
   "execution_count": 44,
   "metadata": {},
   "outputs": [
    {
     "name": "stdout",
     "output_type": "stream",
     "text": [
      "Итоговое sMAPE линейной регрессии  9.12742170422434"
     ]
    }
   ],
   "source": [
    "print('Итоговое sMAPE линейной регрессии ',total_sMAPE(smape_rougher_1,smape_final_2), end ='')"
   ]
  },
  {
   "cell_type": "markdown",
   "metadata": {},
   "source": [
    " **DecisionTreeRegressor (Деревья регрессии)**"
   ]
  },
  {
   "cell_type": "code",
   "execution_count": 45,
   "metadata": {},
   "outputs": [
    {
     "name": "stdout",
     "output_type": "stream",
     "text": [
      "Лучший гиперпараметр max_depth = 10\n",
      "sMAPE наилучшей модели для rougher 9.41479072082721\n"
     ]
    }
   ],
   "source": [
    "#модель rougher\n",
    "for depth_3 in range(1,11):\n",
    "    model_3_best = None\n",
    "    smape_rougher_best_3 = 100\n",
    "    best_depth_3 = 0\n",
    "    model_3 = DecisionTreeRegressor(random_state=12345, max_depth=depth_3) \n",
    "    model_3.fit(features_train, target_train_rougher)\n",
    "    predictions_valid_3 = model_3.predict(features_valid)\n",
    "    smape_rougher_3 = sMAPE(target_valid_rougher, predictions_valid_3)\n",
    "    if smape_rougher_best_3 > smape_rougher_3:\n",
    "            model_3_best = model_3\n",
    "            best_depth_3 = depth_3\n",
    "            smape_rougher_best_3 = smape_rougher_3\n",
    "print('Лучший гиперпараметр max_depth =', best_depth_3)\n",
    "print('sMAPE наилучшей модели для rougher', smape_rougher_best_3)"
   ]
  },
  {
   "cell_type": "code",
   "execution_count": 46,
   "metadata": {
    "scrolled": true
   },
   "outputs": [
    {
     "name": "stdout",
     "output_type": "stream",
     "text": [
      "Лучший гиперпараметр max_depth = 10\n",
      "sMAPE наилучшей модели для final 11.400777123362232\n"
     ]
    }
   ],
   "source": [
    "#модель final\n",
    "for depth_4 in range(1,11):\n",
    "    model_4_best = None\n",
    "    smape_final_best_4 = 100\n",
    "    best_depth_4 = 0    \n",
    "    model_4 = DecisionTreeRegressor(random_state=12345, max_depth=depth_4) \n",
    "    model_4.fit(features_train, target_train_final)\n",
    "    predictions_valid_4 = model_4.predict(features_valid)\n",
    "    smape_final_4 = sMAPE(target_valid_final, predictions_valid_4)\n",
    "    if smape_final_best_4 > smape_final_4:\n",
    "            model_4_best = model_4\n",
    "            best_depth_4 = depth_4\n",
    "            smape_final_best_4 = smape_final_4\n",
    "print('Лучший гиперпараметр max_depth =', best_depth_4)\n",
    "print('sMAPE наилучшей модели для final', smape_final_best_4)"
   ]
  },
  {
   "cell_type": "code",
   "execution_count": 47,
   "metadata": {},
   "outputs": [
    {
     "name": "stdout",
     "output_type": "stream",
     "text": [
      "Итоговое sMAPE для деревья регрессии  10.904280522728477"
     ]
    }
   ],
   "source": [
    "print('Итоговое sMAPE для деревья регрессии ',total_sMAPE(smape_rougher_best_3,smape_final_best_4), end ='')"
   ]
  },
  {
   "cell_type": "markdown",
   "metadata": {},
   "source": [
    " **RandomForestRegressor(Случайный лес)**"
   ]
  },
  {
   "cell_type": "code",
   "execution_count": 48,
   "metadata": {},
   "outputs": [
    {
     "name": "stdout",
     "output_type": "stream",
     "text": [
      "Лучший гиперпараметр n_estimators = 56\n",
      "Лучший гиперпараметр max_depth = 4\n",
      "sMAPE наилучшей модели для rougher 7.84568702274601\n"
     ]
    }
   ],
   "source": [
    "#модель rougher\n",
    "best_model_5 = None\n",
    "best_est_5 = 0\n",
    "best_depth_5 = 0\n",
    "best_smape_rougher_5 = 100\n",
    "for est in range(50, 60, 2):\n",
    "    for depth in range(1, 5):\n",
    "        model_5 = RandomForestRegressor(random_state=12345, n_estimators=est, max_depth = depth)\n",
    "        model_5.fit(features_train, target_train_rougher)\n",
    "        predictions_valid_5 = model_5.predict(features_valid)\n",
    "        smape_rougher_5 = sMAPE(target_valid_rougher, predictions_valid_5)\n",
    "        if best_smape_rougher_5 > smape_rougher_5:\n",
    "            best_model_5 = model_5\n",
    "            best_est_5 = est\n",
    "            best_depth_5 = depth\n",
    "            best_smape_rougher_5 = smape_rougher_5\n",
    "            \n",
    "print('Лучший гиперпараметр n_estimators =', best_est_5)\n",
    "print('Лучший гиперпараметр max_depth =', best_depth_5)\n",
    "print('sMAPE наилучшей модели для rougher',best_smape_rougher_5)"
   ]
  },
  {
   "cell_type": "markdown",
   "metadata": {},
   "source": [
    "<div class=\"alert alert-info\">\n",
    "<font size=\"4\">🍕<b> Комментарий ревьюера</b></font>\n",
    "    <br /> \n",
    "    <font size=\"3\", color = \"black\">\n",
    "<br />\n",
    "несколько деревьев - очень мало для леса, нет смысла делать подбор прям от 1 дерева, обычно меньше 50 не рассматривают. Подробнее про гиперпараметры леса можно почитать <a href=\"https://alexanderdyakonov.wordpress.com/2016/11/14/%D1%81%D0%BB%D1%83%D1%87%D0%B0%D0%B9%D0%BD%D1%8B%D0%B9-%D0%BB%D0%B5%D1%81-random-forest/\">тут</a>."
   ]
  },
  {
   "cell_type": "code",
   "execution_count": 49,
   "metadata": {},
   "outputs": [
    {
     "name": "stdout",
     "output_type": "stream",
     "text": [
      "Лучший гиперпараметр n_estimators = 58\n",
      "Лучший гиперпараметр max_depth = 2\n",
      "sMAPE наилучшей модели для final 9.012936587562672\n"
     ]
    }
   ],
   "source": [
    "#модель final\n",
    "best_model_6 = None\n",
    "best_est_6 = 0\n",
    "best_depth_6 = 0\n",
    "best_smape_final_6 = 100\n",
    "for est in range(50, 60, 2):\n",
    "    for depth in range(1, 5):\n",
    "        model_6 = RandomForestRegressor(random_state=12345, n_estimators=est, max_depth = depth)\n",
    "        model_6.fit(features_train, target_train_final)\n",
    "        predictions_valid_6 = model_6.predict(features_valid)\n",
    "        smape_final_6 = sMAPE(target_valid_final, predictions_valid_6)\n",
    "        if best_smape_final_6 > smape_final_6:\n",
    "            best_model_6 = model_5\n",
    "            best_est_6 = est\n",
    "            best_depth_6 = depth\n",
    "            best_smape_final_6 = smape_final_6\n",
    "            \n",
    "print('Лучший гиперпараметр n_estimators =', best_est_6)\n",
    "print('Лучший гиперпараметр max_depth =', best_depth_6)\n",
    "print('sMAPE наилучшей модели для final',best_smape_final_6)"
   ]
  },
  {
   "cell_type": "code",
   "execution_count": 50,
   "metadata": {
    "scrolled": false
   },
   "outputs": [
    {
     "name": "stdout",
     "output_type": "stream",
     "text": [
      "Итоговое sMAPE для случайного леса  8.721124196358508"
     ]
    }
   ],
   "source": [
    "print('Итоговое sMAPE для случайного леса ',total_sMAPE(best_smape_rougher_5,best_smape_final_6), end ='')"
   ]
  },
  {
   "cell_type": "markdown",
   "metadata": {},
   "source": [
    "**Проверка на тестовой выборке**"
   ]
  },
  {
   "cell_type": "markdown",
   "metadata": {},
   "source": [
    "Лучшая модель RandomForestRegressor(Случайный лес) по итоговому sMape = 8.7 "
   ]
  },
  {
   "cell_type": "markdown",
   "metadata": {},
   "source": [
    "<div class=\"alert alert-danger\">\n",
    "<font size=\"4\"><b>❌ Комментарий ревьюера</b></font>\n",
    "    <br /> \n",
    "    <font size=\"3\", color = \"black\">\n",
    "<br /> \n",
    "smape - это ошибка (e == error), эту метрику надо минимизировать, а у дерева как раз таки максимальный, худший результат. Тестироваться должна другая модель."
   ]
  },
  {
   "cell_type": "markdown",
   "metadata": {},
   "source": [
    "<div class=\"alert alert-info\">\n",
    "<font size=\"4\"><b>✔️ Комментарий студента</b></font>\n",
    "    <br /> \n",
    "    <font size=\"3\", color = \"black\">\n",
    "<br /> Исправил"
   ]
  },
  {
   "cell_type": "markdown",
   "metadata": {},
   "source": [
    "<div class=\"alert alert-success\">\n",
    "<font size=\"4\"><b>✔️ Комментарий ревьюера V2</b></font>\n",
    "    <br /> \n",
    "    <font size=\"3\", color = \"black\">\n",
    "<br />    \n",
    "👌"
   ]
  },
  {
   "cell_type": "code",
   "execution_count": 57,
   "metadata": {},
   "outputs": [
    {
     "name": "stdout",
     "output_type": "stream",
     "text": [
      "smape для rougher 8.335310853720053\n"
     ]
    }
   ],
   "source": [
    "#rougher\n",
    "model_7 = RandomForestRegressor(max_depth=4, n_estimators=56, random_state=12345)\n",
    "model_7.fit(features_train, target_train_rougher)\n",
    "predictions_test_7 = model_7.predict(features_test)\n",
    "smape_rougher_7 = sMAPE(target_test_rougher, predictions_test_7)\n",
    "print('smape для rougher', smape_rougher_7)"
   ]
  },
  {
   "cell_type": "code",
   "execution_count": 58,
   "metadata": {},
   "outputs": [
    {
     "name": "stdout",
     "output_type": "stream",
     "text": [
      "smape для final 9.583124473192505\n"
     ]
    }
   ],
   "source": [
    "#Для final\n",
    "model_8 = RandomForestRegressor(max_depth=2, n_estimators=58, random_state=12345)\n",
    "model_8.fit(features_train, target_train_final)\n",
    "predictions_test_8 = model_8.predict(features_test)\n",
    "smape_final_8 = sMAPE(target_test_final, predictions_test_8)\n",
    "print('smape для final', smape_final_8)"
   ]
  },
  {
   "cell_type": "markdown",
   "metadata": {},
   "source": [
    "<div class=\"alert alert-warning\">\n",
    "<font size=\"4\"><b>⚠️ Комментарий ревьюера V2</b></font>\n",
    "    <br /> \n",
    "    <font size=\"3\", color = \"black\">\n",
    "<br />\n",
    "Одно из золотых правил разработки - не надо <a href=\"https://ru.hexlet.io/blog/posts/ponimaem-sleng-programmistov-mini-slovar-dlya-nachinayuschih-razrabotchikov#:~:text=%D0%A5%D0%B0%D1%80%D0%B4%D0%BA%D0%BE%D0%B4%D0%B8%D1%82%D1%8C%20%E2%80%94%20%D1%81%D1%82%D0%B0%D1%82%D0%B8%D1%87%D0%B5%D1%81%D0%BA%D0%B8%20%D0%BF%D1%80%D0%BE%D0%BF%D0%B8%D1%81%D1%8B%D0%B2%D0%B0%D1%82%D1%8C%20%D0%B2%20%D0%BA%D0%BE%D0%B4%D0%B5%20%D0%B4%D0%B0%D0%BD%D0%BD%D1%8B%D0%B5%2C%20%D0%BA%D0%BE%D1%82%D0%BE%D1%80%D1%8B%D0%B5%20%D0%B4%D0%BE%D0%BB%D0%B6%D0%BD%D1%8B%20%D0%B2%D1%8B%D1%87%D0%B8%D1%81%D0%BB%D1%8F%D1%82%D1%8C%D1%81%D1%8F%20%D0%B4%D0%B8%D0%BD%D0%B0%D0%BC%D0%B8%D1%87%D0%B5%D1%81%D0%BA%D0%B8.\">хардкодить</a> то, что можно не хардкодить.\n",
    "\n",
    "Почему это плохо на твоём примере. Ты нашёл какие-то лучшие гиперпараметры, потом ручками их вписал перед тем как тестировать модели. А вот ревьюер взял и поменял немного сетку поиска гиперпараметров, нашлись другие. И у него на экране сначла горит надпись что \"найденные лучшие параметры - такие\", а парой блоков кода ниже студент использует другие. Понадобилось поменять рандом стейт - та же история, нашли одни, а используем другие. А уж если обновился датасет... И получается, что тебе надо постоянно следить соответствуют ли найденные гиперпараметры тем, которые тобой вписаны в модель. Ну такое себе. Говоря проф языком, такой код сложно поддерживать, поэтому хардкод и считается антипаттерном.\n",
    "\n",
    "Чтобы не использовать хардкод при тестировании моделей есть 2 варианта действий, которые можно применить.\n",
    "\n",
    "Вариант 1: сохранять гиперпараметры в отдельные перменные и в модель перед тестированием передавать их, а не сами значения.\n",
    "Вариант 2: использовать ранее мной анонсированные GridSearchCV или RandomizedSearchCV: они не только сохраняют оптимальные гиперпараметры, но и модель обученную на них - никакие гиперпараметры не надо передавать, модель уже готова к использованию."
   ]
  },
  {
   "cell_type": "code",
   "execution_count": 59,
   "metadata": {
    "scrolled": false
   },
   "outputs": [
    {
     "name": "stdout",
     "output_type": "stream",
     "text": [
      "Итоговое sMAPE для тестовой выборке  9.271171068324392"
     ]
    }
   ],
   "source": [
    "print('Итоговое sMAPE для тестовой выборке ',total_sMAPE(smape_rougher_7,smape_final_8), end ='')"
   ]
  },
  {
   "cell_type": "markdown",
   "metadata": {},
   "source": [
    "**Проверка модели на адекватность**"
   ]
  },
  {
   "cell_type": "code",
   "execution_count": 54,
   "metadata": {},
   "outputs": [
    {
     "name": "stdout",
     "output_type": "stream",
     "text": [
      "smape для rougher 9.196611434670416\n"
     ]
    }
   ],
   "source": [
    "#rougher\n",
    "model_9 = DummyRegressor(strategy='mean')\n",
    "model_9.fit(features_train, target_train_rougher)\n",
    "predictions_test_9 = model_9.predict(features_test)\n",
    "smape_rougher_9 = sMAPE(target_test_rougher, predictions_test_9)\n",
    "print('smape для rougher', smape_rougher_9)"
   ]
  },
  {
   "cell_type": "code",
   "execution_count": 55,
   "metadata": {},
   "outputs": [
    {
     "name": "stdout",
     "output_type": "stream",
     "text": [
      "smape для final 10.308006206071978\n"
     ]
    }
   ],
   "source": [
    "#final\n",
    "model_10 = DummyRegressor(strategy='mean')\n",
    "model_10.fit(features_train, target_train_final)\n",
    "predictions_test_10 = model_10.predict(features_test)\n",
    "smape_final_10 = sMAPE(target_test_final, predictions_test_10)\n",
    "print('smape для final', smape_final_10)"
   ]
  },
  {
   "cell_type": "code",
   "execution_count": 56,
   "metadata": {},
   "outputs": [
    {
     "name": "stdout",
     "output_type": "stream",
     "text": [
      "Итоговое sMAPE для Dummy 10.030157513221587"
     ]
    }
   ],
   "source": [
    "print('Итоговое sMAPE для Dummy',total_sMAPE(smape_rougher_9,smape_final_10), end ='')"
   ]
  },
  {
   "cell_type": "markdown",
   "metadata": {},
   "source": [
    "<div class=\"alert alert-danger\">\n",
    "<font size=\"4\"><b>❌ Комментарий ревьюера</b></font>\n",
    "    <br /> \n",
    "    <font size=\"3\", color = \"black\">\n",
    "<br /> \n",
    "Мы не можем понимать какое значение смапе можно считать хорошим, а какое - нет. Давать заказчику работу, не понимая хорошая ли модель - сомнительная затея. Чтобы понять насколько адекватна наша модель её надо сравнить с чем-то не очень адекватным - константной моделью (<a href=\"http://scikit-learn.org/stable/modules/generated/sklearn.dummy.DummyRegressor.html\">Dummy</a>). Добавь это сравнение, пожалуйста."
   ]
  },
  {
   "cell_type": "markdown",
   "metadata": {},
   "source": [
    "<div class=\"alert alert-info\">\n",
    "<font size=\"4\"><b>✔️ Комментарий студента</b></font>\n",
    "    <br /> \n",
    "    <font size=\"3\", color = \"black\">\n",
    "<br /> \n",
    "Проверил модель на адекватность"
   ]
  },
  {
   "cell_type": "markdown",
   "metadata": {},
   "source": [
    "<div class=\"alert alert-success\">\n",
    "<font size=\"4\"><b>✔️ Комментарий ревьюера V2</b></font>\n",
    "    <br /> \n",
    "    <font size=\"3\", color = \"black\">\n",
    "<br />    \n",
    "👌"
   ]
  },
  {
   "cell_type": "markdown",
   "metadata": {},
   "source": [
    "**Вывод:**\n",
    "\n",
    "* Наилучшая итоговое sMAPE на модели RandomForestRegressor(Случайный лес) = 8.7 \n",
    "* Итоговое sMAPE DecisionTreeRegressor на тестовой выборке 9.2.\n",
    "* Проверена модель на адекватность:\n",
    "    * Итоговое sMAPE для Dummy 10.03\n",
    "    * sMAPE для Dummy выше наилучшей модели, значит модель адекватна."
   ]
  },
  {
   "cell_type": "markdown",
   "metadata": {},
   "source": [
    "<div class=\"alert alert-info\">\n",
    "<font size=\"4\">🍕<b> Комментарий ревьюера</b></font>\n",
    "    <br /> \n",
    "    <font size=\"3\", color = \"black\">\n",
    "<br />\n",
    "Подведём итоги. Работа очень даже неплохая, но несколько причин доработки есть:\n",
    "\n",
    "+ Добавить графики исходных концентраций, до флотации\n",
    "+ Нормализовать гистограммы размеров гранул\n",
    "+ Тестировать модели с минимальным, а не максимальным смапе\n",
    "+ Добавить сравнение с дамми-моделью\n",
    "\n",
    "Кажется, немного и не сложно. Жду новую отправку!"
   ]
  },
  {
   "cell_type": "markdown",
   "metadata": {},
   "source": [
    "<div class=\"alert alert-info\">\n",
    "<font size=\"4\"><b>✔️ Комментарий студента</b></font>\n",
    "    <br /> \n",
    "    <font size=\"3\", color = \"black\">\n",
    "<br /> \n",
    "Спасибо за проверку и новые материалы для изучения. Все критические замечания поправил)"
   ]
  },
  {
   "cell_type": "markdown",
   "metadata": {},
   "source": [
    "## Общий вывод:\n",
    "\n",
    "* **Открыли файлы и изучили.**\n",
    "    * Ознакомились с данными\n",
    "    * Во всех таблицах есть пропуски\n",
    "\n",
    "* **Проверили, что эффективность обогащения рассчитана правильно. Вычислите её на обучающей выборке для признака rougher.output.recovery. Нахождение MAE между расчётами и значением признака.**\n",
    "    * МАЕ очень мала (9.73512347450521e-15), это значит расчетное значение совпадает со значением признака\n",
    "\n",
    "* **Проанализировать признаки, недоступные в тестовой выборке**\n",
    "    * Некоторые параметры в тестовой выборке отсутствуют, потому что замеряются и/или рассчитываются значительно позже. Из-за этого в тестовой выборке отсутствуют некоторые признаки, 30 типа 'output' (параметры продукта) и 4 типа 'calculation' (расчетные характеристики).\n",
    "    * Также отсутсвуют целевые признаки 'rougher.output.recovery' и 'final.output.recovery' \n",
    "\n",
    "* **Выполнили предобработку данных.**\n",
    "    *Добавляем поля 'rougher.output.recovery', 'final.output.recovery' в тестовый файл для формирования выборки target_test, добавляем по совпадению дат.\n",
    "    * Выполнили замену пропусков следующим непропущенным значениями, так как параметры схожи\n",
    "    * Проверили на явные дубликаты\n",
    "\n",
    "* **Произвели анализ данных**\n",
    "\n",
    "    ***Посмотрели, как меняется концентрация металлов (Au, Ag, Pb) на различных этапах очистки**\n",
    "        * Концентрация золота повышается с каждым этапом\n",
    "        * Концентрация серебра с каждым этапом понижается\n",
    "        * Концентрация свинца сначала возрастает, потом остается приблизительно одинаковой \n",
    "        \n",
    "    ***Дополнительный вывод после постройки гистограмм**\n",
    "         * Присутствуют около нулевые значения, выбросы (удалили их в дальнейшем)\n",
    "         * Концентрация золота на каждом этапе растет и значительно увеличивается по сравнению с другими металлами.\n",
    "         * После флотации концентрация всех металлов возрастает\n",
    "       \n",
    "    * **Сравнение распределения размеров гранул сырья на обучающей и тестовой выборках. Если распределения сильно отличаются друг от друга, оценка модели будет неправильной**\n",
    "        * На этапе флотации размер гранул сырья на тестовой выборке незначительно смещено влево, средняя не сильно различается на тестовой выборке (55.9) и на обучающей выборке (59.9). \n",
    "        * На этапе первичная очистка выборки схожи.\n",
    "    * **Исследование суммарных концентраций всех веществ на разных стадиях: в сырье, в черновом и финальном концентратах**\n",
    "            * Изучили суммарные концентрации всех веществ на разных стадиях: в сырье, в черновом и финальном концентратах. \n",
    "            * Удалили выбросы, в нулевой зоне.\n",
    "\n",
    "**Построить модель**\n",
    "* **Написали функцию для вычисления итоговой sMAPE**\n",
    "* **Обучили разные модели и оценили их качество. Выбрали лучшую модель и проверили её на тестовой выборке.**\n",
    "    * Наилучшая итоговое sMAPE на модели RandomForestRegressor(Случайный лес) = 8.7 \n",
    "    * Итоговое sMAPE DecisionTreeRegressor на тестовой выборке 9.2.\n",
    "    * Проверена модель на адекватность:\n",
    "        * Итоговое sMAPE для Dummy 10.03\n",
    "        * sMAPE для Dummy выше наилучшей модели, значит модель адекватна."
   ]
  },
  {
   "cell_type": "markdown",
   "metadata": {},
   "source": [
    "## Чек-лист готовности проекта"
   ]
  },
  {
   "cell_type": "markdown",
   "metadata": {},
   "source": [
    "- [x]  Jupyter Notebook открыт\n",
    "- [x]  Весь код выполняется без ошибок\n",
    "- [x]  Ячейки с кодом расположены в порядке выполнения\n",
    "- [x]  Выполнен шаг 1: данные подготовлены\n",
    "    - [x]  Проверена формула вычисления эффективности обогащения\n",
    "    - [x]  Проанализированы признаки, недоступные в тестовой выборке\n",
    "    - [x]  Проведена предобработка данных\n",
    "- [x]  Выполнен шаг 2: данные проанализированы\n",
    "    - [x]  Исследовано изменение концентрации элементов на каждом этапе\n",
    "    - [x]  Проанализированы распределения размеров гранул на обучающей и тестовой выборках\n",
    "    - [x]  Исследованы суммарные концентрации\n",
    "- [x]  Выполнен шаг 3: построена модель прогнозирования\n",
    "    - [x]  Написана функция для вычисления итогового *sMAPE*\n",
    "    - [x]  Обучено и проверено несколько моделей\n",
    "    - [x]  Выбрана лучшая модель, её качество проверено на тестовой выборке"
   ]
  }
 ],
 "metadata": {
  "ExecuteTimeLog": [
   {
    "duration": 53,
    "start_time": "2023-11-14T17:03:37.233Z"
   },
   {
    "duration": 6,
    "start_time": "2023-11-14T17:03:53.005Z"
   },
   {
    "duration": 385,
    "start_time": "2023-11-14T17:03:57.608Z"
   },
   {
    "duration": 3071,
    "start_time": "2023-11-14T17:03:57.996Z"
   },
   {
    "duration": 68,
    "start_time": "2023-11-14T17:04:01.069Z"
   },
   {
    "duration": 21,
    "start_time": "2023-11-14T17:04:07.594Z"
   },
   {
    "duration": 28,
    "start_time": "2023-11-14T17:04:18.555Z"
   },
   {
    "duration": 22,
    "start_time": "2023-11-14T17:06:16.774Z"
   },
   {
    "duration": 423,
    "start_time": "2023-11-14T17:06:21.543Z"
   },
   {
    "duration": 700,
    "start_time": "2023-11-14T17:06:21.968Z"
   },
   {
    "duration": 29,
    "start_time": "2023-11-14T17:06:22.669Z"
   },
   {
    "duration": 22,
    "start_time": "2023-11-14T17:06:49.020Z"
   },
   {
    "duration": 41,
    "start_time": "2023-11-14T17:07:05.364Z"
   },
   {
    "duration": 393,
    "start_time": "2023-11-14T17:07:14.987Z"
   },
   {
    "duration": 733,
    "start_time": "2023-11-14T17:07:15.382Z"
   },
   {
    "duration": 53,
    "start_time": "2023-11-14T17:07:16.116Z"
   },
   {
    "duration": 57,
    "start_time": "2023-11-14T17:07:44.166Z"
   },
   {
    "duration": 394,
    "start_time": "2023-11-14T17:08:28.784Z"
   },
   {
    "duration": 681,
    "start_time": "2023-11-14T17:08:29.180Z"
   },
   {
    "duration": 3,
    "start_time": "2023-11-14T17:08:29.865Z"
   },
   {
    "duration": 135,
    "start_time": "2023-11-14T17:08:29.869Z"
   },
   {
    "duration": 41,
    "start_time": "2023-11-14T17:12:44.767Z"
   },
   {
    "duration": 114,
    "start_time": "2023-11-14T17:13:09.608Z"
   },
   {
    "duration": 102,
    "start_time": "2023-11-14T17:17:07.821Z"
   },
   {
    "duration": 46,
    "start_time": "2023-11-14T17:17:14.264Z"
   },
   {
    "duration": 39,
    "start_time": "2023-11-14T17:44:31.586Z"
   },
   {
    "duration": 7,
    "start_time": "2023-11-14T17:55:29.166Z"
   },
   {
    "duration": 40,
    "start_time": "2023-11-14T18:01:40.170Z"
   },
   {
    "duration": 5,
    "start_time": "2023-11-14T18:01:50.949Z"
   },
   {
    "duration": 5,
    "start_time": "2023-11-14T18:03:52.996Z"
   },
   {
    "duration": 942,
    "start_time": "2023-11-14T18:15:04.873Z"
   },
   {
    "duration": 0,
    "start_time": "2023-11-14T18:15:05.818Z"
   },
   {
    "duration": 213,
    "start_time": "2023-11-14T18:15:08.226Z"
   },
   {
    "duration": 93,
    "start_time": "2023-11-14T18:15:21.286Z"
   },
   {
    "duration": 75,
    "start_time": "2023-11-14T18:17:21.893Z"
   },
   {
    "duration": 93,
    "start_time": "2023-11-14T18:17:49.929Z"
   },
   {
    "duration": 5,
    "start_time": "2023-11-14T18:18:36.135Z"
   },
   {
    "duration": 5,
    "start_time": "2023-11-14T18:18:47.718Z"
   },
   {
    "duration": 93,
    "start_time": "2023-11-14T18:18:53.861Z"
   },
   {
    "duration": 8,
    "start_time": "2023-11-14T18:19:02.971Z"
   },
   {
    "duration": 110,
    "start_time": "2023-11-14T18:19:11.092Z"
   },
   {
    "duration": 113,
    "start_time": "2023-11-14T18:19:18.823Z"
   },
   {
    "duration": 5,
    "start_time": "2023-11-14T18:19:51.565Z"
   },
   {
    "duration": 6,
    "start_time": "2023-11-14T18:20:01.672Z"
   },
   {
    "duration": 5,
    "start_time": "2023-11-14T18:20:13.816Z"
   },
   {
    "duration": 5,
    "start_time": "2023-11-14T18:20:14.932Z"
   },
   {
    "duration": 5,
    "start_time": "2023-11-14T18:20:23.974Z"
   },
   {
    "duration": 134,
    "start_time": "2023-11-14T18:20:29.176Z"
   },
   {
    "duration": 98,
    "start_time": "2023-11-14T18:20:39.510Z"
   },
   {
    "duration": 6,
    "start_time": "2023-11-14T18:20:45.264Z"
   },
   {
    "duration": 95,
    "start_time": "2023-11-14T18:20:53.567Z"
   },
   {
    "duration": 6,
    "start_time": "2023-11-14T18:21:01.285Z"
   },
   {
    "duration": 5,
    "start_time": "2023-11-14T18:21:03.225Z"
   },
   {
    "duration": 68,
    "start_time": "2023-11-14T18:24:08.774Z"
   },
   {
    "duration": 4,
    "start_time": "2023-11-14T18:26:52.253Z"
   },
   {
    "duration": 70,
    "start_time": "2023-11-14T18:27:16.559Z"
   },
   {
    "duration": 3,
    "start_time": "2023-11-14T18:27:35.597Z"
   },
   {
    "duration": 7,
    "start_time": "2023-11-14T18:41:05.340Z"
   },
   {
    "duration": 1090,
    "start_time": "2023-11-14T18:41:09.050Z"
   },
   {
    "duration": 686,
    "start_time": "2023-11-14T18:41:10.142Z"
   },
   {
    "duration": 4,
    "start_time": "2023-11-14T18:41:10.830Z"
   },
   {
    "duration": 143,
    "start_time": "2023-11-14T18:41:10.836Z"
   },
   {
    "duration": 46,
    "start_time": "2023-11-14T18:41:10.981Z"
   },
   {
    "duration": 6,
    "start_time": "2023-11-14T18:41:11.029Z"
   },
   {
    "duration": 42,
    "start_time": "2023-11-14T18:41:11.036Z"
   },
   {
    "duration": 50,
    "start_time": "2023-11-14T18:41:11.079Z"
   },
   {
    "duration": 147,
    "start_time": "2023-11-14T18:41:11.131Z"
   },
   {
    "duration": 5,
    "start_time": "2023-11-14T18:41:25.026Z"
   },
   {
    "duration": 4,
    "start_time": "2023-11-14T18:45:25.242Z"
   },
   {
    "duration": 4,
    "start_time": "2023-11-14T18:45:26.104Z"
   },
   {
    "duration": 3,
    "start_time": "2023-11-14T18:47:23.999Z"
   },
   {
    "duration": 2,
    "start_time": "2023-11-14T18:47:48.315Z"
   },
   {
    "duration": 4,
    "start_time": "2023-11-14T18:48:09.216Z"
   },
   {
    "duration": 1072,
    "start_time": "2023-11-14T18:48:19.377Z"
   },
   {
    "duration": 674,
    "start_time": "2023-11-14T18:48:20.451Z"
   },
   {
    "duration": 3,
    "start_time": "2023-11-14T18:48:21.127Z"
   },
   {
    "duration": 144,
    "start_time": "2023-11-14T18:48:21.131Z"
   },
   {
    "duration": 54,
    "start_time": "2023-11-14T18:48:21.278Z"
   },
   {
    "duration": 34,
    "start_time": "2023-11-14T18:48:21.334Z"
   },
   {
    "duration": 10,
    "start_time": "2023-11-14T18:48:21.370Z"
   },
   {
    "duration": 10,
    "start_time": "2023-11-14T18:48:21.382Z"
   },
   {
    "duration": 60,
    "start_time": "2023-11-15T15:32:35.636Z"
   },
   {
    "duration": 1071,
    "start_time": "2023-11-15T15:32:39.193Z"
   },
   {
    "duration": 3068,
    "start_time": "2023-11-15T15:32:40.267Z"
   },
   {
    "duration": 3,
    "start_time": "2023-11-15T15:32:43.337Z"
   },
   {
    "duration": 134,
    "start_time": "2023-11-15T15:32:43.342Z"
   },
   {
    "duration": 40,
    "start_time": "2023-11-15T15:32:43.478Z"
   },
   {
    "duration": 6,
    "start_time": "2023-11-15T15:32:43.519Z"
   },
   {
    "duration": 5,
    "start_time": "2023-11-15T15:32:43.526Z"
   },
   {
    "duration": 11,
    "start_time": "2023-11-15T15:32:43.532Z"
   },
   {
    "duration": 127,
    "start_time": "2023-11-15T15:32:43.545Z"
   },
   {
    "duration": 6,
    "start_time": "2023-11-15T15:32:57.762Z"
   },
   {
    "duration": 6,
    "start_time": "2023-11-15T15:33:04.174Z"
   },
   {
    "duration": 8,
    "start_time": "2023-11-15T15:33:20.583Z"
   },
   {
    "duration": 8,
    "start_time": "2023-11-15T15:33:41.999Z"
   },
   {
    "duration": 6,
    "start_time": "2023-11-15T15:33:46.870Z"
   },
   {
    "duration": 4,
    "start_time": "2023-11-15T15:34:23.620Z"
   },
   {
    "duration": 8,
    "start_time": "2023-11-15T15:34:40.182Z"
   },
   {
    "duration": 5,
    "start_time": "2023-11-15T15:35:41.807Z"
   },
   {
    "duration": 4,
    "start_time": "2023-11-15T15:35:47.580Z"
   },
   {
    "duration": 5,
    "start_time": "2023-11-15T15:36:02.389Z"
   },
   {
    "duration": 6,
    "start_time": "2023-11-15T15:36:11.176Z"
   },
   {
    "duration": 9,
    "start_time": "2023-11-15T16:11:03.468Z"
   },
   {
    "duration": 4,
    "start_time": "2023-11-15T16:11:09.586Z"
   },
   {
    "duration": 5,
    "start_time": "2023-11-15T16:11:14.139Z"
   },
   {
    "duration": 14,
    "start_time": "2023-11-15T17:20:41.309Z"
   },
   {
    "duration": 13,
    "start_time": "2023-11-15T17:21:43.096Z"
   },
   {
    "duration": 3,
    "start_time": "2023-11-15T17:22:54.678Z"
   },
   {
    "duration": 1088,
    "start_time": "2023-11-15T17:22:58.668Z"
   },
   {
    "duration": 651,
    "start_time": "2023-11-15T17:22:59.758Z"
   },
   {
    "duration": 4,
    "start_time": "2023-11-15T17:23:00.411Z"
   },
   {
    "duration": 148,
    "start_time": "2023-11-15T17:23:00.417Z"
   },
   {
    "duration": 48,
    "start_time": "2023-11-15T17:23:00.567Z"
   },
   {
    "duration": 7,
    "start_time": "2023-11-15T17:23:00.617Z"
   },
   {
    "duration": 40,
    "start_time": "2023-11-15T17:23:00.626Z"
   },
   {
    "duration": 31,
    "start_time": "2023-11-15T17:23:00.668Z"
   },
   {
    "duration": 32,
    "start_time": "2023-11-15T17:23:00.701Z"
   },
   {
    "duration": 60,
    "start_time": "2023-11-15T17:23:00.735Z"
   },
   {
    "duration": 132,
    "start_time": "2023-11-15T17:23:00.797Z"
   },
   {
    "duration": 67,
    "start_time": "2023-11-15T17:26:04.632Z"
   },
   {
    "duration": 2072,
    "start_time": "2023-11-15T17:26:24.804Z"
   },
   {
    "duration": 20,
    "start_time": "2023-11-15T17:26:46.565Z"
   },
   {
    "duration": 1180,
    "start_time": "2023-11-15T17:26:55.559Z"
   },
   {
    "duration": 662,
    "start_time": "2023-11-15T17:26:56.742Z"
   },
   {
    "duration": 3,
    "start_time": "2023-11-15T17:26:57.405Z"
   },
   {
    "duration": 128,
    "start_time": "2023-11-15T17:26:57.411Z"
   },
   {
    "duration": 63,
    "start_time": "2023-11-15T17:26:57.540Z"
   },
   {
    "duration": 7,
    "start_time": "2023-11-15T17:26:57.605Z"
   },
   {
    "duration": 20,
    "start_time": "2023-11-15T17:26:57.614Z"
   },
   {
    "duration": 14,
    "start_time": "2023-11-15T17:26:57.636Z"
   },
   {
    "duration": 16,
    "start_time": "2023-11-15T17:26:57.652Z"
   },
   {
    "duration": 124,
    "start_time": "2023-11-15T17:26:57.671Z"
   },
   {
    "duration": 0,
    "start_time": "2023-11-15T17:27:28.025Z"
   },
   {
    "duration": 15,
    "start_time": "2023-11-15T17:27:56.199Z"
   },
   {
    "duration": 1619,
    "start_time": "2023-11-15T17:28:03.959Z"
   },
   {
    "duration": 25,
    "start_time": "2023-11-15T17:28:12.782Z"
   },
   {
    "duration": 76,
    "start_time": "2023-11-15T17:47:40.614Z"
   },
   {
    "duration": 28,
    "start_time": "2023-11-15T17:47:57.538Z"
   },
   {
    "duration": 24,
    "start_time": "2023-11-15T17:48:22.875Z"
   },
   {
    "duration": 35,
    "start_time": "2023-11-15T17:48:45.502Z"
   },
   {
    "duration": 21,
    "start_time": "2023-11-15T17:50:13.147Z"
   },
   {
    "duration": 8,
    "start_time": "2023-11-15T17:52:27.990Z"
   },
   {
    "duration": 3,
    "start_time": "2023-11-15T17:52:33.477Z"
   },
   {
    "duration": 3,
    "start_time": "2023-11-15T17:53:24.163Z"
   },
   {
    "duration": 1047,
    "start_time": "2023-11-15T17:53:31.615Z"
   },
   {
    "duration": 681,
    "start_time": "2023-11-15T17:53:32.664Z"
   },
   {
    "duration": 2,
    "start_time": "2023-11-15T17:53:33.347Z"
   },
   {
    "duration": 173,
    "start_time": "2023-11-15T17:53:33.351Z"
   },
   {
    "duration": 61,
    "start_time": "2023-11-15T17:53:33.525Z"
   },
   {
    "duration": 6,
    "start_time": "2023-11-15T17:53:33.587Z"
   },
   {
    "duration": 13,
    "start_time": "2023-11-15T17:53:33.594Z"
   },
   {
    "duration": 8,
    "start_time": "2023-11-15T17:53:33.609Z"
   },
   {
    "duration": 13,
    "start_time": "2023-11-15T17:53:33.619Z"
   },
   {
    "duration": 21,
    "start_time": "2023-11-15T17:53:33.634Z"
   },
   {
    "duration": 31,
    "start_time": "2023-11-15T17:53:33.656Z"
   },
   {
    "duration": 19,
    "start_time": "2023-11-15T17:54:37.109Z"
   },
   {
    "duration": 24,
    "start_time": "2023-11-15T17:55:16.907Z"
   },
   {
    "duration": 2,
    "start_time": "2023-11-15T17:55:52.994Z"
   },
   {
    "duration": 16,
    "start_time": "2023-11-15T17:58:44.530Z"
   },
   {
    "duration": 6549,
    "start_time": "2023-11-15T17:58:52.591Z"
   },
   {
    "duration": 21,
    "start_time": "2023-11-15T17:59:37.111Z"
   },
   {
    "duration": 19,
    "start_time": "2023-11-15T18:00:35.326Z"
   },
   {
    "duration": 22,
    "start_time": "2023-11-15T18:00:53.583Z"
   },
   {
    "duration": 26,
    "start_time": "2023-11-15T18:02:17.176Z"
   },
   {
    "duration": 33,
    "start_time": "2023-11-15T18:06:11.764Z"
   },
   {
    "duration": 27,
    "start_time": "2023-11-15T18:06:53.192Z"
   },
   {
    "duration": 1112,
    "start_time": "2023-11-15T18:07:22.139Z"
   },
   {
    "duration": 697,
    "start_time": "2023-11-15T18:07:23.253Z"
   },
   {
    "duration": 3,
    "start_time": "2023-11-15T18:07:23.951Z"
   },
   {
    "duration": 199,
    "start_time": "2023-11-15T18:07:23.956Z"
   },
   {
    "duration": 51,
    "start_time": "2023-11-15T18:07:24.156Z"
   },
   {
    "duration": 6,
    "start_time": "2023-11-15T18:07:24.208Z"
   },
   {
    "duration": 25,
    "start_time": "2023-11-15T18:07:24.216Z"
   },
   {
    "duration": 26,
    "start_time": "2023-11-15T18:07:24.242Z"
   },
   {
    "duration": 11,
    "start_time": "2023-11-15T18:07:24.270Z"
   },
   {
    "duration": 52,
    "start_time": "2023-11-15T18:07:24.284Z"
   },
   {
    "duration": 23,
    "start_time": "2023-11-15T18:07:24.338Z"
   },
   {
    "duration": 52,
    "start_time": "2023-11-15T18:07:24.363Z"
   },
   {
    "duration": 20,
    "start_time": "2023-11-15T18:07:24.416Z"
   },
   {
    "duration": 104,
    "start_time": "2023-11-15T18:09:41.092Z"
   },
   {
    "duration": 126,
    "start_time": "2023-11-15T18:09:43.908Z"
   },
   {
    "duration": 25,
    "start_time": "2023-11-15T18:09:44.345Z"
   },
   {
    "duration": 131,
    "start_time": "2023-11-15T18:12:18.558Z"
   },
   {
    "duration": 349,
    "start_time": "2023-11-15T18:13:07.786Z"
   },
   {
    "duration": 230,
    "start_time": "2023-11-15T18:13:37.467Z"
   },
   {
    "duration": 90,
    "start_time": "2023-11-16T16:30:16.097Z"
   },
   {
    "duration": 49,
    "start_time": "2023-11-16T17:37:49.660Z"
   },
   {
    "duration": 1077,
    "start_time": "2023-11-16T17:37:53.690Z"
   },
   {
    "duration": 3022,
    "start_time": "2023-11-16T17:37:54.769Z"
   },
   {
    "duration": 3,
    "start_time": "2023-11-16T17:37:57.793Z"
   },
   {
    "duration": 173,
    "start_time": "2023-11-16T17:37:57.799Z"
   },
   {
    "duration": 42,
    "start_time": "2023-11-16T17:37:57.974Z"
   },
   {
    "duration": 6,
    "start_time": "2023-11-16T17:37:58.018Z"
   },
   {
    "duration": 41,
    "start_time": "2023-11-16T17:37:58.026Z"
   },
   {
    "duration": 12,
    "start_time": "2023-11-16T17:37:58.069Z"
   },
   {
    "duration": 4,
    "start_time": "2023-11-16T17:37:58.083Z"
   },
   {
    "duration": 26,
    "start_time": "2023-11-16T17:37:58.088Z"
   },
   {
    "duration": 55,
    "start_time": "2023-11-16T17:37:58.116Z"
   },
   {
    "duration": 36,
    "start_time": "2023-11-16T17:37:58.173Z"
   },
   {
    "duration": 20,
    "start_time": "2023-11-16T17:37:58.211Z"
   },
   {
    "duration": 290,
    "start_time": "2023-11-16T17:37:58.233Z"
   },
   {
    "duration": 4,
    "start_time": "2023-11-16T17:37:58.525Z"
   },
   {
    "duration": 1548,
    "start_time": "2023-11-16T17:38:37.091Z"
   },
   {
    "duration": 1582,
    "start_time": "2023-11-16T17:41:13.699Z"
   },
   {
    "duration": 4,
    "start_time": "2023-11-16T17:42:59.533Z"
   },
   {
    "duration": 6,
    "start_time": "2023-11-16T17:43:32.556Z"
   },
   {
    "duration": 5,
    "start_time": "2023-11-16T17:44:11.908Z"
   },
   {
    "duration": 579,
    "start_time": "2023-11-16T17:49:59.407Z"
   },
   {
    "duration": 116,
    "start_time": "2023-11-16T17:50:57.350Z"
   },
   {
    "duration": 1512,
    "start_time": "2023-11-16T17:51:01.586Z"
   },
   {
    "duration": 725,
    "start_time": "2023-11-16T17:51:03.100Z"
   },
   {
    "duration": 3,
    "start_time": "2023-11-16T17:51:03.829Z"
   },
   {
    "duration": 179,
    "start_time": "2023-11-16T17:51:03.834Z"
   },
   {
    "duration": 66,
    "start_time": "2023-11-16T17:51:04.015Z"
   },
   {
    "duration": 6,
    "start_time": "2023-11-16T17:51:04.084Z"
   },
   {
    "duration": 13,
    "start_time": "2023-11-16T17:51:04.091Z"
   },
   {
    "duration": 6,
    "start_time": "2023-11-16T17:51:04.106Z"
   },
   {
    "duration": 4,
    "start_time": "2023-11-16T17:51:04.115Z"
   },
   {
    "duration": 58,
    "start_time": "2023-11-16T17:51:04.121Z"
   },
   {
    "duration": 24,
    "start_time": "2023-11-16T17:51:04.181Z"
   },
   {
    "duration": 68,
    "start_time": "2023-11-16T17:51:04.207Z"
   },
   {
    "duration": 29,
    "start_time": "2023-11-16T17:51:04.277Z"
   },
   {
    "duration": 286,
    "start_time": "2023-11-16T17:51:04.308Z"
   },
   {
    "duration": 6,
    "start_time": "2023-11-16T17:51:04.596Z"
   },
   {
    "duration": 137,
    "start_time": "2023-11-16T17:51:04.603Z"
   },
   {
    "duration": 3,
    "start_time": "2023-11-16T17:51:45.272Z"
   },
   {
    "duration": 1505,
    "start_time": "2023-11-16T17:51:50.073Z"
   },
   {
    "duration": 718,
    "start_time": "2023-11-16T17:51:51.580Z"
   },
   {
    "duration": 4,
    "start_time": "2023-11-16T17:51:52.299Z"
   },
   {
    "duration": 220,
    "start_time": "2023-11-16T17:51:52.306Z"
   },
   {
    "duration": 63,
    "start_time": "2023-11-16T17:51:52.529Z"
   },
   {
    "duration": 7,
    "start_time": "2023-11-16T17:51:52.594Z"
   },
   {
    "duration": 9,
    "start_time": "2023-11-16T17:51:52.602Z"
   },
   {
    "duration": 4,
    "start_time": "2023-11-16T17:51:52.612Z"
   },
   {
    "duration": 6,
    "start_time": "2023-11-16T17:51:52.618Z"
   },
   {
    "duration": 65,
    "start_time": "2023-11-16T17:51:52.626Z"
   },
   {
    "duration": 25,
    "start_time": "2023-11-16T17:51:52.693Z"
   },
   {
    "duration": 71,
    "start_time": "2023-11-16T17:51:52.719Z"
   },
   {
    "duration": 23,
    "start_time": "2023-11-16T17:51:52.792Z"
   },
   {
    "duration": 307,
    "start_time": "2023-11-16T17:51:52.817Z"
   },
   {
    "duration": 7,
    "start_time": "2023-11-16T17:51:53.126Z"
   },
   {
    "duration": 186,
    "start_time": "2023-11-16T17:51:53.135Z"
   },
   {
    "duration": 165,
    "start_time": "2023-11-16T17:53:42.076Z"
   },
   {
    "duration": 169,
    "start_time": "2023-11-16T17:53:49.398Z"
   },
   {
    "duration": 206,
    "start_time": "2023-11-16T17:53:56.552Z"
   },
   {
    "duration": 163,
    "start_time": "2023-11-16T17:54:01.248Z"
   },
   {
    "duration": 240,
    "start_time": "2023-11-16T17:54:45.957Z"
   },
   {
    "duration": 169,
    "start_time": "2023-11-16T17:55:00.274Z"
   },
   {
    "duration": 190,
    "start_time": "2023-11-16T17:55:22.028Z"
   },
   {
    "duration": 168,
    "start_time": "2023-11-16T17:55:57.511Z"
   },
   {
    "duration": 181,
    "start_time": "2023-11-16T17:56:02.967Z"
   },
   {
    "duration": 181,
    "start_time": "2023-11-16T17:57:35.521Z"
   },
   {
    "duration": 169,
    "start_time": "2023-11-16T17:59:17.109Z"
   },
   {
    "duration": 3,
    "start_time": "2023-11-16T18:01:14.027Z"
   },
   {
    "duration": 86,
    "start_time": "2023-11-16T18:01:36.510Z"
   },
   {
    "duration": 118,
    "start_time": "2023-11-16T18:01:55.376Z"
   },
   {
    "duration": 2,
    "start_time": "2023-11-16T18:02:13.280Z"
   },
   {
    "duration": 502,
    "start_time": "2023-11-16T18:02:13.568Z"
   },
   {
    "duration": 82,
    "start_time": "2023-11-16T18:05:32.363Z"
   },
   {
    "duration": 1350,
    "start_time": "2023-11-16T18:06:27.699Z"
   },
   {
    "duration": 718,
    "start_time": "2023-11-16T18:06:29.051Z"
   },
   {
    "duration": 5,
    "start_time": "2023-11-16T18:06:29.770Z"
   },
   {
    "duration": 170,
    "start_time": "2023-11-16T18:06:29.778Z"
   },
   {
    "duration": 59,
    "start_time": "2023-11-16T18:06:29.949Z"
   },
   {
    "duration": 7,
    "start_time": "2023-11-16T18:06:30.010Z"
   },
   {
    "duration": 44,
    "start_time": "2023-11-16T18:06:30.019Z"
   },
   {
    "duration": 46,
    "start_time": "2023-11-16T18:06:30.065Z"
   },
   {
    "duration": 37,
    "start_time": "2023-11-16T18:06:30.112Z"
   },
   {
    "duration": 51,
    "start_time": "2023-11-16T18:06:30.151Z"
   },
   {
    "duration": 78,
    "start_time": "2023-11-16T18:06:30.204Z"
   },
   {
    "duration": 47,
    "start_time": "2023-11-16T18:06:30.283Z"
   },
   {
    "duration": 20,
    "start_time": "2023-11-16T18:06:30.331Z"
   },
   {
    "duration": 277,
    "start_time": "2023-11-16T18:06:30.352Z"
   },
   {
    "duration": 6,
    "start_time": "2023-11-16T18:06:30.631Z"
   },
   {
    "duration": 220,
    "start_time": "2023-11-16T18:06:30.638Z"
   },
   {
    "duration": 16,
    "start_time": "2023-11-16T18:06:30.860Z"
   },
   {
    "duration": 1377,
    "start_time": "2023-11-16T18:07:04.013Z"
   },
   {
    "duration": 770,
    "start_time": "2023-11-16T18:07:05.392Z"
   },
   {
    "duration": 4,
    "start_time": "2023-11-16T18:07:06.175Z"
   },
   {
    "duration": 204,
    "start_time": "2023-11-16T18:07:06.180Z"
   },
   {
    "duration": 46,
    "start_time": "2023-11-16T18:07:06.385Z"
   },
   {
    "duration": 6,
    "start_time": "2023-11-16T18:07:06.433Z"
   },
   {
    "duration": 29,
    "start_time": "2023-11-16T18:07:06.440Z"
   },
   {
    "duration": 5,
    "start_time": "2023-11-16T18:07:06.480Z"
   },
   {
    "duration": 35,
    "start_time": "2023-11-16T18:07:06.487Z"
   },
   {
    "duration": 48,
    "start_time": "2023-11-16T18:07:06.524Z"
   },
   {
    "duration": 26,
    "start_time": "2023-11-16T18:07:06.574Z"
   },
   {
    "duration": 37,
    "start_time": "2023-11-16T18:07:06.601Z"
   },
   {
    "duration": 49,
    "start_time": "2023-11-16T18:07:06.640Z"
   },
   {
    "duration": 294,
    "start_time": "2023-11-16T18:07:06.690Z"
   },
   {
    "duration": 8,
    "start_time": "2023-11-16T18:07:06.986Z"
   },
   {
    "duration": 213,
    "start_time": "2023-11-16T18:07:06.996Z"
   },
   {
    "duration": 3,
    "start_time": "2023-11-16T18:07:07.211Z"
   },
   {
    "duration": 319,
    "start_time": "2023-11-16T18:07:07.216Z"
   },
   {
    "duration": 166,
    "start_time": "2023-11-16T18:09:10.598Z"
   },
   {
    "duration": 558,
    "start_time": "2023-11-16T18:09:17.243Z"
   },
   {
    "duration": 484,
    "start_time": "2023-11-16T18:09:26.515Z"
   },
   {
    "duration": 504,
    "start_time": "2023-11-16T18:09:34.247Z"
   },
   {
    "duration": 1399,
    "start_time": "2023-11-16T18:10:33.753Z"
   },
   {
    "duration": 716,
    "start_time": "2023-11-16T18:10:35.154Z"
   },
   {
    "duration": 4,
    "start_time": "2023-11-16T18:10:35.873Z"
   },
   {
    "duration": 229,
    "start_time": "2023-11-16T18:10:35.878Z"
   },
   {
    "duration": 59,
    "start_time": "2023-11-16T18:10:36.108Z"
   },
   {
    "duration": 7,
    "start_time": "2023-11-16T18:10:36.168Z"
   },
   {
    "duration": 28,
    "start_time": "2023-11-16T18:10:36.176Z"
   },
   {
    "duration": 23,
    "start_time": "2023-11-16T18:10:36.205Z"
   },
   {
    "duration": 18,
    "start_time": "2023-11-16T18:10:36.231Z"
   },
   {
    "duration": 37,
    "start_time": "2023-11-16T18:10:36.251Z"
   },
   {
    "duration": 38,
    "start_time": "2023-11-16T18:10:36.290Z"
   },
   {
    "duration": 33,
    "start_time": "2023-11-16T18:10:36.329Z"
   },
   {
    "duration": 20,
    "start_time": "2023-11-16T18:10:36.364Z"
   },
   {
    "duration": 255,
    "start_time": "2023-11-16T18:10:36.386Z"
   },
   {
    "duration": 5,
    "start_time": "2023-11-16T18:10:36.643Z"
   },
   {
    "duration": 185,
    "start_time": "2023-11-16T18:10:36.650Z"
   },
   {
    "duration": 3,
    "start_time": "2023-11-16T18:10:36.837Z"
   },
   {
    "duration": 1359,
    "start_time": "2023-11-16T18:10:57.007Z"
   },
   {
    "duration": 716,
    "start_time": "2023-11-16T18:10:58.368Z"
   },
   {
    "duration": 3,
    "start_time": "2023-11-16T18:10:59.085Z"
   },
   {
    "duration": 159,
    "start_time": "2023-11-16T18:10:59.090Z"
   },
   {
    "duration": 56,
    "start_time": "2023-11-16T18:10:59.251Z"
   },
   {
    "duration": 7,
    "start_time": "2023-11-16T18:10:59.309Z"
   },
   {
    "duration": 6,
    "start_time": "2023-11-16T18:10:59.317Z"
   },
   {
    "duration": 7,
    "start_time": "2023-11-16T18:10:59.324Z"
   },
   {
    "duration": 37,
    "start_time": "2023-11-16T18:10:59.332Z"
   },
   {
    "duration": 22,
    "start_time": "2023-11-16T18:10:59.371Z"
   },
   {
    "duration": 25,
    "start_time": "2023-11-16T18:10:59.395Z"
   },
   {
    "duration": 62,
    "start_time": "2023-11-16T18:10:59.422Z"
   },
   {
    "duration": 21,
    "start_time": "2023-11-16T18:10:59.486Z"
   },
   {
    "duration": 272,
    "start_time": "2023-11-16T18:10:59.508Z"
   },
   {
    "duration": 6,
    "start_time": "2023-11-16T18:10:59.782Z"
   },
   {
    "duration": 185,
    "start_time": "2023-11-16T18:10:59.789Z"
   },
   {
    "duration": 3,
    "start_time": "2023-11-16T18:10:59.975Z"
   },
   {
    "duration": 1319,
    "start_time": "2023-11-16T18:11:37.427Z"
   },
   {
    "duration": 702,
    "start_time": "2023-11-16T18:11:38.747Z"
   },
   {
    "duration": 3,
    "start_time": "2023-11-16T18:11:39.466Z"
   },
   {
    "duration": 194,
    "start_time": "2023-11-16T18:11:39.471Z"
   },
   {
    "duration": 41,
    "start_time": "2023-11-16T18:11:39.667Z"
   },
   {
    "duration": 7,
    "start_time": "2023-11-16T18:11:39.710Z"
   },
   {
    "duration": 6,
    "start_time": "2023-11-16T18:11:39.719Z"
   },
   {
    "duration": 10,
    "start_time": "2023-11-16T18:11:39.726Z"
   },
   {
    "duration": 5,
    "start_time": "2023-11-16T18:11:39.766Z"
   },
   {
    "duration": 25,
    "start_time": "2023-11-16T18:11:39.774Z"
   },
   {
    "duration": 26,
    "start_time": "2023-11-16T18:11:39.800Z"
   },
   {
    "duration": 67,
    "start_time": "2023-11-16T18:11:39.828Z"
   },
   {
    "duration": 23,
    "start_time": "2023-11-16T18:11:39.897Z"
   },
   {
    "duration": 283,
    "start_time": "2023-11-16T18:11:39.922Z"
   },
   {
    "duration": 6,
    "start_time": "2023-11-16T18:11:40.207Z"
   },
   {
    "duration": 185,
    "start_time": "2023-11-16T18:11:40.214Z"
   },
   {
    "duration": 2,
    "start_time": "2023-11-16T18:11:40.401Z"
   },
   {
    "duration": 291,
    "start_time": "2023-11-16T18:11:40.405Z"
   },
   {
    "duration": 1348,
    "start_time": "2023-11-16T18:12:41.164Z"
   },
   {
    "duration": 700,
    "start_time": "2023-11-16T18:12:42.514Z"
   },
   {
    "duration": 3,
    "start_time": "2023-11-16T18:12:43.215Z"
   },
   {
    "duration": 167,
    "start_time": "2023-11-16T18:12:43.220Z"
   },
   {
    "duration": 43,
    "start_time": "2023-11-16T18:12:43.389Z"
   },
   {
    "duration": 34,
    "start_time": "2023-11-16T18:12:43.434Z"
   },
   {
    "duration": 5,
    "start_time": "2023-11-16T18:12:43.470Z"
   },
   {
    "duration": 10,
    "start_time": "2023-11-16T18:12:43.476Z"
   },
   {
    "duration": 6,
    "start_time": "2023-11-16T18:12:43.487Z"
   },
   {
    "duration": 21,
    "start_time": "2023-11-16T18:12:43.495Z"
   },
   {
    "duration": 51,
    "start_time": "2023-11-16T18:12:43.518Z"
   },
   {
    "duration": 35,
    "start_time": "2023-11-16T18:12:43.571Z"
   },
   {
    "duration": 23,
    "start_time": "2023-11-16T18:12:43.608Z"
   },
   {
    "duration": 292,
    "start_time": "2023-11-16T18:12:43.633Z"
   },
   {
    "duration": 5,
    "start_time": "2023-11-16T18:12:43.927Z"
   },
   {
    "duration": 193,
    "start_time": "2023-11-16T18:12:43.933Z"
   },
   {
    "duration": 4,
    "start_time": "2023-11-16T18:12:44.128Z"
   },
   {
    "duration": 515,
    "start_time": "2023-11-16T18:12:44.134Z"
   },
   {
    "duration": 1419,
    "start_time": "2023-11-16T18:13:04.947Z"
   },
   {
    "duration": 690,
    "start_time": "2023-11-16T18:13:06.368Z"
   },
   {
    "duration": 3,
    "start_time": "2023-11-16T18:13:07.060Z"
   },
   {
    "duration": 166,
    "start_time": "2023-11-16T18:13:07.066Z"
   },
   {
    "duration": 56,
    "start_time": "2023-11-16T18:13:07.234Z"
   },
   {
    "duration": 7,
    "start_time": "2023-11-16T18:13:07.292Z"
   },
   {
    "duration": 4,
    "start_time": "2023-11-16T18:13:07.301Z"
   },
   {
    "duration": 8,
    "start_time": "2023-11-16T18:13:07.307Z"
   },
   {
    "duration": 9,
    "start_time": "2023-11-16T18:13:07.317Z"
   },
   {
    "duration": 52,
    "start_time": "2023-11-16T18:13:07.329Z"
   },
   {
    "duration": 23,
    "start_time": "2023-11-16T18:13:07.383Z"
   },
   {
    "duration": 59,
    "start_time": "2023-11-16T18:13:07.407Z"
   },
   {
    "duration": 20,
    "start_time": "2023-11-16T18:13:07.468Z"
   },
   {
    "duration": 264,
    "start_time": "2023-11-16T18:13:07.490Z"
   },
   {
    "duration": 10,
    "start_time": "2023-11-16T18:13:07.756Z"
   },
   {
    "duration": 180,
    "start_time": "2023-11-16T18:13:07.768Z"
   },
   {
    "duration": 3,
    "start_time": "2023-11-16T18:13:07.949Z"
   },
   {
    "duration": 518,
    "start_time": "2023-11-16T18:13:07.953Z"
   },
   {
    "duration": 578,
    "start_time": "2023-11-16T18:13:24.780Z"
   },
   {
    "duration": 1453,
    "start_time": "2023-11-16T18:14:25.982Z"
   },
   {
    "duration": 695,
    "start_time": "2023-11-16T18:14:27.437Z"
   },
   {
    "duration": 3,
    "start_time": "2023-11-16T18:14:28.133Z"
   },
   {
    "duration": 196,
    "start_time": "2023-11-16T18:14:28.138Z"
   },
   {
    "duration": 65,
    "start_time": "2023-11-16T18:14:28.336Z"
   },
   {
    "duration": 9,
    "start_time": "2023-11-16T18:14:28.403Z"
   },
   {
    "duration": 6,
    "start_time": "2023-11-16T18:14:28.414Z"
   },
   {
    "duration": 23,
    "start_time": "2023-11-16T18:14:28.422Z"
   },
   {
    "duration": 23,
    "start_time": "2023-11-16T18:14:28.446Z"
   },
   {
    "duration": 44,
    "start_time": "2023-11-16T18:14:28.472Z"
   },
   {
    "duration": 54,
    "start_time": "2023-11-16T18:14:28.518Z"
   },
   {
    "duration": 34,
    "start_time": "2023-11-16T18:14:28.575Z"
   },
   {
    "duration": 23,
    "start_time": "2023-11-16T18:14:28.611Z"
   },
   {
    "duration": 264,
    "start_time": "2023-11-16T18:14:28.667Z"
   },
   {
    "duration": 6,
    "start_time": "2023-11-16T18:14:28.932Z"
   },
   {
    "duration": 202,
    "start_time": "2023-11-16T18:14:28.940Z"
   },
   {
    "duration": 3,
    "start_time": "2023-11-16T18:14:29.144Z"
   },
   {
    "duration": 1425,
    "start_time": "2023-11-16T18:17:15.063Z"
   },
   {
    "duration": 711,
    "start_time": "2023-11-16T18:17:16.490Z"
   },
   {
    "duration": 2,
    "start_time": "2023-11-16T18:17:17.203Z"
   },
   {
    "duration": 177,
    "start_time": "2023-11-16T18:17:17.207Z"
   },
   {
    "duration": 45,
    "start_time": "2023-11-16T18:17:17.386Z"
   },
   {
    "duration": 36,
    "start_time": "2023-11-16T18:17:17.433Z"
   },
   {
    "duration": 14,
    "start_time": "2023-11-16T18:17:17.471Z"
   },
   {
    "duration": 12,
    "start_time": "2023-11-16T18:17:17.487Z"
   },
   {
    "duration": 6,
    "start_time": "2023-11-16T18:17:17.501Z"
   },
   {
    "duration": 24,
    "start_time": "2023-11-16T18:17:17.509Z"
   },
   {
    "duration": 46,
    "start_time": "2023-11-16T18:17:17.535Z"
   },
   {
    "duration": 36,
    "start_time": "2023-11-16T18:17:17.583Z"
   },
   {
    "duration": 51,
    "start_time": "2023-11-16T18:17:17.620Z"
   },
   {
    "duration": 278,
    "start_time": "2023-11-16T18:17:17.673Z"
   },
   {
    "duration": 13,
    "start_time": "2023-11-16T18:17:17.952Z"
   },
   {
    "duration": 179,
    "start_time": "2023-11-16T18:17:17.967Z"
   },
   {
    "duration": 3,
    "start_time": "2023-11-16T18:17:18.148Z"
   },
   {
    "duration": 1423,
    "start_time": "2023-11-16T18:18:11.616Z"
   },
   {
    "duration": 705,
    "start_time": "2023-11-16T18:18:13.041Z"
   },
   {
    "duration": 3,
    "start_time": "2023-11-16T18:18:13.748Z"
   },
   {
    "duration": 174,
    "start_time": "2023-11-16T18:18:13.753Z"
   },
   {
    "duration": 61,
    "start_time": "2023-11-16T18:18:13.929Z"
   },
   {
    "duration": 8,
    "start_time": "2023-11-16T18:18:13.991Z"
   },
   {
    "duration": 22,
    "start_time": "2023-11-16T18:18:14.000Z"
   },
   {
    "duration": 23,
    "start_time": "2023-11-16T18:18:14.023Z"
   },
   {
    "duration": 22,
    "start_time": "2023-11-16T18:18:14.047Z"
   },
   {
    "duration": 28,
    "start_time": "2023-11-16T18:18:14.071Z"
   },
   {
    "duration": 26,
    "start_time": "2023-11-16T18:18:14.100Z"
   },
   {
    "duration": 51,
    "start_time": "2023-11-16T18:18:14.128Z"
   },
   {
    "duration": 21,
    "start_time": "2023-11-16T18:18:14.181Z"
   },
   {
    "duration": 272,
    "start_time": "2023-11-16T18:18:14.203Z"
   },
   {
    "duration": 6,
    "start_time": "2023-11-16T18:18:14.476Z"
   },
   {
    "duration": 219,
    "start_time": "2023-11-16T18:18:14.483Z"
   },
   {
    "duration": 3,
    "start_time": "2023-11-16T18:18:14.704Z"
   },
   {
    "duration": 299,
    "start_time": "2023-11-16T18:18:14.709Z"
   },
   {
    "duration": 167,
    "start_time": "2023-11-16T18:18:52.030Z"
   },
   {
    "duration": 579,
    "start_time": "2023-11-16T18:19:19.955Z"
   },
   {
    "duration": 153,
    "start_time": "2023-11-16T18:19:38.432Z"
   },
   {
    "duration": 485,
    "start_time": "2023-11-16T18:19:48.122Z"
   },
   {
    "duration": 176,
    "start_time": "2023-11-16T18:20:27.033Z"
   },
   {
    "duration": 2169,
    "start_time": "2023-11-16T18:20:52.880Z"
   },
   {
    "duration": 608,
    "start_time": "2023-11-16T18:22:13.070Z"
   },
   {
    "duration": 162,
    "start_time": "2023-11-16T18:22:32.311Z"
   },
   {
    "duration": 504,
    "start_time": "2023-11-16T18:22:38.078Z"
   },
   {
    "duration": 515,
    "start_time": "2023-11-16T18:23:21.679Z"
   },
   {
    "duration": 2,
    "start_time": "2023-11-16T18:23:38.936Z"
   },
   {
    "duration": 16,
    "start_time": "2023-11-16T18:23:39.686Z"
   },
   {
    "duration": 3,
    "start_time": "2023-11-16T18:23:51.885Z"
   },
   {
    "duration": 574,
    "start_time": "2023-11-16T18:23:54.254Z"
   },
   {
    "duration": 168,
    "start_time": "2023-11-16T18:27:34.627Z"
   },
   {
    "duration": 160,
    "start_time": "2023-11-16T18:27:43.529Z"
   },
   {
    "duration": 163,
    "start_time": "2023-11-16T18:28:22.592Z"
   },
   {
    "duration": 488,
    "start_time": "2023-11-16T18:28:49.019Z"
   },
   {
    "duration": 5479,
    "start_time": "2023-11-16T18:30:08.374Z"
   },
   {
    "duration": 599,
    "start_time": "2023-11-16T18:30:20.945Z"
   },
   {
    "duration": 195,
    "start_time": "2023-11-16T18:33:20.387Z"
   },
   {
    "duration": 182,
    "start_time": "2023-11-16T18:33:38.232Z"
   },
   {
    "duration": 178,
    "start_time": "2023-11-16T18:35:05.381Z"
   },
   {
    "duration": 169,
    "start_time": "2023-11-16T18:35:39.590Z"
   },
   {
    "duration": 185,
    "start_time": "2023-11-16T18:36:02.140Z"
   },
   {
    "duration": 168,
    "start_time": "2023-11-16T18:37:11.947Z"
   },
   {
    "duration": 160,
    "start_time": "2023-11-16T18:37:13.178Z"
   },
   {
    "duration": 175,
    "start_time": "2023-11-16T18:37:14.539Z"
   },
   {
    "duration": 1624,
    "start_time": "2023-11-16T18:40:41.907Z"
   },
   {
    "duration": 4,
    "start_time": "2023-11-16T18:55:28.604Z"
   },
   {
    "duration": 5,
    "start_time": "2023-11-16T18:55:53.972Z"
   },
   {
    "duration": 5,
    "start_time": "2023-11-16T18:56:25.944Z"
   },
   {
    "duration": 196,
    "start_time": "2023-11-16T18:56:58.687Z"
   },
   {
    "duration": 194,
    "start_time": "2023-11-16T18:59:39.507Z"
   },
   {
    "duration": 200,
    "start_time": "2023-11-16T19:00:09.874Z"
   },
   {
    "duration": 203,
    "start_time": "2023-11-16T19:03:04.167Z"
   },
   {
    "duration": 195,
    "start_time": "2023-11-16T19:03:16.984Z"
   },
   {
    "duration": 231,
    "start_time": "2023-11-16T19:03:31.713Z"
   },
   {
    "duration": 234,
    "start_time": "2023-11-16T19:03:41.294Z"
   },
   {
    "duration": 234,
    "start_time": "2023-11-16T19:05:54.150Z"
   },
   {
    "duration": 238,
    "start_time": "2023-11-16T19:06:58.381Z"
   },
   {
    "duration": 313,
    "start_time": "2023-11-16T19:07:14.818Z"
   },
   {
    "duration": 48,
    "start_time": "2023-11-18T10:10:07.003Z"
   },
   {
    "duration": 7,
    "start_time": "2023-11-18T10:10:56.184Z"
   },
   {
    "duration": 1482,
    "start_time": "2023-11-18T10:11:20.108Z"
   },
   {
    "duration": 2916,
    "start_time": "2023-11-18T10:11:21.592Z"
   },
   {
    "duration": 3,
    "start_time": "2023-11-18T10:11:24.510Z"
   },
   {
    "duration": 161,
    "start_time": "2023-11-18T10:11:24.514Z"
   },
   {
    "duration": 44,
    "start_time": "2023-11-18T10:11:24.677Z"
   },
   {
    "duration": 36,
    "start_time": "2023-11-18T10:11:24.722Z"
   },
   {
    "duration": 5,
    "start_time": "2023-11-18T10:11:24.760Z"
   },
   {
    "duration": 7,
    "start_time": "2023-11-18T10:11:24.767Z"
   },
   {
    "duration": 5,
    "start_time": "2023-11-18T10:11:24.776Z"
   },
   {
    "duration": 26,
    "start_time": "2023-11-18T10:11:24.783Z"
   },
   {
    "duration": 57,
    "start_time": "2023-11-18T10:11:24.810Z"
   },
   {
    "duration": 35,
    "start_time": "2023-11-18T10:11:24.868Z"
   },
   {
    "duration": 22,
    "start_time": "2023-11-18T10:11:24.905Z"
   },
   {
    "duration": 281,
    "start_time": "2023-11-18T10:11:24.929Z"
   },
   {
    "duration": 7,
    "start_time": "2023-11-18T10:11:25.212Z"
   },
   {
    "duration": 215,
    "start_time": "2023-11-18T10:11:25.221Z"
   },
   {
    "duration": 197,
    "start_time": "2023-11-18T10:11:25.438Z"
   },
   {
    "duration": 198,
    "start_time": "2023-11-18T10:11:25.637Z"
   },
   {
    "duration": 228,
    "start_time": "2023-11-18T10:11:25.837Z"
   },
   {
    "duration": 796,
    "start_time": "2023-11-18T10:11:26.066Z"
   },
   {
    "duration": 699,
    "start_time": "2023-11-18T10:17:47.955Z"
   },
   {
    "duration": 787,
    "start_time": "2023-11-18T10:19:16.177Z"
   },
   {
    "duration": 786,
    "start_time": "2023-11-18T10:20:13.454Z"
   },
   {
    "duration": 680,
    "start_time": "2023-11-18T10:21:52.558Z"
   },
   {
    "duration": 812,
    "start_time": "2023-11-18T10:22:02.081Z"
   },
   {
    "duration": 851,
    "start_time": "2023-11-18T10:23:05.124Z"
   },
   {
    "duration": 530,
    "start_time": "2023-11-18T10:23:37.687Z"
   },
   {
    "duration": 2777,
    "start_time": "2023-11-18T10:23:48.168Z"
   },
   {
    "duration": 645,
    "start_time": "2023-11-18T10:24:01.241Z"
   },
   {
    "duration": 862,
    "start_time": "2023-11-18T10:24:13.413Z"
   },
   {
    "duration": 619,
    "start_time": "2023-11-18T10:24:28.922Z"
   },
   {
    "duration": 10,
    "start_time": "2023-11-18T10:28:11.401Z"
   },
   {
    "duration": 864,
    "start_time": "2023-11-18T10:29:36.196Z"
   },
   {
    "duration": 642,
    "start_time": "2023-11-18T10:29:55.469Z"
   },
   {
    "duration": 106,
    "start_time": "2023-11-18T10:32:30.162Z"
   },
   {
    "duration": 122,
    "start_time": "2023-11-18T10:33:28.503Z"
   },
   {
    "duration": 96,
    "start_time": "2023-11-18T10:34:08.185Z"
   },
   {
    "duration": 10,
    "start_time": "2023-11-18T10:34:56.682Z"
   },
   {
    "duration": 791,
    "start_time": "2023-11-18T10:35:41.151Z"
   },
   {
    "duration": 788,
    "start_time": "2023-11-18T10:37:29.204Z"
   },
   {
    "duration": 762,
    "start_time": "2023-11-18T10:38:00.172Z"
   },
   {
    "duration": 778,
    "start_time": "2023-11-18T10:38:07.917Z"
   },
   {
    "duration": 145,
    "start_time": "2023-11-18T10:45:08.674Z"
   },
   {
    "duration": 10,
    "start_time": "2023-11-18T10:45:16.439Z"
   },
   {
    "duration": 10,
    "start_time": "2023-11-18T10:45:35.050Z"
   },
   {
    "duration": 922,
    "start_time": "2023-11-18T10:45:51.294Z"
   },
   {
    "duration": 15,
    "start_time": "2023-11-18T10:46:04.694Z"
   },
   {
    "duration": 10,
    "start_time": "2023-11-18T10:46:21.774Z"
   },
   {
    "duration": 10,
    "start_time": "2023-11-18T10:46:44.177Z"
   },
   {
    "duration": 11,
    "start_time": "2023-11-18T10:46:57.548Z"
   },
   {
    "duration": 10,
    "start_time": "2023-11-18T10:47:48.932Z"
   },
   {
    "duration": 777,
    "start_time": "2023-11-18T10:58:16.088Z"
   },
   {
    "duration": 892,
    "start_time": "2023-11-18T10:58:33.452Z"
   },
   {
    "duration": 779,
    "start_time": "2023-11-18T10:58:45.792Z"
   },
   {
    "duration": 886,
    "start_time": "2023-11-18T10:58:58.372Z"
   },
   {
    "duration": 780,
    "start_time": "2023-11-18T10:59:06.063Z"
   },
   {
    "duration": 108,
    "start_time": "2023-11-18T11:03:25.863Z"
   },
   {
    "duration": 102,
    "start_time": "2023-11-18T11:04:54.136Z"
   },
   {
    "duration": 12,
    "start_time": "2023-11-18T11:05:04.478Z"
   },
   {
    "duration": 869,
    "start_time": "2023-11-18T11:14:20.058Z"
   },
   {
    "duration": 852,
    "start_time": "2023-11-18T11:24:37.278Z"
   },
   {
    "duration": 771,
    "start_time": "2023-11-18T11:24:45.737Z"
   },
   {
    "duration": 868,
    "start_time": "2023-11-18T11:25:08.380Z"
   },
   {
    "duration": 774,
    "start_time": "2023-11-18T11:25:19.266Z"
   },
   {
    "duration": 891,
    "start_time": "2023-11-18T11:25:44.750Z"
   },
   {
    "duration": 796,
    "start_time": "2023-11-18T11:26:04.895Z"
   },
   {
    "duration": 939,
    "start_time": "2023-11-18T11:26:22.193Z"
   },
   {
    "duration": 775,
    "start_time": "2023-11-18T11:26:40.138Z"
   },
   {
    "duration": 6,
    "start_time": "2023-11-18T11:35:33.327Z"
   },
   {
    "duration": 1115,
    "start_time": "2023-11-18T11:37:41.108Z"
   },
   {
    "duration": 1140,
    "start_time": "2023-11-18T11:37:53.782Z"
   },
   {
    "duration": 1111,
    "start_time": "2023-11-18T11:38:51.955Z"
   },
   {
    "duration": 172,
    "start_time": "2023-11-18T11:39:57.384Z"
   },
   {
    "duration": 461,
    "start_time": "2023-11-18T11:41:26.770Z"
   },
   {
    "duration": 526,
    "start_time": "2023-11-18T11:41:50.484Z"
   },
   {
    "duration": 5,
    "start_time": "2023-11-18T11:43:16.503Z"
   },
   {
    "duration": 1129,
    "start_time": "2023-11-18T11:45:11.616Z"
   },
   {
    "duration": 1256,
    "start_time": "2023-11-18T11:45:26.204Z"
   },
   {
    "duration": 1223,
    "start_time": "2023-11-18T11:45:46.174Z"
   },
   {
    "duration": 1183,
    "start_time": "2023-11-18T11:45:55.683Z"
   },
   {
    "duration": 1053,
    "start_time": "2023-11-18T11:47:08.586Z"
   },
   {
    "duration": 1162,
    "start_time": "2023-11-18T11:47:49.785Z"
   },
   {
    "duration": 1135,
    "start_time": "2023-11-18T11:48:13.612Z"
   },
   {
    "duration": 1204,
    "start_time": "2023-11-18T11:50:32.025Z"
   },
   {
    "duration": 725,
    "start_time": "2023-11-18T11:50:48.536Z"
   },
   {
    "duration": 864,
    "start_time": "2023-11-18T11:51:01.465Z"
   },
   {
    "duration": 1151,
    "start_time": "2023-11-18T11:53:52.968Z"
   },
   {
    "duration": 70,
    "start_time": "2023-11-18T12:07:37.013Z"
   },
   {
    "duration": 9,
    "start_time": "2023-11-18T12:12:44.085Z"
   },
   {
    "duration": 5,
    "start_time": "2023-11-18T12:14:37.863Z"
   },
   {
    "duration": 1146,
    "start_time": "2023-11-18T12:15:12.521Z"
   },
   {
    "duration": 9,
    "start_time": "2023-11-18T12:15:18.866Z"
   },
   {
    "duration": 1043,
    "start_time": "2023-11-18T12:15:19.442Z"
   },
   {
    "duration": 1432,
    "start_time": "2023-11-18T12:15:45.011Z"
   },
   {
    "duration": 722,
    "start_time": "2023-11-18T12:15:46.445Z"
   },
   {
    "duration": 3,
    "start_time": "2023-11-18T12:15:47.168Z"
   },
   {
    "duration": 152,
    "start_time": "2023-11-18T12:15:47.173Z"
   },
   {
    "duration": 51,
    "start_time": "2023-11-18T12:15:47.327Z"
   },
   {
    "duration": 6,
    "start_time": "2023-11-18T12:15:47.379Z"
   },
   {
    "duration": 11,
    "start_time": "2023-11-18T12:15:47.386Z"
   },
   {
    "duration": 12,
    "start_time": "2023-11-18T12:15:47.398Z"
   },
   {
    "duration": 4,
    "start_time": "2023-11-18T12:15:47.411Z"
   },
   {
    "duration": 42,
    "start_time": "2023-11-18T12:15:47.417Z"
   },
   {
    "duration": 22,
    "start_time": "2023-11-18T12:15:47.461Z"
   },
   {
    "duration": 34,
    "start_time": "2023-11-18T12:15:47.485Z"
   },
   {
    "duration": 46,
    "start_time": "2023-11-18T12:15:47.521Z"
   },
   {
    "duration": 243,
    "start_time": "2023-11-18T12:15:47.569Z"
   },
   {
    "duration": 5,
    "start_time": "2023-11-18T12:15:47.813Z"
   },
   {
    "duration": 176,
    "start_time": "2023-11-18T12:15:47.820Z"
   },
   {
    "duration": 162,
    "start_time": "2023-11-18T12:15:47.998Z"
   },
   {
    "duration": 168,
    "start_time": "2023-11-18T12:15:48.161Z"
   },
   {
    "duration": 210,
    "start_time": "2023-11-18T12:15:48.331Z"
   },
   {
    "duration": 794,
    "start_time": "2023-11-18T12:15:48.543Z"
   },
   {
    "duration": 22,
    "start_time": "2023-11-18T12:15:49.338Z"
   },
   {
    "duration": 741,
    "start_time": "2023-11-18T12:15:49.362Z"
   },
   {
    "duration": 10,
    "start_time": "2023-11-18T12:15:50.105Z"
   },
   {
    "duration": 7,
    "start_time": "2023-11-18T12:15:50.116Z"
   },
   {
    "duration": 1145,
    "start_time": "2023-11-18T12:15:50.124Z"
   },
   {
    "duration": 9,
    "start_time": "2023-11-18T12:15:51.270Z"
   },
   {
    "duration": 1182,
    "start_time": "2023-11-18T12:15:51.280Z"
   },
   {
    "duration": 2612,
    "start_time": "2023-11-18T12:18:07.422Z"
   },
   {
    "duration": 0,
    "start_time": "2023-11-18T12:18:10.035Z"
   },
   {
    "duration": 2320,
    "start_time": "2023-11-18T12:25:11.888Z"
   },
   {
    "duration": 8,
    "start_time": "2023-11-18T12:25:42.866Z"
   },
   {
    "duration": 9,
    "start_time": "2023-11-18T12:25:47.495Z"
   },
   {
    "duration": 1155,
    "start_time": "2023-11-18T12:25:50.026Z"
   },
   {
    "duration": 142,
    "start_time": "2023-11-18T12:26:19.281Z"
   },
   {
    "duration": 3,
    "start_time": "2023-11-18T12:26:35.870Z"
   },
   {
    "duration": 5,
    "start_time": "2023-11-18T12:27:03.662Z"
   },
   {
    "duration": 5,
    "start_time": "2023-11-18T12:27:32.652Z"
   },
   {
    "duration": 1150,
    "start_time": "2023-11-18T12:27:33.152Z"
   },
   {
    "duration": 9,
    "start_time": "2023-11-18T12:28:51.650Z"
   },
   {
    "duration": 6,
    "start_time": "2023-11-18T12:28:52.489Z"
   },
   {
    "duration": 1143,
    "start_time": "2023-11-18T12:28:53.029Z"
   },
   {
    "duration": 4,
    "start_time": "2023-11-18T12:30:19.000Z"
   },
   {
    "duration": 5,
    "start_time": "2023-11-18T12:39:07.586Z"
   },
   {
    "duration": 4,
    "start_time": "2023-11-18T12:39:08.029Z"
   },
   {
    "duration": 1312,
    "start_time": "2023-11-18T12:39:53.702Z"
   },
   {
    "duration": 698,
    "start_time": "2023-11-18T12:39:55.016Z"
   },
   {
    "duration": 3,
    "start_time": "2023-11-18T12:39:55.716Z"
   },
   {
    "duration": 163,
    "start_time": "2023-11-18T12:39:55.721Z"
   },
   {
    "duration": 43,
    "start_time": "2023-11-18T12:39:55.885Z"
   },
   {
    "duration": 31,
    "start_time": "2023-11-18T12:39:55.929Z"
   },
   {
    "duration": 5,
    "start_time": "2023-11-18T12:39:55.961Z"
   },
   {
    "duration": 5,
    "start_time": "2023-11-18T12:39:55.967Z"
   },
   {
    "duration": 4,
    "start_time": "2023-11-18T12:39:55.974Z"
   },
   {
    "duration": 21,
    "start_time": "2023-11-18T12:39:55.980Z"
   },
   {
    "duration": 58,
    "start_time": "2023-11-18T12:39:56.002Z"
   },
   {
    "duration": 33,
    "start_time": "2023-11-18T12:39:56.062Z"
   },
   {
    "duration": 21,
    "start_time": "2023-11-18T12:39:56.096Z"
   },
   {
    "duration": 260,
    "start_time": "2023-11-18T12:39:56.118Z"
   },
   {
    "duration": 6,
    "start_time": "2023-11-18T12:39:56.379Z"
   },
   {
    "duration": 176,
    "start_time": "2023-11-18T12:39:56.387Z"
   },
   {
    "duration": 162,
    "start_time": "2023-11-18T12:39:56.565Z"
   },
   {
    "duration": 169,
    "start_time": "2023-11-18T12:39:56.728Z"
   },
   {
    "duration": 227,
    "start_time": "2023-11-18T12:39:56.899Z"
   },
   {
    "duration": 804,
    "start_time": "2023-11-18T12:39:57.128Z"
   },
   {
    "duration": 11,
    "start_time": "2023-11-18T12:39:57.934Z"
   },
   {
    "duration": 764,
    "start_time": "2023-11-18T12:39:57.958Z"
   },
   {
    "duration": 11,
    "start_time": "2023-11-18T12:39:58.724Z"
   },
   {
    "duration": 9,
    "start_time": "2023-11-18T12:39:58.736Z"
   },
   {
    "duration": 1147,
    "start_time": "2023-11-18T12:39:58.758Z"
   },
   {
    "duration": 12,
    "start_time": "2023-11-18T12:39:59.907Z"
   },
   {
    "duration": 27,
    "start_time": "2023-11-18T12:39:59.920Z"
   },
   {
    "duration": 20,
    "start_time": "2023-11-18T12:39:59.950Z"
   },
   {
    "duration": 4,
    "start_time": "2023-11-18T12:40:25.683Z"
   },
   {
    "duration": 6,
    "start_time": "2023-11-18T12:41:14.523Z"
   },
   {
    "duration": 544,
    "start_time": "2023-11-18T12:41:14.839Z"
   },
   {
    "duration": 1045,
    "start_time": "2023-11-18T12:41:33.963Z"
   },
   {
    "duration": 1301,
    "start_time": "2023-11-18T12:41:46.492Z"
   },
   {
    "duration": 701,
    "start_time": "2023-11-18T12:41:47.795Z"
   },
   {
    "duration": 3,
    "start_time": "2023-11-18T12:41:48.498Z"
   },
   {
    "duration": 164,
    "start_time": "2023-11-18T12:41:48.502Z"
   },
   {
    "duration": 42,
    "start_time": "2023-11-18T12:41:48.668Z"
   },
   {
    "duration": 6,
    "start_time": "2023-11-18T12:41:48.712Z"
   },
   {
    "duration": 13,
    "start_time": "2023-11-18T12:41:48.719Z"
   },
   {
    "duration": 26,
    "start_time": "2023-11-18T12:41:48.733Z"
   },
   {
    "duration": 4,
    "start_time": "2023-11-18T12:41:48.761Z"
   },
   {
    "duration": 22,
    "start_time": "2023-11-18T12:41:48.767Z"
   },
   {
    "duration": 23,
    "start_time": "2023-11-18T12:41:48.790Z"
   },
   {
    "duration": 67,
    "start_time": "2023-11-18T12:41:48.814Z"
   },
   {
    "duration": 19,
    "start_time": "2023-11-18T12:41:48.882Z"
   },
   {
    "duration": 258,
    "start_time": "2023-11-18T12:41:48.902Z"
   },
   {
    "duration": 5,
    "start_time": "2023-11-18T12:41:49.162Z"
   },
   {
    "duration": 179,
    "start_time": "2023-11-18T12:41:49.168Z"
   },
   {
    "duration": 162,
    "start_time": "2023-11-18T12:41:49.348Z"
   },
   {
    "duration": 173,
    "start_time": "2023-11-18T12:41:49.511Z"
   },
   {
    "duration": 209,
    "start_time": "2023-11-18T12:41:49.686Z"
   },
   {
    "duration": 824,
    "start_time": "2023-11-18T12:41:49.896Z"
   },
   {
    "duration": 10,
    "start_time": "2023-11-18T12:41:50.721Z"
   },
   {
    "duration": 764,
    "start_time": "2023-11-18T12:41:50.732Z"
   },
   {
    "duration": 10,
    "start_time": "2023-11-18T12:41:51.497Z"
   },
   {
    "duration": 5,
    "start_time": "2023-11-18T12:41:51.509Z"
   },
   {
    "duration": 29,
    "start_time": "2023-11-18T12:41:51.516Z"
   },
   {
    "duration": 1193,
    "start_time": "2023-11-18T12:41:51.546Z"
   },
   {
    "duration": 25,
    "start_time": "2023-11-18T12:41:52.740Z"
   },
   {
    "duration": 6,
    "start_time": "2023-11-18T12:41:52.768Z"
   },
   {
    "duration": 1172,
    "start_time": "2023-11-18T12:41:52.775Z"
   },
   {
    "duration": 12,
    "start_time": "2023-11-18T12:42:50.794Z"
   },
   {
    "duration": 7,
    "start_time": "2023-11-18T12:42:51.452Z"
   },
   {
    "duration": 1173,
    "start_time": "2023-11-18T12:42:51.956Z"
   },
   {
    "duration": 1334,
    "start_time": "2023-11-18T12:43:02.592Z"
   },
   {
    "duration": 701,
    "start_time": "2023-11-18T12:43:03.928Z"
   },
   {
    "duration": 3,
    "start_time": "2023-11-18T12:43:04.630Z"
   },
   {
    "duration": 167,
    "start_time": "2023-11-18T12:43:04.635Z"
   },
   {
    "duration": 58,
    "start_time": "2023-11-18T12:43:04.804Z"
   },
   {
    "duration": 8,
    "start_time": "2023-11-18T12:43:04.863Z"
   },
   {
    "duration": 10,
    "start_time": "2023-11-18T12:43:04.872Z"
   },
   {
    "duration": 5,
    "start_time": "2023-11-18T12:43:04.884Z"
   },
   {
    "duration": 4,
    "start_time": "2023-11-18T12:43:04.891Z"
   },
   {
    "duration": 24,
    "start_time": "2023-11-18T12:43:04.897Z"
   },
   {
    "duration": 51,
    "start_time": "2023-11-18T12:43:04.922Z"
   },
   {
    "duration": 34,
    "start_time": "2023-11-18T12:43:04.974Z"
   },
   {
    "duration": 20,
    "start_time": "2023-11-18T12:43:05.009Z"
   },
   {
    "duration": 281,
    "start_time": "2023-11-18T12:43:05.030Z"
   },
   {
    "duration": 5,
    "start_time": "2023-11-18T12:43:05.313Z"
   },
   {
    "duration": 192,
    "start_time": "2023-11-18T12:43:05.320Z"
   },
   {
    "duration": 170,
    "start_time": "2023-11-18T12:43:05.513Z"
   },
   {
    "duration": 186,
    "start_time": "2023-11-18T12:43:05.684Z"
   },
   {
    "duration": 227,
    "start_time": "2023-11-18T12:43:05.872Z"
   },
   {
    "duration": 875,
    "start_time": "2023-11-18T12:43:06.101Z"
   },
   {
    "duration": 14,
    "start_time": "2023-11-18T12:43:06.979Z"
   },
   {
    "duration": 838,
    "start_time": "2023-11-18T12:43:06.995Z"
   },
   {
    "duration": 10,
    "start_time": "2023-11-18T12:43:07.835Z"
   },
   {
    "duration": 8,
    "start_time": "2023-11-18T12:43:07.858Z"
   },
   {
    "duration": 14,
    "start_time": "2023-11-18T12:43:07.868Z"
   },
   {
    "duration": 1212,
    "start_time": "2023-11-18T12:43:07.883Z"
   },
   {
    "duration": 13,
    "start_time": "2023-11-18T12:43:09.097Z"
   },
   {
    "duration": 6,
    "start_time": "2023-11-18T12:43:09.113Z"
   },
   {
    "duration": 1261,
    "start_time": "2023-11-18T12:43:09.121Z"
   },
   {
    "duration": 12,
    "start_time": "2023-11-18T12:44:18.754Z"
   },
   {
    "duration": 6,
    "start_time": "2023-11-18T12:44:21.270Z"
   },
   {
    "duration": 1161,
    "start_time": "2023-11-18T12:44:21.574Z"
   },
   {
    "duration": 1378,
    "start_time": "2023-11-18T12:44:27.268Z"
   },
   {
    "duration": 685,
    "start_time": "2023-11-18T12:44:28.647Z"
   },
   {
    "duration": 2,
    "start_time": "2023-11-18T12:44:29.334Z"
   },
   {
    "duration": 157,
    "start_time": "2023-11-18T12:44:29.338Z"
   },
   {
    "duration": 41,
    "start_time": "2023-11-18T12:44:29.497Z"
   },
   {
    "duration": 7,
    "start_time": "2023-11-18T12:44:29.559Z"
   },
   {
    "duration": 5,
    "start_time": "2023-11-18T12:44:29.567Z"
   },
   {
    "duration": 6,
    "start_time": "2023-11-18T12:44:29.573Z"
   },
   {
    "duration": 4,
    "start_time": "2023-11-18T12:44:29.580Z"
   },
   {
    "duration": 20,
    "start_time": "2023-11-18T12:44:29.587Z"
   },
   {
    "duration": 54,
    "start_time": "2023-11-18T12:44:29.608Z"
   },
   {
    "duration": 33,
    "start_time": "2023-11-18T12:44:29.664Z"
   },
   {
    "duration": 23,
    "start_time": "2023-11-18T12:44:29.699Z"
   },
   {
    "duration": 273,
    "start_time": "2023-11-18T12:44:29.723Z"
   },
   {
    "duration": 5,
    "start_time": "2023-11-18T12:44:29.998Z"
   },
   {
    "duration": 308,
    "start_time": "2023-11-18T12:44:30.005Z"
   },
   {
    "duration": 164,
    "start_time": "2023-11-18T12:44:30.314Z"
   },
   {
    "duration": 173,
    "start_time": "2023-11-18T12:44:30.480Z"
   },
   {
    "duration": 215,
    "start_time": "2023-11-18T12:44:30.659Z"
   },
   {
    "duration": 851,
    "start_time": "2023-11-18T12:44:30.875Z"
   },
   {
    "duration": 11,
    "start_time": "2023-11-18T12:44:31.727Z"
   },
   {
    "duration": 802,
    "start_time": "2023-11-18T12:44:31.739Z"
   },
   {
    "duration": 19,
    "start_time": "2023-11-18T12:44:32.543Z"
   },
   {
    "duration": 18,
    "start_time": "2023-11-18T12:44:32.563Z"
   },
   {
    "duration": 24,
    "start_time": "2023-11-18T12:44:32.582Z"
   },
   {
    "duration": 1172,
    "start_time": "2023-11-18T12:44:32.607Z"
   },
   {
    "duration": 13,
    "start_time": "2023-11-18T12:44:33.781Z"
   },
   {
    "duration": 7,
    "start_time": "2023-11-18T12:44:33.797Z"
   },
   {
    "duration": 1169,
    "start_time": "2023-11-18T12:44:33.805Z"
   },
   {
    "duration": 1150,
    "start_time": "2023-11-18T12:48:59.487Z"
   },
   {
    "duration": 1460,
    "start_time": "2023-11-18T12:49:04.899Z"
   },
   {
    "duration": 755,
    "start_time": "2023-11-18T12:49:06.361Z"
   },
   {
    "duration": 3,
    "start_time": "2023-11-18T12:49:07.121Z"
   },
   {
    "duration": 189,
    "start_time": "2023-11-18T12:49:07.126Z"
   },
   {
    "duration": 63,
    "start_time": "2023-11-18T12:49:07.317Z"
   },
   {
    "duration": 6,
    "start_time": "2023-11-18T12:49:07.382Z"
   },
   {
    "duration": 8,
    "start_time": "2023-11-18T12:49:07.390Z"
   },
   {
    "duration": 6,
    "start_time": "2023-11-18T12:49:07.399Z"
   },
   {
    "duration": 5,
    "start_time": "2023-11-18T12:49:07.408Z"
   },
   {
    "duration": 48,
    "start_time": "2023-11-18T12:49:07.414Z"
   },
   {
    "duration": 25,
    "start_time": "2023-11-18T12:49:07.464Z"
   },
   {
    "duration": 34,
    "start_time": "2023-11-18T12:49:07.491Z"
   },
   {
    "duration": 44,
    "start_time": "2023-11-18T12:49:07.528Z"
   },
   {
    "duration": 281,
    "start_time": "2023-11-18T12:49:07.574Z"
   },
   {
    "duration": 5,
    "start_time": "2023-11-18T12:49:07.858Z"
   },
   {
    "duration": 177,
    "start_time": "2023-11-18T12:49:07.864Z"
   },
   {
    "duration": 168,
    "start_time": "2023-11-18T12:49:08.042Z"
   },
   {
    "duration": 178,
    "start_time": "2023-11-18T12:49:08.212Z"
   },
   {
    "duration": 218,
    "start_time": "2023-11-18T12:49:08.392Z"
   },
   {
    "duration": 810,
    "start_time": "2023-11-18T12:49:08.612Z"
   },
   {
    "duration": 10,
    "start_time": "2023-11-18T12:49:09.424Z"
   },
   {
    "duration": 752,
    "start_time": "2023-11-18T12:49:09.436Z"
   },
   {
    "duration": 12,
    "start_time": "2023-11-18T12:49:10.189Z"
   },
   {
    "duration": 15,
    "start_time": "2023-11-18T12:49:10.203Z"
   },
   {
    "duration": 16,
    "start_time": "2023-11-18T12:49:10.220Z"
   },
   {
    "duration": 1143,
    "start_time": "2023-11-18T12:49:10.237Z"
   },
   {
    "duration": 13,
    "start_time": "2023-11-18T12:49:11.384Z"
   },
   {
    "duration": 1188,
    "start_time": "2023-11-18T12:49:11.399Z"
   },
   {
    "duration": 14,
    "start_time": "2023-11-18T12:50:49.266Z"
   },
   {
    "duration": 12,
    "start_time": "2023-11-18T12:51:12.331Z"
   },
   {
    "duration": 12,
    "start_time": "2023-11-18T12:51:24.514Z"
   },
   {
    "duration": 1314,
    "start_time": "2023-11-18T12:51:28.002Z"
   },
   {
    "duration": 686,
    "start_time": "2023-11-18T12:51:29.318Z"
   },
   {
    "duration": 3,
    "start_time": "2023-11-18T12:51:30.005Z"
   },
   {
    "duration": 200,
    "start_time": "2023-11-18T12:51:30.010Z"
   },
   {
    "duration": 62,
    "start_time": "2023-11-18T12:51:30.211Z"
   },
   {
    "duration": 7,
    "start_time": "2023-11-18T12:51:30.275Z"
   },
   {
    "duration": 47,
    "start_time": "2023-11-18T12:51:30.283Z"
   },
   {
    "duration": 48,
    "start_time": "2023-11-18T12:51:30.331Z"
   },
   {
    "duration": 39,
    "start_time": "2023-11-18T12:51:30.381Z"
   },
   {
    "duration": 57,
    "start_time": "2023-11-18T12:51:30.423Z"
   },
   {
    "duration": 57,
    "start_time": "2023-11-18T12:51:30.481Z"
   },
   {
    "duration": 67,
    "start_time": "2023-11-18T12:51:30.539Z"
   },
   {
    "duration": 39,
    "start_time": "2023-11-18T12:51:30.608Z"
   },
   {
    "duration": 293,
    "start_time": "2023-11-18T12:51:30.649Z"
   },
   {
    "duration": 15,
    "start_time": "2023-11-18T12:51:30.943Z"
   },
   {
    "duration": 253,
    "start_time": "2023-11-18T12:51:30.960Z"
   },
   {
    "duration": 160,
    "start_time": "2023-11-18T12:51:31.214Z"
   },
   {
    "duration": 170,
    "start_time": "2023-11-18T12:51:31.375Z"
   },
   {
    "duration": 212,
    "start_time": "2023-11-18T12:51:31.546Z"
   },
   {
    "duration": 802,
    "start_time": "2023-11-18T12:51:31.760Z"
   },
   {
    "duration": 11,
    "start_time": "2023-11-18T12:51:32.563Z"
   },
   {
    "duration": 764,
    "start_time": "2023-11-18T12:51:32.576Z"
   },
   {
    "duration": 17,
    "start_time": "2023-11-18T12:51:33.342Z"
   },
   {
    "duration": 6,
    "start_time": "2023-11-18T12:51:33.361Z"
   },
   {
    "duration": 10,
    "start_time": "2023-11-18T12:51:33.368Z"
   },
   {
    "duration": 1147,
    "start_time": "2023-11-18T12:51:33.379Z"
   },
   {
    "duration": 12,
    "start_time": "2023-11-18T12:51:34.528Z"
   },
   {
    "duration": 24,
    "start_time": "2023-11-18T12:51:34.543Z"
   },
   {
    "duration": 14,
    "start_time": "2023-11-18T12:51:34.569Z"
   },
   {
    "duration": 1165,
    "start_time": "2023-11-18T12:51:34.584Z"
   },
   {
    "duration": 9,
    "start_time": "2023-11-18T13:00:04.995Z"
   },
   {
    "duration": 5,
    "start_time": "2023-11-18T13:00:16.107Z"
   },
   {
    "duration": 1340,
    "start_time": "2023-11-18T13:00:53.081Z"
   },
   {
    "duration": 713,
    "start_time": "2023-11-18T13:00:54.423Z"
   },
   {
    "duration": 3,
    "start_time": "2023-11-18T13:00:55.138Z"
   },
   {
    "duration": 169,
    "start_time": "2023-11-18T13:00:55.143Z"
   },
   {
    "duration": 57,
    "start_time": "2023-11-18T13:00:55.313Z"
   },
   {
    "duration": 7,
    "start_time": "2023-11-18T13:00:55.372Z"
   },
   {
    "duration": 4,
    "start_time": "2023-11-18T13:00:55.381Z"
   },
   {
    "duration": 5,
    "start_time": "2023-11-18T13:00:55.386Z"
   },
   {
    "duration": 6,
    "start_time": "2023-11-18T13:00:55.392Z"
   },
   {
    "duration": 19,
    "start_time": "2023-11-18T13:00:55.400Z"
   },
   {
    "duration": 58,
    "start_time": "2023-11-18T13:00:55.421Z"
   },
   {
    "duration": 32,
    "start_time": "2023-11-18T13:00:55.481Z"
   },
   {
    "duration": 48,
    "start_time": "2023-11-18T13:00:55.515Z"
   },
   {
    "duration": 249,
    "start_time": "2023-11-18T13:00:55.564Z"
   },
   {
    "duration": 5,
    "start_time": "2023-11-18T13:00:55.814Z"
   },
   {
    "duration": 179,
    "start_time": "2023-11-18T13:00:55.820Z"
   },
   {
    "duration": 160,
    "start_time": "2023-11-18T13:00:56.001Z"
   },
   {
    "duration": 162,
    "start_time": "2023-11-18T13:00:56.163Z"
   },
   {
    "duration": 208,
    "start_time": "2023-11-18T13:00:56.327Z"
   },
   {
    "duration": 834,
    "start_time": "2023-11-18T13:00:56.536Z"
   },
   {
    "duration": 11,
    "start_time": "2023-11-18T13:00:57.371Z"
   },
   {
    "duration": 792,
    "start_time": "2023-11-18T13:00:57.384Z"
   },
   {
    "duration": 12,
    "start_time": "2023-11-18T13:00:58.177Z"
   },
   {
    "duration": 6,
    "start_time": "2023-11-18T13:00:58.190Z"
   },
   {
    "duration": 8,
    "start_time": "2023-11-18T13:00:58.198Z"
   },
   {
    "duration": 1168,
    "start_time": "2023-11-18T13:00:58.207Z"
   },
   {
    "duration": 5,
    "start_time": "2023-11-18T13:00:59.377Z"
   },
   {
    "duration": 14,
    "start_time": "2023-11-18T13:00:59.384Z"
   },
   {
    "duration": 4,
    "start_time": "2023-11-18T13:00:59.399Z"
   },
   {
    "duration": 1686,
    "start_time": "2023-11-18T13:01:27.668Z"
   },
   {
    "duration": 9,
    "start_time": "2023-11-18T13:01:49.770Z"
   },
   {
    "duration": 9,
    "start_time": "2023-11-18T13:02:17.252Z"
   },
   {
    "duration": 1283,
    "start_time": "2023-11-18T13:02:27.817Z"
   },
   {
    "duration": 704,
    "start_time": "2023-11-18T13:02:29.102Z"
   },
   {
    "duration": 3,
    "start_time": "2023-11-18T13:02:29.808Z"
   },
   {
    "duration": 157,
    "start_time": "2023-11-18T13:02:29.812Z"
   },
   {
    "duration": 39,
    "start_time": "2023-11-18T13:02:29.971Z"
   },
   {
    "duration": 6,
    "start_time": "2023-11-18T13:02:30.012Z"
   },
   {
    "duration": 59,
    "start_time": "2023-11-18T13:02:30.019Z"
   },
   {
    "duration": 9,
    "start_time": "2023-11-18T13:02:30.079Z"
   },
   {
    "duration": 18,
    "start_time": "2023-11-18T13:02:30.090Z"
   },
   {
    "duration": 34,
    "start_time": "2023-11-18T13:02:30.110Z"
   },
   {
    "duration": 61,
    "start_time": "2023-11-18T13:02:30.146Z"
   },
   {
    "duration": 43,
    "start_time": "2023-11-18T13:02:30.208Z"
   },
   {
    "duration": 39,
    "start_time": "2023-11-18T13:02:30.252Z"
   },
   {
    "duration": 284,
    "start_time": "2023-11-18T13:02:30.292Z"
   },
   {
    "duration": 6,
    "start_time": "2023-11-18T13:02:30.577Z"
   },
   {
    "duration": 205,
    "start_time": "2023-11-18T13:02:30.584Z"
   },
   {
    "duration": 167,
    "start_time": "2023-11-18T13:02:30.791Z"
   },
   {
    "duration": 176,
    "start_time": "2023-11-18T13:02:30.960Z"
   },
   {
    "duration": 225,
    "start_time": "2023-11-18T13:02:31.138Z"
   },
   {
    "duration": 798,
    "start_time": "2023-11-18T13:02:31.365Z"
   },
   {
    "duration": 11,
    "start_time": "2023-11-18T13:02:32.164Z"
   },
   {
    "duration": 758,
    "start_time": "2023-11-18T13:02:32.177Z"
   },
   {
    "duration": 10,
    "start_time": "2023-11-18T13:02:32.937Z"
   },
   {
    "duration": 5,
    "start_time": "2023-11-18T13:02:32.958Z"
   },
   {
    "duration": 8,
    "start_time": "2023-11-18T13:02:32.965Z"
   },
   {
    "duration": 1138,
    "start_time": "2023-11-18T13:02:32.975Z"
   },
   {
    "duration": 9,
    "start_time": "2023-11-18T13:02:34.115Z"
   },
   {
    "duration": 18,
    "start_time": "2023-11-18T13:02:34.128Z"
   },
   {
    "duration": 8,
    "start_time": "2023-11-18T13:02:34.153Z"
   },
   {
    "duration": 4,
    "start_time": "2023-11-18T13:07:10.672Z"
   },
   {
    "duration": 3,
    "start_time": "2023-11-18T13:07:15.369Z"
   },
   {
    "duration": 1349,
    "start_time": "2023-11-18T13:07:22.752Z"
   },
   {
    "duration": 705,
    "start_time": "2023-11-18T13:07:24.103Z"
   },
   {
    "duration": 2,
    "start_time": "2023-11-18T13:07:24.810Z"
   },
   {
    "duration": 167,
    "start_time": "2023-11-18T13:07:24.815Z"
   },
   {
    "duration": 44,
    "start_time": "2023-11-18T13:07:24.983Z"
   },
   {
    "duration": 34,
    "start_time": "2023-11-18T13:07:25.028Z"
   },
   {
    "duration": 31,
    "start_time": "2023-11-18T13:07:25.063Z"
   },
   {
    "duration": 12,
    "start_time": "2023-11-18T13:07:25.096Z"
   },
   {
    "duration": 34,
    "start_time": "2023-11-18T13:07:25.109Z"
   },
   {
    "duration": 52,
    "start_time": "2023-11-18T13:07:25.146Z"
   },
   {
    "duration": 23,
    "start_time": "2023-11-18T13:07:25.199Z"
   },
   {
    "duration": 50,
    "start_time": "2023-11-18T13:07:25.224Z"
   },
   {
    "duration": 18,
    "start_time": "2023-11-18T13:07:25.276Z"
   },
   {
    "duration": 254,
    "start_time": "2023-11-18T13:07:25.295Z"
   },
   {
    "duration": 9,
    "start_time": "2023-11-18T13:07:25.551Z"
   },
   {
    "duration": 200,
    "start_time": "2023-11-18T13:07:25.561Z"
   },
   {
    "duration": 158,
    "start_time": "2023-11-18T13:07:25.763Z"
   },
   {
    "duration": 168,
    "start_time": "2023-11-18T13:07:25.922Z"
   },
   {
    "duration": 205,
    "start_time": "2023-11-18T13:07:26.091Z"
   },
   {
    "duration": 831,
    "start_time": "2023-11-18T13:07:26.298Z"
   },
   {
    "duration": 13,
    "start_time": "2023-11-18T13:07:27.131Z"
   },
   {
    "duration": 749,
    "start_time": "2023-11-18T13:07:27.159Z"
   },
   {
    "duration": 12,
    "start_time": "2023-11-18T13:07:27.909Z"
   },
   {
    "duration": 7,
    "start_time": "2023-11-18T13:07:27.922Z"
   },
   {
    "duration": 28,
    "start_time": "2023-11-18T13:07:27.931Z"
   },
   {
    "duration": 1140,
    "start_time": "2023-11-18T13:07:27.961Z"
   },
   {
    "duration": 4,
    "start_time": "2023-11-18T13:07:29.103Z"
   },
   {
    "duration": 16,
    "start_time": "2023-11-18T13:07:29.111Z"
   },
   {
    "duration": 11,
    "start_time": "2023-11-18T13:07:29.128Z"
   },
   {
    "duration": 1179,
    "start_time": "2023-11-18T13:10:38.637Z"
   },
   {
    "duration": 1200,
    "start_time": "2023-11-18T13:17:01.298Z"
   },
   {
    "duration": 1182,
    "start_time": "2023-11-18T13:19:54.032Z"
   },
   {
    "duration": 3,
    "start_time": "2023-11-18T13:50:37.854Z"
   },
   {
    "duration": 3,
    "start_time": "2023-11-18T13:50:38.362Z"
   },
   {
    "duration": 3,
    "start_time": "2023-11-18T14:23:15.328Z"
   },
   {
    "duration": 22,
    "start_time": "2023-11-18T14:23:55.160Z"
   },
   {
    "duration": 105,
    "start_time": "2023-11-18T14:26:06.560Z"
   },
   {
    "duration": 4,
    "start_time": "2023-11-18T14:27:00.772Z"
   },
   {
    "duration": 3,
    "start_time": "2023-11-18T14:27:06.360Z"
   },
   {
    "duration": 17,
    "start_time": "2023-11-18T14:28:04.528Z"
   },
   {
    "duration": 5,
    "start_time": "2023-11-18T14:28:11.761Z"
   },
   {
    "duration": 12,
    "start_time": "2023-11-18T14:31:47.680Z"
   },
   {
    "duration": 3,
    "start_time": "2023-11-18T14:36:29.054Z"
   },
   {
    "duration": 3,
    "start_time": "2023-11-18T14:36:44.182Z"
   },
   {
    "duration": 12,
    "start_time": "2023-11-18T14:37:04.509Z"
   },
   {
    "duration": 2,
    "start_time": "2023-11-18T14:37:47.669Z"
   },
   {
    "duration": 3,
    "start_time": "2023-11-18T14:37:51.920Z"
   },
   {
    "duration": 2,
    "start_time": "2023-11-18T14:37:54.770Z"
   },
   {
    "duration": 4,
    "start_time": "2023-11-18T14:38:16.661Z"
   },
   {
    "duration": 2,
    "start_time": "2023-11-18T14:39:12.397Z"
   },
   {
    "duration": 4,
    "start_time": "2023-11-18T14:39:19.475Z"
   },
   {
    "duration": 4,
    "start_time": "2023-11-18T14:39:40.436Z"
   },
   {
    "duration": 13,
    "start_time": "2023-11-18T14:41:08.339Z"
   },
   {
    "duration": 56,
    "start_time": "2023-11-18T14:41:30.955Z"
   },
   {
    "duration": 51,
    "start_time": "2023-11-18T14:41:41.621Z"
   },
   {
    "duration": 4,
    "start_time": "2023-11-18T14:41:55.512Z"
   },
   {
    "duration": 7,
    "start_time": "2023-11-18T14:41:59.600Z"
   },
   {
    "duration": 5,
    "start_time": "2023-11-18T14:42:09.726Z"
   },
   {
    "duration": 4,
    "start_time": "2023-11-18T14:42:39.253Z"
   },
   {
    "duration": 4,
    "start_time": "2023-11-18T14:44:37.872Z"
   },
   {
    "duration": 8,
    "start_time": "2023-11-18T14:47:28.295Z"
   },
   {
    "duration": 4,
    "start_time": "2023-11-18T14:47:33.044Z"
   },
   {
    "duration": 4,
    "start_time": "2023-11-18T14:47:39.876Z"
   },
   {
    "duration": 4,
    "start_time": "2023-11-18T14:47:54.894Z"
   },
   {
    "duration": 4,
    "start_time": "2023-11-18T14:48:20.798Z"
   },
   {
    "duration": 5,
    "start_time": "2023-11-18T14:48:22.290Z"
   },
   {
    "duration": 6,
    "start_time": "2023-11-18T14:50:57.980Z"
   },
   {
    "duration": 5,
    "start_time": "2023-11-18T14:50:58.319Z"
   },
   {
    "duration": 7,
    "start_time": "2023-11-18T14:51:37.379Z"
   },
   {
    "duration": 5,
    "start_time": "2023-11-18T14:51:37.714Z"
   },
   {
    "duration": 3,
    "start_time": "2023-11-18T14:55:01.406Z"
   },
   {
    "duration": 4,
    "start_time": "2023-11-18T14:55:26.370Z"
   },
   {
    "duration": 4,
    "start_time": "2023-11-18T14:55:27.605Z"
   },
   {
    "duration": 5,
    "start_time": "2023-11-18T14:55:32.859Z"
   },
   {
    "duration": 4,
    "start_time": "2023-11-18T14:55:35.912Z"
   },
   {
    "duration": 7,
    "start_time": "2023-11-18T14:55:37.568Z"
   },
   {
    "duration": 4,
    "start_time": "2023-11-18T14:55:37.855Z"
   },
   {
    "duration": 4,
    "start_time": "2023-11-18T14:55:38.236Z"
   },
   {
    "duration": 4,
    "start_time": "2023-11-18T14:56:13.051Z"
   },
   {
    "duration": 3,
    "start_time": "2023-11-18T14:56:13.343Z"
   },
   {
    "duration": 4,
    "start_time": "2023-11-18T14:56:45.273Z"
   },
   {
    "duration": 4,
    "start_time": "2023-11-18T14:56:46.849Z"
   },
   {
    "duration": 9,
    "start_time": "2023-11-18T15:05:29.909Z"
   },
   {
    "duration": 4,
    "start_time": "2023-11-18T15:06:04.143Z"
   },
   {
    "duration": 4,
    "start_time": "2023-11-18T15:06:21.721Z"
   },
   {
    "duration": 4,
    "start_time": "2023-11-18T15:06:56.430Z"
   },
   {
    "duration": 4,
    "start_time": "2023-11-18T15:07:37.099Z"
   },
   {
    "duration": 10,
    "start_time": "2023-11-18T15:09:46.262Z"
   },
   {
    "duration": 42,
    "start_time": "2023-11-18T15:09:57.835Z"
   },
   {
    "duration": 13,
    "start_time": "2023-11-18T15:10:02.093Z"
   },
   {
    "duration": 1392,
    "start_time": "2023-11-18T15:10:07.458Z"
   },
   {
    "duration": 707,
    "start_time": "2023-11-18T15:10:08.852Z"
   },
   {
    "duration": 3,
    "start_time": "2023-11-18T15:10:09.560Z"
   },
   {
    "duration": 134,
    "start_time": "2023-11-18T15:10:09.565Z"
   },
   {
    "duration": 59,
    "start_time": "2023-11-18T15:10:09.700Z"
   },
   {
    "duration": 6,
    "start_time": "2023-11-18T15:10:09.760Z"
   },
   {
    "duration": 27,
    "start_time": "2023-11-18T15:10:09.767Z"
   },
   {
    "duration": 31,
    "start_time": "2023-11-18T15:10:09.796Z"
   },
   {
    "duration": 18,
    "start_time": "2023-11-18T15:10:09.829Z"
   },
   {
    "duration": 36,
    "start_time": "2023-11-18T15:10:09.850Z"
   },
   {
    "duration": 49,
    "start_time": "2023-11-18T15:10:09.888Z"
   },
   {
    "duration": 74,
    "start_time": "2023-11-18T15:10:09.938Z"
   },
   {
    "duration": 22,
    "start_time": "2023-11-18T15:10:10.013Z"
   },
   {
    "duration": 240,
    "start_time": "2023-11-18T15:10:10.037Z"
   },
   {
    "duration": 5,
    "start_time": "2023-11-18T15:10:10.279Z"
   },
   {
    "duration": 175,
    "start_time": "2023-11-18T15:10:10.285Z"
   },
   {
    "duration": 155,
    "start_time": "2023-11-18T15:10:10.462Z"
   },
   {
    "duration": 169,
    "start_time": "2023-11-18T15:10:10.618Z"
   },
   {
    "duration": 218,
    "start_time": "2023-11-18T15:10:10.789Z"
   },
   {
    "duration": 810,
    "start_time": "2023-11-18T15:10:11.009Z"
   },
   {
    "duration": 10,
    "start_time": "2023-11-18T15:10:11.821Z"
   },
   {
    "duration": 878,
    "start_time": "2023-11-18T15:10:11.832Z"
   },
   {
    "duration": 10,
    "start_time": "2023-11-18T15:10:12.711Z"
   },
   {
    "duration": 22,
    "start_time": "2023-11-18T15:10:12.723Z"
   },
   {
    "duration": 1072,
    "start_time": "2023-11-18T15:10:12.746Z"
   },
   {
    "duration": 4,
    "start_time": "2023-11-18T15:10:13.820Z"
   },
   {
    "duration": 13,
    "start_time": "2023-11-18T15:10:13.825Z"
   },
   {
    "duration": 3,
    "start_time": "2023-11-18T15:10:13.858Z"
   },
   {
    "duration": 3,
    "start_time": "2023-11-18T15:10:13.863Z"
   },
   {
    "duration": 5,
    "start_time": "2023-11-18T15:10:13.868Z"
   },
   {
    "duration": 11,
    "start_time": "2023-11-18T15:10:13.875Z"
   },
   {
    "duration": 8,
    "start_time": "2023-11-18T15:10:13.888Z"
   },
   {
    "duration": 6,
    "start_time": "2023-11-18T15:10:13.898Z"
   },
   {
    "duration": 5,
    "start_time": "2023-11-18T15:10:13.905Z"
   },
   {
    "duration": 4,
    "start_time": "2023-11-18T15:10:13.913Z"
   },
   {
    "duration": 128,
    "start_time": "2023-11-18T15:10:13.918Z"
   },
   {
    "duration": 3,
    "start_time": "2023-11-18T15:13:29.081Z"
   },
   {
    "duration": 552,
    "start_time": "2023-11-18T15:13:29.561Z"
   },
   {
    "duration": 9,
    "start_time": "2023-11-18T15:13:30.115Z"
   },
   {
    "duration": 567,
    "start_time": "2023-11-18T15:16:14.821Z"
   },
   {
    "duration": 11,
    "start_time": "2023-11-18T15:33:09.114Z"
   },
   {
    "duration": 9,
    "start_time": "2023-11-18T15:33:37.319Z"
   },
   {
    "duration": 9,
    "start_time": "2023-11-18T15:39:40.107Z"
   },
   {
    "duration": 11,
    "start_time": "2023-11-18T15:41:05.049Z"
   },
   {
    "duration": 9,
    "start_time": "2023-11-18T15:41:27.300Z"
   },
   {
    "duration": 64,
    "start_time": "2023-11-18T15:41:27.496Z"
   },
   {
    "duration": 8,
    "start_time": "2023-11-18T15:41:27.676Z"
   },
   {
    "duration": 5,
    "start_time": "2023-11-18T15:41:39.406Z"
   },
   {
    "duration": 1411,
    "start_time": "2023-11-18T15:41:42.936Z"
   },
   {
    "duration": 710,
    "start_time": "2023-11-18T15:41:44.349Z"
   },
   {
    "duration": 3,
    "start_time": "2023-11-18T15:41:45.061Z"
   },
   {
    "duration": 120,
    "start_time": "2023-11-18T15:41:45.066Z"
   },
   {
    "duration": 42,
    "start_time": "2023-11-18T15:41:45.187Z"
   },
   {
    "duration": 30,
    "start_time": "2023-11-18T15:41:45.231Z"
   },
   {
    "duration": 5,
    "start_time": "2023-11-18T15:41:45.263Z"
   },
   {
    "duration": 4,
    "start_time": "2023-11-18T15:41:45.270Z"
   },
   {
    "duration": 6,
    "start_time": "2023-11-18T15:41:45.276Z"
   },
   {
    "duration": 20,
    "start_time": "2023-11-18T15:41:45.284Z"
   },
   {
    "duration": 56,
    "start_time": "2023-11-18T15:41:45.306Z"
   },
   {
    "duration": 34,
    "start_time": "2023-11-18T15:41:45.363Z"
   },
   {
    "duration": 19,
    "start_time": "2023-11-18T15:41:45.399Z"
   },
   {
    "duration": 261,
    "start_time": "2023-11-18T15:41:45.419Z"
   },
   {
    "duration": 5,
    "start_time": "2023-11-18T15:41:45.682Z"
   },
   {
    "duration": 171,
    "start_time": "2023-11-18T15:41:45.689Z"
   },
   {
    "duration": 157,
    "start_time": "2023-11-18T15:41:45.862Z"
   },
   {
    "duration": 159,
    "start_time": "2023-11-18T15:41:46.020Z"
   },
   {
    "duration": 208,
    "start_time": "2023-11-18T15:41:46.181Z"
   },
   {
    "duration": 820,
    "start_time": "2023-11-18T15:41:46.391Z"
   },
   {
    "duration": 11,
    "start_time": "2023-11-18T15:41:47.212Z"
   },
   {
    "duration": 839,
    "start_time": "2023-11-18T15:41:47.224Z"
   },
   {
    "duration": 12,
    "start_time": "2023-11-18T15:41:48.064Z"
   },
   {
    "duration": 6,
    "start_time": "2023-11-18T15:41:48.078Z"
   },
   {
    "duration": 1087,
    "start_time": "2023-11-18T15:41:48.085Z"
   },
   {
    "duration": 4,
    "start_time": "2023-11-18T15:41:49.173Z"
   },
   {
    "duration": 17,
    "start_time": "2023-11-18T15:41:49.178Z"
   },
   {
    "duration": 6,
    "start_time": "2023-11-18T15:41:49.199Z"
   },
   {
    "duration": 4,
    "start_time": "2023-11-18T15:41:49.206Z"
   },
   {
    "duration": 6,
    "start_time": "2023-11-18T15:41:49.211Z"
   },
   {
    "duration": 4,
    "start_time": "2023-11-18T15:41:49.219Z"
   },
   {
    "duration": 13,
    "start_time": "2023-11-18T15:41:49.224Z"
   },
   {
    "duration": 23,
    "start_time": "2023-11-18T15:41:49.238Z"
   },
   {
    "duration": 5,
    "start_time": "2023-11-18T15:41:49.262Z"
   },
   {
    "duration": 4,
    "start_time": "2023-11-18T15:41:49.269Z"
   },
   {
    "duration": 5,
    "start_time": "2023-11-18T15:41:49.274Z"
   },
   {
    "duration": 5,
    "start_time": "2023-11-18T15:41:49.280Z"
   },
   {
    "duration": 7,
    "start_time": "2023-11-18T15:41:49.286Z"
   },
   {
    "duration": 67,
    "start_time": "2023-11-18T15:41:49.294Z"
   },
   {
    "duration": 1836,
    "start_time": "2023-11-18T15:41:49.363Z"
   },
   {
    "duration": 1380,
    "start_time": "2023-11-18T15:43:28.582Z"
   },
   {
    "duration": 713,
    "start_time": "2023-11-18T15:43:29.964Z"
   },
   {
    "duration": 2,
    "start_time": "2023-11-18T15:43:30.679Z"
   },
   {
    "duration": 154,
    "start_time": "2023-11-18T15:43:30.683Z"
   },
   {
    "duration": 59,
    "start_time": "2023-11-18T15:43:30.838Z"
   },
   {
    "duration": 6,
    "start_time": "2023-11-18T15:43:30.898Z"
   },
   {
    "duration": 47,
    "start_time": "2023-11-18T15:43:30.905Z"
   },
   {
    "duration": 41,
    "start_time": "2023-11-18T15:43:30.953Z"
   },
   {
    "duration": 38,
    "start_time": "2023-11-18T15:43:30.995Z"
   },
   {
    "duration": 69,
    "start_time": "2023-11-18T15:43:31.036Z"
   },
   {
    "duration": 54,
    "start_time": "2023-11-18T15:43:31.106Z"
   },
   {
    "duration": 48,
    "start_time": "2023-11-18T15:43:31.161Z"
   },
   {
    "duration": 60,
    "start_time": "2023-11-18T15:43:31.210Z"
   },
   {
    "duration": 248,
    "start_time": "2023-11-18T15:43:31.272Z"
   },
   {
    "duration": 6,
    "start_time": "2023-11-18T15:43:31.521Z"
   },
   {
    "duration": 211,
    "start_time": "2023-11-18T15:43:31.528Z"
   },
   {
    "duration": 158,
    "start_time": "2023-11-18T15:43:31.740Z"
   },
   {
    "duration": 169,
    "start_time": "2023-11-18T15:43:31.899Z"
   },
   {
    "duration": 217,
    "start_time": "2023-11-18T15:43:32.069Z"
   },
   {
    "duration": 798,
    "start_time": "2023-11-18T15:43:32.287Z"
   },
   {
    "duration": 11,
    "start_time": "2023-11-18T15:43:33.087Z"
   },
   {
    "duration": 853,
    "start_time": "2023-11-18T15:43:33.100Z"
   },
   {
    "duration": 11,
    "start_time": "2023-11-18T15:43:33.958Z"
   },
   {
    "duration": 6,
    "start_time": "2023-11-18T15:43:33.971Z"
   },
   {
    "duration": 1059,
    "start_time": "2023-11-18T15:43:33.979Z"
   },
   {
    "duration": 4,
    "start_time": "2023-11-18T15:43:35.040Z"
   },
   {
    "duration": 24,
    "start_time": "2023-11-18T15:43:35.046Z"
   },
   {
    "duration": 11,
    "start_time": "2023-11-18T15:43:35.074Z"
   },
   {
    "duration": 3,
    "start_time": "2023-11-18T15:43:35.087Z"
   },
   {
    "duration": 4,
    "start_time": "2023-11-18T15:43:35.091Z"
   },
   {
    "duration": 8,
    "start_time": "2023-11-18T15:43:35.096Z"
   },
   {
    "duration": 8,
    "start_time": "2023-11-18T15:43:35.105Z"
   },
   {
    "duration": 7,
    "start_time": "2023-11-18T15:43:35.114Z"
   },
   {
    "duration": 4,
    "start_time": "2023-11-18T15:43:35.123Z"
   },
   {
    "duration": 36,
    "start_time": "2023-11-18T15:43:35.128Z"
   },
   {
    "duration": 14,
    "start_time": "2023-11-18T15:43:35.165Z"
   },
   {
    "duration": 5,
    "start_time": "2023-11-18T15:43:35.181Z"
   },
   {
    "duration": 5,
    "start_time": "2023-11-18T15:43:35.188Z"
   },
   {
    "duration": 67,
    "start_time": "2023-11-18T15:43:35.194Z"
   },
   {
    "duration": 1838,
    "start_time": "2023-11-18T15:43:35.262Z"
   },
   {
    "duration": 137532,
    "start_time": "2023-11-18T15:44:01.893Z"
   },
   {
    "duration": 1412,
    "start_time": "2023-11-18T16:11:31.981Z"
   },
   {
    "duration": 722,
    "start_time": "2023-11-18T16:11:33.395Z"
   },
   {
    "duration": 3,
    "start_time": "2023-11-18T16:11:34.119Z"
   },
   {
    "duration": 124,
    "start_time": "2023-11-18T16:11:34.123Z"
   },
   {
    "duration": 50,
    "start_time": "2023-11-18T16:11:34.249Z"
   },
   {
    "duration": 6,
    "start_time": "2023-11-18T16:11:34.300Z"
   },
   {
    "duration": 7,
    "start_time": "2023-11-18T16:11:34.307Z"
   },
   {
    "duration": 5,
    "start_time": "2023-11-18T16:11:34.316Z"
   },
   {
    "duration": 35,
    "start_time": "2023-11-18T16:11:34.323Z"
   },
   {
    "duration": 20,
    "start_time": "2023-11-18T16:11:34.361Z"
   },
   {
    "duration": 24,
    "start_time": "2023-11-18T16:11:34.382Z"
   },
   {
    "duration": 62,
    "start_time": "2023-11-18T16:11:34.408Z"
   },
   {
    "duration": 20,
    "start_time": "2023-11-18T16:11:34.471Z"
   },
   {
    "duration": 255,
    "start_time": "2023-11-18T16:11:34.492Z"
   },
   {
    "duration": 5,
    "start_time": "2023-11-18T16:11:34.758Z"
   },
   {
    "duration": 177,
    "start_time": "2023-11-18T16:11:34.764Z"
   },
   {
    "duration": 165,
    "start_time": "2023-11-18T16:11:34.942Z"
   },
   {
    "duration": 177,
    "start_time": "2023-11-18T16:11:35.109Z"
   },
   {
    "duration": 216,
    "start_time": "2023-11-18T16:11:35.288Z"
   },
   {
    "duration": 841,
    "start_time": "2023-11-18T16:11:35.505Z"
   },
   {
    "duration": 17,
    "start_time": "2023-11-18T16:11:36.348Z"
   },
   {
    "duration": 879,
    "start_time": "2023-11-18T16:11:36.366Z"
   },
   {
    "duration": 15,
    "start_time": "2023-11-18T16:11:37.246Z"
   },
   {
    "duration": 6,
    "start_time": "2023-11-18T16:11:37.263Z"
   },
   {
    "duration": 1091,
    "start_time": "2023-11-18T16:11:37.270Z"
   },
   {
    "duration": 4,
    "start_time": "2023-11-18T16:11:38.363Z"
   },
   {
    "duration": 16,
    "start_time": "2023-11-18T16:11:38.368Z"
   },
   {
    "duration": 3,
    "start_time": "2023-11-18T16:11:38.388Z"
   },
   {
    "duration": 19,
    "start_time": "2023-11-18T16:11:38.393Z"
   },
   {
    "duration": 10,
    "start_time": "2023-11-18T16:11:38.414Z"
   },
   {
    "duration": 18,
    "start_time": "2023-11-18T16:11:38.425Z"
   },
   {
    "duration": 13,
    "start_time": "2023-11-18T16:11:38.445Z"
   },
   {
    "duration": 11,
    "start_time": "2023-11-18T16:11:38.459Z"
   },
   {
    "duration": 14,
    "start_time": "2023-11-18T16:11:38.471Z"
   },
   {
    "duration": 7,
    "start_time": "2023-11-18T16:11:38.486Z"
   },
   {
    "duration": 7,
    "start_time": "2023-11-18T16:11:38.494Z"
   },
   {
    "duration": 7,
    "start_time": "2023-11-18T16:11:38.502Z"
   },
   {
    "duration": 4,
    "start_time": "2023-11-18T16:11:38.510Z"
   },
   {
    "duration": 48,
    "start_time": "2023-11-18T16:11:38.515Z"
   },
   {
    "duration": 2160,
    "start_time": "2023-11-18T16:11:38.566Z"
   },
   {
    "duration": 149065,
    "start_time": "2023-11-18T16:11:40.728Z"
   },
   {
    "duration": 108,
    "start_time": "2023-11-18T16:15:27.494Z"
   },
   {
    "duration": 1374,
    "start_time": "2023-11-18T16:15:58.071Z"
   },
   {
    "duration": 714,
    "start_time": "2023-11-18T16:15:59.449Z"
   },
   {
    "duration": 3,
    "start_time": "2023-11-18T16:16:00.164Z"
   },
   {
    "duration": 131,
    "start_time": "2023-11-18T16:16:00.169Z"
   },
   {
    "duration": 63,
    "start_time": "2023-11-18T16:16:00.302Z"
   },
   {
    "duration": 6,
    "start_time": "2023-11-18T16:16:00.367Z"
   },
   {
    "duration": 48,
    "start_time": "2023-11-18T16:16:00.375Z"
   },
   {
    "duration": 40,
    "start_time": "2023-11-18T16:16:00.425Z"
   },
   {
    "duration": 41,
    "start_time": "2023-11-18T16:16:00.467Z"
   },
   {
    "duration": 46,
    "start_time": "2023-11-18T16:16:00.510Z"
   },
   {
    "duration": 34,
    "start_time": "2023-11-18T16:16:00.558Z"
   },
   {
    "duration": 34,
    "start_time": "2023-11-18T16:16:00.594Z"
   },
   {
    "duration": 44,
    "start_time": "2023-11-18T16:16:00.630Z"
   },
   {
    "duration": 252,
    "start_time": "2023-11-18T16:16:00.675Z"
   },
   {
    "duration": 5,
    "start_time": "2023-11-18T16:16:00.928Z"
   },
   {
    "duration": 196,
    "start_time": "2023-11-18T16:16:00.935Z"
   },
   {
    "duration": 164,
    "start_time": "2023-11-18T16:16:01.133Z"
   },
   {
    "duration": 181,
    "start_time": "2023-11-18T16:16:01.299Z"
   },
   {
    "duration": 222,
    "start_time": "2023-11-18T16:16:01.481Z"
   },
   {
    "duration": 835,
    "start_time": "2023-11-18T16:16:01.704Z"
   },
   {
    "duration": 17,
    "start_time": "2023-11-18T16:16:02.541Z"
   },
   {
    "duration": 841,
    "start_time": "2023-11-18T16:16:02.560Z"
   },
   {
    "duration": 11,
    "start_time": "2023-11-18T16:16:03.402Z"
   },
   {
    "duration": 19,
    "start_time": "2023-11-18T16:16:03.414Z"
   },
   {
    "duration": 1085,
    "start_time": "2023-11-18T16:16:03.435Z"
   },
   {
    "duration": 3,
    "start_time": "2023-11-18T16:16:04.522Z"
   },
   {
    "duration": 26,
    "start_time": "2023-11-18T16:16:04.527Z"
   },
   {
    "duration": 26,
    "start_time": "2023-11-18T16:16:04.556Z"
   },
   {
    "duration": 21,
    "start_time": "2023-11-18T16:16:04.584Z"
   },
   {
    "duration": 28,
    "start_time": "2023-11-18T16:16:04.607Z"
   },
   {
    "duration": 26,
    "start_time": "2023-11-18T16:16:04.636Z"
   },
   {
    "duration": 18,
    "start_time": "2023-11-18T16:16:04.663Z"
   },
   {
    "duration": 13,
    "start_time": "2023-11-18T16:16:04.683Z"
   },
   {
    "duration": 34,
    "start_time": "2023-11-18T16:16:04.698Z"
   },
   {
    "duration": 31,
    "start_time": "2023-11-18T16:16:04.733Z"
   },
   {
    "duration": 1441,
    "start_time": "2023-11-18T16:18:41.731Z"
   },
   {
    "duration": 710,
    "start_time": "2023-11-18T16:18:43.174Z"
   },
   {
    "duration": 2,
    "start_time": "2023-11-18T16:18:43.886Z"
   },
   {
    "duration": 123,
    "start_time": "2023-11-18T16:18:43.890Z"
   },
   {
    "duration": 61,
    "start_time": "2023-11-18T16:18:44.015Z"
   },
   {
    "duration": 6,
    "start_time": "2023-11-18T16:18:44.077Z"
   },
   {
    "duration": 8,
    "start_time": "2023-11-18T16:18:44.084Z"
   },
   {
    "duration": 5,
    "start_time": "2023-11-18T16:18:44.094Z"
   },
   {
    "duration": 4,
    "start_time": "2023-11-18T16:18:44.100Z"
   },
   {
    "duration": 53,
    "start_time": "2023-11-18T16:18:44.106Z"
   },
   {
    "duration": 23,
    "start_time": "2023-11-18T16:18:44.161Z"
   },
   {
    "duration": 40,
    "start_time": "2023-11-18T16:18:44.185Z"
   },
   {
    "duration": 44,
    "start_time": "2023-11-18T16:18:44.227Z"
   },
   {
    "duration": 264,
    "start_time": "2023-11-18T16:18:44.273Z"
   },
   {
    "duration": 5,
    "start_time": "2023-11-18T16:18:44.538Z"
   },
   {
    "duration": 188,
    "start_time": "2023-11-18T16:18:44.544Z"
   },
   {
    "duration": 165,
    "start_time": "2023-11-18T16:18:44.734Z"
   },
   {
    "duration": 180,
    "start_time": "2023-11-18T16:18:44.901Z"
   },
   {
    "duration": 239,
    "start_time": "2023-11-18T16:18:45.082Z"
   },
   {
    "duration": 826,
    "start_time": "2023-11-18T16:18:45.323Z"
   },
   {
    "duration": 16,
    "start_time": "2023-11-18T16:18:46.151Z"
   },
   {
    "duration": 901,
    "start_time": "2023-11-18T16:18:46.168Z"
   },
   {
    "duration": 11,
    "start_time": "2023-11-18T16:18:47.070Z"
   },
   {
    "duration": 6,
    "start_time": "2023-11-18T16:18:47.083Z"
   },
   {
    "duration": 1091,
    "start_time": "2023-11-18T16:18:47.090Z"
   },
   {
    "duration": 4,
    "start_time": "2023-11-18T16:18:48.183Z"
   },
   {
    "duration": 20,
    "start_time": "2023-11-18T16:18:48.188Z"
   },
   {
    "duration": 4,
    "start_time": "2023-11-18T16:18:48.212Z"
   },
   {
    "duration": 3,
    "start_time": "2023-11-18T16:18:48.217Z"
   },
   {
    "duration": 4,
    "start_time": "2023-11-18T16:18:48.222Z"
   },
   {
    "duration": 33,
    "start_time": "2023-11-18T16:18:48.228Z"
   },
   {
    "duration": 9,
    "start_time": "2023-11-18T16:18:48.263Z"
   },
   {
    "duration": 5,
    "start_time": "2023-11-18T16:18:48.274Z"
   },
   {
    "duration": 7,
    "start_time": "2023-11-18T16:18:48.281Z"
   },
   {
    "duration": 6,
    "start_time": "2023-11-18T16:18:48.290Z"
   },
   {
    "duration": 3,
    "start_time": "2023-11-18T16:18:48.298Z"
   },
   {
    "duration": 119,
    "start_time": "2023-11-18T16:18:48.303Z"
   },
   {
    "duration": 0,
    "start_time": "2023-11-18T16:18:48.424Z"
   },
   {
    "duration": 0,
    "start_time": "2023-11-18T16:18:48.425Z"
   },
   {
    "duration": 0,
    "start_time": "2023-11-18T16:18:48.427Z"
   },
   {
    "duration": 0,
    "start_time": "2023-11-18T16:18:48.428Z"
   },
   {
    "duration": 0,
    "start_time": "2023-11-18T16:18:48.430Z"
   },
   {
    "duration": 0,
    "start_time": "2023-11-18T16:18:48.431Z"
   },
   {
    "duration": 4,
    "start_time": "2023-11-18T16:19:52.765Z"
   },
   {
    "duration": 1626,
    "start_time": "2023-11-18T16:19:56.125Z"
   },
   {
    "duration": 769,
    "start_time": "2023-11-18T16:19:57.753Z"
   },
   {
    "duration": 3,
    "start_time": "2023-11-18T16:19:58.524Z"
   },
   {
    "duration": 130,
    "start_time": "2023-11-18T16:19:58.530Z"
   },
   {
    "duration": 53,
    "start_time": "2023-11-18T16:19:58.662Z"
   },
   {
    "duration": 8,
    "start_time": "2023-11-18T16:19:58.716Z"
   },
   {
    "duration": 38,
    "start_time": "2023-11-18T16:19:58.725Z"
   },
   {
    "duration": 6,
    "start_time": "2023-11-18T16:19:58.764Z"
   },
   {
    "duration": 8,
    "start_time": "2023-11-18T16:19:58.771Z"
   },
   {
    "duration": 30,
    "start_time": "2023-11-18T16:19:58.782Z"
   },
   {
    "duration": 52,
    "start_time": "2023-11-18T16:19:58.813Z"
   },
   {
    "duration": 35,
    "start_time": "2023-11-18T16:19:58.867Z"
   },
   {
    "duration": 24,
    "start_time": "2023-11-18T16:19:58.904Z"
   },
   {
    "duration": 275,
    "start_time": "2023-11-18T16:19:58.930Z"
   },
   {
    "duration": 6,
    "start_time": "2023-11-18T16:19:59.207Z"
   },
   {
    "duration": 187,
    "start_time": "2023-11-18T16:19:59.215Z"
   },
   {
    "duration": 164,
    "start_time": "2023-11-18T16:19:59.404Z"
   },
   {
    "duration": 174,
    "start_time": "2023-11-18T16:19:59.570Z"
   },
   {
    "duration": 217,
    "start_time": "2023-11-18T16:19:59.746Z"
   },
   {
    "duration": 843,
    "start_time": "2023-11-18T16:19:59.965Z"
   },
   {
    "duration": 15,
    "start_time": "2023-11-18T16:20:00.810Z"
   },
   {
    "duration": 986,
    "start_time": "2023-11-18T16:20:00.827Z"
   },
   {
    "duration": 11,
    "start_time": "2023-11-18T16:20:01.815Z"
   },
   {
    "duration": 33,
    "start_time": "2023-11-18T16:20:01.827Z"
   },
   {
    "duration": 1117,
    "start_time": "2023-11-18T16:20:01.862Z"
   },
   {
    "duration": 4,
    "start_time": "2023-11-18T16:20:02.980Z"
   },
   {
    "duration": 35,
    "start_time": "2023-11-18T16:20:02.985Z"
   },
   {
    "duration": 4,
    "start_time": "2023-11-18T16:20:03.024Z"
   },
   {
    "duration": 8,
    "start_time": "2023-11-18T16:20:03.029Z"
   },
   {
    "duration": 13,
    "start_time": "2023-11-18T16:20:03.038Z"
   },
   {
    "duration": 10,
    "start_time": "2023-11-18T16:20:03.052Z"
   },
   {
    "duration": 14,
    "start_time": "2023-11-18T16:20:03.064Z"
   },
   {
    "duration": 9,
    "start_time": "2023-11-18T16:20:03.080Z"
   },
   {
    "duration": 23,
    "start_time": "2023-11-18T16:20:03.090Z"
   },
   {
    "duration": 16,
    "start_time": "2023-11-18T16:20:03.115Z"
   },
   {
    "duration": 20,
    "start_time": "2023-11-18T16:20:03.132Z"
   },
   {
    "duration": 123,
    "start_time": "2023-11-18T16:20:03.154Z"
   },
   {
    "duration": 0,
    "start_time": "2023-11-18T16:20:03.278Z"
   },
   {
    "duration": 0,
    "start_time": "2023-11-18T16:20:03.280Z"
   },
   {
    "duration": 0,
    "start_time": "2023-11-18T16:20:03.281Z"
   },
   {
    "duration": 0,
    "start_time": "2023-11-18T16:20:03.282Z"
   },
   {
    "duration": 0,
    "start_time": "2023-11-18T16:20:03.283Z"
   },
   {
    "duration": 0,
    "start_time": "2023-11-18T16:20:03.284Z"
   },
   {
    "duration": 4,
    "start_time": "2023-11-18T16:21:06.182Z"
   },
   {
    "duration": 1461,
    "start_time": "2023-11-18T16:21:09.933Z"
   },
   {
    "duration": 706,
    "start_time": "2023-11-18T16:21:11.396Z"
   },
   {
    "duration": 3,
    "start_time": "2023-11-18T16:21:12.104Z"
   },
   {
    "duration": 126,
    "start_time": "2023-11-18T16:21:12.108Z"
   },
   {
    "duration": 63,
    "start_time": "2023-11-18T16:21:12.236Z"
   },
   {
    "duration": 5,
    "start_time": "2023-11-18T16:21:12.301Z"
   },
   {
    "duration": 12,
    "start_time": "2023-11-18T16:21:12.308Z"
   },
   {
    "duration": 11,
    "start_time": "2023-11-18T16:21:12.322Z"
   },
   {
    "duration": 11,
    "start_time": "2023-11-18T16:21:12.335Z"
   },
   {
    "duration": 22,
    "start_time": "2023-11-18T16:21:12.358Z"
   },
   {
    "duration": 24,
    "start_time": "2023-11-18T16:21:12.381Z"
   },
   {
    "duration": 58,
    "start_time": "2023-11-18T16:21:12.406Z"
   },
   {
    "duration": 19,
    "start_time": "2023-11-18T16:21:12.465Z"
   },
   {
    "duration": 259,
    "start_time": "2023-11-18T16:21:12.486Z"
   },
   {
    "duration": 13,
    "start_time": "2023-11-18T16:21:12.747Z"
   },
   {
    "duration": 184,
    "start_time": "2023-11-18T16:21:12.761Z"
   },
   {
    "duration": 161,
    "start_time": "2023-11-18T16:21:12.947Z"
   },
   {
    "duration": 173,
    "start_time": "2023-11-18T16:21:13.110Z"
   },
   {
    "duration": 214,
    "start_time": "2023-11-18T16:21:13.284Z"
   },
   {
    "duration": 822,
    "start_time": "2023-11-18T16:21:13.499Z"
   },
   {
    "duration": 12,
    "start_time": "2023-11-18T16:21:14.322Z"
   },
   {
    "duration": 873,
    "start_time": "2023-11-18T16:21:14.335Z"
   },
   {
    "duration": 11,
    "start_time": "2023-11-18T16:21:15.211Z"
   },
   {
    "duration": 6,
    "start_time": "2023-11-18T16:21:15.223Z"
   },
   {
    "duration": 1083,
    "start_time": "2023-11-18T16:21:15.231Z"
   },
   {
    "duration": 4,
    "start_time": "2023-11-18T16:21:16.315Z"
   },
   {
    "duration": 24,
    "start_time": "2023-11-18T16:21:16.320Z"
   },
   {
    "duration": 3,
    "start_time": "2023-11-18T16:21:16.347Z"
   },
   {
    "duration": 8,
    "start_time": "2023-11-18T16:21:16.351Z"
   },
   {
    "duration": 6,
    "start_time": "2023-11-18T16:21:16.360Z"
   },
   {
    "duration": 9,
    "start_time": "2023-11-18T16:21:16.367Z"
   },
   {
    "duration": 6,
    "start_time": "2023-11-18T16:21:16.377Z"
   },
   {
    "duration": 10,
    "start_time": "2023-11-18T16:21:16.384Z"
   },
   {
    "duration": 13,
    "start_time": "2023-11-18T16:21:16.395Z"
   },
   {
    "duration": 4,
    "start_time": "2023-11-18T16:21:16.409Z"
   },
   {
    "duration": 10,
    "start_time": "2023-11-18T16:21:16.414Z"
   },
   {
    "duration": 9,
    "start_time": "2023-11-18T16:21:16.425Z"
   },
   {
    "duration": 4,
    "start_time": "2023-11-18T16:21:16.435Z"
   },
   {
    "duration": 117,
    "start_time": "2023-11-18T16:21:16.441Z"
   },
   {
    "duration": 0,
    "start_time": "2023-11-18T16:21:16.560Z"
   },
   {
    "duration": 0,
    "start_time": "2023-11-18T16:21:16.561Z"
   },
   {
    "duration": 0,
    "start_time": "2023-11-18T16:21:16.562Z"
   },
   {
    "duration": 0,
    "start_time": "2023-11-18T16:21:16.563Z"
   },
   {
    "duration": 6,
    "start_time": "2023-11-18T16:21:56.973Z"
   },
   {
    "duration": 1428,
    "start_time": "2023-11-18T16:22:01.926Z"
   },
   {
    "duration": 740,
    "start_time": "2023-11-18T16:22:03.356Z"
   },
   {
    "duration": 3,
    "start_time": "2023-11-18T16:22:04.097Z"
   },
   {
    "duration": 122,
    "start_time": "2023-11-18T16:22:04.102Z"
   },
   {
    "duration": 66,
    "start_time": "2023-11-18T16:22:04.226Z"
   },
   {
    "duration": 7,
    "start_time": "2023-11-18T16:22:04.294Z"
   },
   {
    "duration": 5,
    "start_time": "2023-11-18T16:22:04.302Z"
   },
   {
    "duration": 4,
    "start_time": "2023-11-18T16:22:04.309Z"
   },
   {
    "duration": 28,
    "start_time": "2023-11-18T16:22:04.314Z"
   },
   {
    "duration": 36,
    "start_time": "2023-11-18T16:22:04.344Z"
   },
   {
    "duration": 38,
    "start_time": "2023-11-18T16:22:04.382Z"
   },
   {
    "duration": 41,
    "start_time": "2023-11-18T16:22:04.422Z"
   },
   {
    "duration": 19,
    "start_time": "2023-11-18T16:22:04.465Z"
   },
   {
    "duration": 254,
    "start_time": "2023-11-18T16:22:04.485Z"
   },
   {
    "duration": 5,
    "start_time": "2023-11-18T16:22:04.740Z"
   },
   {
    "duration": 178,
    "start_time": "2023-11-18T16:22:04.758Z"
   },
   {
    "duration": 162,
    "start_time": "2023-11-18T16:22:04.938Z"
   },
   {
    "duration": 177,
    "start_time": "2023-11-18T16:22:05.101Z"
   },
   {
    "duration": 219,
    "start_time": "2023-11-18T16:22:05.280Z"
   },
   {
    "duration": 831,
    "start_time": "2023-11-18T16:22:05.500Z"
   },
   {
    "duration": 11,
    "start_time": "2023-11-18T16:22:06.333Z"
   },
   {
    "duration": 905,
    "start_time": "2023-11-18T16:22:06.357Z"
   },
   {
    "duration": 11,
    "start_time": "2023-11-18T16:22:07.263Z"
   },
   {
    "duration": 5,
    "start_time": "2023-11-18T16:22:07.276Z"
   },
   {
    "duration": 1094,
    "start_time": "2023-11-18T16:22:07.283Z"
   },
   {
    "duration": 4,
    "start_time": "2023-11-18T16:22:08.379Z"
   },
   {
    "duration": 14,
    "start_time": "2023-11-18T16:22:08.384Z"
   },
   {
    "duration": 4,
    "start_time": "2023-11-18T16:22:08.401Z"
   },
   {
    "duration": 6,
    "start_time": "2023-11-18T16:22:08.406Z"
   },
   {
    "duration": 3,
    "start_time": "2023-11-18T16:22:08.414Z"
   },
   {
    "duration": 7,
    "start_time": "2023-11-18T16:22:08.419Z"
   },
   {
    "duration": 30,
    "start_time": "2023-11-18T16:22:08.428Z"
   },
   {
    "duration": 3,
    "start_time": "2023-11-18T16:22:08.460Z"
   },
   {
    "duration": 8,
    "start_time": "2023-11-18T16:22:08.464Z"
   },
   {
    "duration": 4,
    "start_time": "2023-11-18T16:22:08.474Z"
   },
   {
    "duration": 26,
    "start_time": "2023-11-18T16:22:08.479Z"
   },
   {
    "duration": 19,
    "start_time": "2023-11-18T16:22:08.506Z"
   },
   {
    "duration": 22,
    "start_time": "2023-11-18T16:22:08.527Z"
   },
   {
    "duration": 12,
    "start_time": "2023-11-18T16:22:08.550Z"
   },
   {
    "duration": 1431,
    "start_time": "2023-11-18T16:22:45.528Z"
   },
   {
    "duration": 715,
    "start_time": "2023-11-18T16:22:46.960Z"
   },
   {
    "duration": 3,
    "start_time": "2023-11-18T16:22:47.676Z"
   },
   {
    "duration": 120,
    "start_time": "2023-11-18T16:22:47.682Z"
   },
   {
    "duration": 57,
    "start_time": "2023-11-18T16:22:47.803Z"
   },
   {
    "duration": 7,
    "start_time": "2023-11-18T16:22:47.861Z"
   },
   {
    "duration": 5,
    "start_time": "2023-11-18T16:22:47.869Z"
   },
   {
    "duration": 5,
    "start_time": "2023-11-18T16:22:47.875Z"
   },
   {
    "duration": 4,
    "start_time": "2023-11-18T16:22:47.882Z"
   },
   {
    "duration": 21,
    "start_time": "2023-11-18T16:22:47.888Z"
   },
   {
    "duration": 60,
    "start_time": "2023-11-18T16:22:47.910Z"
   },
   {
    "duration": 35,
    "start_time": "2023-11-18T16:22:47.972Z"
   },
   {
    "duration": 49,
    "start_time": "2023-11-18T16:22:48.009Z"
   },
   {
    "duration": 238,
    "start_time": "2023-11-18T16:22:48.060Z"
   },
   {
    "duration": 5,
    "start_time": "2023-11-18T16:22:48.299Z"
   },
   {
    "duration": 188,
    "start_time": "2023-11-18T16:22:48.306Z"
   },
   {
    "duration": 164,
    "start_time": "2023-11-18T16:22:48.496Z"
   },
   {
    "duration": 169,
    "start_time": "2023-11-18T16:22:48.662Z"
   },
   {
    "duration": 215,
    "start_time": "2023-11-18T16:22:48.833Z"
   },
   {
    "duration": 806,
    "start_time": "2023-11-18T16:22:49.050Z"
   },
   {
    "duration": 11,
    "start_time": "2023-11-18T16:22:49.857Z"
   },
   {
    "duration": 838,
    "start_time": "2023-11-18T16:22:49.869Z"
   },
   {
    "duration": 11,
    "start_time": "2023-11-18T16:22:50.708Z"
   },
   {
    "duration": 6,
    "start_time": "2023-11-18T16:22:50.720Z"
   },
   {
    "duration": 1084,
    "start_time": "2023-11-18T16:22:50.727Z"
   },
   {
    "duration": 3,
    "start_time": "2023-11-18T16:22:51.813Z"
   },
   {
    "duration": 17,
    "start_time": "2023-11-18T16:22:51.817Z"
   },
   {
    "duration": 4,
    "start_time": "2023-11-18T16:22:51.837Z"
   },
   {
    "duration": 17,
    "start_time": "2023-11-18T16:22:51.842Z"
   },
   {
    "duration": 17,
    "start_time": "2023-11-18T16:22:51.860Z"
   },
   {
    "duration": 9,
    "start_time": "2023-11-18T16:22:51.878Z"
   },
   {
    "duration": 6,
    "start_time": "2023-11-18T16:22:51.888Z"
   },
   {
    "duration": 4,
    "start_time": "2023-11-18T16:22:51.895Z"
   },
   {
    "duration": 7,
    "start_time": "2023-11-18T16:22:51.900Z"
   },
   {
    "duration": 8,
    "start_time": "2023-11-18T16:22:51.908Z"
   },
   {
    "duration": 38,
    "start_time": "2023-11-18T16:22:51.917Z"
   },
   {
    "duration": 5,
    "start_time": "2023-11-18T16:22:51.956Z"
   },
   {
    "duration": 16,
    "start_time": "2023-11-18T16:22:51.962Z"
   },
   {
    "duration": 5,
    "start_time": "2023-11-18T16:22:51.979Z"
   },
   {
    "duration": 1419,
    "start_time": "2023-11-18T16:25:22.617Z"
   },
   {
    "duration": 713,
    "start_time": "2023-11-18T16:25:24.038Z"
   },
   {
    "duration": 7,
    "start_time": "2023-11-18T16:25:24.752Z"
   },
   {
    "duration": 119,
    "start_time": "2023-11-18T16:25:24.760Z"
   },
   {
    "duration": 46,
    "start_time": "2023-11-18T16:25:24.881Z"
   },
   {
    "duration": 31,
    "start_time": "2023-11-18T16:25:24.929Z"
   },
   {
    "duration": 13,
    "start_time": "2023-11-18T16:25:24.962Z"
   },
   {
    "duration": 11,
    "start_time": "2023-11-18T16:25:24.977Z"
   },
   {
    "duration": 7,
    "start_time": "2023-11-18T16:25:24.990Z"
   },
   {
    "duration": 24,
    "start_time": "2023-11-18T16:25:25.000Z"
   },
   {
    "duration": 39,
    "start_time": "2023-11-18T16:25:25.025Z"
   },
   {
    "duration": 32,
    "start_time": "2023-11-18T16:25:25.065Z"
   },
   {
    "duration": 19,
    "start_time": "2023-11-18T16:25:25.099Z"
   },
   {
    "duration": 265,
    "start_time": "2023-11-18T16:25:25.120Z"
   },
   {
    "duration": 5,
    "start_time": "2023-11-18T16:25:25.387Z"
   },
   {
    "duration": 176,
    "start_time": "2023-11-18T16:25:25.394Z"
   },
   {
    "duration": 157,
    "start_time": "2023-11-18T16:25:25.572Z"
   },
   {
    "duration": 172,
    "start_time": "2023-11-18T16:25:25.730Z"
   },
   {
    "duration": 210,
    "start_time": "2023-11-18T16:25:25.904Z"
   },
   {
    "duration": 800,
    "start_time": "2023-11-18T16:25:26.116Z"
   },
   {
    "duration": 11,
    "start_time": "2023-11-18T16:25:26.917Z"
   },
   {
    "duration": 847,
    "start_time": "2023-11-18T16:25:26.930Z"
   },
   {
    "duration": 10,
    "start_time": "2023-11-18T16:25:27.779Z"
   },
   {
    "duration": 13,
    "start_time": "2023-11-18T16:25:27.790Z"
   },
   {
    "duration": 1066,
    "start_time": "2023-11-18T16:25:27.804Z"
   },
   {
    "duration": 4,
    "start_time": "2023-11-18T16:25:28.872Z"
   },
   {
    "duration": 19,
    "start_time": "2023-11-18T16:25:28.877Z"
   },
   {
    "duration": 3,
    "start_time": "2023-11-18T16:25:28.899Z"
   },
   {
    "duration": 10,
    "start_time": "2023-11-18T16:25:28.904Z"
   },
   {
    "duration": 4,
    "start_time": "2023-11-18T16:25:28.916Z"
   },
   {
    "duration": 22,
    "start_time": "2023-11-18T16:25:28.922Z"
   },
   {
    "duration": 5,
    "start_time": "2023-11-18T16:25:28.946Z"
   },
   {
    "duration": 7,
    "start_time": "2023-11-18T16:25:28.952Z"
   },
   {
    "duration": 12,
    "start_time": "2023-11-18T16:25:28.960Z"
   },
   {
    "duration": 5,
    "start_time": "2023-11-18T16:25:28.973Z"
   },
   {
    "duration": 4,
    "start_time": "2023-11-18T16:25:28.979Z"
   },
   {
    "duration": 5,
    "start_time": "2023-11-18T16:25:28.984Z"
   },
   {
    "duration": 4,
    "start_time": "2023-11-18T16:25:28.990Z"
   },
   {
    "duration": 5,
    "start_time": "2023-11-18T16:25:28.995Z"
   },
   {
    "duration": 1468,
    "start_time": "2023-11-18T16:29:11.923Z"
   },
   {
    "duration": 702,
    "start_time": "2023-11-18T16:29:13.393Z"
   },
   {
    "duration": 3,
    "start_time": "2023-11-18T16:29:14.096Z"
   },
   {
    "duration": 118,
    "start_time": "2023-11-18T16:29:14.101Z"
   },
   {
    "duration": 63,
    "start_time": "2023-11-18T16:29:14.220Z"
   },
   {
    "duration": 5,
    "start_time": "2023-11-18T16:29:14.285Z"
   },
   {
    "duration": 4,
    "start_time": "2023-11-18T16:29:14.292Z"
   },
   {
    "duration": 5,
    "start_time": "2023-11-18T16:29:14.297Z"
   },
   {
    "duration": 8,
    "start_time": "2023-11-18T16:29:14.303Z"
   },
   {
    "duration": 19,
    "start_time": "2023-11-18T16:29:14.313Z"
   },
   {
    "duration": 26,
    "start_time": "2023-11-18T16:29:14.359Z"
   },
   {
    "duration": 35,
    "start_time": "2023-11-18T16:29:14.386Z"
   },
   {
    "duration": 53,
    "start_time": "2023-11-18T16:29:14.422Z"
   },
   {
    "duration": 248,
    "start_time": "2023-11-18T16:29:14.476Z"
   },
   {
    "duration": 6,
    "start_time": "2023-11-18T16:29:14.725Z"
   },
   {
    "duration": 178,
    "start_time": "2023-11-18T16:29:14.732Z"
   },
   {
    "duration": 165,
    "start_time": "2023-11-18T16:29:14.912Z"
   },
   {
    "duration": 171,
    "start_time": "2023-11-18T16:29:15.078Z"
   },
   {
    "duration": 213,
    "start_time": "2023-11-18T16:29:15.250Z"
   },
   {
    "duration": 852,
    "start_time": "2023-11-18T16:29:15.464Z"
   },
   {
    "duration": 10,
    "start_time": "2023-11-18T16:29:16.318Z"
   },
   {
    "duration": 882,
    "start_time": "2023-11-18T16:29:16.329Z"
   },
   {
    "duration": 11,
    "start_time": "2023-11-18T16:29:17.213Z"
   },
   {
    "duration": 5,
    "start_time": "2023-11-18T16:29:17.225Z"
   },
   {
    "duration": 1104,
    "start_time": "2023-11-18T16:29:17.232Z"
   },
   {
    "duration": 4,
    "start_time": "2023-11-18T16:29:18.337Z"
   },
   {
    "duration": 25,
    "start_time": "2023-11-18T16:29:18.342Z"
   },
   {
    "duration": 4,
    "start_time": "2023-11-18T16:29:18.370Z"
   },
   {
    "duration": 3,
    "start_time": "2023-11-18T16:29:18.375Z"
   },
   {
    "duration": 4,
    "start_time": "2023-11-18T16:29:18.380Z"
   },
   {
    "duration": 22,
    "start_time": "2023-11-18T16:29:18.385Z"
   },
   {
    "duration": 11,
    "start_time": "2023-11-18T16:29:18.408Z"
   },
   {
    "duration": 7,
    "start_time": "2023-11-18T16:29:18.421Z"
   },
   {
    "duration": 6,
    "start_time": "2023-11-18T16:29:18.429Z"
   },
   {
    "duration": 34,
    "start_time": "2023-11-18T16:29:18.437Z"
   },
   {
    "duration": 1576,
    "start_time": "2023-11-18T16:29:18.559Z"
   },
   {
    "duration": 134829,
    "start_time": "2023-11-18T16:29:20.136Z"
   },
   {
    "duration": 1369,
    "start_time": "2023-11-18T16:33:58.169Z"
   },
   {
    "duration": 707,
    "start_time": "2023-11-18T16:33:59.541Z"
   },
   {
    "duration": 5,
    "start_time": "2023-11-18T16:34:00.253Z"
   },
   {
    "duration": 143,
    "start_time": "2023-11-18T16:34:00.260Z"
   },
   {
    "duration": 64,
    "start_time": "2023-11-18T16:34:00.405Z"
   },
   {
    "duration": 6,
    "start_time": "2023-11-18T16:34:00.471Z"
   },
   {
    "duration": 34,
    "start_time": "2023-11-18T16:34:00.478Z"
   },
   {
    "duration": 35,
    "start_time": "2023-11-18T16:34:00.514Z"
   },
   {
    "duration": 29,
    "start_time": "2023-11-18T16:34:00.552Z"
   },
   {
    "duration": 63,
    "start_time": "2023-11-18T16:34:00.583Z"
   },
   {
    "duration": 45,
    "start_time": "2023-11-18T16:34:00.647Z"
   },
   {
    "duration": 36,
    "start_time": "2023-11-18T16:34:00.693Z"
   },
   {
    "duration": 34,
    "start_time": "2023-11-18T16:34:00.731Z"
   },
   {
    "duration": 272,
    "start_time": "2023-11-18T16:34:00.767Z"
   },
   {
    "duration": 6,
    "start_time": "2023-11-18T16:34:01.040Z"
   },
   {
    "duration": 231,
    "start_time": "2023-11-18T16:34:01.047Z"
   },
   {
    "duration": 171,
    "start_time": "2023-11-18T16:34:01.280Z"
   },
   {
    "duration": 183,
    "start_time": "2023-11-18T16:34:01.452Z"
   },
   {
    "duration": 224,
    "start_time": "2023-11-18T16:34:01.636Z"
   },
   {
    "duration": 829,
    "start_time": "2023-11-18T16:34:01.861Z"
   },
   {
    "duration": 11,
    "start_time": "2023-11-18T16:34:02.692Z"
   },
   {
    "duration": 846,
    "start_time": "2023-11-18T16:34:02.704Z"
   },
   {
    "duration": 16,
    "start_time": "2023-11-18T16:34:03.551Z"
   },
   {
    "duration": 5,
    "start_time": "2023-11-18T16:34:03.569Z"
   },
   {
    "duration": 1088,
    "start_time": "2023-11-18T16:34:03.576Z"
   },
   {
    "duration": 4,
    "start_time": "2023-11-18T16:34:04.665Z"
   },
   {
    "duration": 14,
    "start_time": "2023-11-18T16:34:04.672Z"
   },
   {
    "duration": 3,
    "start_time": "2023-11-18T16:34:04.688Z"
   },
   {
    "duration": 8,
    "start_time": "2023-11-18T16:34:04.693Z"
   },
   {
    "duration": 3,
    "start_time": "2023-11-18T16:34:04.703Z"
   },
   {
    "duration": 10,
    "start_time": "2023-11-18T16:34:04.707Z"
   },
   {
    "duration": 23,
    "start_time": "2023-11-18T16:34:04.719Z"
   },
   {
    "duration": 77,
    "start_time": "2023-11-18T16:34:04.744Z"
   },
   {
    "duration": 84,
    "start_time": "2023-11-18T16:34:04.823Z"
   },
   {
    "duration": 36,
    "start_time": "2023-11-18T16:34:04.909Z"
   },
   {
    "duration": 127,
    "start_time": "2023-11-18T16:34:04.946Z"
   },
   {
    "duration": 4,
    "start_time": "2023-11-18T16:34:05.075Z"
   },
   {
    "duration": 1180,
    "start_time": "2023-11-18T16:34:05.081Z"
   },
   {
    "duration": 1397,
    "start_time": "2023-11-18T16:34:06.264Z"
   },
   {
    "duration": 4,
    "start_time": "2023-11-18T16:34:07.663Z"
   },
   {
    "duration": 4,
    "start_time": "2023-11-18T16:54:20.953Z"
   },
   {
    "duration": 3,
    "start_time": "2023-11-18T16:54:21.501Z"
   },
   {
    "duration": 107,
    "start_time": "2023-11-18T16:54:21.921Z"
   },
   {
    "duration": 9,
    "start_time": "2023-11-18T16:54:22.398Z"
   },
   {
    "duration": 2,
    "start_time": "2023-11-18T16:54:56.832Z"
   },
   {
    "duration": 4,
    "start_time": "2023-11-18T16:54:57.203Z"
   },
   {
    "duration": 2,
    "start_time": "2023-11-18T16:54:57.604Z"
   },
   {
    "duration": 8,
    "start_time": "2023-11-18T16:54:58.160Z"
   },
   {
    "duration": 14598,
    "start_time": "2023-11-18T16:56:36.546Z"
   },
   {
    "duration": 22973,
    "start_time": "2023-11-18T17:00:09.827Z"
   },
   {
    "duration": 4,
    "start_time": "2023-11-18T17:01:35.272Z"
   },
   {
    "duration": 1544,
    "start_time": "2023-11-18T17:02:32.916Z"
   },
   {
    "duration": 14879,
    "start_time": "2023-11-18T17:23:07.442Z"
   },
   {
    "duration": 14855,
    "start_time": "2023-11-18T17:23:30.532Z"
   },
   {
    "duration": 14988,
    "start_time": "2023-11-18T17:23:51.818Z"
   },
   {
    "duration": 5,
    "start_time": "2023-11-18T17:36:16.129Z"
   },
   {
    "duration": 3,
    "start_time": "2023-11-18T17:36:16.527Z"
   },
   {
    "duration": 63,
    "start_time": "2023-11-18T17:36:16.897Z"
   },
   {
    "duration": 1555,
    "start_time": "2023-11-18T17:36:17.273Z"
   },
   {
    "duration": 3,
    "start_time": "2023-11-18T17:38:07.811Z"
   },
   {
    "duration": 4,
    "start_time": "2023-11-18T17:38:08.367Z"
   },
   {
    "duration": 3,
    "start_time": "2023-11-18T17:38:08.800Z"
   },
   {
    "duration": 11,
    "start_time": "2023-11-18T17:40:30.735Z"
   },
   {
    "duration": 51,
    "start_time": "2023-11-18T17:41:02.883Z"
   },
   {
    "duration": 6,
    "start_time": "2023-11-18T17:42:29.708Z"
   },
   {
    "duration": 8,
    "start_time": "2023-11-18T17:44:47.885Z"
   },
   {
    "duration": 7,
    "start_time": "2023-11-18T17:49:18.335Z"
   },
   {
    "duration": 6,
    "start_time": "2023-11-18T17:51:22.722Z"
   },
   {
    "duration": 6,
    "start_time": "2023-11-18T17:51:30.483Z"
   },
   {
    "duration": 6,
    "start_time": "2023-11-18T17:51:38.714Z"
   },
   {
    "duration": 3,
    "start_time": "2023-11-18T17:51:48.531Z"
   },
   {
    "duration": 3,
    "start_time": "2023-11-18T17:51:50.242Z"
   },
   {
    "duration": 73,
    "start_time": "2023-11-18T17:53:11.508Z"
   },
   {
    "duration": 73,
    "start_time": "2023-11-18T17:53:11.816Z"
   },
   {
    "duration": 3,
    "start_time": "2023-11-18T17:53:24.277Z"
   },
   {
    "duration": 3,
    "start_time": "2023-11-18T17:53:24.665Z"
   },
   {
    "duration": 118,
    "start_time": "2023-11-18T17:55:08.847Z"
   },
   {
    "duration": 1457,
    "start_time": "2023-11-18T18:17:38.467Z"
   },
   {
    "duration": 10,
    "start_time": "2023-11-18T18:17:48.711Z"
   },
   {
    "duration": 3,
    "start_time": "2023-11-18T18:17:59.317Z"
   },
   {
    "duration": 9,
    "start_time": "2023-11-18T18:18:38.165Z"
   },
   {
    "duration": 1505,
    "start_time": "2023-11-18T18:18:48.870Z"
   },
   {
    "duration": 702,
    "start_time": "2023-11-18T18:18:50.377Z"
   },
   {
    "duration": 3,
    "start_time": "2023-11-18T18:18:51.081Z"
   },
   {
    "duration": 160,
    "start_time": "2023-11-18T18:18:51.086Z"
   },
   {
    "duration": 51,
    "start_time": "2023-11-18T18:18:51.247Z"
   },
   {
    "duration": 6,
    "start_time": "2023-11-18T18:18:51.299Z"
   },
   {
    "duration": 55,
    "start_time": "2023-11-18T18:18:51.306Z"
   },
   {
    "duration": 34,
    "start_time": "2023-11-18T18:18:51.362Z"
   },
   {
    "duration": 34,
    "start_time": "2023-11-18T18:18:51.398Z"
   },
   {
    "duration": 40,
    "start_time": "2023-11-18T18:18:51.435Z"
   },
   {
    "duration": 38,
    "start_time": "2023-11-18T18:18:51.477Z"
   },
   {
    "duration": 54,
    "start_time": "2023-11-18T18:18:51.517Z"
   },
   {
    "duration": 36,
    "start_time": "2023-11-18T18:18:51.573Z"
   },
   {
    "duration": 237,
    "start_time": "2023-11-18T18:18:51.610Z"
   },
   {
    "duration": 12,
    "start_time": "2023-11-18T18:18:51.849Z"
   },
   {
    "duration": 249,
    "start_time": "2023-11-18T18:18:51.862Z"
   },
   {
    "duration": 169,
    "start_time": "2023-11-18T18:18:52.113Z"
   },
   {
    "duration": 168,
    "start_time": "2023-11-18T18:18:52.284Z"
   },
   {
    "duration": 208,
    "start_time": "2023-11-18T18:18:52.454Z"
   },
   {
    "duration": 799,
    "start_time": "2023-11-18T18:18:52.664Z"
   },
   {
    "duration": 11,
    "start_time": "2023-11-18T18:18:53.464Z"
   },
   {
    "duration": 841,
    "start_time": "2023-11-18T18:18:53.476Z"
   },
   {
    "duration": 11,
    "start_time": "2023-11-18T18:18:54.318Z"
   },
   {
    "duration": 25,
    "start_time": "2023-11-18T18:18:54.330Z"
   },
   {
    "duration": 1062,
    "start_time": "2023-11-18T18:18:54.356Z"
   },
   {
    "duration": 4,
    "start_time": "2023-11-18T18:18:55.419Z"
   },
   {
    "duration": 18,
    "start_time": "2023-11-18T18:18:55.424Z"
   },
   {
    "duration": 15,
    "start_time": "2023-11-18T18:18:55.444Z"
   },
   {
    "duration": 3,
    "start_time": "2023-11-18T18:18:55.461Z"
   },
   {
    "duration": 19,
    "start_time": "2023-11-18T18:18:55.466Z"
   },
   {
    "duration": 39,
    "start_time": "2023-11-18T18:18:55.487Z"
   },
   {
    "duration": 19,
    "start_time": "2023-11-18T18:18:55.527Z"
   },
   {
    "duration": 24,
    "start_time": "2023-11-18T18:18:55.547Z"
   },
   {
    "duration": 130,
    "start_time": "2023-11-18T18:18:55.573Z"
   },
   {
    "duration": 0,
    "start_time": "2023-11-18T18:18:55.705Z"
   },
   {
    "duration": 6,
    "start_time": "2023-11-18T18:19:58.476Z"
   },
   {
    "duration": 4,
    "start_time": "2023-11-18T18:20:26.361Z"
   },
   {
    "duration": 10,
    "start_time": "2023-11-18T18:20:26.577Z"
   },
   {
    "duration": 4,
    "start_time": "2023-11-18T18:20:37.353Z"
   },
   {
    "duration": 9,
    "start_time": "2023-11-18T18:20:37.666Z"
   },
   {
    "duration": 12,
    "start_time": "2023-11-18T18:20:54.698Z"
   },
   {
    "duration": 4,
    "start_time": "2023-11-18T18:21:04.467Z"
   },
   {
    "duration": 11,
    "start_time": "2023-11-18T18:21:15.832Z"
   },
   {
    "duration": 8,
    "start_time": "2023-11-18T18:21:36.106Z"
   },
   {
    "duration": 3,
    "start_time": "2023-11-18T18:21:36.478Z"
   },
   {
    "duration": 1367,
    "start_time": "2023-11-18T18:22:22.184Z"
   },
   {
    "duration": 706,
    "start_time": "2023-11-18T18:22:23.553Z"
   },
   {
    "duration": 3,
    "start_time": "2023-11-18T18:22:24.260Z"
   },
   {
    "duration": 122,
    "start_time": "2023-11-18T18:22:24.265Z"
   },
   {
    "duration": 69,
    "start_time": "2023-11-18T18:22:24.389Z"
   },
   {
    "duration": 6,
    "start_time": "2023-11-18T18:22:24.460Z"
   },
   {
    "duration": 10,
    "start_time": "2023-11-18T18:22:24.467Z"
   },
   {
    "duration": 63,
    "start_time": "2023-11-18T18:22:24.478Z"
   },
   {
    "duration": 21,
    "start_time": "2023-11-18T18:22:24.542Z"
   },
   {
    "duration": 36,
    "start_time": "2023-11-18T18:22:24.566Z"
   },
   {
    "duration": 29,
    "start_time": "2023-11-18T18:22:24.603Z"
   },
   {
    "duration": 31,
    "start_time": "2023-11-18T18:22:24.634Z"
   },
   {
    "duration": 19,
    "start_time": "2023-11-18T18:22:24.667Z"
   },
   {
    "duration": 253,
    "start_time": "2023-11-18T18:22:24.687Z"
   },
   {
    "duration": 6,
    "start_time": "2023-11-18T18:22:24.941Z"
   },
   {
    "duration": 174,
    "start_time": "2023-11-18T18:22:24.948Z"
   },
   {
    "duration": 166,
    "start_time": "2023-11-18T18:22:25.123Z"
   },
   {
    "duration": 159,
    "start_time": "2023-11-18T18:22:25.290Z"
   },
   {
    "duration": 219,
    "start_time": "2023-11-18T18:22:25.451Z"
   },
   {
    "duration": 808,
    "start_time": "2023-11-18T18:22:25.672Z"
   },
   {
    "duration": 11,
    "start_time": "2023-11-18T18:22:26.482Z"
   },
   {
    "duration": 858,
    "start_time": "2023-11-18T18:22:26.495Z"
   },
   {
    "duration": 11,
    "start_time": "2023-11-18T18:22:27.358Z"
   },
   {
    "duration": 5,
    "start_time": "2023-11-18T18:22:27.370Z"
   },
   {
    "duration": 1079,
    "start_time": "2023-11-18T18:22:27.377Z"
   },
   {
    "duration": 4,
    "start_time": "2023-11-18T18:22:28.457Z"
   },
   {
    "duration": 15,
    "start_time": "2023-11-18T18:22:28.463Z"
   },
   {
    "duration": 4,
    "start_time": "2023-11-18T18:22:28.481Z"
   },
   {
    "duration": 4,
    "start_time": "2023-11-18T18:22:28.486Z"
   },
   {
    "duration": 3,
    "start_time": "2023-11-18T18:22:28.492Z"
   },
   {
    "duration": 10,
    "start_time": "2023-11-18T18:22:28.497Z"
   },
   {
    "duration": 11,
    "start_time": "2023-11-18T18:22:28.508Z"
   },
   {
    "duration": 38,
    "start_time": "2023-11-18T18:22:28.520Z"
   },
   {
    "duration": 114,
    "start_time": "2023-11-18T18:22:28.560Z"
   },
   {
    "duration": 0,
    "start_time": "2023-11-18T18:22:28.675Z"
   },
   {
    "duration": 12,
    "start_time": "2023-11-18T18:22:51.079Z"
   },
   {
    "duration": 10,
    "start_time": "2023-11-18T18:23:09.030Z"
   },
   {
    "duration": 12,
    "start_time": "2023-11-18T18:23:24.649Z"
   },
   {
    "duration": 1327,
    "start_time": "2023-11-18T18:23:31.893Z"
   },
   {
    "duration": 694,
    "start_time": "2023-11-18T18:23:33.221Z"
   },
   {
    "duration": 3,
    "start_time": "2023-11-18T18:23:33.916Z"
   },
   {
    "duration": 121,
    "start_time": "2023-11-18T18:23:33.921Z"
   },
   {
    "duration": 55,
    "start_time": "2023-11-18T18:23:34.043Z"
   },
   {
    "duration": 6,
    "start_time": "2023-11-18T18:23:34.099Z"
   },
   {
    "duration": 4,
    "start_time": "2023-11-18T18:23:34.107Z"
   },
   {
    "duration": 5,
    "start_time": "2023-11-18T18:23:34.112Z"
   },
   {
    "duration": 4,
    "start_time": "2023-11-18T18:23:34.119Z"
   },
   {
    "duration": 19,
    "start_time": "2023-11-18T18:23:34.158Z"
   },
   {
    "duration": 23,
    "start_time": "2023-11-18T18:23:34.178Z"
   },
   {
    "duration": 56,
    "start_time": "2023-11-18T18:23:34.202Z"
   },
   {
    "duration": 19,
    "start_time": "2023-11-18T18:23:34.260Z"
   },
   {
    "duration": 256,
    "start_time": "2023-11-18T18:23:34.281Z"
   },
   {
    "duration": 5,
    "start_time": "2023-11-18T18:23:34.539Z"
   },
   {
    "duration": 180,
    "start_time": "2023-11-18T18:23:34.545Z"
   },
   {
    "duration": 166,
    "start_time": "2023-11-18T18:23:34.727Z"
   },
   {
    "duration": 176,
    "start_time": "2023-11-18T18:23:34.894Z"
   },
   {
    "duration": 217,
    "start_time": "2023-11-18T18:23:35.072Z"
   },
   {
    "duration": 811,
    "start_time": "2023-11-18T18:23:35.290Z"
   },
   {
    "duration": 10,
    "start_time": "2023-11-18T18:23:36.103Z"
   },
   {
    "duration": 869,
    "start_time": "2023-11-18T18:23:36.115Z"
   },
   {
    "duration": 12,
    "start_time": "2023-11-18T18:23:36.986Z"
   },
   {
    "duration": 6,
    "start_time": "2023-11-18T18:23:36.999Z"
   },
   {
    "duration": 1093,
    "start_time": "2023-11-18T18:23:37.007Z"
   },
   {
    "duration": 4,
    "start_time": "2023-11-18T18:23:38.101Z"
   },
   {
    "duration": 16,
    "start_time": "2023-11-18T18:23:38.106Z"
   },
   {
    "duration": 17,
    "start_time": "2023-11-18T18:23:38.125Z"
   },
   {
    "duration": 24,
    "start_time": "2023-11-18T18:23:38.144Z"
   },
   {
    "duration": 11,
    "start_time": "2023-11-18T18:23:38.170Z"
   },
   {
    "duration": 13,
    "start_time": "2023-11-18T18:23:38.183Z"
   },
   {
    "duration": 10,
    "start_time": "2023-11-18T18:23:38.197Z"
   },
   {
    "duration": 116,
    "start_time": "2023-11-18T18:23:38.208Z"
   },
   {
    "duration": 0,
    "start_time": "2023-11-18T18:23:38.326Z"
   },
   {
    "duration": 1,
    "start_time": "2023-11-18T18:23:38.327Z"
   },
   {
    "duration": 12,
    "start_time": "2023-11-18T18:24:29.499Z"
   },
   {
    "duration": 11,
    "start_time": "2023-11-18T18:24:36.648Z"
   },
   {
    "duration": 1376,
    "start_time": "2023-11-18T18:24:42.460Z"
   },
   {
    "duration": 707,
    "start_time": "2023-11-18T18:24:43.838Z"
   },
   {
    "duration": 3,
    "start_time": "2023-11-18T18:24:44.546Z"
   },
   {
    "duration": 117,
    "start_time": "2023-11-18T18:24:44.558Z"
   },
   {
    "duration": 46,
    "start_time": "2023-11-18T18:24:44.677Z"
   },
   {
    "duration": 37,
    "start_time": "2023-11-18T18:24:44.725Z"
   },
   {
    "duration": 28,
    "start_time": "2023-11-18T18:24:44.763Z"
   },
   {
    "duration": 19,
    "start_time": "2023-11-18T18:24:44.793Z"
   },
   {
    "duration": 20,
    "start_time": "2023-11-18T18:24:44.813Z"
   },
   {
    "duration": 35,
    "start_time": "2023-11-18T18:24:44.836Z"
   },
   {
    "duration": 28,
    "start_time": "2023-11-18T18:24:44.873Z"
   },
   {
    "duration": 58,
    "start_time": "2023-11-18T18:24:44.903Z"
   },
   {
    "duration": 23,
    "start_time": "2023-11-18T18:24:44.963Z"
   },
   {
    "duration": 262,
    "start_time": "2023-11-18T18:24:44.987Z"
   },
   {
    "duration": 8,
    "start_time": "2023-11-18T18:24:45.251Z"
   },
   {
    "duration": 176,
    "start_time": "2023-11-18T18:24:45.261Z"
   },
   {
    "duration": 155,
    "start_time": "2023-11-18T18:24:45.438Z"
   },
   {
    "duration": 168,
    "start_time": "2023-11-18T18:24:45.595Z"
   },
   {
    "duration": 210,
    "start_time": "2023-11-18T18:24:45.764Z"
   },
   {
    "duration": 797,
    "start_time": "2023-11-18T18:24:45.975Z"
   },
   {
    "duration": 10,
    "start_time": "2023-11-18T18:24:46.774Z"
   },
   {
    "duration": 873,
    "start_time": "2023-11-18T18:24:46.785Z"
   },
   {
    "duration": 10,
    "start_time": "2023-11-18T18:24:47.660Z"
   },
   {
    "duration": 6,
    "start_time": "2023-11-18T18:24:47.672Z"
   },
   {
    "duration": 1080,
    "start_time": "2023-11-18T18:24:47.679Z"
   },
   {
    "duration": 4,
    "start_time": "2023-11-18T18:24:48.761Z"
   },
   {
    "duration": 13,
    "start_time": "2023-11-18T18:24:48.766Z"
   },
   {
    "duration": 3,
    "start_time": "2023-11-18T18:24:48.782Z"
   },
   {
    "duration": 3,
    "start_time": "2023-11-18T18:24:48.786Z"
   },
   {
    "duration": 3,
    "start_time": "2023-11-18T18:24:48.791Z"
   },
   {
    "duration": 11,
    "start_time": "2023-11-18T18:24:48.795Z"
   },
   {
    "duration": 5,
    "start_time": "2023-11-18T18:24:48.807Z"
   },
   {
    "duration": 14,
    "start_time": "2023-11-18T18:24:48.814Z"
   },
   {
    "duration": 130,
    "start_time": "2023-11-18T18:24:48.829Z"
   },
   {
    "duration": 0,
    "start_time": "2023-11-18T18:24:48.961Z"
   },
   {
    "duration": 79,
    "start_time": "2023-11-18T18:27:39.436Z"
   },
   {
    "duration": 77,
    "start_time": "2023-11-18T18:27:47.058Z"
   },
   {
    "duration": 3,
    "start_time": "2023-11-18T18:28:16.110Z"
   },
   {
    "duration": 82,
    "start_time": "2023-11-18T18:28:20.884Z"
   },
   {
    "duration": 4,
    "start_time": "2023-11-18T18:29:36.009Z"
   },
   {
    "duration": 13,
    "start_time": "2023-11-18T18:29:36.298Z"
   },
   {
    "duration": 1326,
    "start_time": "2023-11-18T18:29:44.411Z"
   },
   {
    "duration": 723,
    "start_time": "2023-11-18T18:29:45.738Z"
   },
   {
    "duration": 3,
    "start_time": "2023-11-18T18:29:46.462Z"
   },
   {
    "duration": 122,
    "start_time": "2023-11-18T18:29:46.467Z"
   },
   {
    "duration": 42,
    "start_time": "2023-11-18T18:29:46.591Z"
   },
   {
    "duration": 27,
    "start_time": "2023-11-18T18:29:46.635Z"
   },
   {
    "duration": 5,
    "start_time": "2023-11-18T18:29:46.663Z"
   },
   {
    "duration": 6,
    "start_time": "2023-11-18T18:29:46.669Z"
   },
   {
    "duration": 4,
    "start_time": "2023-11-18T18:29:46.677Z"
   },
   {
    "duration": 19,
    "start_time": "2023-11-18T18:29:46.683Z"
   },
   {
    "duration": 59,
    "start_time": "2023-11-18T18:29:46.704Z"
   },
   {
    "duration": 32,
    "start_time": "2023-11-18T18:29:46.765Z"
   },
   {
    "duration": 20,
    "start_time": "2023-11-18T18:29:46.799Z"
   },
   {
    "duration": 280,
    "start_time": "2023-11-18T18:29:46.820Z"
   },
   {
    "duration": 5,
    "start_time": "2023-11-18T18:29:47.102Z"
   },
   {
    "duration": 179,
    "start_time": "2023-11-18T18:29:47.108Z"
   },
   {
    "duration": 165,
    "start_time": "2023-11-18T18:29:47.288Z"
   },
   {
    "duration": 170,
    "start_time": "2023-11-18T18:29:47.457Z"
   },
   {
    "duration": 216,
    "start_time": "2023-11-18T18:29:47.629Z"
   },
   {
    "duration": 828,
    "start_time": "2023-11-18T18:29:47.846Z"
   },
   {
    "duration": 10,
    "start_time": "2023-11-18T18:29:48.676Z"
   },
   {
    "duration": 849,
    "start_time": "2023-11-18T18:29:48.687Z"
   },
   {
    "duration": 21,
    "start_time": "2023-11-18T18:29:49.537Z"
   },
   {
    "duration": 6,
    "start_time": "2023-11-18T18:29:49.560Z"
   },
   {
    "duration": 1061,
    "start_time": "2023-11-18T18:29:49.568Z"
   },
   {
    "duration": 3,
    "start_time": "2023-11-18T18:29:50.631Z"
   },
   {
    "duration": 24,
    "start_time": "2023-11-18T18:29:50.635Z"
   },
   {
    "duration": 4,
    "start_time": "2023-11-18T18:29:50.662Z"
   },
   {
    "duration": 9,
    "start_time": "2023-11-18T18:29:50.667Z"
   },
   {
    "duration": 4,
    "start_time": "2023-11-18T18:29:50.677Z"
   },
   {
    "duration": 9,
    "start_time": "2023-11-18T18:29:50.682Z"
   },
   {
    "duration": 4,
    "start_time": "2023-11-18T18:29:50.692Z"
   },
   {
    "duration": 10,
    "start_time": "2023-11-18T18:29:50.698Z"
   },
   {
    "duration": 114,
    "start_time": "2023-11-18T18:29:50.709Z"
   },
   {
    "duration": 0,
    "start_time": "2023-11-18T18:29:50.824Z"
   },
   {
    "duration": 9,
    "start_time": "2023-11-18T18:31:37.090Z"
   },
   {
    "duration": 1319,
    "start_time": "2023-11-18T18:31:43.104Z"
   },
   {
    "duration": 701,
    "start_time": "2023-11-18T18:31:44.425Z"
   },
   {
    "duration": 3,
    "start_time": "2023-11-18T18:31:45.128Z"
   },
   {
    "duration": 117,
    "start_time": "2023-11-18T18:31:45.132Z"
   },
   {
    "duration": 46,
    "start_time": "2023-11-18T18:31:45.250Z"
   },
   {
    "duration": 6,
    "start_time": "2023-11-18T18:31:45.297Z"
   },
   {
    "duration": 5,
    "start_time": "2023-11-18T18:31:45.304Z"
   },
   {
    "duration": 5,
    "start_time": "2023-11-18T18:31:45.310Z"
   },
   {
    "duration": 43,
    "start_time": "2023-11-18T18:31:45.316Z"
   },
   {
    "duration": 19,
    "start_time": "2023-11-18T18:31:45.362Z"
   },
   {
    "duration": 21,
    "start_time": "2023-11-18T18:31:45.383Z"
   },
   {
    "duration": 57,
    "start_time": "2023-11-18T18:31:45.405Z"
   },
   {
    "duration": 18,
    "start_time": "2023-11-18T18:31:45.464Z"
   },
   {
    "duration": 252,
    "start_time": "2023-11-18T18:31:45.484Z"
   },
   {
    "duration": 6,
    "start_time": "2023-11-18T18:31:45.737Z"
   },
   {
    "duration": 227,
    "start_time": "2023-11-18T18:31:45.744Z"
   },
   {
    "duration": 160,
    "start_time": "2023-11-18T18:31:45.972Z"
   },
   {
    "duration": 164,
    "start_time": "2023-11-18T18:31:46.134Z"
   },
   {
    "duration": 210,
    "start_time": "2023-11-18T18:31:46.299Z"
   },
   {
    "duration": 817,
    "start_time": "2023-11-18T18:31:46.510Z"
   },
   {
    "duration": 11,
    "start_time": "2023-11-18T18:31:47.328Z"
   },
   {
    "duration": 857,
    "start_time": "2023-11-18T18:31:47.341Z"
   },
   {
    "duration": 10,
    "start_time": "2023-11-18T18:31:48.200Z"
   },
   {
    "duration": 9,
    "start_time": "2023-11-18T18:31:48.211Z"
   },
   {
    "duration": 1068,
    "start_time": "2023-11-18T18:31:48.221Z"
   },
   {
    "duration": 3,
    "start_time": "2023-11-18T18:31:49.291Z"
   },
   {
    "duration": 24,
    "start_time": "2023-11-18T18:31:49.296Z"
   },
   {
    "duration": 4,
    "start_time": "2023-11-18T18:31:49.322Z"
   },
   {
    "duration": 4,
    "start_time": "2023-11-18T18:31:49.327Z"
   },
   {
    "duration": 5,
    "start_time": "2023-11-18T18:31:49.332Z"
   },
   {
    "duration": 21,
    "start_time": "2023-11-18T18:31:49.338Z"
   },
   {
    "duration": 6,
    "start_time": "2023-11-18T18:31:49.361Z"
   },
   {
    "duration": 22,
    "start_time": "2023-11-18T18:31:49.369Z"
   },
   {
    "duration": 120,
    "start_time": "2023-11-18T18:31:49.393Z"
   },
   {
    "duration": 0,
    "start_time": "2023-11-18T18:31:49.515Z"
   },
   {
    "duration": 16,
    "start_time": "2023-11-18T18:36:05.252Z"
   },
   {
    "duration": 1524,
    "start_time": "2023-11-18T18:37:06.015Z"
   },
   {
    "duration": 700,
    "start_time": "2023-11-18T18:37:07.540Z"
   },
   {
    "duration": 3,
    "start_time": "2023-11-18T18:37:08.242Z"
   },
   {
    "duration": 121,
    "start_time": "2023-11-18T18:37:08.259Z"
   },
   {
    "duration": 45,
    "start_time": "2023-11-18T18:37:08.382Z"
   },
   {
    "duration": 33,
    "start_time": "2023-11-18T18:37:08.429Z"
   },
   {
    "duration": 5,
    "start_time": "2023-11-18T18:37:08.464Z"
   },
   {
    "duration": 10,
    "start_time": "2023-11-18T18:37:08.471Z"
   },
   {
    "duration": 15,
    "start_time": "2023-11-18T18:37:08.483Z"
   },
   {
    "duration": 34,
    "start_time": "2023-11-18T18:37:08.501Z"
   },
   {
    "duration": 33,
    "start_time": "2023-11-18T18:37:08.537Z"
   },
   {
    "duration": 33,
    "start_time": "2023-11-18T18:37:08.572Z"
   },
   {
    "duration": 52,
    "start_time": "2023-11-18T18:37:08.607Z"
   },
   {
    "duration": 241,
    "start_time": "2023-11-18T18:37:08.660Z"
   },
   {
    "duration": 5,
    "start_time": "2023-11-18T18:37:08.903Z"
   },
   {
    "duration": 176,
    "start_time": "2023-11-18T18:37:08.910Z"
   },
   {
    "duration": 168,
    "start_time": "2023-11-18T18:37:09.087Z"
   },
   {
    "duration": 170,
    "start_time": "2023-11-18T18:37:09.258Z"
   },
   {
    "duration": 210,
    "start_time": "2023-11-18T18:37:09.429Z"
   },
   {
    "duration": 861,
    "start_time": "2023-11-18T18:37:09.640Z"
   },
   {
    "duration": 11,
    "start_time": "2023-11-18T18:37:10.502Z"
   },
   {
    "duration": 887,
    "start_time": "2023-11-18T18:37:10.515Z"
   },
   {
    "duration": 10,
    "start_time": "2023-11-18T18:37:11.404Z"
   },
   {
    "duration": 17,
    "start_time": "2023-11-18T18:37:11.415Z"
   },
   {
    "duration": 1133,
    "start_time": "2023-11-18T18:37:11.434Z"
   },
   {
    "duration": 4,
    "start_time": "2023-11-18T18:37:12.568Z"
   },
   {
    "duration": 14,
    "start_time": "2023-11-18T18:37:12.573Z"
   },
   {
    "duration": 10,
    "start_time": "2023-11-18T18:37:12.590Z"
   },
   {
    "duration": 11,
    "start_time": "2023-11-18T18:37:12.601Z"
   },
   {
    "duration": 9,
    "start_time": "2023-11-18T18:37:12.613Z"
   },
   {
    "duration": 6,
    "start_time": "2023-11-18T18:37:12.624Z"
   },
   {
    "duration": 5,
    "start_time": "2023-11-18T18:37:12.631Z"
   },
   {
    "duration": 24,
    "start_time": "2023-11-18T18:37:12.637Z"
   },
   {
    "duration": 113,
    "start_time": "2023-11-18T18:37:12.663Z"
   },
   {
    "duration": 0,
    "start_time": "2023-11-18T18:37:12.777Z"
   },
   {
    "duration": 16,
    "start_time": "2023-11-18T18:43:48.856Z"
   },
   {
    "duration": 1325,
    "start_time": "2023-11-18T18:43:52.710Z"
   },
   {
    "duration": 707,
    "start_time": "2023-11-18T18:43:54.037Z"
   },
   {
    "duration": 3,
    "start_time": "2023-11-18T18:43:54.746Z"
   },
   {
    "duration": 121,
    "start_time": "2023-11-18T18:43:54.759Z"
   },
   {
    "duration": 43,
    "start_time": "2023-11-18T18:43:54.882Z"
   },
   {
    "duration": 6,
    "start_time": "2023-11-18T18:43:54.926Z"
   },
   {
    "duration": 26,
    "start_time": "2023-11-18T18:43:54.933Z"
   },
   {
    "duration": 4,
    "start_time": "2023-11-18T18:43:54.961Z"
   },
   {
    "duration": 14,
    "start_time": "2023-11-18T18:43:54.967Z"
   },
   {
    "duration": 19,
    "start_time": "2023-11-18T18:43:54.984Z"
   },
   {
    "duration": 22,
    "start_time": "2023-11-18T18:43:55.004Z"
   },
   {
    "duration": 62,
    "start_time": "2023-11-18T18:43:55.027Z"
   },
   {
    "duration": 18,
    "start_time": "2023-11-18T18:43:55.091Z"
   },
   {
    "duration": 254,
    "start_time": "2023-11-18T18:43:55.111Z"
   },
   {
    "duration": 5,
    "start_time": "2023-11-18T18:43:55.367Z"
   },
   {
    "duration": 175,
    "start_time": "2023-11-18T18:43:55.373Z"
   },
   {
    "duration": 165,
    "start_time": "2023-11-18T18:43:55.550Z"
   },
   {
    "duration": 167,
    "start_time": "2023-11-18T18:43:55.717Z"
   },
   {
    "duration": 216,
    "start_time": "2023-11-18T18:43:55.885Z"
   },
   {
    "duration": 811,
    "start_time": "2023-11-18T18:43:56.103Z"
   },
   {
    "duration": 11,
    "start_time": "2023-11-18T18:43:56.915Z"
   },
   {
    "duration": 904,
    "start_time": "2023-11-18T18:43:56.928Z"
   },
   {
    "duration": 10,
    "start_time": "2023-11-18T18:43:57.834Z"
   },
   {
    "duration": 6,
    "start_time": "2023-11-18T18:43:57.857Z"
   },
   {
    "duration": 1087,
    "start_time": "2023-11-18T18:43:57.865Z"
   },
   {
    "duration": 5,
    "start_time": "2023-11-18T18:43:58.954Z"
   },
   {
    "duration": 14,
    "start_time": "2023-11-18T18:43:58.960Z"
   },
   {
    "duration": 4,
    "start_time": "2023-11-18T18:43:58.977Z"
   },
   {
    "duration": 3,
    "start_time": "2023-11-18T18:43:58.982Z"
   },
   {
    "duration": 4,
    "start_time": "2023-11-18T18:43:58.986Z"
   },
   {
    "duration": 8,
    "start_time": "2023-11-18T18:43:58.991Z"
   },
   {
    "duration": 5,
    "start_time": "2023-11-18T18:43:59.000Z"
   },
   {
    "duration": 15,
    "start_time": "2023-11-18T18:43:59.006Z"
   },
   {
    "duration": 137,
    "start_time": "2023-11-18T18:43:59.022Z"
   },
   {
    "duration": 0,
    "start_time": "2023-11-18T18:43:59.161Z"
   },
   {
    "duration": 11,
    "start_time": "2023-11-18T18:44:08.112Z"
   },
   {
    "duration": 1341,
    "start_time": "2023-11-18T18:44:11.571Z"
   },
   {
    "duration": 695,
    "start_time": "2023-11-18T18:44:12.914Z"
   },
   {
    "duration": 3,
    "start_time": "2023-11-18T18:44:13.613Z"
   },
   {
    "duration": 122,
    "start_time": "2023-11-18T18:44:13.617Z"
   },
   {
    "duration": 49,
    "start_time": "2023-11-18T18:44:13.740Z"
   },
   {
    "duration": 6,
    "start_time": "2023-11-18T18:44:13.791Z"
   },
   {
    "duration": 5,
    "start_time": "2023-11-18T18:44:13.798Z"
   },
   {
    "duration": 4,
    "start_time": "2023-11-18T18:44:13.804Z"
   },
   {
    "duration": 4,
    "start_time": "2023-11-18T18:44:13.811Z"
   },
   {
    "duration": 51,
    "start_time": "2023-11-18T18:44:13.817Z"
   },
   {
    "duration": 22,
    "start_time": "2023-11-18T18:44:13.870Z"
   },
   {
    "duration": 33,
    "start_time": "2023-11-18T18:44:13.893Z"
   },
   {
    "duration": 46,
    "start_time": "2023-11-18T18:44:13.927Z"
   },
   {
    "duration": 260,
    "start_time": "2023-11-18T18:44:13.975Z"
   },
   {
    "duration": 6,
    "start_time": "2023-11-18T18:44:14.237Z"
   },
   {
    "duration": 173,
    "start_time": "2023-11-18T18:44:14.245Z"
   },
   {
    "duration": 175,
    "start_time": "2023-11-18T18:44:14.420Z"
   },
   {
    "duration": 175,
    "start_time": "2023-11-18T18:44:14.597Z"
   },
   {
    "duration": 217,
    "start_time": "2023-11-18T18:44:14.774Z"
   },
   {
    "duration": 814,
    "start_time": "2023-11-18T18:44:14.993Z"
   },
   {
    "duration": 9,
    "start_time": "2023-11-18T18:44:15.809Z"
   },
   {
    "duration": 843,
    "start_time": "2023-11-18T18:44:15.820Z"
   },
   {
    "duration": 11,
    "start_time": "2023-11-18T18:44:16.664Z"
   },
   {
    "duration": 6,
    "start_time": "2023-11-18T18:44:16.676Z"
   },
   {
    "duration": 1101,
    "start_time": "2023-11-18T18:44:16.683Z"
   },
   {
    "duration": 4,
    "start_time": "2023-11-18T18:44:17.785Z"
   },
   {
    "duration": 13,
    "start_time": "2023-11-18T18:44:17.792Z"
   },
   {
    "duration": 3,
    "start_time": "2023-11-18T18:44:17.807Z"
   },
   {
    "duration": 11,
    "start_time": "2023-11-18T18:44:17.811Z"
   },
   {
    "duration": 7,
    "start_time": "2023-11-18T18:44:17.824Z"
   },
   {
    "duration": 26,
    "start_time": "2023-11-18T18:44:17.832Z"
   },
   {
    "duration": 3,
    "start_time": "2023-11-18T18:44:17.860Z"
   },
   {
    "duration": 8,
    "start_time": "2023-11-18T18:44:17.864Z"
   },
   {
    "duration": 117,
    "start_time": "2023-11-18T18:44:17.874Z"
   },
   {
    "duration": 0,
    "start_time": "2023-11-18T18:44:17.992Z"
   },
   {
    "duration": 138,
    "start_time": "2023-11-18T18:44:34.124Z"
   },
   {
    "duration": 125,
    "start_time": "2023-11-18T18:45:02.636Z"
   },
   {
    "duration": 62,
    "start_time": "2023-11-18T18:46:03.402Z"
   },
   {
    "duration": 270,
    "start_time": "2023-11-18T18:46:22.192Z"
   },
   {
    "duration": 203,
    "start_time": "2023-11-18T18:46:24.856Z"
   },
   {
    "duration": 207,
    "start_time": "2023-11-18T18:46:25.455Z"
   },
   {
    "duration": 198,
    "start_time": "2023-11-18T18:47:33.064Z"
   },
   {
    "duration": 171,
    "start_time": "2023-11-18T18:47:33.389Z"
   },
   {
    "duration": 1378,
    "start_time": "2023-11-18T18:47:54.956Z"
   },
   {
    "duration": 708,
    "start_time": "2023-11-18T18:47:56.336Z"
   },
   {
    "duration": 3,
    "start_time": "2023-11-18T18:47:57.045Z"
   },
   {
    "duration": 127,
    "start_time": "2023-11-18T18:47:57.058Z"
   },
   {
    "duration": 70,
    "start_time": "2023-11-18T18:47:57.187Z"
   },
   {
    "duration": 7,
    "start_time": "2023-11-18T18:47:57.259Z"
   },
   {
    "duration": 5,
    "start_time": "2023-11-18T18:47:57.268Z"
   },
   {
    "duration": 5,
    "start_time": "2023-11-18T18:47:57.275Z"
   },
   {
    "duration": 5,
    "start_time": "2023-11-18T18:47:57.281Z"
   },
   {
    "duration": 19,
    "start_time": "2023-11-18T18:47:57.290Z"
   },
   {
    "duration": 67,
    "start_time": "2023-11-18T18:47:57.311Z"
   },
   {
    "duration": 35,
    "start_time": "2023-11-18T18:47:57.380Z"
   },
   {
    "duration": 52,
    "start_time": "2023-11-18T18:47:57.417Z"
   },
   {
    "duration": 257,
    "start_time": "2023-11-18T18:47:57.471Z"
   },
   {
    "duration": 5,
    "start_time": "2023-11-18T18:47:57.731Z"
   },
   {
    "duration": 179,
    "start_time": "2023-11-18T18:47:57.738Z"
   },
   {
    "duration": 160,
    "start_time": "2023-11-18T18:47:57.919Z"
   },
   {
    "duration": 166,
    "start_time": "2023-11-18T18:47:58.081Z"
   },
   {
    "duration": 214,
    "start_time": "2023-11-18T18:47:58.249Z"
   },
   {
    "duration": 820,
    "start_time": "2023-11-18T18:47:58.465Z"
   },
   {
    "duration": 12,
    "start_time": "2023-11-18T18:47:59.287Z"
   },
   {
    "duration": 861,
    "start_time": "2023-11-18T18:47:59.301Z"
   },
   {
    "duration": 10,
    "start_time": "2023-11-18T18:48:00.164Z"
   },
   {
    "duration": 6,
    "start_time": "2023-11-18T18:48:00.176Z"
   },
   {
    "duration": 1065,
    "start_time": "2023-11-18T18:48:00.184Z"
   },
   {
    "duration": 3,
    "start_time": "2023-11-18T18:48:01.258Z"
   },
   {
    "duration": 20,
    "start_time": "2023-11-18T18:48:01.263Z"
   },
   {
    "duration": 22,
    "start_time": "2023-11-18T18:48:01.286Z"
   },
   {
    "duration": 7,
    "start_time": "2023-11-18T18:48:01.309Z"
   },
   {
    "duration": 3,
    "start_time": "2023-11-18T18:48:01.318Z"
   },
   {
    "duration": 19,
    "start_time": "2023-11-18T18:48:01.322Z"
   },
   {
    "duration": 17,
    "start_time": "2023-11-18T18:48:01.342Z"
   },
   {
    "duration": 28,
    "start_time": "2023-11-18T18:48:01.360Z"
   },
   {
    "duration": 178,
    "start_time": "2023-11-18T18:48:01.389Z"
   },
   {
    "duration": 203,
    "start_time": "2023-11-18T18:48:01.660Z"
   },
   {
    "duration": 298,
    "start_time": "2023-11-18T18:48:01.865Z"
   },
   {
    "duration": 52,
    "start_time": "2023-11-18T18:49:36.110Z"
   },
   {
    "duration": 213,
    "start_time": "2023-11-18T18:49:36.749Z"
   },
   {
    "duration": 172,
    "start_time": "2023-11-18T18:50:58.991Z"
   },
   {
    "duration": 192,
    "start_time": "2023-11-18T18:50:59.367Z"
   },
   {
    "duration": 13,
    "start_time": "2023-11-18T18:51:26.213Z"
   },
   {
    "duration": 12,
    "start_time": "2023-11-18T18:51:40.893Z"
   },
   {
    "duration": 12,
    "start_time": "2023-11-18T18:51:45.142Z"
   },
   {
    "duration": 1412,
    "start_time": "2023-11-18T18:51:51.628Z"
   },
   {
    "duration": 704,
    "start_time": "2023-11-18T18:51:53.042Z"
   },
   {
    "duration": 3,
    "start_time": "2023-11-18T18:51:53.747Z"
   },
   {
    "duration": 120,
    "start_time": "2023-11-18T18:51:53.758Z"
   },
   {
    "duration": 43,
    "start_time": "2023-11-18T18:51:53.880Z"
   },
   {
    "duration": 6,
    "start_time": "2023-11-18T18:51:53.924Z"
   },
   {
    "duration": 28,
    "start_time": "2023-11-18T18:51:53.931Z"
   },
   {
    "duration": 4,
    "start_time": "2023-11-18T18:51:53.960Z"
   },
   {
    "duration": 5,
    "start_time": "2023-11-18T18:51:53.966Z"
   },
   {
    "duration": 23,
    "start_time": "2023-11-18T18:51:53.973Z"
   },
   {
    "duration": 21,
    "start_time": "2023-11-18T18:51:53.998Z"
   },
   {
    "duration": 67,
    "start_time": "2023-11-18T18:51:54.021Z"
   },
   {
    "duration": 19,
    "start_time": "2023-11-18T18:51:54.089Z"
   },
   {
    "duration": 262,
    "start_time": "2023-11-18T18:51:54.109Z"
   },
   {
    "duration": 5,
    "start_time": "2023-11-18T18:51:54.373Z"
   },
   {
    "duration": 199,
    "start_time": "2023-11-18T18:51:54.379Z"
   },
   {
    "duration": 160,
    "start_time": "2023-11-18T18:51:54.580Z"
   },
   {
    "duration": 175,
    "start_time": "2023-11-18T18:51:54.742Z"
   },
   {
    "duration": 219,
    "start_time": "2023-11-18T18:51:54.919Z"
   },
   {
    "duration": 820,
    "start_time": "2023-11-18T18:51:55.141Z"
   },
   {
    "duration": 10,
    "start_time": "2023-11-18T18:51:55.963Z"
   },
   {
    "duration": 846,
    "start_time": "2023-11-18T18:51:55.974Z"
   },
   {
    "duration": 10,
    "start_time": "2023-11-18T18:51:56.822Z"
   },
   {
    "duration": 6,
    "start_time": "2023-11-18T18:51:56.834Z"
   },
   {
    "duration": 1081,
    "start_time": "2023-11-18T18:51:56.841Z"
   },
   {
    "duration": 4,
    "start_time": "2023-11-18T18:51:57.923Z"
   },
   {
    "duration": 13,
    "start_time": "2023-11-18T18:51:57.928Z"
   },
   {
    "duration": 3,
    "start_time": "2023-11-18T18:51:57.958Z"
   },
   {
    "duration": 4,
    "start_time": "2023-11-18T18:51:57.963Z"
   },
   {
    "duration": 7,
    "start_time": "2023-11-18T18:51:57.968Z"
   },
   {
    "duration": 11,
    "start_time": "2023-11-18T18:51:57.976Z"
   },
   {
    "duration": 12,
    "start_time": "2023-11-18T18:51:57.989Z"
   },
   {
    "duration": 11,
    "start_time": "2023-11-18T18:51:58.002Z"
   },
   {
    "duration": 434,
    "start_time": "2023-11-18T18:51:58.014Z"
   },
   {
    "duration": 0,
    "start_time": "2023-11-18T18:51:58.449Z"
   },
   {
    "duration": 0,
    "start_time": "2023-11-18T18:51:58.459Z"
   },
   {
    "duration": 1356,
    "start_time": "2023-11-18T18:52:48.062Z"
   },
   {
    "duration": 698,
    "start_time": "2023-11-18T18:52:49.420Z"
   },
   {
    "duration": 2,
    "start_time": "2023-11-18T18:52:50.120Z"
   },
   {
    "duration": 131,
    "start_time": "2023-11-18T18:52:50.124Z"
   },
   {
    "duration": 41,
    "start_time": "2023-11-18T18:52:50.258Z"
   },
   {
    "duration": 6,
    "start_time": "2023-11-18T18:52:50.300Z"
   },
   {
    "duration": 5,
    "start_time": "2023-11-18T18:52:50.307Z"
   },
   {
    "duration": 15,
    "start_time": "2023-11-18T18:52:50.313Z"
   },
   {
    "duration": 29,
    "start_time": "2023-11-18T18:52:50.330Z"
   },
   {
    "duration": 23,
    "start_time": "2023-11-18T18:52:50.363Z"
   },
   {
    "duration": 26,
    "start_time": "2023-11-18T18:52:50.388Z"
   },
   {
    "duration": 66,
    "start_time": "2023-11-18T18:52:50.415Z"
   },
   {
    "duration": 22,
    "start_time": "2023-11-18T18:52:50.483Z"
   },
   {
    "duration": 265,
    "start_time": "2023-11-18T18:52:50.507Z"
   },
   {
    "duration": 6,
    "start_time": "2023-11-18T18:52:50.774Z"
   },
   {
    "duration": 179,
    "start_time": "2023-11-18T18:52:50.781Z"
   },
   {
    "duration": 160,
    "start_time": "2023-11-18T18:52:50.962Z"
   },
   {
    "duration": 182,
    "start_time": "2023-11-18T18:52:51.123Z"
   },
   {
    "duration": 217,
    "start_time": "2023-11-18T18:52:51.307Z"
   },
   {
    "duration": 838,
    "start_time": "2023-11-18T18:52:51.526Z"
   },
   {
    "duration": 13,
    "start_time": "2023-11-18T18:52:52.366Z"
   },
   {
    "duration": 849,
    "start_time": "2023-11-18T18:52:52.380Z"
   },
   {
    "duration": 11,
    "start_time": "2023-11-18T18:52:53.230Z"
   },
   {
    "duration": 19,
    "start_time": "2023-11-18T18:52:53.242Z"
   },
   {
    "duration": 1052,
    "start_time": "2023-11-18T18:52:53.263Z"
   },
   {
    "duration": 3,
    "start_time": "2023-11-18T18:52:54.317Z"
   },
   {
    "duration": 22,
    "start_time": "2023-11-18T18:52:54.322Z"
   },
   {
    "duration": 4,
    "start_time": "2023-11-18T18:52:54.347Z"
   },
   {
    "duration": 4,
    "start_time": "2023-11-18T18:52:54.357Z"
   },
   {
    "duration": 4,
    "start_time": "2023-11-18T18:52:54.363Z"
   },
   {
    "duration": 7,
    "start_time": "2023-11-18T18:52:54.369Z"
   },
   {
    "duration": 5,
    "start_time": "2023-11-18T18:52:54.378Z"
   },
   {
    "duration": 11,
    "start_time": "2023-11-18T18:52:54.385Z"
   },
   {
    "duration": 164,
    "start_time": "2023-11-18T18:52:54.398Z"
   },
   {
    "duration": 398,
    "start_time": "2023-11-18T18:52:54.564Z"
   },
   {
    "duration": 222,
    "start_time": "2023-11-18T18:52:54.964Z"
   },
   {
    "duration": 4,
    "start_time": "2023-11-18T18:53:20.628Z"
   },
   {
    "duration": 26,
    "start_time": "2023-11-18T18:53:43.044Z"
   },
   {
    "duration": 9,
    "start_time": "2023-11-18T18:55:46.908Z"
   },
   {
    "duration": 1353,
    "start_time": "2023-11-18T18:55:53.493Z"
   },
   {
    "duration": 701,
    "start_time": "2023-11-18T18:55:54.848Z"
   },
   {
    "duration": 3,
    "start_time": "2023-11-18T18:55:55.551Z"
   },
   {
    "duration": 135,
    "start_time": "2023-11-18T18:55:55.559Z"
   },
   {
    "duration": 42,
    "start_time": "2023-11-18T18:55:55.696Z"
   },
   {
    "duration": 6,
    "start_time": "2023-11-18T18:55:55.759Z"
   },
   {
    "duration": 5,
    "start_time": "2023-11-18T18:55:55.767Z"
   },
   {
    "duration": 4,
    "start_time": "2023-11-18T18:55:55.773Z"
   },
   {
    "duration": 4,
    "start_time": "2023-11-18T18:55:55.779Z"
   },
   {
    "duration": 20,
    "start_time": "2023-11-18T18:55:55.786Z"
   },
   {
    "duration": 56,
    "start_time": "2023-11-18T18:55:55.808Z"
   },
   {
    "duration": 34,
    "start_time": "2023-11-18T18:55:55.865Z"
   },
   {
    "duration": 19,
    "start_time": "2023-11-18T18:55:55.901Z"
   },
   {
    "duration": 256,
    "start_time": "2023-11-18T18:55:55.921Z"
   },
   {
    "duration": 5,
    "start_time": "2023-11-18T18:55:56.178Z"
   },
   {
    "duration": 170,
    "start_time": "2023-11-18T18:55:56.185Z"
   },
   {
    "duration": 158,
    "start_time": "2023-11-18T18:55:56.358Z"
   },
   {
    "duration": 167,
    "start_time": "2023-11-18T18:55:56.517Z"
   },
   {
    "duration": 208,
    "start_time": "2023-11-18T18:55:56.685Z"
   },
   {
    "duration": 867,
    "start_time": "2023-11-18T18:55:56.895Z"
   },
   {
    "duration": 12,
    "start_time": "2023-11-18T18:55:57.763Z"
   },
   {
    "duration": 864,
    "start_time": "2023-11-18T18:55:57.776Z"
   },
   {
    "duration": 22,
    "start_time": "2023-11-18T18:55:58.642Z"
   },
   {
    "duration": 6,
    "start_time": "2023-11-18T18:55:58.665Z"
   },
   {
    "duration": 1055,
    "start_time": "2023-11-18T18:55:58.672Z"
   },
   {
    "duration": 4,
    "start_time": "2023-11-18T18:55:59.728Z"
   },
   {
    "duration": 29,
    "start_time": "2023-11-18T18:55:59.733Z"
   },
   {
    "duration": 3,
    "start_time": "2023-11-18T18:55:59.765Z"
   },
   {
    "duration": 3,
    "start_time": "2023-11-18T18:55:59.770Z"
   },
   {
    "duration": 4,
    "start_time": "2023-11-18T18:55:59.774Z"
   },
   {
    "duration": 14,
    "start_time": "2023-11-18T18:55:59.779Z"
   },
   {
    "duration": 5,
    "start_time": "2023-11-18T18:55:59.795Z"
   },
   {
    "duration": 7,
    "start_time": "2023-11-18T18:55:59.802Z"
   },
   {
    "duration": 152,
    "start_time": "2023-11-18T18:55:59.811Z"
   },
   {
    "duration": 399,
    "start_time": "2023-11-18T18:55:59.964Z"
   },
   {
    "duration": 5,
    "start_time": "2023-11-18T18:56:00.365Z"
   },
   {
    "duration": 4,
    "start_time": "2023-11-18T18:56:24.447Z"
   },
   {
    "duration": 106,
    "start_time": "2023-11-18T19:04:49.595Z"
   },
   {
    "duration": 9,
    "start_time": "2023-11-18T19:06:06.446Z"
   },
   {
    "duration": 1496,
    "start_time": "2023-11-18T19:06:10.864Z"
   },
   {
    "duration": 703,
    "start_time": "2023-11-18T19:06:12.362Z"
   },
   {
    "duration": 3,
    "start_time": "2023-11-18T19:06:13.067Z"
   },
   {
    "duration": 126,
    "start_time": "2023-11-18T19:06:13.071Z"
   },
   {
    "duration": 60,
    "start_time": "2023-11-18T19:06:13.199Z"
   },
   {
    "duration": 5,
    "start_time": "2023-11-18T19:06:13.261Z"
   },
   {
    "duration": 20,
    "start_time": "2023-11-18T19:06:13.267Z"
   },
   {
    "duration": 5,
    "start_time": "2023-11-18T19:06:13.289Z"
   },
   {
    "duration": 14,
    "start_time": "2023-11-18T19:06:13.296Z"
   },
   {
    "duration": 26,
    "start_time": "2023-11-18T19:06:13.312Z"
   },
   {
    "duration": 33,
    "start_time": "2023-11-18T19:06:13.339Z"
   },
   {
    "duration": 34,
    "start_time": "2023-11-18T19:06:13.373Z"
   },
   {
    "duration": 19,
    "start_time": "2023-11-18T19:06:13.409Z"
   },
   {
    "duration": 262,
    "start_time": "2023-11-18T19:06:13.429Z"
   },
   {
    "duration": 6,
    "start_time": "2023-11-18T19:06:13.692Z"
   },
   {
    "duration": 179,
    "start_time": "2023-11-18T19:06:13.699Z"
   },
   {
    "duration": 164,
    "start_time": "2023-11-18T19:06:13.879Z"
   },
   {
    "duration": 171,
    "start_time": "2023-11-18T19:06:14.044Z"
   },
   {
    "duration": 228,
    "start_time": "2023-11-18T19:06:14.216Z"
   },
   {
    "duration": 848,
    "start_time": "2023-11-18T19:06:14.445Z"
   },
   {
    "duration": 10,
    "start_time": "2023-11-18T19:06:15.295Z"
   },
   {
    "duration": 922,
    "start_time": "2023-11-18T19:06:15.306Z"
   },
   {
    "duration": 10,
    "start_time": "2023-11-18T19:06:16.230Z"
   },
   {
    "duration": 17,
    "start_time": "2023-11-18T19:06:16.242Z"
   },
   {
    "duration": 1137,
    "start_time": "2023-11-18T19:06:16.261Z"
   },
   {
    "duration": 4,
    "start_time": "2023-11-18T19:06:17.400Z"
   },
   {
    "duration": 17,
    "start_time": "2023-11-18T19:06:17.405Z"
   },
   {
    "duration": 8,
    "start_time": "2023-11-18T19:06:17.425Z"
   },
   {
    "duration": 12,
    "start_time": "2023-11-18T19:06:17.435Z"
   },
   {
    "duration": 14,
    "start_time": "2023-11-18T19:06:17.449Z"
   },
   {
    "duration": 7,
    "start_time": "2023-11-18T19:06:17.465Z"
   },
   {
    "duration": 8,
    "start_time": "2023-11-18T19:06:17.474Z"
   },
   {
    "duration": 14,
    "start_time": "2023-11-18T19:06:17.483Z"
   },
   {
    "duration": 360,
    "start_time": "2023-11-18T19:06:17.499Z"
   },
   {
    "duration": 203,
    "start_time": "2023-11-18T19:06:17.861Z"
   },
   {
    "duration": 94,
    "start_time": "2023-11-18T19:06:18.066Z"
   },
   {
    "duration": 121,
    "start_time": "2023-11-18T19:06:18.161Z"
   },
   {
    "duration": 10,
    "start_time": "2023-11-18T19:07:39.377Z"
   },
   {
    "duration": 1379,
    "start_time": "2023-11-18T19:07:44.376Z"
   },
   {
    "duration": 705,
    "start_time": "2023-11-18T19:07:45.757Z"
   },
   {
    "duration": 3,
    "start_time": "2023-11-18T19:07:46.464Z"
   },
   {
    "duration": 124,
    "start_time": "2023-11-18T19:07:46.468Z"
   },
   {
    "duration": 42,
    "start_time": "2023-11-18T19:07:46.594Z"
   },
   {
    "duration": 25,
    "start_time": "2023-11-18T19:07:46.638Z"
   },
   {
    "duration": 5,
    "start_time": "2023-11-18T19:07:46.664Z"
   },
   {
    "duration": 5,
    "start_time": "2023-11-18T19:07:46.670Z"
   },
   {
    "duration": 7,
    "start_time": "2023-11-18T19:07:46.676Z"
   },
   {
    "duration": 18,
    "start_time": "2023-11-18T19:07:46.686Z"
   },
   {
    "duration": 56,
    "start_time": "2023-11-18T19:07:46.706Z"
   },
   {
    "duration": 33,
    "start_time": "2023-11-18T19:07:46.763Z"
   },
   {
    "duration": 18,
    "start_time": "2023-11-18T19:07:46.798Z"
   },
   {
    "duration": 282,
    "start_time": "2023-11-18T19:07:46.818Z"
   },
   {
    "duration": 6,
    "start_time": "2023-11-18T19:07:47.101Z"
   },
   {
    "duration": 181,
    "start_time": "2023-11-18T19:07:47.108Z"
   },
   {
    "duration": 163,
    "start_time": "2023-11-18T19:07:47.290Z"
   },
   {
    "duration": 166,
    "start_time": "2023-11-18T19:07:47.457Z"
   },
   {
    "duration": 222,
    "start_time": "2023-11-18T19:07:47.624Z"
   },
   {
    "duration": 837,
    "start_time": "2023-11-18T19:07:47.847Z"
   },
   {
    "duration": 10,
    "start_time": "2023-11-18T19:07:48.686Z"
   },
   {
    "duration": 860,
    "start_time": "2023-11-18T19:07:48.698Z"
   },
   {
    "duration": 10,
    "start_time": "2023-11-18T19:07:49.560Z"
   },
   {
    "duration": 5,
    "start_time": "2023-11-18T19:07:49.572Z"
   },
   {
    "duration": 1066,
    "start_time": "2023-11-18T19:07:49.578Z"
   },
   {
    "duration": 4,
    "start_time": "2023-11-18T19:07:50.645Z"
   },
   {
    "duration": 19,
    "start_time": "2023-11-18T19:07:50.650Z"
   },
   {
    "duration": 3,
    "start_time": "2023-11-18T19:07:50.673Z"
   },
   {
    "duration": 5,
    "start_time": "2023-11-18T19:07:50.677Z"
   },
   {
    "duration": 4,
    "start_time": "2023-11-18T19:07:50.683Z"
   },
   {
    "duration": 7,
    "start_time": "2023-11-18T19:07:50.688Z"
   },
   {
    "duration": 5,
    "start_time": "2023-11-18T19:07:50.697Z"
   },
   {
    "duration": 9,
    "start_time": "2023-11-18T19:07:50.704Z"
   },
   {
    "duration": 251,
    "start_time": "2023-11-18T19:07:50.714Z"
   },
   {
    "duration": 392,
    "start_time": "2023-11-18T19:07:50.967Z"
   },
   {
    "duration": 4,
    "start_time": "2023-11-18T19:07:51.360Z"
   },
   {
    "duration": 196,
    "start_time": "2023-11-18T19:07:51.365Z"
   },
   {
    "duration": 3399,
    "start_time": "2023-11-18T19:09:02.209Z"
   },
   {
    "duration": 3491,
    "start_time": "2023-11-18T19:11:20.918Z"
   },
   {
    "duration": 3388,
    "start_time": "2023-11-18T19:17:15.855Z"
   },
   {
    "duration": 87,
    "start_time": "2023-11-18T19:17:27.057Z"
   },
   {
    "duration": 3431,
    "start_time": "2023-11-18T19:17:34.051Z"
   },
   {
    "duration": 4,
    "start_time": "2023-11-18T19:19:09.951Z"
   },
   {
    "duration": 4,
    "start_time": "2023-11-18T19:19:51.907Z"
   },
   {
    "duration": 28,
    "start_time": "2023-11-18T19:29:43.239Z"
   },
   {
    "duration": 44,
    "start_time": "2023-11-18T19:29:43.818Z"
   },
   {
    "duration": 3,
    "start_time": "2023-11-18T19:29:56.463Z"
   },
   {
    "duration": 87,
    "start_time": "2023-11-18T19:30:29.314Z"
   },
   {
    "duration": 90,
    "start_time": "2023-11-18T19:30:50.324Z"
   },
   {
    "duration": 87,
    "start_time": "2023-11-18T19:31:29.703Z"
   },
   {
    "duration": 1344,
    "start_time": "2023-11-18T19:31:33.910Z"
   },
   {
    "duration": 710,
    "start_time": "2023-11-18T19:31:35.256Z"
   },
   {
    "duration": 3,
    "start_time": "2023-11-18T19:31:35.968Z"
   },
   {
    "duration": 131,
    "start_time": "2023-11-18T19:31:35.972Z"
   },
   {
    "duration": 59,
    "start_time": "2023-11-18T19:31:36.104Z"
   },
   {
    "duration": 6,
    "start_time": "2023-11-18T19:31:36.165Z"
   },
   {
    "duration": 18,
    "start_time": "2023-11-18T19:31:36.172Z"
   },
   {
    "duration": 14,
    "start_time": "2023-11-18T19:31:36.191Z"
   },
   {
    "duration": 5,
    "start_time": "2023-11-18T19:31:36.206Z"
   },
   {
    "duration": 30,
    "start_time": "2023-11-18T19:31:36.213Z"
   },
   {
    "duration": 28,
    "start_time": "2023-11-18T19:31:36.244Z"
   },
   {
    "duration": 34,
    "start_time": "2023-11-18T19:31:36.273Z"
   },
   {
    "duration": 19,
    "start_time": "2023-11-18T19:31:36.309Z"
   },
   {
    "duration": 270,
    "start_time": "2023-11-18T19:31:36.329Z"
   },
   {
    "duration": 6,
    "start_time": "2023-11-18T19:31:36.600Z"
   },
   {
    "duration": 181,
    "start_time": "2023-11-18T19:31:36.607Z"
   },
   {
    "duration": 189,
    "start_time": "2023-11-18T19:31:36.790Z"
   },
   {
    "duration": 192,
    "start_time": "2023-11-18T19:31:36.982Z"
   },
   {
    "duration": 212,
    "start_time": "2023-11-18T19:31:37.175Z"
   },
   {
    "duration": 833,
    "start_time": "2023-11-18T19:31:37.388Z"
   },
   {
    "duration": 11,
    "start_time": "2023-11-18T19:31:38.223Z"
   },
   {
    "duration": 850,
    "start_time": "2023-11-18T19:31:38.235Z"
   },
   {
    "duration": 10,
    "start_time": "2023-11-18T19:31:39.087Z"
   },
   {
    "duration": 13,
    "start_time": "2023-11-18T19:31:39.099Z"
   },
   {
    "duration": 1088,
    "start_time": "2023-11-18T19:31:39.114Z"
   },
   {
    "duration": 4,
    "start_time": "2023-11-18T19:31:40.204Z"
   },
   {
    "duration": 15,
    "start_time": "2023-11-18T19:31:40.209Z"
   },
   {
    "duration": 3,
    "start_time": "2023-11-18T19:31:40.227Z"
   },
   {
    "duration": 27,
    "start_time": "2023-11-18T19:31:40.232Z"
   },
   {
    "duration": 4,
    "start_time": "2023-11-18T19:31:40.260Z"
   },
   {
    "duration": 7,
    "start_time": "2023-11-18T19:31:40.265Z"
   },
   {
    "duration": 6,
    "start_time": "2023-11-18T19:31:40.273Z"
   },
   {
    "duration": 18,
    "start_time": "2023-11-18T19:31:40.281Z"
   },
   {
    "duration": 163,
    "start_time": "2023-11-18T19:31:40.300Z"
   },
   {
    "duration": 301,
    "start_time": "2023-11-18T19:31:40.465Z"
   },
   {
    "duration": 93,
    "start_time": "2023-11-18T19:31:40.767Z"
   },
   {
    "duration": 278,
    "start_time": "2023-11-18T19:31:40.862Z"
   },
   {
    "duration": 0,
    "start_time": "2023-11-18T19:31:41.141Z"
   },
   {
    "duration": 0,
    "start_time": "2023-11-18T19:31:41.143Z"
   },
   {
    "duration": 0,
    "start_time": "2023-11-18T19:31:41.144Z"
   },
   {
    "duration": 86,
    "start_time": "2023-11-18T19:31:55.158Z"
   },
   {
    "duration": 1401,
    "start_time": "2023-11-18T19:31:58.534Z"
   },
   {
    "duration": 714,
    "start_time": "2023-11-18T19:31:59.936Z"
   },
   {
    "duration": 7,
    "start_time": "2023-11-18T19:32:00.651Z"
   },
   {
    "duration": 155,
    "start_time": "2023-11-18T19:32:00.660Z"
   },
   {
    "duration": 55,
    "start_time": "2023-11-18T19:32:00.816Z"
   },
   {
    "duration": 7,
    "start_time": "2023-11-18T19:32:00.872Z"
   },
   {
    "duration": 75,
    "start_time": "2023-11-18T19:32:00.880Z"
   },
   {
    "duration": 31,
    "start_time": "2023-11-18T19:32:00.956Z"
   },
   {
    "duration": 38,
    "start_time": "2023-11-18T19:32:00.989Z"
   },
   {
    "duration": 47,
    "start_time": "2023-11-18T19:32:01.029Z"
   },
   {
    "duration": 42,
    "start_time": "2023-11-18T19:32:01.077Z"
   },
   {
    "duration": 39,
    "start_time": "2023-11-18T19:32:01.121Z"
   },
   {
    "duration": 19,
    "start_time": "2023-11-18T19:32:01.162Z"
   },
   {
    "duration": 285,
    "start_time": "2023-11-18T19:32:01.183Z"
   },
   {
    "duration": 5,
    "start_time": "2023-11-18T19:32:01.469Z"
   },
   {
    "duration": 189,
    "start_time": "2023-11-18T19:32:01.476Z"
   },
   {
    "duration": 165,
    "start_time": "2023-11-18T19:32:01.666Z"
   },
   {
    "duration": 169,
    "start_time": "2023-11-18T19:32:01.832Z"
   },
   {
    "duration": 235,
    "start_time": "2023-11-18T19:32:02.003Z"
   },
   {
    "duration": 834,
    "start_time": "2023-11-18T19:32:02.240Z"
   },
   {
    "duration": 10,
    "start_time": "2023-11-18T19:32:03.076Z"
   },
   {
    "duration": 892,
    "start_time": "2023-11-18T19:32:03.087Z"
   },
   {
    "duration": 11,
    "start_time": "2023-11-18T19:32:03.981Z"
   },
   {
    "duration": 6,
    "start_time": "2023-11-18T19:32:03.993Z"
   },
   {
    "duration": 1080,
    "start_time": "2023-11-18T19:32:04.000Z"
   },
   {
    "duration": 3,
    "start_time": "2023-11-18T19:32:05.082Z"
   },
   {
    "duration": 14,
    "start_time": "2023-11-18T19:32:05.087Z"
   },
   {
    "duration": 37,
    "start_time": "2023-11-18T19:32:05.104Z"
   },
   {
    "duration": 4,
    "start_time": "2023-11-18T19:32:05.142Z"
   },
   {
    "duration": 8,
    "start_time": "2023-11-18T19:32:05.147Z"
   },
   {
    "duration": 12,
    "start_time": "2023-11-18T19:32:05.157Z"
   },
   {
    "duration": 5,
    "start_time": "2023-11-18T19:32:05.170Z"
   },
   {
    "duration": 22,
    "start_time": "2023-11-18T19:32:05.176Z"
   },
   {
    "duration": 165,
    "start_time": "2023-11-18T19:32:05.199Z"
   },
   {
    "duration": 396,
    "start_time": "2023-11-18T19:32:05.367Z"
   },
   {
    "duration": 94,
    "start_time": "2023-11-18T19:32:05.766Z"
   },
   {
    "duration": 196,
    "start_time": "2023-11-18T19:32:05.862Z"
   },
   {
    "duration": 0,
    "start_time": "2023-11-18T19:32:06.060Z"
   },
   {
    "duration": 0,
    "start_time": "2023-11-18T19:32:06.061Z"
   },
   {
    "duration": 0,
    "start_time": "2023-11-18T19:32:06.062Z"
   },
   {
    "duration": 1398,
    "start_time": "2023-11-18T19:34:09.651Z"
   },
   {
    "duration": 703,
    "start_time": "2023-11-18T19:34:11.051Z"
   },
   {
    "duration": 3,
    "start_time": "2023-11-18T19:34:11.760Z"
   },
   {
    "duration": 123,
    "start_time": "2023-11-18T19:34:11.764Z"
   },
   {
    "duration": 41,
    "start_time": "2023-11-18T19:34:11.888Z"
   },
   {
    "duration": 30,
    "start_time": "2023-11-18T19:34:11.931Z"
   },
   {
    "duration": 5,
    "start_time": "2023-11-18T19:34:11.962Z"
   },
   {
    "duration": 5,
    "start_time": "2023-11-18T19:34:11.968Z"
   },
   {
    "duration": 4,
    "start_time": "2023-11-18T19:34:11.975Z"
   },
   {
    "duration": 20,
    "start_time": "2023-11-18T19:34:11.980Z"
   },
   {
    "duration": 22,
    "start_time": "2023-11-18T19:34:12.001Z"
   },
   {
    "duration": 66,
    "start_time": "2023-11-18T19:34:12.024Z"
   },
   {
    "duration": 20,
    "start_time": "2023-11-18T19:34:12.091Z"
   },
   {
    "duration": 267,
    "start_time": "2023-11-18T19:34:12.112Z"
   },
   {
    "duration": 5,
    "start_time": "2023-11-18T19:34:12.381Z"
   },
   {
    "duration": 179,
    "start_time": "2023-11-18T19:34:12.388Z"
   },
   {
    "duration": 158,
    "start_time": "2023-11-18T19:34:12.569Z"
   },
   {
    "duration": 165,
    "start_time": "2023-11-18T19:34:12.728Z"
   },
   {
    "duration": 208,
    "start_time": "2023-11-18T19:34:12.895Z"
   },
   {
    "duration": 813,
    "start_time": "2023-11-18T19:34:13.105Z"
   },
   {
    "duration": 11,
    "start_time": "2023-11-18T19:34:13.919Z"
   },
   {
    "duration": 887,
    "start_time": "2023-11-18T19:34:13.931Z"
   },
   {
    "duration": 10,
    "start_time": "2023-11-18T19:34:14.820Z"
   },
   {
    "duration": 10,
    "start_time": "2023-11-18T19:34:14.832Z"
   },
   {
    "duration": 1081,
    "start_time": "2023-11-18T19:34:14.843Z"
   },
   {
    "duration": 3,
    "start_time": "2023-11-18T19:34:15.926Z"
   },
   {
    "duration": 29,
    "start_time": "2023-11-18T19:34:15.932Z"
   },
   {
    "duration": 4,
    "start_time": "2023-11-18T19:34:15.962Z"
   },
   {
    "duration": 5,
    "start_time": "2023-11-18T19:34:15.967Z"
   },
   {
    "duration": 25,
    "start_time": "2023-11-18T19:34:15.973Z"
   },
   {
    "duration": 7,
    "start_time": "2023-11-18T19:34:16.000Z"
   },
   {
    "duration": 6,
    "start_time": "2023-11-18T19:34:16.008Z"
   },
   {
    "duration": 8,
    "start_time": "2023-11-18T19:34:16.015Z"
   },
   {
    "duration": 138,
    "start_time": "2023-11-18T19:34:16.024Z"
   },
   {
    "duration": 279,
    "start_time": "2023-11-18T19:34:16.282Z"
   },
   {
    "duration": 6,
    "start_time": "2023-11-18T19:34:16.563Z"
   },
   {
    "duration": 3580,
    "start_time": "2023-11-18T19:34:16.571Z"
   },
   {
    "duration": 3579,
    "start_time": "2023-11-18T19:34:20.153Z"
   },
   {
    "duration": 87,
    "start_time": "2023-11-18T19:34:23.734Z"
   },
   {
    "duration": 0,
    "start_time": "2023-11-18T19:34:23.823Z"
   },
   {
    "duration": 3473,
    "start_time": "2023-11-18T19:34:57.935Z"
   },
   {
    "duration": 3364,
    "start_time": "2023-11-18T19:35:24.986Z"
   },
   {
    "duration": 3364,
    "start_time": "2023-11-18T19:35:44.648Z"
   },
   {
    "duration": 120,
    "start_time": "2023-11-18T19:38:29.093Z"
   },
   {
    "duration": 117,
    "start_time": "2023-11-18T19:38:43.184Z"
   },
   {
    "duration": 92,
    "start_time": "2023-11-18T19:38:48.135Z"
   },
   {
    "duration": 3483,
    "start_time": "2023-11-18T19:40:21.597Z"
   },
   {
    "duration": 3437,
    "start_time": "2023-11-18T19:40:50.881Z"
   },
   {
    "duration": 86,
    "start_time": "2023-11-18T19:44:00.971Z"
   },
   {
    "duration": 86,
    "start_time": "2023-11-18T19:45:10.498Z"
   },
   {
    "duration": 3425,
    "start_time": "2023-11-18T19:45:36.318Z"
   },
   {
    "duration": 3416,
    "start_time": "2023-11-18T19:45:45.151Z"
   },
   {
    "duration": 1376,
    "start_time": "2023-11-18T19:47:52.549Z"
   },
   {
    "duration": 704,
    "start_time": "2023-11-18T19:47:53.927Z"
   },
   {
    "duration": 3,
    "start_time": "2023-11-18T19:47:54.632Z"
   },
   {
    "duration": 122,
    "start_time": "2023-11-18T19:47:54.637Z"
   },
   {
    "duration": 41,
    "start_time": "2023-11-18T19:47:54.761Z"
   },
   {
    "duration": 6,
    "start_time": "2023-11-18T19:47:54.804Z"
   },
   {
    "duration": 9,
    "start_time": "2023-11-18T19:47:54.811Z"
   },
   {
    "duration": 17,
    "start_time": "2023-11-18T19:47:54.822Z"
   },
   {
    "duration": 5,
    "start_time": "2023-11-18T19:47:54.858Z"
   },
   {
    "duration": 27,
    "start_time": "2023-11-18T19:47:54.865Z"
   },
   {
    "duration": 24,
    "start_time": "2023-11-18T19:47:54.893Z"
   },
   {
    "duration": 58,
    "start_time": "2023-11-18T19:47:54.919Z"
   },
   {
    "duration": 18,
    "start_time": "2023-11-18T19:47:54.979Z"
   },
   {
    "duration": 252,
    "start_time": "2023-11-18T19:47:54.998Z"
   },
   {
    "duration": 9,
    "start_time": "2023-11-18T19:47:55.251Z"
   },
   {
    "duration": 174,
    "start_time": "2023-11-18T19:47:55.262Z"
   },
   {
    "duration": 163,
    "start_time": "2023-11-18T19:47:55.437Z"
   },
   {
    "duration": 169,
    "start_time": "2023-11-18T19:47:55.602Z"
   },
   {
    "duration": 211,
    "start_time": "2023-11-18T19:47:55.772Z"
   },
   {
    "duration": 823,
    "start_time": "2023-11-18T19:47:55.985Z"
   },
   {
    "duration": 11,
    "start_time": "2023-11-18T19:47:56.810Z"
   },
   {
    "duration": 905,
    "start_time": "2023-11-18T19:47:56.823Z"
   },
   {
    "duration": 11,
    "start_time": "2023-11-18T19:47:57.729Z"
   },
   {
    "duration": 23,
    "start_time": "2023-11-18T19:47:57.741Z"
   },
   {
    "duration": 1098,
    "start_time": "2023-11-18T19:47:57.765Z"
   },
   {
    "duration": 4,
    "start_time": "2023-11-18T19:47:58.864Z"
   },
   {
    "duration": 14,
    "start_time": "2023-11-18T19:47:58.869Z"
   },
   {
    "duration": 4,
    "start_time": "2023-11-18T19:47:58.885Z"
   },
   {
    "duration": 3,
    "start_time": "2023-11-18T19:47:58.891Z"
   },
   {
    "duration": 6,
    "start_time": "2023-11-18T19:47:58.895Z"
   },
   {
    "duration": 8,
    "start_time": "2023-11-18T19:47:58.902Z"
   },
   {
    "duration": 6,
    "start_time": "2023-11-18T19:47:58.911Z"
   },
   {
    "duration": 45,
    "start_time": "2023-11-18T19:47:58.918Z"
   },
   {
    "duration": 102,
    "start_time": "2023-11-18T19:47:58.964Z"
   },
   {
    "duration": 298,
    "start_time": "2023-11-18T19:47:59.068Z"
   },
   {
    "duration": 94,
    "start_time": "2023-11-18T19:47:59.367Z"
   },
   {
    "duration": 3473,
    "start_time": "2023-11-18T19:47:59.463Z"
   },
   {
    "duration": 3447,
    "start_time": "2023-11-18T19:48:02.938Z"
   },
   {
    "duration": 3,
    "start_time": "2023-11-18T19:48:06.387Z"
   },
   {
    "duration": 10,
    "start_time": "2023-11-19T09:44:30.242Z"
   },
   {
    "duration": 45,
    "start_time": "2023-11-19T09:53:32.752Z"
   },
   {
    "duration": 1689,
    "start_time": "2023-11-19T09:53:41.238Z"
   },
   {
    "duration": 3036,
    "start_time": "2023-11-19T09:53:42.929Z"
   },
   {
    "duration": 3,
    "start_time": "2023-11-19T09:53:45.967Z"
   },
   {
    "duration": 133,
    "start_time": "2023-11-19T09:53:45.972Z"
   },
   {
    "duration": 61,
    "start_time": "2023-11-19T09:53:46.107Z"
   },
   {
    "duration": 6,
    "start_time": "2023-11-19T09:53:46.170Z"
   },
   {
    "duration": 7,
    "start_time": "2023-11-19T09:53:46.178Z"
   },
   {
    "duration": 33,
    "start_time": "2023-11-19T09:53:46.186Z"
   },
   {
    "duration": 35,
    "start_time": "2023-11-19T09:53:46.221Z"
   },
   {
    "duration": 20,
    "start_time": "2023-11-19T09:53:46.259Z"
   },
   {
    "duration": 22,
    "start_time": "2023-11-19T09:53:46.281Z"
   },
   {
    "duration": 61,
    "start_time": "2023-11-19T09:53:46.304Z"
   },
   {
    "duration": 20,
    "start_time": "2023-11-19T09:53:46.367Z"
   },
   {
    "duration": 260,
    "start_time": "2023-11-19T09:53:46.388Z"
   },
   {
    "duration": 6,
    "start_time": "2023-11-19T09:53:46.650Z"
   },
   {
    "duration": 186,
    "start_time": "2023-11-19T09:53:46.666Z"
   },
   {
    "duration": 168,
    "start_time": "2023-11-19T09:53:46.853Z"
   },
   {
    "duration": 172,
    "start_time": "2023-11-19T09:53:47.023Z"
   },
   {
    "duration": 211,
    "start_time": "2023-11-19T09:53:47.197Z"
   },
   {
    "duration": 831,
    "start_time": "2023-11-19T09:53:47.410Z"
   },
   {
    "duration": 12,
    "start_time": "2023-11-19T09:53:48.242Z"
   },
   {
    "duration": 857,
    "start_time": "2023-11-19T09:53:48.265Z"
   },
   {
    "duration": 15,
    "start_time": "2023-11-19T09:53:49.124Z"
   },
   {
    "duration": 7,
    "start_time": "2023-11-19T09:53:49.140Z"
   },
   {
    "duration": 1059,
    "start_time": "2023-11-19T09:53:49.166Z"
   },
   {
    "duration": 4,
    "start_time": "2023-11-19T09:53:50.226Z"
   },
   {
    "duration": 25,
    "start_time": "2023-11-19T09:53:50.231Z"
   },
   {
    "duration": 13,
    "start_time": "2023-11-19T09:53:50.265Z"
   },
   {
    "duration": 24,
    "start_time": "2023-11-19T09:53:50.280Z"
   },
   {
    "duration": 14,
    "start_time": "2023-11-19T09:53:50.305Z"
   },
   {
    "duration": 17,
    "start_time": "2023-11-19T09:53:50.320Z"
   },
   {
    "duration": 15,
    "start_time": "2023-11-19T09:53:50.339Z"
   },
   {
    "duration": 13,
    "start_time": "2023-11-19T09:53:50.355Z"
   },
   {
    "duration": 298,
    "start_time": "2023-11-19T09:53:50.370Z"
   },
   {
    "duration": 294,
    "start_time": "2023-11-19T09:53:50.672Z"
   },
   {
    "duration": 4,
    "start_time": "2023-11-19T09:53:50.968Z"
   },
   {
    "duration": 3478,
    "start_time": "2023-11-19T09:53:50.974Z"
   },
   {
    "duration": 3466,
    "start_time": "2023-11-19T09:53:54.453Z"
   },
   {
    "duration": 3,
    "start_time": "2023-11-19T09:53:57.921Z"
   },
   {
    "duration": 129,
    "start_time": "2023-11-19T09:53:57.925Z"
   },
   {
    "duration": 68,
    "start_time": "2023-11-19T09:56:04.286Z"
   },
   {
    "duration": 1394,
    "start_time": "2023-11-19T09:57:14.571Z"
   },
   {
    "duration": 652,
    "start_time": "2023-11-19T09:57:15.967Z"
   },
   {
    "duration": 3,
    "start_time": "2023-11-19T09:57:16.620Z"
   },
   {
    "duration": 116,
    "start_time": "2023-11-19T09:57:16.625Z"
   },
   {
    "duration": 54,
    "start_time": "2023-11-19T09:57:16.742Z"
   },
   {
    "duration": 6,
    "start_time": "2023-11-19T09:57:16.798Z"
   },
   {
    "duration": 6,
    "start_time": "2023-11-19T09:57:16.805Z"
   },
   {
    "duration": 15,
    "start_time": "2023-11-19T09:57:16.813Z"
   },
   {
    "duration": 6,
    "start_time": "2023-11-19T09:57:16.830Z"
   },
   {
    "duration": 38,
    "start_time": "2023-11-19T09:57:16.839Z"
   },
   {
    "duration": 22,
    "start_time": "2023-11-19T09:57:16.879Z"
   },
   {
    "duration": 33,
    "start_time": "2023-11-19T09:57:16.902Z"
   },
   {
    "duration": 43,
    "start_time": "2023-11-19T09:57:16.936Z"
   },
   {
    "duration": 250,
    "start_time": "2023-11-19T09:57:16.980Z"
   },
   {
    "duration": 5,
    "start_time": "2023-11-19T09:57:17.232Z"
   },
   {
    "duration": 174,
    "start_time": "2023-11-19T09:57:17.239Z"
   },
   {
    "duration": 160,
    "start_time": "2023-11-19T09:57:17.414Z"
   },
   {
    "duration": 165,
    "start_time": "2023-11-19T09:57:17.576Z"
   },
   {
    "duration": 211,
    "start_time": "2023-11-19T09:57:17.742Z"
   },
   {
    "duration": 810,
    "start_time": "2023-11-19T09:57:17.955Z"
   },
   {
    "duration": 10,
    "start_time": "2023-11-19T09:57:18.767Z"
   },
   {
    "duration": 858,
    "start_time": "2023-11-19T09:57:18.778Z"
   },
   {
    "duration": 11,
    "start_time": "2023-11-19T09:57:19.638Z"
   },
   {
    "duration": 18,
    "start_time": "2023-11-19T09:57:19.650Z"
   },
   {
    "duration": 1046,
    "start_time": "2023-11-19T09:57:19.669Z"
   },
   {
    "duration": 3,
    "start_time": "2023-11-19T09:57:20.717Z"
   },
   {
    "duration": 33,
    "start_time": "2023-11-19T09:57:20.722Z"
   },
   {
    "duration": 34,
    "start_time": "2023-11-19T09:57:20.758Z"
   },
   {
    "duration": 14,
    "start_time": "2023-11-19T09:57:20.793Z"
   },
   {
    "duration": 25,
    "start_time": "2023-11-19T09:57:20.809Z"
   },
   {
    "duration": 31,
    "start_time": "2023-11-19T09:57:20.836Z"
   },
   {
    "duration": 20,
    "start_time": "2023-11-19T09:57:20.868Z"
   },
   {
    "duration": 31,
    "start_time": "2023-11-19T09:57:20.890Z"
   },
   {
    "duration": 150,
    "start_time": "2023-11-19T09:57:20.923Z"
   },
   {
    "duration": 199,
    "start_time": "2023-11-19T09:57:21.074Z"
   },
   {
    "duration": 97,
    "start_time": "2023-11-19T09:57:21.275Z"
   },
   {
    "duration": 3375,
    "start_time": "2023-11-19T09:57:21.375Z"
   },
   {
    "duration": 3381,
    "start_time": "2023-11-19T09:57:24.752Z"
   },
   {
    "duration": 3,
    "start_time": "2023-11-19T09:57:28.135Z"
   },
   {
    "duration": 109757,
    "start_time": "2023-11-19T09:57:28.139Z"
   },
   {
    "duration": 111065,
    "start_time": "2023-11-19T10:00:43.708Z"
   },
   {
    "duration": 63,
    "start_time": "2023-11-19T10:09:17.740Z"
   },
   {
    "duration": 1324,
    "start_time": "2023-11-19T10:11:53.415Z"
   },
   {
    "duration": 654,
    "start_time": "2023-11-19T10:11:54.741Z"
   },
   {
    "duration": 3,
    "start_time": "2023-11-19T10:11:55.397Z"
   },
   {
    "duration": 121,
    "start_time": "2023-11-19T10:11:55.402Z"
   },
   {
    "duration": 62,
    "start_time": "2023-11-19T10:11:55.524Z"
   },
   {
    "duration": 6,
    "start_time": "2023-11-19T10:11:55.588Z"
   },
   {
    "duration": 27,
    "start_time": "2023-11-19T10:11:55.595Z"
   },
   {
    "duration": 25,
    "start_time": "2023-11-19T10:11:55.623Z"
   },
   {
    "duration": 20,
    "start_time": "2023-11-19T10:11:55.650Z"
   },
   {
    "duration": 35,
    "start_time": "2023-11-19T10:11:55.673Z"
   },
   {
    "duration": 28,
    "start_time": "2023-11-19T10:11:55.709Z"
   },
   {
    "duration": 50,
    "start_time": "2023-11-19T10:11:55.739Z"
   },
   {
    "duration": 23,
    "start_time": "2023-11-19T10:11:55.790Z"
   },
   {
    "duration": 297,
    "start_time": "2023-11-19T10:11:55.815Z"
   },
   {
    "duration": 5,
    "start_time": "2023-11-19T10:11:56.114Z"
   },
   {
    "duration": 181,
    "start_time": "2023-11-19T10:11:56.121Z"
   },
   {
    "duration": 163,
    "start_time": "2023-11-19T10:11:56.304Z"
   },
   {
    "duration": 174,
    "start_time": "2023-11-19T10:11:56.469Z"
   },
   {
    "duration": 220,
    "start_time": "2023-11-19T10:11:56.645Z"
   },
   {
    "duration": 820,
    "start_time": "2023-11-19T10:11:56.867Z"
   },
   {
    "duration": 10,
    "start_time": "2023-11-19T10:11:57.688Z"
   },
   {
    "duration": 861,
    "start_time": "2023-11-19T10:11:57.700Z"
   },
   {
    "duration": 11,
    "start_time": "2023-11-19T10:11:58.563Z"
   },
   {
    "duration": 5,
    "start_time": "2023-11-19T10:11:58.576Z"
   },
   {
    "duration": 1045,
    "start_time": "2023-11-19T10:11:58.582Z"
   },
   {
    "duration": 3,
    "start_time": "2023-11-19T10:11:59.629Z"
   },
   {
    "duration": 16,
    "start_time": "2023-11-19T10:11:59.634Z"
   },
   {
    "duration": 15,
    "start_time": "2023-11-19T10:11:59.653Z"
   },
   {
    "duration": 19,
    "start_time": "2023-11-19T10:11:59.669Z"
   },
   {
    "duration": 4,
    "start_time": "2023-11-19T10:11:59.689Z"
   },
   {
    "duration": 17,
    "start_time": "2023-11-19T10:11:59.695Z"
   },
   {
    "duration": 14,
    "start_time": "2023-11-19T10:11:59.714Z"
   },
   {
    "duration": 11,
    "start_time": "2023-11-19T10:11:59.730Z"
   },
   {
    "duration": 128,
    "start_time": "2023-11-19T10:11:59.742Z"
   },
   {
    "duration": 496,
    "start_time": "2023-11-19T10:11:59.872Z"
   },
   {
    "duration": 3,
    "start_time": "2023-11-19T10:12:00.370Z"
   },
   {
    "duration": 3420,
    "start_time": "2023-11-19T10:12:00.375Z"
   },
   {
    "duration": 3416,
    "start_time": "2023-11-19T10:12:03.797Z"
   },
   {
    "duration": 3,
    "start_time": "2023-11-19T10:12:07.215Z"
   },
   {
    "duration": 109804,
    "start_time": "2023-11-19T10:12:07.220Z"
   },
   {
    "duration": 112554,
    "start_time": "2023-11-19T10:13:57.025Z"
   },
   {
    "duration": 4,
    "start_time": "2023-11-19T10:15:49.580Z"
   },
   {
    "duration": 116,
    "start_time": "2023-11-19T10:31:07.680Z"
   },
   {
    "duration": 566,
    "start_time": "2023-11-19T10:31:41.078Z"
   },
   {
    "duration": 559,
    "start_time": "2023-11-19T10:31:58.136Z"
   },
   {
    "duration": 582,
    "start_time": "2023-11-19T10:32:55.841Z"
   },
   {
    "duration": 581,
    "start_time": "2023-11-19T10:33:25.689Z"
   },
   {
    "duration": 552,
    "start_time": "2023-11-19T10:34:42.688Z"
   },
   {
    "duration": 559,
    "start_time": "2023-11-19T10:36:59.799Z"
   },
   {
    "duration": 575,
    "start_time": "2023-11-19T10:39:44.355Z"
   },
   {
    "duration": 612,
    "start_time": "2023-11-19T10:40:05.594Z"
   },
   {
    "duration": 570,
    "start_time": "2023-11-19T10:40:53.009Z"
   },
   {
    "duration": 3,
    "start_time": "2023-11-19T10:41:51.370Z"
   },
   {
    "duration": 556,
    "start_time": "2023-11-19T10:42:11.841Z"
   },
   {
    "duration": 620,
    "start_time": "2023-11-19T10:42:15.679Z"
   },
   {
    "duration": 3,
    "start_time": "2023-11-19T10:42:16.301Z"
   },
   {
    "duration": 3,
    "start_time": "2023-11-19T10:44:18.077Z"
   },
   {
    "duration": 3,
    "start_time": "2023-11-19T10:47:23.528Z"
   },
   {
    "duration": 14,
    "start_time": "2023-11-19T10:51:33.975Z"
   },
   {
    "duration": 9,
    "start_time": "2023-11-19T10:53:26.402Z"
   },
   {
    "duration": 4,
    "start_time": "2023-11-19T10:53:38.838Z"
   },
   {
    "duration": 9,
    "start_time": "2023-11-19T10:53:42.561Z"
   },
   {
    "duration": 5,
    "start_time": "2023-11-19T10:54:11.881Z"
   },
   {
    "duration": 1339,
    "start_time": "2023-11-19T11:14:16.887Z"
   },
   {
    "duration": 671,
    "start_time": "2023-11-19T11:14:18.227Z"
   },
   {
    "duration": 3,
    "start_time": "2023-11-19T11:14:18.899Z"
   },
   {
    "duration": 119,
    "start_time": "2023-11-19T11:14:18.904Z"
   },
   {
    "duration": 57,
    "start_time": "2023-11-19T11:14:19.024Z"
   },
   {
    "duration": 6,
    "start_time": "2023-11-19T11:14:19.082Z"
   },
   {
    "duration": 5,
    "start_time": "2023-11-19T11:14:19.089Z"
   },
   {
    "duration": 5,
    "start_time": "2023-11-19T11:14:19.095Z"
   },
   {
    "duration": 5,
    "start_time": "2023-11-19T11:14:19.101Z"
   },
   {
    "duration": 24,
    "start_time": "2023-11-19T11:14:19.108Z"
   },
   {
    "duration": 23,
    "start_time": "2023-11-19T11:14:19.166Z"
   },
   {
    "duration": 33,
    "start_time": "2023-11-19T11:14:19.190Z"
   },
   {
    "duration": 53,
    "start_time": "2023-11-19T11:14:19.225Z"
   },
   {
    "duration": 241,
    "start_time": "2023-11-19T11:14:19.279Z"
   },
   {
    "duration": 5,
    "start_time": "2023-11-19T11:14:19.521Z"
   },
   {
    "duration": 183,
    "start_time": "2023-11-19T11:14:19.528Z"
   },
   {
    "duration": 167,
    "start_time": "2023-11-19T11:14:19.712Z"
   },
   {
    "duration": 172,
    "start_time": "2023-11-19T11:14:19.880Z"
   },
   {
    "duration": 212,
    "start_time": "2023-11-19T11:14:20.053Z"
   },
   {
    "duration": 832,
    "start_time": "2023-11-19T11:14:20.267Z"
   },
   {
    "duration": 11,
    "start_time": "2023-11-19T11:14:21.101Z"
   },
   {
    "duration": 853,
    "start_time": "2023-11-19T11:14:21.113Z"
   },
   {
    "duration": 20,
    "start_time": "2023-11-19T11:14:21.967Z"
   },
   {
    "duration": 6,
    "start_time": "2023-11-19T11:14:21.989Z"
   },
   {
    "duration": 1073,
    "start_time": "2023-11-19T11:14:21.996Z"
   },
   {
    "duration": 3,
    "start_time": "2023-11-19T11:14:23.071Z"
   },
   {
    "duration": 29,
    "start_time": "2023-11-19T11:14:23.076Z"
   },
   {
    "duration": 23,
    "start_time": "2023-11-19T11:14:23.109Z"
   },
   {
    "duration": 12,
    "start_time": "2023-11-19T11:14:23.134Z"
   },
   {
    "duration": 19,
    "start_time": "2023-11-19T11:14:23.148Z"
   },
   {
    "duration": 27,
    "start_time": "2023-11-19T11:14:23.168Z"
   },
   {
    "duration": 7,
    "start_time": "2023-11-19T11:14:23.197Z"
   },
   {
    "duration": 13,
    "start_time": "2023-11-19T11:14:23.206Z"
   },
   {
    "duration": 245,
    "start_time": "2023-11-19T11:14:23.220Z"
   },
   {
    "duration": 208,
    "start_time": "2023-11-19T11:14:23.467Z"
   },
   {
    "duration": 4,
    "start_time": "2023-11-19T11:14:23.767Z"
   },
   {
    "duration": 3532,
    "start_time": "2023-11-19T11:14:23.773Z"
   },
   {
    "duration": 3515,
    "start_time": "2023-11-19T11:14:27.306Z"
   },
   {
    "duration": 3,
    "start_time": "2023-11-19T11:14:30.823Z"
   },
   {
    "duration": 112375,
    "start_time": "2023-11-19T11:14:30.828Z"
   },
   {
    "duration": 115268,
    "start_time": "2023-11-19T11:16:23.205Z"
   },
   {
    "duration": 5,
    "start_time": "2023-11-19T11:18:18.475Z"
   },
   {
    "duration": 589,
    "start_time": "2023-11-19T11:18:18.481Z"
   },
   {
    "duration": 585,
    "start_time": "2023-11-19T11:18:19.071Z"
   },
   {
    "duration": 8,
    "start_time": "2023-11-19T11:18:19.658Z"
   },
   {
    "duration": 18,
    "start_time": "2023-11-19T21:02:54.264Z"
   },
   {
    "duration": 43,
    "start_time": "2023-11-21T07:01:48.430Z"
   },
   {
    "duration": 1473,
    "start_time": "2023-11-21T07:02:08.925Z"
   },
   {
    "duration": 2848,
    "start_time": "2023-11-21T07:02:10.399Z"
   },
   {
    "duration": 3,
    "start_time": "2023-11-21T07:02:13.248Z"
   },
   {
    "duration": 109,
    "start_time": "2023-11-21T07:02:13.252Z"
   },
   {
    "duration": 49,
    "start_time": "2023-11-21T07:02:13.362Z"
   },
   {
    "duration": 5,
    "start_time": "2023-11-21T07:02:13.412Z"
   },
   {
    "duration": 41,
    "start_time": "2023-11-21T07:02:13.419Z"
   },
   {
    "duration": 77,
    "start_time": "2023-11-21T07:02:13.461Z"
   },
   {
    "duration": 6,
    "start_time": "2023-11-21T07:02:13.539Z"
   },
   {
    "duration": 141,
    "start_time": "2023-11-21T07:02:13.547Z"
   },
   {
    "duration": 39,
    "start_time": "2023-11-21T07:02:13.689Z"
   },
   {
    "duration": 20,
    "start_time": "2023-11-21T07:02:13.729Z"
   },
   {
    "duration": 85,
    "start_time": "2023-11-21T07:02:13.750Z"
   },
   {
    "duration": 22,
    "start_time": "2023-11-21T07:02:13.837Z"
   },
   {
    "duration": 230,
    "start_time": "2023-11-21T07:02:13.861Z"
   },
   {
    "duration": 5,
    "start_time": "2023-11-21T07:02:14.093Z"
   },
   {
    "duration": 169,
    "start_time": "2023-11-21T07:02:14.099Z"
   },
   {
    "duration": 112,
    "start_time": "2023-11-21T07:02:14.270Z"
   },
   {
    "duration": 0,
    "start_time": "2023-11-21T07:02:14.384Z"
   },
   {
    "duration": 0,
    "start_time": "2023-11-21T07:02:14.385Z"
   },
   {
    "duration": 0,
    "start_time": "2023-11-21T07:02:14.386Z"
   },
   {
    "duration": 0,
    "start_time": "2023-11-21T07:02:14.387Z"
   },
   {
    "duration": 0,
    "start_time": "2023-11-21T07:02:14.388Z"
   },
   {
    "duration": 0,
    "start_time": "2023-11-21T07:02:14.388Z"
   },
   {
    "duration": 0,
    "start_time": "2023-11-21T07:02:14.389Z"
   },
   {
    "duration": 0,
    "start_time": "2023-11-21T07:02:14.390Z"
   },
   {
    "duration": 0,
    "start_time": "2023-11-21T07:02:14.391Z"
   },
   {
    "duration": 0,
    "start_time": "2023-11-21T07:02:14.392Z"
   },
   {
    "duration": 0,
    "start_time": "2023-11-21T07:02:14.393Z"
   },
   {
    "duration": 0,
    "start_time": "2023-11-21T07:02:14.394Z"
   },
   {
    "duration": 0,
    "start_time": "2023-11-21T07:02:14.395Z"
   },
   {
    "duration": 0,
    "start_time": "2023-11-21T07:02:14.396Z"
   },
   {
    "duration": 0,
    "start_time": "2023-11-21T07:02:14.396Z"
   },
   {
    "duration": 0,
    "start_time": "2023-11-21T07:02:14.398Z"
   },
   {
    "duration": 0,
    "start_time": "2023-11-21T07:02:14.399Z"
   },
   {
    "duration": 0,
    "start_time": "2023-11-21T07:02:14.399Z"
   },
   {
    "duration": 0,
    "start_time": "2023-11-21T07:02:14.400Z"
   },
   {
    "duration": 0,
    "start_time": "2023-11-21T07:02:14.401Z"
   },
   {
    "duration": 0,
    "start_time": "2023-11-21T07:02:14.402Z"
   },
   {
    "duration": 0,
    "start_time": "2023-11-21T07:02:14.404Z"
   },
   {
    "duration": 0,
    "start_time": "2023-11-21T07:02:14.405Z"
   },
   {
    "duration": 0,
    "start_time": "2023-11-21T07:02:14.406Z"
   },
   {
    "duration": 0,
    "start_time": "2023-11-21T07:02:14.408Z"
   },
   {
    "duration": 0,
    "start_time": "2023-11-21T07:02:14.409Z"
   },
   {
    "duration": 0,
    "start_time": "2023-11-21T07:02:14.410Z"
   },
   {
    "duration": 1,
    "start_time": "2023-11-21T07:02:14.411Z"
   },
   {
    "duration": 0,
    "start_time": "2023-11-21T07:02:14.413Z"
   },
   {
    "duration": 135,
    "start_time": "2023-11-21T07:04:09.732Z"
   },
   {
    "duration": 146,
    "start_time": "2023-11-21T07:07:25.823Z"
   },
   {
    "duration": 203,
    "start_time": "2023-11-21T07:07:26.497Z"
   },
   {
    "duration": 303,
    "start_time": "2023-11-21T07:11:35.648Z"
   },
   {
    "duration": 1506,
    "start_time": "2023-11-21T07:12:52.269Z"
   },
   {
    "duration": 302,
    "start_time": "2023-11-21T07:13:14.759Z"
   },
   {
    "duration": 1323,
    "start_time": "2023-11-21T07:14:25.571Z"
   },
   {
    "duration": 658,
    "start_time": "2023-11-21T07:14:26.895Z"
   },
   {
    "duration": 2,
    "start_time": "2023-11-21T07:14:27.555Z"
   },
   {
    "duration": 117,
    "start_time": "2023-11-21T07:14:27.559Z"
   },
   {
    "duration": 38,
    "start_time": "2023-11-21T07:14:27.682Z"
   },
   {
    "duration": 6,
    "start_time": "2023-11-21T07:14:27.721Z"
   },
   {
    "duration": 23,
    "start_time": "2023-11-21T07:14:27.728Z"
   },
   {
    "duration": 27,
    "start_time": "2023-11-21T07:14:27.752Z"
   },
   {
    "duration": 27,
    "start_time": "2023-11-21T07:14:27.781Z"
   },
   {
    "duration": 30,
    "start_time": "2023-11-21T07:14:27.810Z"
   },
   {
    "duration": 112,
    "start_time": "2023-11-21T07:14:27.841Z"
   },
   {
    "duration": 43,
    "start_time": "2023-11-21T07:14:27.954Z"
   },
   {
    "duration": 38,
    "start_time": "2023-11-21T07:14:27.998Z"
   },
   {
    "duration": 18,
    "start_time": "2023-11-21T07:14:28.038Z"
   },
   {
    "duration": 223,
    "start_time": "2023-11-21T07:14:28.081Z"
   },
   {
    "duration": 4,
    "start_time": "2023-11-21T07:14:28.305Z"
   },
   {
    "duration": 324,
    "start_time": "2023-11-21T07:14:28.311Z"
   },
   {
    "duration": 148,
    "start_time": "2023-11-21T07:14:28.636Z"
   },
   {
    "duration": 213,
    "start_time": "2023-11-21T07:14:28.785Z"
   },
   {
    "duration": 165,
    "start_time": "2023-11-21T07:14:28.999Z"
   },
   {
    "duration": 191,
    "start_time": "2023-11-21T07:14:29.166Z"
   },
   {
    "duration": 674,
    "start_time": "2023-11-21T07:14:29.358Z"
   },
   {
    "duration": 10,
    "start_time": "2023-11-21T07:14:30.034Z"
   },
   {
    "duration": 792,
    "start_time": "2023-11-21T07:14:30.045Z"
   },
   {
    "duration": 10,
    "start_time": "2023-11-21T07:14:30.839Z"
   },
   {
    "duration": 27,
    "start_time": "2023-11-21T07:14:30.851Z"
   },
   {
    "duration": 1125,
    "start_time": "2023-11-21T07:14:30.880Z"
   },
   {
    "duration": 3,
    "start_time": "2023-11-21T07:14:32.008Z"
   },
   {
    "duration": 24,
    "start_time": "2023-11-21T07:14:32.012Z"
   },
   {
    "duration": 35,
    "start_time": "2023-11-21T07:14:32.037Z"
   },
   {
    "duration": 42,
    "start_time": "2023-11-21T07:14:32.073Z"
   },
   {
    "duration": 23,
    "start_time": "2023-11-21T07:14:32.117Z"
   },
   {
    "duration": 36,
    "start_time": "2023-11-21T07:14:32.141Z"
   },
   {
    "duration": 17,
    "start_time": "2023-11-21T07:14:32.179Z"
   },
   {
    "duration": 24,
    "start_time": "2023-11-21T07:14:32.197Z"
   },
   {
    "duration": 68,
    "start_time": "2023-11-21T07:14:32.222Z"
   },
   {
    "duration": 304,
    "start_time": "2023-11-21T07:14:32.386Z"
   },
   {
    "duration": 4,
    "start_time": "2023-11-21T07:14:32.782Z"
   },
   {
    "duration": 3336,
    "start_time": "2023-11-21T07:14:32.788Z"
   },
   {
    "duration": 3250,
    "start_time": "2023-11-21T07:14:36.125Z"
   },
   {
    "duration": 10,
    "start_time": "2023-11-21T07:14:39.376Z"
   },
   {
    "duration": 108230,
    "start_time": "2023-11-21T07:14:39.387Z"
   },
   {
    "duration": 110409,
    "start_time": "2023-11-21T07:16:27.618Z"
   },
   {
    "duration": 3,
    "start_time": "2023-11-21T07:18:18.029Z"
   },
   {
    "duration": 549,
    "start_time": "2023-11-21T07:18:18.033Z"
   },
   {
    "duration": 547,
    "start_time": "2023-11-21T07:18:18.584Z"
   },
   {
    "duration": 3,
    "start_time": "2023-11-21T07:18:19.132Z"
   },
   {
    "duration": 3123,
    "start_time": "2023-11-21T07:18:21.963Z"
   },
   {
    "duration": 2791,
    "start_time": "2023-11-21T07:19:35.487Z"
   },
   {
    "duration": 1618,
    "start_time": "2023-11-21T07:19:52.652Z"
   },
   {
    "duration": 965,
    "start_time": "2023-11-21T07:22:10.812Z"
   },
   {
    "duration": 1078,
    "start_time": "2023-11-21T07:22:24.908Z"
   },
   {
    "duration": 1051,
    "start_time": "2023-11-21T07:22:50.423Z"
   },
   {
    "duration": 1039,
    "start_time": "2023-11-21T07:24:08.751Z"
   },
   {
    "duration": 1147,
    "start_time": "2023-11-21T07:24:21.042Z"
   },
   {
    "duration": 1444,
    "start_time": "2023-11-21T07:25:21.558Z"
   },
   {
    "duration": 727,
    "start_time": "2023-11-21T07:25:23.004Z"
   },
   {
    "duration": 3,
    "start_time": "2023-11-21T07:25:23.732Z"
   },
   {
    "duration": 119,
    "start_time": "2023-11-21T07:25:23.738Z"
   },
   {
    "duration": 49,
    "start_time": "2023-11-21T07:25:23.858Z"
   },
   {
    "duration": 6,
    "start_time": "2023-11-21T07:25:23.908Z"
   },
   {
    "duration": 4,
    "start_time": "2023-11-21T07:25:23.915Z"
   },
   {
    "duration": 6,
    "start_time": "2023-11-21T07:25:23.920Z"
   },
   {
    "duration": 4,
    "start_time": "2023-11-21T07:25:23.927Z"
   },
   {
    "duration": 3,
    "start_time": "2023-11-21T07:25:23.933Z"
   },
   {
    "duration": 53,
    "start_time": "2023-11-21T07:25:23.938Z"
   },
   {
    "duration": 20,
    "start_time": "2023-11-21T07:25:23.992Z"
   },
   {
    "duration": 31,
    "start_time": "2023-11-21T07:25:24.013Z"
   },
   {
    "duration": 46,
    "start_time": "2023-11-21T07:25:24.045Z"
   },
   {
    "duration": 226,
    "start_time": "2023-11-21T07:25:24.092Z"
   },
   {
    "duration": 5,
    "start_time": "2023-11-21T07:25:24.319Z"
   },
   {
    "duration": 1050,
    "start_time": "2023-11-21T07:25:24.325Z"
   },
   {
    "duration": 151,
    "start_time": "2023-11-21T07:25:25.376Z"
   },
   {
    "duration": 154,
    "start_time": "2023-11-21T07:25:25.528Z"
   },
   {
    "duration": 151,
    "start_time": "2023-11-21T07:25:25.683Z"
   },
   {
    "duration": 204,
    "start_time": "2023-11-21T07:25:25.836Z"
   },
   {
    "duration": 769,
    "start_time": "2023-11-21T07:25:26.042Z"
   },
   {
    "duration": 11,
    "start_time": "2023-11-21T07:25:26.813Z"
   },
   {
    "duration": 697,
    "start_time": "2023-11-21T07:25:26.826Z"
   },
   {
    "duration": 11,
    "start_time": "2023-11-21T07:25:27.525Z"
   },
   {
    "duration": 35,
    "start_time": "2023-11-21T07:25:27.537Z"
   },
   {
    "duration": 1115,
    "start_time": "2023-11-21T07:25:27.574Z"
   },
   {
    "duration": 3,
    "start_time": "2023-11-21T07:25:28.693Z"
   },
   {
    "duration": 17,
    "start_time": "2023-11-21T07:25:28.698Z"
   },
   {
    "duration": 4,
    "start_time": "2023-11-21T07:25:28.716Z"
   },
   {
    "duration": 4,
    "start_time": "2023-11-21T07:25:28.722Z"
   },
   {
    "duration": 9,
    "start_time": "2023-11-21T07:25:28.728Z"
   },
   {
    "duration": 12,
    "start_time": "2023-11-21T07:25:28.738Z"
   },
   {
    "duration": 6,
    "start_time": "2023-11-21T07:25:28.751Z"
   },
   {
    "duration": 24,
    "start_time": "2023-11-21T07:25:28.758Z"
   },
   {
    "duration": 102,
    "start_time": "2023-11-21T07:25:28.783Z"
   },
   {
    "duration": 299,
    "start_time": "2023-11-21T07:25:28.887Z"
   },
   {
    "duration": 94,
    "start_time": "2023-11-21T07:25:29.189Z"
   },
   {
    "duration": 3315,
    "start_time": "2023-11-21T07:25:29.285Z"
   },
   {
    "duration": 3345,
    "start_time": "2023-11-21T07:25:32.601Z"
   },
   {
    "duration": 3,
    "start_time": "2023-11-21T07:25:35.948Z"
   },
   {
    "duration": 108362,
    "start_time": "2023-11-21T07:25:35.952Z"
   },
   {
    "duration": 110464,
    "start_time": "2023-11-21T07:27:24.316Z"
   },
   {
    "duration": 3,
    "start_time": "2023-11-21T07:29:14.782Z"
   },
   {
    "duration": 569,
    "start_time": "2023-11-21T07:29:14.787Z"
   },
   {
    "duration": 582,
    "start_time": "2023-11-21T07:29:15.357Z"
   },
   {
    "duration": 3,
    "start_time": "2023-11-21T07:29:15.940Z"
   },
   {
    "duration": 590,
    "start_time": "2023-11-21T07:29:17.660Z"
   },
   {
    "duration": 1065,
    "start_time": "2023-11-21T07:29:54.419Z"
   },
   {
    "duration": 1063,
    "start_time": "2023-11-21T07:32:06.574Z"
   },
   {
    "duration": 959,
    "start_time": "2023-11-21T07:39:54.356Z"
   },
   {
    "duration": 1056,
    "start_time": "2023-11-21T07:40:24.259Z"
   },
   {
    "duration": 1048,
    "start_time": "2023-11-21T07:40:56.329Z"
   },
   {
    "duration": 1035,
    "start_time": "2023-11-21T07:41:12.967Z"
   },
   {
    "duration": 1047,
    "start_time": "2023-11-21T07:41:52.461Z"
   },
   {
    "duration": 1023,
    "start_time": "2023-11-21T07:46:13.692Z"
   },
   {
    "duration": 1065,
    "start_time": "2023-11-21T07:46:21.913Z"
   },
   {
    "duration": 83,
    "start_time": "2023-11-21T07:48:28.045Z"
   },
   {
    "duration": 1049,
    "start_time": "2023-11-21T07:51:18.341Z"
   },
   {
    "duration": 1102,
    "start_time": "2023-11-21T07:52:00.390Z"
   },
   {
    "duration": 1014,
    "start_time": "2023-11-21T07:52:27.188Z"
   },
   {
    "duration": 1135,
    "start_time": "2023-11-21T07:52:38.948Z"
   },
   {
    "duration": 1049,
    "start_time": "2023-11-21T07:54:04.230Z"
   },
   {
    "duration": 1126,
    "start_time": "2023-11-21T08:07:45.546Z"
   },
   {
    "duration": 1024,
    "start_time": "2023-11-21T08:08:25.582Z"
   },
   {
    "duration": 1152,
    "start_time": "2023-11-21T08:09:17.497Z"
   },
   {
    "duration": 1303,
    "start_time": "2023-11-21T08:09:21.952Z"
   },
   {
    "duration": 1114,
    "start_time": "2023-11-21T08:10:43.027Z"
   },
   {
    "duration": 1333,
    "start_time": "2023-11-21T08:11:32.218Z"
   },
   {
    "duration": 661,
    "start_time": "2023-11-21T08:11:33.552Z"
   },
   {
    "duration": 2,
    "start_time": "2023-11-21T08:11:34.215Z"
   },
   {
    "duration": 113,
    "start_time": "2023-11-21T08:11:34.219Z"
   },
   {
    "duration": 53,
    "start_time": "2023-11-21T08:11:34.333Z"
   },
   {
    "duration": 6,
    "start_time": "2023-11-21T08:11:34.387Z"
   },
   {
    "duration": 25,
    "start_time": "2023-11-21T08:11:34.394Z"
   },
   {
    "duration": 38,
    "start_time": "2023-11-21T08:11:34.420Z"
   },
   {
    "duration": 23,
    "start_time": "2023-11-21T08:11:34.460Z"
   },
   {
    "duration": 35,
    "start_time": "2023-11-21T08:11:34.485Z"
   },
   {
    "duration": 30,
    "start_time": "2023-11-21T08:11:34.521Z"
   },
   {
    "duration": 28,
    "start_time": "2023-11-21T08:11:34.552Z"
   },
   {
    "duration": 30,
    "start_time": "2023-11-21T08:11:34.581Z"
   },
   {
    "duration": 18,
    "start_time": "2023-11-21T08:11:34.612Z"
   },
   {
    "duration": 237,
    "start_time": "2023-11-21T08:11:34.631Z"
   },
   {
    "duration": 5,
    "start_time": "2023-11-21T08:11:34.869Z"
   },
   {
    "duration": 1082,
    "start_time": "2023-11-21T08:11:34.882Z"
   },
   {
    "duration": 151,
    "start_time": "2023-11-21T08:11:35.965Z"
   },
   {
    "duration": 1048,
    "start_time": "2023-11-21T08:11:36.117Z"
   },
   {
    "duration": 150,
    "start_time": "2023-11-21T08:11:37.166Z"
   },
   {
    "duration": 1056,
    "start_time": "2023-11-21T08:11:37.317Z"
   },
   {
    "duration": 156,
    "start_time": "2023-11-21T08:11:38.375Z"
   },
   {
    "duration": 1126,
    "start_time": "2023-11-21T08:11:38.533Z"
   },
   {
    "duration": 1013,
    "start_time": "2023-11-21T08:11:39.660Z"
   },
   {
    "duration": 1179,
    "start_time": "2023-11-21T08:11:40.674Z"
   },
   {
    "duration": 194,
    "start_time": "2023-11-21T08:11:41.854Z"
   },
   {
    "duration": 792,
    "start_time": "2023-11-21T08:11:42.049Z"
   },
   {
    "duration": 9,
    "start_time": "2023-11-21T08:11:42.845Z"
   },
   {
    "duration": 729,
    "start_time": "2023-11-21T08:11:42.855Z"
   },
   {
    "duration": 10,
    "start_time": "2023-11-21T08:11:43.585Z"
   },
   {
    "duration": 14,
    "start_time": "2023-11-21T08:11:43.596Z"
   },
   {
    "duration": 1070,
    "start_time": "2023-11-21T08:11:43.612Z"
   },
   {
    "duration": 3,
    "start_time": "2023-11-21T08:11:44.683Z"
   },
   {
    "duration": 32,
    "start_time": "2023-11-21T08:11:44.687Z"
   },
   {
    "duration": 22,
    "start_time": "2023-11-21T08:11:44.720Z"
   },
   {
    "duration": 28,
    "start_time": "2023-11-21T08:11:44.744Z"
   },
   {
    "duration": 26,
    "start_time": "2023-11-21T08:11:44.773Z"
   },
   {
    "duration": 18,
    "start_time": "2023-11-21T08:11:44.800Z"
   },
   {
    "duration": 17,
    "start_time": "2023-11-21T08:11:44.819Z"
   },
   {
    "duration": 16,
    "start_time": "2023-11-21T08:11:44.837Z"
   },
   {
    "duration": 232,
    "start_time": "2023-11-21T08:11:44.854Z"
   },
   {
    "duration": 398,
    "start_time": "2023-11-21T08:11:45.088Z"
   },
   {
    "duration": 4,
    "start_time": "2023-11-21T08:11:45.488Z"
   },
   {
    "duration": 3355,
    "start_time": "2023-11-21T08:11:45.494Z"
   },
   {
    "duration": 3291,
    "start_time": "2023-11-21T08:11:48.851Z"
   },
   {
    "duration": 3,
    "start_time": "2023-11-21T08:11:52.144Z"
   },
   {
    "duration": 110561,
    "start_time": "2023-11-21T08:11:52.149Z"
   },
   {
    "duration": 112952,
    "start_time": "2023-11-21T08:13:42.712Z"
   },
   {
    "duration": 3,
    "start_time": "2023-11-21T08:15:35.665Z"
   },
   {
    "duration": 567,
    "start_time": "2023-11-21T08:15:35.669Z"
   },
   {
    "duration": 559,
    "start_time": "2023-11-21T08:15:36.237Z"
   },
   {
    "duration": 2,
    "start_time": "2023-11-21T08:15:36.798Z"
   },
   {
    "duration": 768,
    "start_time": "2023-11-21T08:49:51.654Z"
   },
   {
    "duration": 774,
    "start_time": "2023-11-21T08:50:01.202Z"
   },
   {
    "duration": 758,
    "start_time": "2023-11-21T08:50:12.224Z"
   },
   {
    "duration": 766,
    "start_time": "2023-11-21T08:50:51.633Z"
   },
   {
    "duration": 665,
    "start_time": "2023-11-21T08:50:58.750Z"
   },
   {
    "duration": 786,
    "start_time": "2023-11-21T08:51:13.779Z"
   },
   {
    "duration": 671,
    "start_time": "2023-11-21T08:51:28.547Z"
   },
   {
    "duration": 830,
    "start_time": "2023-11-21T09:00:12.968Z"
   },
   {
    "duration": 713,
    "start_time": "2023-11-21T09:01:06.221Z"
   },
   {
    "duration": 852,
    "start_time": "2023-11-21T09:01:18.282Z"
   },
   {
    "duration": 109,
    "start_time": "2023-11-21T09:02:16.455Z"
   },
   {
    "duration": 6,
    "start_time": "2023-11-21T09:09:58.963Z"
   },
   {
    "duration": 1401,
    "start_time": "2023-11-21T09:10:57.945Z"
   },
   {
    "duration": 181,
    "start_time": "2023-11-21T09:11:23.829Z"
   },
   {
    "duration": 1384,
    "start_time": "2023-11-21T09:11:50.044Z"
   },
   {
    "duration": 1490,
    "start_time": "2023-11-21T09:12:22.254Z"
   },
   {
    "duration": 1546,
    "start_time": "2023-11-21T09:13:01.709Z"
   },
   {
    "duration": 167,
    "start_time": "2023-11-21T09:13:20.447Z"
   },
   {
    "duration": 1514,
    "start_time": "2023-11-21T09:14:04.956Z"
   },
   {
    "duration": 183,
    "start_time": "2023-11-21T09:14:18.931Z"
   },
   {
    "duration": 1426,
    "start_time": "2023-11-21T09:17:17.473Z"
   },
   {
    "duration": 1593,
    "start_time": "2023-11-21T09:18:29.830Z"
   },
   {
    "duration": 1311,
    "start_time": "2023-11-21T09:18:59.218Z"
   },
   {
    "duration": 683,
    "start_time": "2023-11-21T09:19:00.530Z"
   },
   {
    "duration": 3,
    "start_time": "2023-11-21T09:19:01.214Z"
   },
   {
    "duration": 184,
    "start_time": "2023-11-21T09:19:01.219Z"
   },
   {
    "duration": 47,
    "start_time": "2023-11-21T09:19:01.404Z"
   },
   {
    "duration": 32,
    "start_time": "2023-11-21T09:19:01.452Z"
   },
   {
    "duration": 5,
    "start_time": "2023-11-21T09:19:01.486Z"
   },
   {
    "duration": 107,
    "start_time": "2023-11-21T09:19:01.492Z"
   },
   {
    "duration": 277,
    "start_time": "2023-11-21T09:19:01.600Z"
   },
   {
    "duration": 35,
    "start_time": "2023-11-21T09:19:01.880Z"
   },
   {
    "duration": 51,
    "start_time": "2023-11-21T09:19:01.916Z"
   },
   {
    "duration": 62,
    "start_time": "2023-11-21T09:19:01.969Z"
   },
   {
    "duration": 34,
    "start_time": "2023-11-21T09:19:02.032Z"
   },
   {
    "duration": 21,
    "start_time": "2023-11-21T09:19:02.068Z"
   },
   {
    "duration": 256,
    "start_time": "2023-11-21T09:19:02.090Z"
   },
   {
    "duration": 7,
    "start_time": "2023-11-21T09:19:02.349Z"
   },
   {
    "duration": 1559,
    "start_time": "2023-11-21T09:19:02.357Z"
   },
   {
    "duration": 193,
    "start_time": "2023-11-21T09:19:03.917Z"
   },
   {
    "duration": 1496,
    "start_time": "2023-11-21T09:19:04.111Z"
   },
   {
    "duration": 167,
    "start_time": "2023-11-21T09:19:05.608Z"
   },
   {
    "duration": 1372,
    "start_time": "2023-11-21T09:19:05.777Z"
   },
   {
    "duration": 176,
    "start_time": "2023-11-21T09:19:07.150Z"
   },
   {
    "duration": 1569,
    "start_time": "2023-11-21T09:19:07.327Z"
   },
   {
    "duration": 0,
    "start_time": "2023-11-21T09:19:08.898Z"
   },
   {
    "duration": 0,
    "start_time": "2023-11-21T09:19:08.900Z"
   },
   {
    "duration": 0,
    "start_time": "2023-11-21T09:19:08.900Z"
   },
   {
    "duration": 0,
    "start_time": "2023-11-21T09:19:08.902Z"
   },
   {
    "duration": 0,
    "start_time": "2023-11-21T09:19:08.903Z"
   },
   {
    "duration": 0,
    "start_time": "2023-11-21T09:19:08.904Z"
   },
   {
    "duration": 0,
    "start_time": "2023-11-21T09:19:08.905Z"
   },
   {
    "duration": 0,
    "start_time": "2023-11-21T09:19:08.906Z"
   },
   {
    "duration": 0,
    "start_time": "2023-11-21T09:19:08.907Z"
   },
   {
    "duration": 0,
    "start_time": "2023-11-21T09:19:08.908Z"
   },
   {
    "duration": 0,
    "start_time": "2023-11-21T09:19:08.909Z"
   },
   {
    "duration": 0,
    "start_time": "2023-11-21T09:19:08.910Z"
   },
   {
    "duration": 0,
    "start_time": "2023-11-21T09:19:08.911Z"
   },
   {
    "duration": 0,
    "start_time": "2023-11-21T09:19:08.912Z"
   },
   {
    "duration": 0,
    "start_time": "2023-11-21T09:19:08.913Z"
   },
   {
    "duration": 0,
    "start_time": "2023-11-21T09:19:09.036Z"
   },
   {
    "duration": 0,
    "start_time": "2023-11-21T09:19:09.037Z"
   },
   {
    "duration": 0,
    "start_time": "2023-11-21T09:19:09.038Z"
   },
   {
    "duration": 0,
    "start_time": "2023-11-21T09:19:09.039Z"
   },
   {
    "duration": 0,
    "start_time": "2023-11-21T09:19:09.040Z"
   },
   {
    "duration": 0,
    "start_time": "2023-11-21T09:19:09.041Z"
   },
   {
    "duration": 0,
    "start_time": "2023-11-21T09:19:09.042Z"
   },
   {
    "duration": 0,
    "start_time": "2023-11-21T09:19:09.043Z"
   },
   {
    "duration": 0,
    "start_time": "2023-11-21T09:19:09.044Z"
   },
   {
    "duration": 0,
    "start_time": "2023-11-21T09:19:09.044Z"
   },
   {
    "duration": 0,
    "start_time": "2023-11-21T09:19:09.045Z"
   },
   {
    "duration": 0,
    "start_time": "2023-11-21T09:19:09.047Z"
   },
   {
    "duration": 0,
    "start_time": "2023-11-21T09:19:09.048Z"
   },
   {
    "duration": 0,
    "start_time": "2023-11-21T09:19:09.048Z"
   },
   {
    "duration": 0,
    "start_time": "2023-11-21T09:19:09.049Z"
   },
   {
    "duration": 1041,
    "start_time": "2023-11-21T09:20:36.619Z"
   },
   {
    "duration": 1316,
    "start_time": "2023-11-21T09:21:02.218Z"
   },
   {
    "duration": 1390,
    "start_time": "2023-11-21T09:21:13.954Z"
   },
   {
    "duration": 682,
    "start_time": "2023-11-21T09:21:15.346Z"
   },
   {
    "duration": 3,
    "start_time": "2023-11-21T09:21:16.029Z"
   },
   {
    "duration": 116,
    "start_time": "2023-11-21T09:21:16.033Z"
   },
   {
    "duration": 55,
    "start_time": "2023-11-21T09:21:16.150Z"
   },
   {
    "duration": 6,
    "start_time": "2023-11-21T09:21:16.206Z"
   },
   {
    "duration": 13,
    "start_time": "2023-11-21T09:21:16.213Z"
   },
   {
    "duration": 6,
    "start_time": "2023-11-21T09:21:16.227Z"
   },
   {
    "duration": 6,
    "start_time": "2023-11-21T09:21:16.234Z"
   },
   {
    "duration": 12,
    "start_time": "2023-11-21T09:21:16.242Z"
   },
   {
    "duration": 29,
    "start_time": "2023-11-21T09:21:16.256Z"
   },
   {
    "duration": 23,
    "start_time": "2023-11-21T09:21:16.286Z"
   },
   {
    "duration": 32,
    "start_time": "2023-11-21T09:21:16.310Z"
   },
   {
    "duration": 47,
    "start_time": "2023-11-21T09:21:16.344Z"
   },
   {
    "duration": 241,
    "start_time": "2023-11-21T09:21:16.392Z"
   },
   {
    "duration": 5,
    "start_time": "2023-11-21T09:21:16.634Z"
   },
   {
    "duration": 1372,
    "start_time": "2023-11-21T09:21:16.640Z"
   },
   {
    "duration": 175,
    "start_time": "2023-11-21T09:21:18.014Z"
   },
   {
    "duration": 1345,
    "start_time": "2023-11-21T09:21:18.190Z"
   },
   {
    "duration": 170,
    "start_time": "2023-11-21T09:21:19.537Z"
   },
   {
    "duration": 1353,
    "start_time": "2023-11-21T09:21:19.709Z"
   },
   {
    "duration": 191,
    "start_time": "2023-11-21T09:21:21.064Z"
   },
   {
    "duration": 1269,
    "start_time": "2023-11-21T09:21:21.256Z"
   },
   {
    "duration": 1282,
    "start_time": "2023-11-21T09:21:22.527Z"
   },
   {
    "duration": 1156,
    "start_time": "2023-11-21T09:21:23.811Z"
   },
   {
    "duration": 1155,
    "start_time": "2023-11-21T09:21:24.968Z"
   },
   {
    "duration": 203,
    "start_time": "2023-11-21T09:21:26.124Z"
   },
   {
    "duration": 707,
    "start_time": "2023-11-21T09:21:26.330Z"
   },
   {
    "duration": 10,
    "start_time": "2023-11-21T09:21:27.038Z"
   },
   {
    "duration": 882,
    "start_time": "2023-11-21T09:21:27.049Z"
   },
   {
    "duration": 10,
    "start_time": "2023-11-21T09:21:27.932Z"
   },
   {
    "duration": 5,
    "start_time": "2023-11-21T09:21:27.944Z"
   },
   {
    "duration": 1083,
    "start_time": "2023-11-21T09:21:27.950Z"
   },
   {
    "duration": 3,
    "start_time": "2023-11-21T09:21:29.035Z"
   },
   {
    "duration": 13,
    "start_time": "2023-11-21T09:21:29.039Z"
   },
   {
    "duration": 3,
    "start_time": "2023-11-21T09:21:29.054Z"
   },
   {
    "duration": 24,
    "start_time": "2023-11-21T09:21:29.058Z"
   },
   {
    "duration": 3,
    "start_time": "2023-11-21T09:21:29.083Z"
   },
   {
    "duration": 8,
    "start_time": "2023-11-21T09:21:29.087Z"
   },
   {
    "duration": 12,
    "start_time": "2023-11-21T09:21:29.097Z"
   },
   {
    "duration": 7,
    "start_time": "2023-11-21T09:21:29.111Z"
   },
   {
    "duration": 167,
    "start_time": "2023-11-21T09:21:29.120Z"
   },
   {
    "duration": 293,
    "start_time": "2023-11-21T09:21:29.289Z"
   },
   {
    "duration": 99,
    "start_time": "2023-11-21T09:21:29.584Z"
   },
   {
    "duration": 3276,
    "start_time": "2023-11-21T09:21:29.684Z"
   },
   {
    "duration": 3411,
    "start_time": "2023-11-21T09:21:32.962Z"
   },
   {
    "duration": 7,
    "start_time": "2023-11-21T09:21:36.375Z"
   },
   {
    "duration": 110161,
    "start_time": "2023-11-21T09:21:36.384Z"
   },
   {
    "duration": 112530,
    "start_time": "2023-11-21T09:23:26.547Z"
   },
   {
    "duration": 5,
    "start_time": "2023-11-21T09:25:19.078Z"
   },
   {
    "duration": 552,
    "start_time": "2023-11-21T09:25:19.084Z"
   },
   {
    "duration": 574,
    "start_time": "2023-11-21T09:25:19.638Z"
   },
   {
    "duration": 3,
    "start_time": "2023-11-21T09:25:20.213Z"
   },
   {
    "duration": 3453,
    "start_time": "2023-11-21T09:26:13.581Z"
   },
   {
    "duration": 3366,
    "start_time": "2023-11-21T09:26:47.320Z"
   },
   {
    "duration": 3,
    "start_time": "2023-11-21T09:27:28.821Z"
   },
   {
    "duration": 1427,
    "start_time": "2023-11-21T09:40:16.219Z"
   },
   {
    "duration": 679,
    "start_time": "2023-11-21T09:40:17.648Z"
   },
   {
    "duration": 2,
    "start_time": "2023-11-21T09:40:18.329Z"
   },
   {
    "duration": 116,
    "start_time": "2023-11-21T09:40:18.333Z"
   },
   {
    "duration": 52,
    "start_time": "2023-11-21T09:40:18.450Z"
   },
   {
    "duration": 26,
    "start_time": "2023-11-21T09:40:18.503Z"
   },
   {
    "duration": 5,
    "start_time": "2023-11-21T09:40:18.531Z"
   },
   {
    "duration": 11,
    "start_time": "2023-11-21T09:40:18.537Z"
   },
   {
    "duration": 7,
    "start_time": "2023-11-21T09:40:18.550Z"
   },
   {
    "duration": 7,
    "start_time": "2023-11-21T09:40:18.560Z"
   },
   {
    "duration": 34,
    "start_time": "2023-11-21T09:40:18.569Z"
   },
   {
    "duration": 28,
    "start_time": "2023-11-21T09:40:18.605Z"
   },
   {
    "duration": 56,
    "start_time": "2023-11-21T09:40:18.635Z"
   },
   {
    "duration": 19,
    "start_time": "2023-11-21T09:40:18.692Z"
   },
   {
    "duration": 254,
    "start_time": "2023-11-21T09:40:18.712Z"
   },
   {
    "duration": 5,
    "start_time": "2023-11-21T09:40:18.968Z"
   },
   {
    "duration": 1441,
    "start_time": "2023-11-21T09:40:18.974Z"
   },
   {
    "duration": 197,
    "start_time": "2023-11-21T09:40:20.417Z"
   },
   {
    "duration": 1556,
    "start_time": "2023-11-21T09:40:20.616Z"
   },
   {
    "duration": 195,
    "start_time": "2023-11-21T09:40:22.174Z"
   },
   {
    "duration": 1636,
    "start_time": "2023-11-21T09:40:22.371Z"
   },
   {
    "duration": 191,
    "start_time": "2023-11-21T09:40:24.010Z"
   },
   {
    "duration": 1254,
    "start_time": "2023-11-21T09:40:24.203Z"
   },
   {
    "duration": 1193,
    "start_time": "2023-11-21T09:40:25.458Z"
   },
   {
    "duration": 1214,
    "start_time": "2023-11-21T09:40:26.653Z"
   },
   {
    "duration": 1213,
    "start_time": "2023-11-21T09:40:27.869Z"
   },
   {
    "duration": 211,
    "start_time": "2023-11-21T09:40:29.084Z"
   },
   {
    "duration": 766,
    "start_time": "2023-11-21T09:40:29.299Z"
   },
   {
    "duration": 19,
    "start_time": "2023-11-21T09:40:30.066Z"
   },
   {
    "duration": 1000,
    "start_time": "2023-11-21T09:40:30.087Z"
   },
   {
    "duration": 13,
    "start_time": "2023-11-21T09:40:31.089Z"
   },
   {
    "duration": 34,
    "start_time": "2023-11-21T09:40:31.104Z"
   },
   {
    "duration": 1312,
    "start_time": "2023-11-21T09:40:31.140Z"
   },
   {
    "duration": 5,
    "start_time": "2023-11-21T09:40:32.454Z"
   },
   {
    "duration": 27,
    "start_time": "2023-11-21T09:40:32.461Z"
   },
   {
    "duration": 4,
    "start_time": "2023-11-21T09:40:32.490Z"
   },
   {
    "duration": 5,
    "start_time": "2023-11-21T09:40:32.496Z"
   },
   {
    "duration": 9,
    "start_time": "2023-11-21T09:40:32.502Z"
   },
   {
    "duration": 10,
    "start_time": "2023-11-21T09:40:32.512Z"
   },
   {
    "duration": 33,
    "start_time": "2023-11-21T09:40:32.523Z"
   },
   {
    "duration": 11,
    "start_time": "2023-11-21T09:40:32.558Z"
   },
   {
    "duration": 214,
    "start_time": "2023-11-21T09:40:32.571Z"
   },
   {
    "duration": 498,
    "start_time": "2023-11-21T09:40:32.787Z"
   },
   {
    "duration": 4,
    "start_time": "2023-11-21T09:40:33.287Z"
   },
   {
    "duration": 3424,
    "start_time": "2023-11-21T09:40:33.293Z"
   },
   {
    "duration": 3368,
    "start_time": "2023-11-21T09:40:36.719Z"
   },
   {
    "duration": 4,
    "start_time": "2023-11-21T09:40:40.088Z"
   },
   {
    "duration": 1330,
    "start_time": "2023-11-21T09:46:11.301Z"
   },
   {
    "duration": 671,
    "start_time": "2023-11-21T09:46:12.633Z"
   },
   {
    "duration": 3,
    "start_time": "2023-11-21T09:46:13.305Z"
   },
   {
    "duration": 114,
    "start_time": "2023-11-21T09:46:13.310Z"
   },
   {
    "duration": 62,
    "start_time": "2023-11-21T09:46:13.425Z"
   },
   {
    "duration": 6,
    "start_time": "2023-11-21T09:46:13.489Z"
   },
   {
    "duration": 8,
    "start_time": "2023-11-21T09:46:13.497Z"
   },
   {
    "duration": 11,
    "start_time": "2023-11-21T09:46:13.507Z"
   },
   {
    "duration": 3,
    "start_time": "2023-11-21T09:46:13.520Z"
   },
   {
    "duration": 14,
    "start_time": "2023-11-21T09:46:13.525Z"
   },
   {
    "duration": 23,
    "start_time": "2023-11-21T09:46:13.541Z"
   },
   {
    "duration": 33,
    "start_time": "2023-11-21T09:46:13.565Z"
   },
   {
    "duration": 32,
    "start_time": "2023-11-21T09:46:13.600Z"
   },
   {
    "duration": 50,
    "start_time": "2023-11-21T09:46:13.634Z"
   },
   {
    "duration": 238,
    "start_time": "2023-11-21T09:46:13.685Z"
   },
   {
    "duration": 5,
    "start_time": "2023-11-21T09:46:13.924Z"
   },
   {
    "duration": 1459,
    "start_time": "2023-11-21T09:46:13.931Z"
   },
   {
    "duration": 166,
    "start_time": "2023-11-21T09:46:15.391Z"
   },
   {
    "duration": 1452,
    "start_time": "2023-11-21T09:46:15.559Z"
   },
   {
    "duration": 169,
    "start_time": "2023-11-21T09:46:17.013Z"
   },
   {
    "duration": 1342,
    "start_time": "2023-11-21T09:46:17.183Z"
   },
   {
    "duration": 181,
    "start_time": "2023-11-21T09:46:18.527Z"
   },
   {
    "duration": 1139,
    "start_time": "2023-11-21T09:46:18.710Z"
   },
   {
    "duration": 1116,
    "start_time": "2023-11-21T09:46:19.851Z"
   },
   {
    "duration": 1236,
    "start_time": "2023-11-21T09:46:20.969Z"
   },
   {
    "duration": 1293,
    "start_time": "2023-11-21T09:46:22.206Z"
   },
   {
    "duration": 228,
    "start_time": "2023-11-21T09:46:23.501Z"
   },
   {
    "duration": 743,
    "start_time": "2023-11-21T09:46:23.733Z"
   },
   {
    "duration": 11,
    "start_time": "2023-11-21T09:46:24.478Z"
   },
   {
    "duration": 880,
    "start_time": "2023-11-21T09:46:24.490Z"
   },
   {
    "duration": 21,
    "start_time": "2023-11-21T09:46:25.371Z"
   },
   {
    "duration": 6,
    "start_time": "2023-11-21T09:46:25.393Z"
   },
   {
    "duration": 1097,
    "start_time": "2023-11-21T09:46:25.401Z"
   },
   {
    "duration": 3,
    "start_time": "2023-11-21T09:46:26.500Z"
   },
   {
    "duration": 13,
    "start_time": "2023-11-21T09:46:26.504Z"
   },
   {
    "duration": 3,
    "start_time": "2023-11-21T09:46:26.519Z"
   },
   {
    "duration": 4,
    "start_time": "2023-11-21T09:46:26.523Z"
   },
   {
    "duration": 3,
    "start_time": "2023-11-21T09:46:26.529Z"
   },
   {
    "duration": 11,
    "start_time": "2023-11-21T09:46:26.533Z"
   },
   {
    "duration": 5,
    "start_time": "2023-11-21T09:46:26.545Z"
   },
   {
    "duration": 9,
    "start_time": "2023-11-21T09:46:26.581Z"
   },
   {
    "duration": 196,
    "start_time": "2023-11-21T09:46:26.591Z"
   },
   {
    "duration": 397,
    "start_time": "2023-11-21T09:46:26.789Z"
   },
   {
    "duration": 4,
    "start_time": "2023-11-21T09:46:27.188Z"
   },
   {
    "duration": 3296,
    "start_time": "2023-11-21T09:46:27.281Z"
   },
   {
    "duration": 3362,
    "start_time": "2023-11-21T09:46:30.579Z"
   },
   {
    "duration": 3,
    "start_time": "2023-11-21T09:46:33.943Z"
   },
   {
    "duration": 1305,
    "start_time": "2023-11-21T09:47:33.228Z"
   },
   {
    "duration": 709,
    "start_time": "2023-11-21T09:47:34.535Z"
   },
   {
    "duration": 3,
    "start_time": "2023-11-21T09:47:35.246Z"
   },
   {
    "duration": 122,
    "start_time": "2023-11-21T09:47:35.250Z"
   },
   {
    "duration": 47,
    "start_time": "2023-11-21T09:47:35.382Z"
   },
   {
    "duration": 5,
    "start_time": "2023-11-21T09:47:35.430Z"
   },
   {
    "duration": 13,
    "start_time": "2023-11-21T09:47:35.437Z"
   },
   {
    "duration": 21,
    "start_time": "2023-11-21T09:47:35.451Z"
   },
   {
    "duration": 12,
    "start_time": "2023-11-21T09:47:35.473Z"
   },
   {
    "duration": 5,
    "start_time": "2023-11-21T09:47:35.487Z"
   },
   {
    "duration": 25,
    "start_time": "2023-11-21T09:47:35.493Z"
   },
   {
    "duration": 22,
    "start_time": "2023-11-21T09:47:35.519Z"
   },
   {
    "duration": 55,
    "start_time": "2023-11-21T09:47:35.543Z"
   },
   {
    "duration": 18,
    "start_time": "2023-11-21T09:47:35.600Z"
   },
   {
    "duration": 252,
    "start_time": "2023-11-21T09:47:35.619Z"
   },
   {
    "duration": 12,
    "start_time": "2023-11-21T09:47:35.872Z"
   },
   {
    "duration": 1371,
    "start_time": "2023-11-21T09:47:35.885Z"
   },
   {
    "duration": 177,
    "start_time": "2023-11-21T09:47:37.258Z"
   },
   {
    "duration": 1394,
    "start_time": "2023-11-21T09:47:37.436Z"
   },
   {
    "duration": 175,
    "start_time": "2023-11-21T09:47:38.832Z"
   },
   {
    "duration": 1393,
    "start_time": "2023-11-21T09:47:39.009Z"
   },
   {
    "duration": 183,
    "start_time": "2023-11-21T09:47:40.404Z"
   },
   {
    "duration": 1223,
    "start_time": "2023-11-21T09:47:40.588Z"
   },
   {
    "duration": 1190,
    "start_time": "2023-11-21T09:47:41.812Z"
   },
   {
    "duration": 1163,
    "start_time": "2023-11-21T09:47:43.003Z"
   },
   {
    "duration": 1182,
    "start_time": "2023-11-21T09:47:44.167Z"
   },
   {
    "duration": 199,
    "start_time": "2023-11-21T09:47:45.350Z"
   },
   {
    "duration": 762,
    "start_time": "2023-11-21T09:47:45.552Z"
   },
   {
    "duration": 10,
    "start_time": "2023-11-21T09:47:46.315Z"
   },
   {
    "duration": 919,
    "start_time": "2023-11-21T09:47:46.327Z"
   },
   {
    "duration": 10,
    "start_time": "2023-11-21T09:47:47.247Z"
   },
   {
    "duration": 5,
    "start_time": "2023-11-21T09:47:47.259Z"
   },
   {
    "duration": 1122,
    "start_time": "2023-11-21T09:47:47.266Z"
   },
   {
    "duration": 3,
    "start_time": "2023-11-21T09:47:48.389Z"
   },
   {
    "duration": 14,
    "start_time": "2023-11-21T09:47:48.394Z"
   },
   {
    "duration": 4,
    "start_time": "2023-11-21T09:47:48.409Z"
   },
   {
    "duration": 3,
    "start_time": "2023-11-21T09:47:48.415Z"
   },
   {
    "duration": 7,
    "start_time": "2023-11-21T09:47:48.419Z"
   },
   {
    "duration": 7,
    "start_time": "2023-11-21T09:47:48.427Z"
   },
   {
    "duration": 4,
    "start_time": "2023-11-21T09:47:48.435Z"
   },
   {
    "duration": 43,
    "start_time": "2023-11-21T09:47:48.441Z"
   },
   {
    "duration": 203,
    "start_time": "2023-11-21T09:47:48.485Z"
   },
   {
    "duration": 396,
    "start_time": "2023-11-21T09:47:48.690Z"
   },
   {
    "duration": 4,
    "start_time": "2023-11-21T09:47:49.088Z"
   },
   {
    "duration": 3384,
    "start_time": "2023-11-21T09:47:49.094Z"
   },
   {
    "duration": 3344,
    "start_time": "2023-11-21T09:47:52.480Z"
   },
   {
    "duration": 3,
    "start_time": "2023-11-21T09:47:55.826Z"
   },
   {
    "duration": 109577,
    "start_time": "2023-11-21T09:47:55.831Z"
   },
   {
    "duration": 1318,
    "start_time": "2023-11-21T09:50:59.416Z"
   },
   {
    "duration": 724,
    "start_time": "2023-11-21T09:51:00.735Z"
   },
   {
    "duration": 3,
    "start_time": "2023-11-21T09:51:01.460Z"
   },
   {
    "duration": 191,
    "start_time": "2023-11-21T09:51:01.466Z"
   },
   {
    "duration": 54,
    "start_time": "2023-11-21T09:51:01.659Z"
   },
   {
    "duration": 7,
    "start_time": "2023-11-21T09:51:01.714Z"
   },
   {
    "duration": 12,
    "start_time": "2023-11-21T09:51:01.722Z"
   },
   {
    "duration": 12,
    "start_time": "2023-11-21T09:51:01.736Z"
   },
   {
    "duration": 17,
    "start_time": "2023-11-21T09:51:01.750Z"
   },
   {
    "duration": 21,
    "start_time": "2023-11-21T09:51:01.781Z"
   },
   {
    "duration": 42,
    "start_time": "2023-11-21T09:51:01.803Z"
   },
   {
    "duration": 26,
    "start_time": "2023-11-21T09:51:01.847Z"
   },
   {
    "duration": 55,
    "start_time": "2023-11-21T09:51:01.875Z"
   },
   {
    "duration": 20,
    "start_time": "2023-11-21T09:51:01.933Z"
   },
   {
    "duration": 262,
    "start_time": "2023-11-21T09:51:01.954Z"
   },
   {
    "duration": 7,
    "start_time": "2023-11-21T09:51:02.217Z"
   },
   {
    "duration": 1569,
    "start_time": "2023-11-21T09:51:02.225Z"
   },
   {
    "duration": 198,
    "start_time": "2023-11-21T09:51:03.796Z"
   },
   {
    "duration": 1519,
    "start_time": "2023-11-21T09:51:03.996Z"
   },
   {
    "duration": 167,
    "start_time": "2023-11-21T09:51:05.517Z"
   },
   {
    "duration": 1398,
    "start_time": "2023-11-21T09:51:05.686Z"
   },
   {
    "duration": 173,
    "start_time": "2023-11-21T09:51:07.086Z"
   },
   {
    "duration": 1168,
    "start_time": "2023-11-21T09:51:07.261Z"
   },
   {
    "duration": 1126,
    "start_time": "2023-11-21T09:51:08.431Z"
   },
   {
    "duration": 1145,
    "start_time": "2023-11-21T09:51:09.559Z"
   },
   {
    "duration": 1163,
    "start_time": "2023-11-21T09:51:10.705Z"
   },
   {
    "duration": 203,
    "start_time": "2023-11-21T09:51:11.870Z"
   },
   {
    "duration": 759,
    "start_time": "2023-11-21T09:51:12.076Z"
   },
   {
    "duration": 10,
    "start_time": "2023-11-21T09:51:12.836Z"
   },
   {
    "duration": 885,
    "start_time": "2023-11-21T09:51:12.848Z"
   },
   {
    "duration": 10,
    "start_time": "2023-11-21T09:51:13.735Z"
   },
   {
    "duration": 7,
    "start_time": "2023-11-21T09:51:13.747Z"
   },
   {
    "duration": 1110,
    "start_time": "2023-11-21T09:51:13.755Z"
   },
   {
    "duration": 4,
    "start_time": "2023-11-21T09:51:14.867Z"
   },
   {
    "duration": 35,
    "start_time": "2023-11-21T09:51:14.872Z"
   },
   {
    "duration": 21,
    "start_time": "2023-11-21T09:51:14.909Z"
   },
   {
    "duration": 25,
    "start_time": "2023-11-21T09:51:14.932Z"
   },
   {
    "duration": 9,
    "start_time": "2023-11-21T09:51:14.959Z"
   },
   {
    "duration": 24,
    "start_time": "2023-11-21T09:51:14.969Z"
   },
   {
    "duration": 5,
    "start_time": "2023-11-21T09:51:14.995Z"
   },
   {
    "duration": 98,
    "start_time": "2023-11-21T09:51:15.001Z"
   },
   {
    "duration": 184,
    "start_time": "2023-11-21T09:51:15.100Z"
   },
   {
    "duration": 203,
    "start_time": "2023-11-21T09:51:15.286Z"
   },
   {
    "duration": 96,
    "start_time": "2023-11-21T09:51:15.491Z"
   },
   {
    "duration": 3344,
    "start_time": "2023-11-21T09:51:15.590Z"
   },
   {
    "duration": 3398,
    "start_time": "2023-11-21T09:51:18.935Z"
   },
   {
    "duration": 4,
    "start_time": "2023-11-21T09:51:22.334Z"
   },
   {
    "duration": 1415,
    "start_time": "2023-11-21T09:52:20.796Z"
   },
   {
    "duration": 749,
    "start_time": "2023-11-21T09:52:22.213Z"
   },
   {
    "duration": 2,
    "start_time": "2023-11-21T09:52:22.964Z"
   },
   {
    "duration": 134,
    "start_time": "2023-11-21T09:52:22.968Z"
   },
   {
    "duration": 47,
    "start_time": "2023-11-21T09:52:23.104Z"
   },
   {
    "duration": 8,
    "start_time": "2023-11-21T09:52:23.181Z"
   },
   {
    "duration": 9,
    "start_time": "2023-11-21T09:52:23.190Z"
   },
   {
    "duration": 6,
    "start_time": "2023-11-21T09:52:23.201Z"
   },
   {
    "duration": 21,
    "start_time": "2023-11-21T09:52:23.209Z"
   },
   {
    "duration": 5,
    "start_time": "2023-11-21T09:52:23.232Z"
   },
   {
    "duration": 30,
    "start_time": "2023-11-21T09:52:23.238Z"
   },
   {
    "duration": 34,
    "start_time": "2023-11-21T09:52:23.269Z"
   },
   {
    "duration": 33,
    "start_time": "2023-11-21T09:52:23.305Z"
   },
   {
    "duration": 48,
    "start_time": "2023-11-21T09:52:23.339Z"
   },
   {
    "duration": 252,
    "start_time": "2023-11-21T09:52:23.388Z"
   },
   {
    "duration": 5,
    "start_time": "2023-11-21T09:52:23.642Z"
   },
   {
    "duration": 1426,
    "start_time": "2023-11-21T09:52:23.649Z"
   },
   {
    "duration": 172,
    "start_time": "2023-11-21T09:52:25.076Z"
   },
   {
    "duration": 1434,
    "start_time": "2023-11-21T09:52:25.250Z"
   },
   {
    "duration": 174,
    "start_time": "2023-11-21T09:52:26.685Z"
   },
   {
    "duration": 1392,
    "start_time": "2023-11-21T09:52:26.861Z"
   },
   {
    "duration": 176,
    "start_time": "2023-11-21T09:52:28.254Z"
   },
   {
    "duration": 1135,
    "start_time": "2023-11-21T09:52:28.431Z"
   },
   {
    "duration": 1141,
    "start_time": "2023-11-21T09:52:29.567Z"
   },
   {
    "duration": 1167,
    "start_time": "2023-11-21T09:52:30.710Z"
   },
   {
    "duration": 1181,
    "start_time": "2023-11-21T09:52:31.881Z"
   },
   {
    "duration": 241,
    "start_time": "2023-11-21T09:52:33.064Z"
   },
   {
    "duration": 712,
    "start_time": "2023-11-21T09:52:33.308Z"
   },
   {
    "duration": 10,
    "start_time": "2023-11-21T09:52:34.022Z"
   },
   {
    "duration": 875,
    "start_time": "2023-11-21T09:52:34.033Z"
   },
   {
    "duration": 10,
    "start_time": "2023-11-21T09:52:34.910Z"
   },
   {
    "duration": 33,
    "start_time": "2023-11-21T09:52:34.921Z"
   },
   {
    "duration": 1181,
    "start_time": "2023-11-21T09:52:34.955Z"
   },
   {
    "duration": 3,
    "start_time": "2023-11-21T09:52:36.138Z"
   },
   {
    "duration": 48,
    "start_time": "2023-11-21T09:52:36.142Z"
   },
   {
    "duration": 13,
    "start_time": "2023-11-21T09:52:36.191Z"
   },
   {
    "duration": 10,
    "start_time": "2023-11-21T09:52:36.205Z"
   },
   {
    "duration": 15,
    "start_time": "2023-11-21T09:52:36.216Z"
   },
   {
    "duration": 23,
    "start_time": "2023-11-21T09:52:36.233Z"
   },
   {
    "duration": 24,
    "start_time": "2023-11-21T09:52:36.257Z"
   },
   {
    "duration": 41,
    "start_time": "2023-11-21T09:52:36.282Z"
   },
   {
    "duration": 167,
    "start_time": "2023-11-21T09:52:36.324Z"
   },
   {
    "duration": 394,
    "start_time": "2023-11-21T09:52:36.493Z"
   },
   {
    "duration": 91,
    "start_time": "2023-11-21T09:52:36.892Z"
   },
   {
    "duration": 3251,
    "start_time": "2023-11-21T09:52:36.985Z"
   },
   {
    "duration": 3438,
    "start_time": "2023-11-21T09:52:40.238Z"
   },
   {
    "duration": 5,
    "start_time": "2023-11-21T09:52:43.678Z"
   },
   {
    "duration": 1337,
    "start_time": "2023-11-21T10:16:47.913Z"
   },
   {
    "duration": 674,
    "start_time": "2023-11-21T10:16:49.252Z"
   },
   {
    "duration": 3,
    "start_time": "2023-11-21T10:16:49.927Z"
   },
   {
    "duration": 118,
    "start_time": "2023-11-21T10:16:49.932Z"
   },
   {
    "duration": 62,
    "start_time": "2023-11-21T10:16:50.052Z"
   },
   {
    "duration": 6,
    "start_time": "2023-11-21T10:16:50.116Z"
   },
   {
    "duration": 5,
    "start_time": "2023-11-21T10:16:50.123Z"
   },
   {
    "duration": 5,
    "start_time": "2023-11-21T10:16:50.130Z"
   },
   {
    "duration": 5,
    "start_time": "2023-11-21T10:16:50.136Z"
   },
   {
    "duration": 40,
    "start_time": "2023-11-21T10:16:50.143Z"
   },
   {
    "duration": 32,
    "start_time": "2023-11-21T10:16:50.186Z"
   },
   {
    "duration": 27,
    "start_time": "2023-11-21T10:16:50.219Z"
   },
   {
    "duration": 64,
    "start_time": "2023-11-21T10:16:50.248Z"
   },
   {
    "duration": 21,
    "start_time": "2023-11-21T10:16:50.313Z"
   },
   {
    "duration": 263,
    "start_time": "2023-11-21T10:16:50.336Z"
   },
   {
    "duration": 6,
    "start_time": "2023-11-21T10:16:50.600Z"
   },
   {
    "duration": 1414,
    "start_time": "2023-11-21T10:16:50.607Z"
   },
   {
    "duration": 177,
    "start_time": "2023-11-21T10:16:52.022Z"
   },
   {
    "duration": 1466,
    "start_time": "2023-11-21T10:16:52.201Z"
   },
   {
    "duration": 181,
    "start_time": "2023-11-21T10:16:53.669Z"
   },
   {
    "duration": 1429,
    "start_time": "2023-11-21T10:16:53.851Z"
   },
   {
    "duration": 180,
    "start_time": "2023-11-21T10:16:55.281Z"
   },
   {
    "duration": 1211,
    "start_time": "2023-11-21T10:16:55.462Z"
   },
   {
    "duration": 1173,
    "start_time": "2023-11-21T10:16:56.674Z"
   },
   {
    "duration": 1155,
    "start_time": "2023-11-21T10:16:57.848Z"
   },
   {
    "duration": 1193,
    "start_time": "2023-11-21T10:16:59.005Z"
   },
   {
    "duration": 214,
    "start_time": "2023-11-21T10:17:00.200Z"
   },
   {
    "duration": 765,
    "start_time": "2023-11-21T10:17:00.417Z"
   },
   {
    "duration": 13,
    "start_time": "2023-11-21T10:17:01.183Z"
   },
   {
    "duration": 1087,
    "start_time": "2023-11-21T10:17:01.198Z"
   },
   {
    "duration": 13,
    "start_time": "2023-11-21T10:17:02.287Z"
   },
   {
    "duration": 40,
    "start_time": "2023-11-21T10:17:02.302Z"
   },
   {
    "duration": 1286,
    "start_time": "2023-11-21T10:17:02.345Z"
   },
   {
    "duration": 4,
    "start_time": "2023-11-21T10:17:03.633Z"
   },
   {
    "duration": 14,
    "start_time": "2023-11-21T10:17:03.639Z"
   },
   {
    "duration": 3,
    "start_time": "2023-11-21T10:17:03.655Z"
   },
   {
    "duration": 28,
    "start_time": "2023-11-21T10:17:03.660Z"
   },
   {
    "duration": 5,
    "start_time": "2023-11-21T10:17:03.690Z"
   },
   {
    "duration": 12,
    "start_time": "2023-11-21T10:17:03.696Z"
   },
   {
    "duration": 4,
    "start_time": "2023-11-21T10:17:03.710Z"
   },
   {
    "duration": 10,
    "start_time": "2023-11-21T10:17:03.716Z"
   },
   {
    "duration": 360,
    "start_time": "2023-11-21T10:17:03.728Z"
   },
   {
    "duration": 301,
    "start_time": "2023-11-21T10:17:04.090Z"
   },
   {
    "duration": 89,
    "start_time": "2023-11-21T10:17:04.394Z"
   },
   {
    "duration": 3473,
    "start_time": "2023-11-21T10:17:04.486Z"
   },
   {
    "duration": 3367,
    "start_time": "2023-11-21T10:17:07.961Z"
   },
   {
    "duration": 3,
    "start_time": "2023-11-21T10:17:11.330Z"
   },
   {
    "duration": 1314,
    "start_time": "2023-11-21T10:47:09.043Z"
   },
   {
    "duration": 674,
    "start_time": "2023-11-21T10:47:10.358Z"
   },
   {
    "duration": 3,
    "start_time": "2023-11-21T10:47:11.033Z"
   },
   {
    "duration": 111,
    "start_time": "2023-11-21T10:47:11.037Z"
   },
   {
    "duration": 54,
    "start_time": "2023-11-21T10:47:11.149Z"
   },
   {
    "duration": 5,
    "start_time": "2023-11-21T10:47:11.205Z"
   },
   {
    "duration": 6,
    "start_time": "2023-11-21T10:47:11.211Z"
   },
   {
    "duration": 10,
    "start_time": "2023-11-21T10:47:11.218Z"
   },
   {
    "duration": 4,
    "start_time": "2023-11-21T10:47:11.229Z"
   },
   {
    "duration": 8,
    "start_time": "2023-11-21T10:47:11.235Z"
   },
   {
    "duration": 41,
    "start_time": "2023-11-21T10:47:11.244Z"
   },
   {
    "duration": 24,
    "start_time": "2023-11-21T10:47:11.287Z"
   },
   {
    "duration": 34,
    "start_time": "2023-11-21T10:47:11.312Z"
   },
   {
    "duration": 48,
    "start_time": "2023-11-21T10:47:11.347Z"
   },
   {
    "duration": 252,
    "start_time": "2023-11-21T10:47:11.397Z"
   },
   {
    "duration": 6,
    "start_time": "2023-11-21T10:47:11.651Z"
   },
   {
    "duration": 1384,
    "start_time": "2023-11-21T10:47:11.658Z"
   },
   {
    "duration": 217,
    "start_time": "2023-11-21T10:47:13.044Z"
   },
   {
    "duration": 1382,
    "start_time": "2023-11-21T10:47:13.262Z"
   },
   {
    "duration": 171,
    "start_time": "2023-11-21T10:47:14.645Z"
   },
   {
    "duration": 1411,
    "start_time": "2023-11-21T10:47:14.817Z"
   },
   {
    "duration": 178,
    "start_time": "2023-11-21T10:47:16.230Z"
   },
   {
    "duration": 1167,
    "start_time": "2023-11-21T10:47:16.410Z"
   },
   {
    "duration": 1139,
    "start_time": "2023-11-21T10:47:17.581Z"
   },
   {
    "duration": 1146,
    "start_time": "2023-11-21T10:47:18.721Z"
   },
   {
    "duration": 1172,
    "start_time": "2023-11-21T10:47:19.868Z"
   },
   {
    "duration": 204,
    "start_time": "2023-11-21T10:47:21.042Z"
   },
   {
    "duration": 775,
    "start_time": "2023-11-21T10:47:21.249Z"
   },
   {
    "duration": 12,
    "start_time": "2023-11-21T10:47:22.025Z"
   },
   {
    "duration": 1001,
    "start_time": "2023-11-21T10:47:22.038Z"
   },
   {
    "duration": 10,
    "start_time": "2023-11-21T10:47:23.041Z"
   },
   {
    "duration": 15,
    "start_time": "2023-11-21T10:47:23.053Z"
   },
   {
    "duration": 1250,
    "start_time": "2023-11-21T10:47:23.070Z"
   },
   {
    "duration": 3,
    "start_time": "2023-11-21T10:47:24.322Z"
   },
   {
    "duration": 13,
    "start_time": "2023-11-21T10:47:24.327Z"
   },
   {
    "duration": 4,
    "start_time": "2023-11-21T10:47:24.341Z"
   },
   {
    "duration": 5,
    "start_time": "2023-11-21T10:47:24.346Z"
   },
   {
    "duration": 4,
    "start_time": "2023-11-21T10:47:24.352Z"
   },
   {
    "duration": 7,
    "start_time": "2023-11-21T10:47:24.381Z"
   },
   {
    "duration": 10,
    "start_time": "2023-11-21T10:47:24.389Z"
   },
   {
    "duration": 18,
    "start_time": "2023-11-21T10:47:24.400Z"
   },
   {
    "duration": 269,
    "start_time": "2023-11-21T10:47:24.419Z"
   },
   {
    "duration": 301,
    "start_time": "2023-11-21T10:47:24.690Z"
   },
   {
    "duration": 90,
    "start_time": "2023-11-21T10:47:24.994Z"
   },
   {
    "duration": 3333,
    "start_time": "2023-11-21T10:47:25.087Z"
   },
   {
    "duration": 3335,
    "start_time": "2023-11-21T10:47:28.421Z"
   },
   {
    "duration": 4,
    "start_time": "2023-11-21T10:47:31.757Z"
   },
   {
    "duration": 1385,
    "start_time": "2023-11-21T10:51:52.793Z"
   },
   {
    "duration": 685,
    "start_time": "2023-11-21T10:51:54.180Z"
   },
   {
    "duration": 3,
    "start_time": "2023-11-21T10:51:54.866Z"
   },
   {
    "duration": 123,
    "start_time": "2023-11-21T10:51:54.871Z"
   },
   {
    "duration": 43,
    "start_time": "2023-11-21T10:51:54.996Z"
   },
   {
    "duration": 7,
    "start_time": "2023-11-21T10:51:55.041Z"
   },
   {
    "duration": 33,
    "start_time": "2023-11-21T10:51:55.050Z"
   },
   {
    "duration": 15,
    "start_time": "2023-11-21T10:51:55.084Z"
   },
   {
    "duration": 24,
    "start_time": "2023-11-21T10:51:55.100Z"
   },
   {
    "duration": 27,
    "start_time": "2023-11-21T10:51:55.126Z"
   },
   {
    "duration": 35,
    "start_time": "2023-11-21T10:51:55.154Z"
   },
   {
    "duration": 38,
    "start_time": "2023-11-21T10:51:55.191Z"
   },
   {
    "duration": 41,
    "start_time": "2023-11-21T10:51:55.231Z"
   },
   {
    "duration": 24,
    "start_time": "2023-11-21T10:51:55.273Z"
   },
   {
    "duration": 237,
    "start_time": "2023-11-21T10:51:55.298Z"
   },
   {
    "duration": 5,
    "start_time": "2023-11-21T10:51:55.537Z"
   },
   {
    "duration": 1423,
    "start_time": "2023-11-21T10:51:55.543Z"
   },
   {
    "duration": 171,
    "start_time": "2023-11-21T10:51:56.967Z"
   },
   {
    "duration": 1384,
    "start_time": "2023-11-21T10:51:57.140Z"
   },
   {
    "duration": 180,
    "start_time": "2023-11-21T10:51:58.526Z"
   },
   {
    "duration": 1415,
    "start_time": "2023-11-21T10:51:58.708Z"
   },
   {
    "duration": 181,
    "start_time": "2023-11-21T10:52:00.124Z"
   },
   {
    "duration": 1255,
    "start_time": "2023-11-21T10:52:00.306Z"
   },
   {
    "duration": 1328,
    "start_time": "2023-11-21T10:52:01.563Z"
   },
   {
    "duration": 1298,
    "start_time": "2023-11-21T10:52:02.893Z"
   },
   {
    "duration": 1308,
    "start_time": "2023-11-21T10:52:04.193Z"
   },
   {
    "duration": 211,
    "start_time": "2023-11-21T10:52:05.503Z"
   },
   {
    "duration": 731,
    "start_time": "2023-11-21T10:52:05.717Z"
   },
   {
    "duration": 10,
    "start_time": "2023-11-21T10:52:06.450Z"
   },
   {
    "duration": 883,
    "start_time": "2023-11-21T10:52:06.462Z"
   },
   {
    "duration": 11,
    "start_time": "2023-11-21T10:52:07.347Z"
   },
   {
    "duration": 114,
    "start_time": "2023-11-21T10:52:07.359Z"
   },
   {
    "duration": 1169,
    "start_time": "2023-11-21T10:52:07.475Z"
   },
   {
    "duration": 4,
    "start_time": "2023-11-21T10:52:08.646Z"
   },
   {
    "duration": 25,
    "start_time": "2023-11-21T10:52:08.651Z"
   },
   {
    "duration": 6,
    "start_time": "2023-11-21T10:52:08.677Z"
   },
   {
    "duration": 3,
    "start_time": "2023-11-21T10:52:08.685Z"
   },
   {
    "duration": 4,
    "start_time": "2023-11-21T10:52:08.689Z"
   },
   {
    "duration": 9,
    "start_time": "2023-11-21T10:52:08.694Z"
   },
   {
    "duration": 6,
    "start_time": "2023-11-21T10:52:08.704Z"
   },
   {
    "duration": 11,
    "start_time": "2023-11-21T10:52:08.711Z"
   },
   {
    "duration": 261,
    "start_time": "2023-11-21T10:52:08.724Z"
   },
   {
    "duration": 395,
    "start_time": "2023-11-21T10:52:08.987Z"
   },
   {
    "duration": 4,
    "start_time": "2023-11-21T10:52:09.385Z"
   },
   {
    "duration": 3347,
    "start_time": "2023-11-21T10:52:09.391Z"
   },
   {
    "duration": 3525,
    "start_time": "2023-11-21T10:52:12.740Z"
   },
   {
    "duration": 3,
    "start_time": "2023-11-21T10:52:16.267Z"
   },
   {
    "duration": 1347,
    "start_time": "2023-11-21T10:56:33.670Z"
   },
   {
    "duration": 713,
    "start_time": "2023-11-21T10:56:35.018Z"
   },
   {
    "duration": 3,
    "start_time": "2023-11-21T10:56:35.732Z"
   },
   {
    "duration": 131,
    "start_time": "2023-11-21T10:56:35.737Z"
   },
   {
    "duration": 40,
    "start_time": "2023-11-21T10:56:35.881Z"
   },
   {
    "duration": 5,
    "start_time": "2023-11-21T10:56:35.923Z"
   },
   {
    "duration": 12,
    "start_time": "2023-11-21T10:56:35.929Z"
   },
   {
    "duration": 11,
    "start_time": "2023-11-21T10:56:35.943Z"
   },
   {
    "duration": 16,
    "start_time": "2023-11-21T10:56:35.955Z"
   },
   {
    "duration": 16,
    "start_time": "2023-11-21T10:56:35.974Z"
   },
   {
    "duration": 41,
    "start_time": "2023-11-21T10:56:35.991Z"
   },
   {
    "duration": 24,
    "start_time": "2023-11-21T10:56:36.034Z"
   },
   {
    "duration": 44,
    "start_time": "2023-11-21T10:56:36.060Z"
   },
   {
    "duration": 19,
    "start_time": "2023-11-21T10:56:36.105Z"
   },
   {
    "duration": 250,
    "start_time": "2023-11-21T10:56:36.125Z"
   },
   {
    "duration": 7,
    "start_time": "2023-11-21T10:56:36.381Z"
   },
   {
    "duration": 1367,
    "start_time": "2023-11-21T10:56:36.390Z"
   },
   {
    "duration": 186,
    "start_time": "2023-11-21T10:56:37.759Z"
   },
   {
    "duration": 1340,
    "start_time": "2023-11-21T10:56:37.946Z"
   },
   {
    "duration": 172,
    "start_time": "2023-11-21T10:56:39.288Z"
   },
   {
    "duration": 1352,
    "start_time": "2023-11-21T10:56:39.462Z"
   },
   {
    "duration": 178,
    "start_time": "2023-11-21T10:56:40.816Z"
   },
   {
    "duration": 1217,
    "start_time": "2023-11-21T10:56:40.996Z"
   },
   {
    "duration": 1173,
    "start_time": "2023-11-21T10:56:42.214Z"
   },
   {
    "duration": 1142,
    "start_time": "2023-11-21T10:56:43.389Z"
   },
   {
    "duration": 1151,
    "start_time": "2023-11-21T10:56:44.532Z"
   },
   {
    "duration": 212,
    "start_time": "2023-11-21T10:56:45.684Z"
   },
   {
    "duration": 704,
    "start_time": "2023-11-21T10:56:45.899Z"
   },
   {
    "duration": 9,
    "start_time": "2023-11-21T10:56:46.605Z"
   },
   {
    "duration": 872,
    "start_time": "2023-11-21T10:56:46.615Z"
   },
   {
    "duration": 10,
    "start_time": "2023-11-21T10:56:47.488Z"
   },
   {
    "duration": 14,
    "start_time": "2023-11-21T10:56:47.499Z"
   },
   {
    "duration": 1105,
    "start_time": "2023-11-21T10:56:47.515Z"
   },
   {
    "duration": 3,
    "start_time": "2023-11-21T10:56:48.622Z"
   },
   {
    "duration": 13,
    "start_time": "2023-11-21T10:56:48.626Z"
   },
   {
    "duration": 3,
    "start_time": "2023-11-21T10:56:48.640Z"
   },
   {
    "duration": 4,
    "start_time": "2023-11-21T10:56:48.645Z"
   },
   {
    "duration": 9,
    "start_time": "2023-11-21T10:56:48.650Z"
   },
   {
    "duration": 22,
    "start_time": "2023-11-21T10:56:48.660Z"
   },
   {
    "duration": 6,
    "start_time": "2023-11-21T10:56:48.684Z"
   },
   {
    "duration": 12,
    "start_time": "2023-11-21T10:56:48.692Z"
   },
   {
    "duration": 282,
    "start_time": "2023-11-21T10:56:48.705Z"
   },
   {
    "duration": 396,
    "start_time": "2023-11-21T10:56:48.990Z"
   },
   {
    "duration": 4,
    "start_time": "2023-11-21T10:56:49.388Z"
   },
   {
    "duration": 3360,
    "start_time": "2023-11-21T10:56:49.394Z"
   },
   {
    "duration": 3341,
    "start_time": "2023-11-21T10:56:52.755Z"
   },
   {
    "duration": 3,
    "start_time": "2023-11-21T10:56:56.098Z"
   },
   {
    "duration": 1395,
    "start_time": "2023-11-21T11:06:19.052Z"
   },
   {
    "duration": 677,
    "start_time": "2023-11-21T11:06:20.449Z"
   },
   {
    "duration": 3,
    "start_time": "2023-11-21T11:06:21.127Z"
   },
   {
    "duration": 116,
    "start_time": "2023-11-21T11:06:21.132Z"
   },
   {
    "duration": 53,
    "start_time": "2023-11-21T11:06:21.249Z"
   },
   {
    "duration": 5,
    "start_time": "2023-11-21T11:06:21.304Z"
   },
   {
    "duration": 5,
    "start_time": "2023-11-21T11:06:21.310Z"
   },
   {
    "duration": 5,
    "start_time": "2023-11-21T11:06:21.316Z"
   },
   {
    "duration": 3,
    "start_time": "2023-11-21T11:06:21.322Z"
   },
   {
    "duration": 7,
    "start_time": "2023-11-21T11:06:21.327Z"
   },
   {
    "duration": 59,
    "start_time": "2023-11-21T11:06:21.335Z"
   },
   {
    "duration": 22,
    "start_time": "2023-11-21T11:06:21.395Z"
   },
   {
    "duration": 33,
    "start_time": "2023-11-21T11:06:21.418Z"
   },
   {
    "duration": 46,
    "start_time": "2023-11-21T11:06:21.453Z"
   },
   {
    "duration": 269,
    "start_time": "2023-11-21T11:06:21.500Z"
   },
   {
    "duration": 12,
    "start_time": "2023-11-21T11:06:21.770Z"
   },
   {
    "duration": 1555,
    "start_time": "2023-11-21T11:06:21.784Z"
   },
   {
    "duration": 194,
    "start_time": "2023-11-21T11:06:23.341Z"
   },
   {
    "duration": 1418,
    "start_time": "2023-11-21T11:06:23.537Z"
   },
   {
    "duration": 170,
    "start_time": "2023-11-21T11:06:24.956Z"
   },
   {
    "duration": 1379,
    "start_time": "2023-11-21T11:06:25.127Z"
   },
   {
    "duration": 177,
    "start_time": "2023-11-21T11:06:26.508Z"
   },
   {
    "duration": 1149,
    "start_time": "2023-11-21T11:06:26.686Z"
   },
   {
    "duration": 1128,
    "start_time": "2023-11-21T11:06:27.837Z"
   },
   {
    "duration": 1164,
    "start_time": "2023-11-21T11:06:28.966Z"
   },
   {
    "duration": 1296,
    "start_time": "2023-11-21T11:06:30.131Z"
   },
   {
    "duration": 209,
    "start_time": "2023-11-21T11:06:31.429Z"
   },
   {
    "duration": 747,
    "start_time": "2023-11-21T11:06:31.642Z"
   },
   {
    "duration": 11,
    "start_time": "2023-11-21T11:06:32.390Z"
   },
   {
    "duration": 953,
    "start_time": "2023-11-21T11:06:32.402Z"
   },
   {
    "duration": 10,
    "start_time": "2023-11-21T11:06:33.362Z"
   },
   {
    "duration": 10,
    "start_time": "2023-11-21T11:06:33.381Z"
   },
   {
    "duration": 1137,
    "start_time": "2023-11-21T11:06:33.394Z"
   },
   {
    "duration": 4,
    "start_time": "2023-11-21T11:06:34.532Z"
   },
   {
    "duration": 24,
    "start_time": "2023-11-21T11:06:34.537Z"
   },
   {
    "duration": 4,
    "start_time": "2023-11-21T11:06:34.562Z"
   },
   {
    "duration": 4,
    "start_time": "2023-11-21T11:06:34.567Z"
   },
   {
    "duration": 3,
    "start_time": "2023-11-21T11:06:34.583Z"
   },
   {
    "duration": 8,
    "start_time": "2023-11-21T11:06:34.587Z"
   },
   {
    "duration": 5,
    "start_time": "2023-11-21T11:06:34.596Z"
   },
   {
    "duration": 8,
    "start_time": "2023-11-21T11:06:34.603Z"
   },
   {
    "duration": 269,
    "start_time": "2023-11-21T11:06:34.613Z"
   },
   {
    "duration": 206,
    "start_time": "2023-11-21T11:06:34.884Z"
   },
   {
    "duration": 92,
    "start_time": "2023-11-21T11:06:35.092Z"
   },
   {
    "duration": 3335,
    "start_time": "2023-11-21T11:06:35.185Z"
   },
   {
    "duration": 3363,
    "start_time": "2023-11-21T11:06:38.522Z"
   },
   {
    "duration": 3,
    "start_time": "2023-11-21T11:06:41.887Z"
   },
   {
    "duration": 105205,
    "start_time": "2023-11-21T11:06:41.891Z"
   },
   {
    "duration": 106129,
    "start_time": "2023-11-21T11:08:27.098Z"
   },
   {
    "duration": 3,
    "start_time": "2023-11-21T11:10:13.229Z"
   },
   {
    "duration": 551,
    "start_time": "2023-11-21T11:10:13.233Z"
   },
   {
    "duration": 574,
    "start_time": "2023-11-21T11:10:13.785Z"
   },
   {
    "duration": 3,
    "start_time": "2023-11-21T11:10:14.361Z"
   },
   {
    "duration": 17,
    "start_time": "2023-11-21T11:10:14.366Z"
   },
   {
    "duration": 6,
    "start_time": "2023-11-21T11:10:14.384Z"
   },
   {
    "duration": 3,
    "start_time": "2023-11-21T11:10:14.392Z"
   },
   {
    "duration": 1377,
    "start_time": "2023-11-21T11:12:50.164Z"
   },
   {
    "duration": 675,
    "start_time": "2023-11-21T11:12:51.542Z"
   },
   {
    "duration": 3,
    "start_time": "2023-11-21T11:12:52.218Z"
   },
   {
    "duration": 122,
    "start_time": "2023-11-21T11:12:52.223Z"
   },
   {
    "duration": 62,
    "start_time": "2023-11-21T11:12:52.346Z"
   },
   {
    "duration": 6,
    "start_time": "2023-11-21T11:12:52.409Z"
   },
   {
    "duration": 5,
    "start_time": "2023-11-21T11:12:52.416Z"
   },
   {
    "duration": 5,
    "start_time": "2023-11-21T11:12:52.422Z"
   },
   {
    "duration": 5,
    "start_time": "2023-11-21T11:12:52.429Z"
   },
   {
    "duration": 48,
    "start_time": "2023-11-21T11:12:52.436Z"
   },
   {
    "duration": 21,
    "start_time": "2023-11-21T11:12:52.485Z"
   },
   {
    "duration": 25,
    "start_time": "2023-11-21T11:12:52.507Z"
   },
   {
    "duration": 76,
    "start_time": "2023-11-21T11:12:52.533Z"
   },
   {
    "duration": 18,
    "start_time": "2023-11-21T11:12:52.610Z"
   },
   {
    "duration": 258,
    "start_time": "2023-11-21T11:12:52.630Z"
   },
   {
    "duration": 6,
    "start_time": "2023-11-21T11:12:52.889Z"
   },
   {
    "duration": 1425,
    "start_time": "2023-11-21T11:12:52.897Z"
   },
   {
    "duration": 182,
    "start_time": "2023-11-21T11:12:54.324Z"
   },
   {
    "duration": 1407,
    "start_time": "2023-11-21T11:12:54.508Z"
   },
   {
    "duration": 181,
    "start_time": "2023-11-21T11:12:55.917Z"
   },
   {
    "duration": 1384,
    "start_time": "2023-11-21T11:12:56.100Z"
   },
   {
    "duration": 188,
    "start_time": "2023-11-21T11:12:57.486Z"
   },
   {
    "duration": 1180,
    "start_time": "2023-11-21T11:12:57.681Z"
   },
   {
    "duration": 1170,
    "start_time": "2023-11-21T11:12:58.863Z"
   },
   {
    "duration": 1162,
    "start_time": "2023-11-21T11:13:00.034Z"
   },
   {
    "duration": 1317,
    "start_time": "2023-11-21T11:13:01.197Z"
   },
   {
    "duration": 231,
    "start_time": "2023-11-21T11:13:02.515Z"
   },
   {
    "duration": 813,
    "start_time": "2023-11-21T11:13:02.750Z"
   },
   {
    "duration": 22,
    "start_time": "2023-11-21T11:13:03.565Z"
   },
   {
    "duration": 999,
    "start_time": "2023-11-21T11:13:03.588Z"
   },
   {
    "duration": 12,
    "start_time": "2023-11-21T11:13:04.589Z"
   },
   {
    "duration": 7,
    "start_time": "2023-11-21T11:13:04.602Z"
   },
   {
    "duration": 1203,
    "start_time": "2023-11-21T11:13:04.610Z"
   },
   {
    "duration": 3,
    "start_time": "2023-11-21T11:13:05.815Z"
   },
   {
    "duration": 14,
    "start_time": "2023-11-21T11:13:05.819Z"
   },
   {
    "duration": 3,
    "start_time": "2023-11-21T11:13:05.835Z"
   },
   {
    "duration": 12,
    "start_time": "2023-11-21T11:13:05.840Z"
   },
   {
    "duration": 8,
    "start_time": "2023-11-21T11:13:05.853Z"
   },
   {
    "duration": 26,
    "start_time": "2023-11-21T11:13:05.862Z"
   },
   {
    "duration": 15,
    "start_time": "2023-11-21T11:13:05.889Z"
   },
   {
    "duration": 16,
    "start_time": "2023-11-21T11:13:05.906Z"
   },
   {
    "duration": 260,
    "start_time": "2023-11-21T11:13:05.924Z"
   },
   {
    "duration": 397,
    "start_time": "2023-11-21T11:13:06.186Z"
   },
   {
    "duration": 4,
    "start_time": "2023-11-21T11:13:06.586Z"
   },
   {
    "duration": 3403,
    "start_time": "2023-11-21T11:13:06.591Z"
   },
   {
    "duration": 3361,
    "start_time": "2023-11-21T11:13:09.995Z"
   },
   {
    "duration": 4,
    "start_time": "2023-11-21T11:13:13.358Z"
   },
   {
    "duration": 109234,
    "start_time": "2023-11-21T11:13:13.364Z"
   },
   {
    "duration": 1587,
    "start_time": "2023-11-21T11:15:59.947Z"
   },
   {
    "duration": 794,
    "start_time": "2023-11-21T11:16:01.536Z"
   },
   {
    "duration": 3,
    "start_time": "2023-11-21T11:16:02.332Z"
   },
   {
    "duration": 167,
    "start_time": "2023-11-21T11:16:02.337Z"
   },
   {
    "duration": 76,
    "start_time": "2023-11-21T11:16:02.506Z"
   },
   {
    "duration": 9,
    "start_time": "2023-11-21T11:16:02.585Z"
   },
   {
    "duration": 14,
    "start_time": "2023-11-21T11:16:02.596Z"
   },
   {
    "duration": 9,
    "start_time": "2023-11-21T11:16:02.612Z"
   },
   {
    "duration": 13,
    "start_time": "2023-11-21T11:16:02.623Z"
   },
   {
    "duration": 5,
    "start_time": "2023-11-21T11:16:02.639Z"
   },
   {
    "duration": 67,
    "start_time": "2023-11-21T11:16:02.645Z"
   },
   {
    "duration": 33,
    "start_time": "2023-11-21T11:16:02.714Z"
   },
   {
    "duration": 66,
    "start_time": "2023-11-21T11:16:02.749Z"
   },
   {
    "duration": 20,
    "start_time": "2023-11-21T11:16:02.817Z"
   },
   {
    "duration": 329,
    "start_time": "2023-11-21T11:16:02.839Z"
   },
   {
    "duration": 6,
    "start_time": "2023-11-21T11:16:03.170Z"
   },
   {
    "duration": 1602,
    "start_time": "2023-11-21T11:16:03.182Z"
   },
   {
    "duration": 153,
    "start_time": "2023-11-21T11:16:04.785Z"
   },
   {
    "duration": 0,
    "start_time": "2023-11-21T11:16:04.940Z"
   },
   {
    "duration": 0,
    "start_time": "2023-11-21T11:16:04.942Z"
   },
   {
    "duration": 0,
    "start_time": "2023-11-21T11:16:04.943Z"
   },
   {
    "duration": 0,
    "start_time": "2023-11-21T11:16:04.944Z"
   },
   {
    "duration": 1,
    "start_time": "2023-11-21T11:16:04.945Z"
   },
   {
    "duration": 0,
    "start_time": "2023-11-21T11:16:04.947Z"
   },
   {
    "duration": 0,
    "start_time": "2023-11-21T11:16:04.948Z"
   },
   {
    "duration": 0,
    "start_time": "2023-11-21T11:16:04.949Z"
   },
   {
    "duration": 0,
    "start_time": "2023-11-21T11:16:04.950Z"
   },
   {
    "duration": 0,
    "start_time": "2023-11-21T11:16:04.951Z"
   },
   {
    "duration": 0,
    "start_time": "2023-11-21T11:16:04.952Z"
   },
   {
    "duration": 0,
    "start_time": "2023-11-21T11:16:04.953Z"
   },
   {
    "duration": 0,
    "start_time": "2023-11-21T11:16:04.954Z"
   },
   {
    "duration": 0,
    "start_time": "2023-11-21T11:16:04.983Z"
   },
   {
    "duration": 0,
    "start_time": "2023-11-21T11:16:04.984Z"
   },
   {
    "duration": 0,
    "start_time": "2023-11-21T11:16:04.985Z"
   },
   {
    "duration": 0,
    "start_time": "2023-11-21T11:16:04.986Z"
   },
   {
    "duration": 0,
    "start_time": "2023-11-21T11:16:04.987Z"
   },
   {
    "duration": 1,
    "start_time": "2023-11-21T11:16:04.988Z"
   },
   {
    "duration": 0,
    "start_time": "2023-11-21T11:16:04.990Z"
   },
   {
    "duration": 0,
    "start_time": "2023-11-21T11:16:04.991Z"
   },
   {
    "duration": 0,
    "start_time": "2023-11-21T11:16:04.992Z"
   },
   {
    "duration": 0,
    "start_time": "2023-11-21T11:16:04.993Z"
   },
   {
    "duration": 0,
    "start_time": "2023-11-21T11:16:04.994Z"
   },
   {
    "duration": 0,
    "start_time": "2023-11-21T11:16:04.995Z"
   },
   {
    "duration": 0,
    "start_time": "2023-11-21T11:16:04.997Z"
   },
   {
    "duration": 0,
    "start_time": "2023-11-21T11:16:04.998Z"
   },
   {
    "duration": 0,
    "start_time": "2023-11-21T11:16:04.999Z"
   },
   {
    "duration": 0,
    "start_time": "2023-11-21T11:16:05.000Z"
   },
   {
    "duration": 0,
    "start_time": "2023-11-21T11:16:05.001Z"
   },
   {
    "duration": 0,
    "start_time": "2023-11-21T11:16:05.002Z"
   },
   {
    "duration": 0,
    "start_time": "2023-11-21T11:16:05.003Z"
   },
   {
    "duration": 0,
    "start_time": "2023-11-21T11:16:05.004Z"
   },
   {
    "duration": 1,
    "start_time": "2023-11-21T11:16:05.004Z"
   },
   {
    "duration": 0,
    "start_time": "2023-11-21T11:16:05.005Z"
   },
   {
    "duration": 0,
    "start_time": "2023-11-21T11:16:05.007Z"
   },
   {
    "duration": 0,
    "start_time": "2023-11-21T11:16:05.008Z"
   },
   {
    "duration": 0,
    "start_time": "2023-11-21T11:16:05.009Z"
   },
   {
    "duration": 1349,
    "start_time": "2023-11-21T11:17:08.154Z"
   },
   {
    "duration": 688,
    "start_time": "2023-11-21T11:17:09.505Z"
   },
   {
    "duration": 3,
    "start_time": "2023-11-21T11:17:10.194Z"
   },
   {
    "duration": 117,
    "start_time": "2023-11-21T11:17:10.199Z"
   },
   {
    "duration": 65,
    "start_time": "2023-11-21T11:17:10.317Z"
   },
   {
    "duration": 6,
    "start_time": "2023-11-21T11:17:10.383Z"
   },
   {
    "duration": 6,
    "start_time": "2023-11-21T11:17:10.391Z"
   },
   {
    "duration": 9,
    "start_time": "2023-11-21T11:17:10.399Z"
   },
   {
    "duration": 4,
    "start_time": "2023-11-21T11:17:10.410Z"
   },
   {
    "duration": 9,
    "start_time": "2023-11-21T11:17:10.417Z"
   },
   {
    "duration": 56,
    "start_time": "2023-11-21T11:17:10.427Z"
   },
   {
    "duration": 22,
    "start_time": "2023-11-21T11:17:10.485Z"
   },
   {
    "duration": 31,
    "start_time": "2023-11-21T11:17:10.508Z"
   },
   {
    "duration": 58,
    "start_time": "2023-11-21T11:17:10.540Z"
   },
   {
    "duration": 244,
    "start_time": "2023-11-21T11:17:10.599Z"
   },
   {
    "duration": 6,
    "start_time": "2023-11-21T11:17:10.844Z"
   },
   {
    "duration": 1361,
    "start_time": "2023-11-21T11:17:10.851Z"
   },
   {
    "duration": 175,
    "start_time": "2023-11-21T11:17:12.214Z"
   },
   {
    "duration": 1386,
    "start_time": "2023-11-21T11:17:12.390Z"
   },
   {
    "duration": 173,
    "start_time": "2023-11-21T11:17:13.778Z"
   },
   {
    "duration": 1384,
    "start_time": "2023-11-21T11:17:13.952Z"
   },
   {
    "duration": 282,
    "start_time": "2023-11-21T11:17:15.337Z"
   },
   {
    "duration": 1044,
    "start_time": "2023-11-21T11:17:15.620Z"
   },
   {
    "duration": 1139,
    "start_time": "2023-11-21T11:17:16.666Z"
   },
   {
    "duration": 1133,
    "start_time": "2023-11-21T11:17:17.807Z"
   },
   {
    "duration": 1142,
    "start_time": "2023-11-21T11:17:18.942Z"
   },
   {
    "duration": 207,
    "start_time": "2023-11-21T11:17:20.086Z"
   },
   {
    "duration": 721,
    "start_time": "2023-11-21T11:17:20.298Z"
   },
   {
    "duration": 10,
    "start_time": "2023-11-21T11:17:21.021Z"
   },
   {
    "duration": 933,
    "start_time": "2023-11-21T11:17:21.032Z"
   },
   {
    "duration": 18,
    "start_time": "2023-11-21T11:17:21.967Z"
   },
   {
    "duration": 6,
    "start_time": "2023-11-21T11:17:21.987Z"
   },
   {
    "duration": 1281,
    "start_time": "2023-11-21T11:17:21.994Z"
   },
   {
    "duration": 4,
    "start_time": "2023-11-21T11:17:23.276Z"
   },
   {
    "duration": 21,
    "start_time": "2023-11-21T11:17:23.282Z"
   },
   {
    "duration": 3,
    "start_time": "2023-11-21T11:17:23.305Z"
   },
   {
    "duration": 7,
    "start_time": "2023-11-21T11:17:23.309Z"
   },
   {
    "duration": 12,
    "start_time": "2023-11-21T11:17:23.317Z"
   },
   {
    "duration": 14,
    "start_time": "2023-11-21T11:17:23.331Z"
   },
   {
    "duration": 35,
    "start_time": "2023-11-21T11:17:23.347Z"
   },
   {
    "duration": 18,
    "start_time": "2023-11-21T11:17:23.384Z"
   },
   {
    "duration": 473,
    "start_time": "2023-11-21T11:17:23.403Z"
   },
   {
    "duration": 0,
    "start_time": "2023-11-21T11:17:23.882Z"
   },
   {
    "duration": 0,
    "start_time": "2023-11-21T11:17:23.883Z"
   },
   {
    "duration": 0,
    "start_time": "2023-11-21T11:17:23.884Z"
   },
   {
    "duration": 0,
    "start_time": "2023-11-21T11:17:23.886Z"
   },
   {
    "duration": 0,
    "start_time": "2023-11-21T11:17:23.887Z"
   },
   {
    "duration": 0,
    "start_time": "2023-11-21T11:17:23.888Z"
   },
   {
    "duration": 0,
    "start_time": "2023-11-21T11:17:23.889Z"
   },
   {
    "duration": 0,
    "start_time": "2023-11-21T11:17:23.890Z"
   },
   {
    "duration": 0,
    "start_time": "2023-11-21T11:17:23.891Z"
   },
   {
    "duration": 0,
    "start_time": "2023-11-21T11:17:23.892Z"
   },
   {
    "duration": 0,
    "start_time": "2023-11-21T11:17:23.893Z"
   },
   {
    "duration": 0,
    "start_time": "2023-11-21T11:17:23.894Z"
   },
   {
    "duration": 0,
    "start_time": "2023-11-21T11:17:23.895Z"
   },
   {
    "duration": 0,
    "start_time": "2023-11-21T11:17:23.896Z"
   },
   {
    "duration": 1422,
    "start_time": "2023-11-21T11:19:05.029Z"
   },
   {
    "duration": 685,
    "start_time": "2023-11-21T11:19:06.453Z"
   },
   {
    "duration": 3,
    "start_time": "2023-11-21T11:19:07.140Z"
   },
   {
    "duration": 122,
    "start_time": "2023-11-21T11:19:07.144Z"
   },
   {
    "duration": 53,
    "start_time": "2023-11-21T11:19:07.267Z"
   },
   {
    "duration": 7,
    "start_time": "2023-11-21T11:19:07.322Z"
   },
   {
    "duration": 15,
    "start_time": "2023-11-21T11:19:07.330Z"
   },
   {
    "duration": 22,
    "start_time": "2023-11-21T11:19:07.346Z"
   },
   {
    "duration": 42,
    "start_time": "2023-11-21T11:19:07.370Z"
   },
   {
    "duration": 24,
    "start_time": "2023-11-21T11:19:07.415Z"
   },
   {
    "duration": 70,
    "start_time": "2023-11-21T11:19:07.441Z"
   },
   {
    "duration": 26,
    "start_time": "2023-11-21T11:19:07.513Z"
   },
   {
    "duration": 53,
    "start_time": "2023-11-21T11:19:07.540Z"
   },
   {
    "duration": 19,
    "start_time": "2023-11-21T11:19:07.594Z"
   },
   {
    "duration": 270,
    "start_time": "2023-11-21T11:19:07.614Z"
   },
   {
    "duration": 6,
    "start_time": "2023-11-21T11:19:07.886Z"
   },
   {
    "duration": 1373,
    "start_time": "2023-11-21T11:19:07.893Z"
   },
   {
    "duration": 184,
    "start_time": "2023-11-21T11:19:09.268Z"
   },
   {
    "duration": 1367,
    "start_time": "2023-11-21T11:19:09.453Z"
   },
   {
    "duration": 167,
    "start_time": "2023-11-21T11:19:10.822Z"
   },
   {
    "duration": 1393,
    "start_time": "2023-11-21T11:19:10.990Z"
   },
   {
    "duration": 293,
    "start_time": "2023-11-21T11:19:12.385Z"
   },
   {
    "duration": 1087,
    "start_time": "2023-11-21T11:19:12.679Z"
   },
   {
    "duration": 1138,
    "start_time": "2023-11-21T11:19:13.767Z"
   },
   {
    "duration": 1148,
    "start_time": "2023-11-21T11:19:14.907Z"
   },
   {
    "duration": 1145,
    "start_time": "2023-11-21T11:19:16.057Z"
   },
   {
    "duration": 205,
    "start_time": "2023-11-21T11:19:17.204Z"
   },
   {
    "duration": 712,
    "start_time": "2023-11-21T11:19:17.413Z"
   },
   {
    "duration": 10,
    "start_time": "2023-11-21T11:19:18.127Z"
   },
   {
    "duration": 919,
    "start_time": "2023-11-21T11:19:18.138Z"
   },
   {
    "duration": 11,
    "start_time": "2023-11-21T11:19:19.059Z"
   },
   {
    "duration": 7,
    "start_time": "2023-11-21T11:19:19.082Z"
   },
   {
    "duration": 1129,
    "start_time": "2023-11-21T11:19:19.091Z"
   },
   {
    "duration": 4,
    "start_time": "2023-11-21T11:19:20.221Z"
   },
   {
    "duration": 27,
    "start_time": "2023-11-21T11:19:20.226Z"
   },
   {
    "duration": 31,
    "start_time": "2023-11-21T11:19:20.255Z"
   },
   {
    "duration": 5,
    "start_time": "2023-11-21T11:19:20.287Z"
   },
   {
    "duration": 22,
    "start_time": "2023-11-21T11:19:20.293Z"
   },
   {
    "duration": 21,
    "start_time": "2023-11-21T11:19:20.317Z"
   },
   {
    "duration": 29,
    "start_time": "2023-11-21T11:19:20.340Z"
   },
   {
    "duration": 32,
    "start_time": "2023-11-21T11:19:20.371Z"
   },
   {
    "duration": 183,
    "start_time": "2023-11-21T11:19:20.404Z"
   },
   {
    "duration": 292,
    "start_time": "2023-11-21T11:19:20.590Z"
   },
   {
    "duration": 3,
    "start_time": "2023-11-21T11:19:20.884Z"
   },
   {
    "duration": 3655,
    "start_time": "2023-11-21T11:19:20.890Z"
   },
   {
    "duration": 3336,
    "start_time": "2023-11-21T11:19:24.547Z"
   },
   {
    "duration": 3,
    "start_time": "2023-11-21T11:19:27.885Z"
   },
   {
    "duration": 109698,
    "start_time": "2023-11-21T11:19:27.889Z"
   },
   {
    "duration": 112298,
    "start_time": "2023-11-21T11:21:17.588Z"
   },
   {
    "duration": 3,
    "start_time": "2023-11-21T11:23:09.888Z"
   },
   {
    "duration": 579,
    "start_time": "2023-11-21T11:23:09.893Z"
   },
   {
    "duration": 601,
    "start_time": "2023-11-21T11:23:10.474Z"
   },
   {
    "duration": 6,
    "start_time": "2023-11-21T11:23:11.077Z"
   },
   {
    "duration": 12,
    "start_time": "2023-11-21T11:23:11.084Z"
   },
   {
    "duration": 6,
    "start_time": "2023-11-21T11:23:11.098Z"
   },
   {
    "duration": 3,
    "start_time": "2023-11-21T11:23:11.106Z"
   },
   {
    "duration": 8924,
    "start_time": "2023-11-21T11:32:17.694Z"
   },
   {
    "duration": 4798,
    "start_time": "2023-11-21T11:32:29.039Z"
   },
   {
    "duration": 3,
    "start_time": "2023-11-21T11:32:36.745Z"
   },
   {
    "duration": 106,
    "start_time": "2023-11-21T11:33:38.461Z"
   },
   {
    "duration": 79,
    "start_time": "2023-11-21T11:34:17.067Z"
   },
   {
    "duration": 80,
    "start_time": "2023-11-21T11:48:08.230Z"
   }
  ],
  "kernelspec": {
   "display_name": "Python 3 (ipykernel)",
   "language": "python",
   "name": "python3"
  },
  "language_info": {
   "codemirror_mode": {
    "name": "ipython",
    "version": 3
   },
   "file_extension": ".py",
   "mimetype": "text/x-python",
   "name": "python",
   "nbconvert_exporter": "python",
   "pygments_lexer": "ipython3",
   "version": "3.9.5"
  },
  "toc": {
   "base_numbering": 1,
   "nav_menu": {},
   "number_sections": true,
   "sideBar": true,
   "skip_h1_title": true,
   "title_cell": "Содержание",
   "title_sidebar": "Contents",
   "toc_cell": true,
   "toc_position": {
    "height": "calc(100% - 180px)",
    "left": "10px",
    "top": "150px",
    "width": "253.991px"
   },
   "toc_section_display": true,
   "toc_window_display": false
  }
 },
 "nbformat": 4,
 "nbformat_minor": 2
}

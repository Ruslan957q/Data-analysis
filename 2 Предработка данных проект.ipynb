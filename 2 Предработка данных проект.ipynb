{
 "cells": [
  {
   "cell_type": "markdown",
   "id": "5b4ee35e",
   "metadata": {},
   "source": [
    "## **Комментарий ревьюера**\n",
    "\n",
    "Привет 👋\n",
    "\n",
    "Меня зовут Валентин, и я буду проверять твой проект. Предлагаю сразу договориться общаться на «ты», если для тебя это не уместно, то дай, пожалуйста, знать, будем общаться на «вы».\n",
    "\n",
    "### **Краткое резюме по ревью**\n",
    "\n",
    "<div style=\"border-radius: 15px; box-shadow: 2px 2px 4px; border: 1px solid; background:Gainsboro; padding: 20px\">\n",
    "        \n",
    "Видны твои старания при работе над данным проектом. Большинство основных этапов в работе сделано хорошо:\n",
    "- есть много сильных и интересных алгоритмов 🤩\n",
    "- детально изучены многие тонкости данных\n",
    "- здорово сделана предобработка данных\n",
    "- качественно исследованы данные\n",
    "- сделано много верных промежуточных выводов, основанных на полученных данных\n",
    "\n",
    "Твоего внимания требует:\n",
    "- пересмотр вывода\n",
    "\n",
    "Я описал замечания в комментариях, которые помечены цветом(красным, желтым), после их доработки я смогу принять работу.\n",
    "    \n",
    "Спасибо тебе за твой труд! Я на все 100% уверен, что у тебя все получится, и с нетерпением буду ждать твою работу на повторное ревью 😉\n",
    "\n",
    "</div>\n",
    "\n",
    "### **PS:**\n",
    "\n",
    "Хочу поделиться дополнительным материалом, он бесплатный, но объемный(может уйти несколько месяцев):\n",
    "- У Тимофея Хирьянова есть [Плей-лист по алгоритмам на python](https://www.youtube.com/playlist?list=PLRDzFCPr95fK7tr47883DFUbm4GeOjjc0), это вроде просто видео-лекции, но в описании есть ссылка на лекции и практику, не стесняйся смотреть, преподаватель очень наглядно объясняет материал. На первых уроках задания могут показаться сложными, так как требует знания геометрии, не стесняйся проходить далее, будет проще)\n",
    "\n",
    "### **Правила оформления:**\n",
    "\n",
    "По ходу тетрадки ты найдешь комментарии к проекту, они будут в отдельных ячейках Markdown с заголовком «Комментарий ревьюера». Постарайся учесть эти комментарии для дальнейших проектов. Я использую заголовки в комментариях, они изменят твое оглавление. Но тебе будет удобно перемещаться от комментария к комментарию. А перед перемещением проекта в портфолио просто уберешь данные комментарии.\n",
    "\n",
    "Пожалуйста, **не перемещай, не изменяй и не удаляй мои комментарии**. Всё это поможет выполнить повторную проверку твоего проекта быстрее.\n",
    "\n",
    "Я буду красить комментарии цветом:\n",
    "\n",
    "<div class=\"alert alert-danger\"; style=\"border-left: 7px solid FireBrick\">\n",
    "<h4> ❌ <font color=\"FireBrick\">Комментарий ревьюера (красный)</font></h4>\n",
    "\n",
    "Такой комментарий нужно исправить обязательно, он критически влияет на удачное выполнение проекта.\n",
    "\n",
    "Также жду от тебя комментарии, где вкратце опишешь изменения, которые были внесены.\n",
    "</div>\n",
    "\n",
    "<div class=\"alert alert-warning\"; style=\"border-left: 7px solid Gold\">\n",
    "<h4> ⚠️ <font color=\"DarkGoldenRod\">Комментарий ревьюера (желтый)</font></h4>\n",
    "\n",
    "Такой комментарий является рекомендацией или советом. Можешь использовать их на своё усмотрение.\n",
    "    \n",
    "В случае изменений кода, опиши, пожалуйста, вкратце то, что изменилось. Если изменений не было, то просто опиши свои мысли на эту тему.\n",
    "</div>\n",
    "\n",
    "<div class=\"alert alert-success\"; style=\"border-left: 7px solid green\">\n",
    "<h4> ✔️ <font color=\"green\">Комментарий ревьюера (зеленый)</font></h4>\n",
    "\n",
    "Такой комментарий говорит о том, что было сделано что-то качественное и правильное 😃\n",
    "    \n",
    "Я не буду ждать твоего комментария, но буду ему очень рад 🤗\n",
    "</div>\n",
    "\n",
    "Чтобы мы были на одной волне, рекомендую общаться в том же стиле 😊 Твои ответы на мои комментарии будут подкрашиваться в синий цвет.\n",
    "\n",
    "Ниже я оформил образец для твоего удобства, тебе остается только добавить после моего комментария ячейку с типом **Markdown**, скопировать туда код(чтобы увидеть код дважды, кликни на ячейку) из образца и написать свои мысли по поводу комментария."
   ]
  },
  {
   "cell_type": "markdown",
   "id": "a355fb20",
   "metadata": {},
   "source": [
    "<div class=\"alert alert-info\"; style=\"border-left: 7px solid SteelBlue\">\n",
    "<h5>🎓 <font color=\"SteelBlue\">Комментарий от студента (синий)</font></h5>    \n",
    "\n",
    "Напиши здесь свои мысли и идеи по поводу комментария ревьюера.\n",
    "\n",
    "</div>"
   ]
  },
  {
   "cell_type": "markdown",
   "id": "1d11166f",
   "metadata": {},
   "source": [
    "## **Комментарий ревьюера v2**\n",
    "\n",
    "### **Краткое резюме по ревью**\n",
    "<div style=\"border-radius: 15px; box-shadow: 2px 2px 4px; border: 1px solid; background:Gainsboro; padding: 20px\">\n",
    "\n",
    "Молодец, исправлено:\n",
    "- пересмотр вывода\n",
    "\n",
    "Спасибо тебе за твой труд! Я готов принять работу. Успехов в дальнейшем обучении!\n",
    "\n",
    "</div>"
   ]
  },
  {
   "cell_type": "markdown",
   "id": "386f2ae7",
   "metadata": {
    "deletable": false,
    "editable": false,
    "id": "386f2ae7"
   },
   "source": [
    "# Исследование надежности заемщиков\n"
   ]
  },
  {
   "cell_type": "markdown",
   "id": "ffe86f65",
   "metadata": {
    "deletable": false,
    "editable": false,
    "id": "ffe86f65"
   },
   "source": [
    "Во второй части проекта вы выполните шаги 3 и 4. Их вручную проверит ревьюер.\n",
    "Чтобы вам не пришлось писать код заново для шагов 1 и 2, мы добавили авторские решения в ячейки с кодом. \n",
    "\n"
   ]
  },
  {
   "cell_type": "markdown",
   "id": "26613308",
   "metadata": {
    "deletable": false,
    "editable": false,
    "id": "26613308"
   },
   "source": [
    "## Откройте таблицу и изучите общую информацию о данных"
   ]
  },
  {
   "cell_type": "markdown",
   "id": "3c9f838e",
   "metadata": {
    "deletable": false,
    "editable": false,
    "id": "3c9f838e"
   },
   "source": [
    "**Задание 1. Импортируйте библиотеку pandas. Считайте данные из csv-файла в датафрейм и сохраните в переменную `data`. Путь к файлу:**\n",
    "\n",
    "`/datasets/data.csv`"
   ]
  },
  {
   "cell_type": "code",
   "execution_count": 1,
   "id": "77a68a90",
   "metadata": {
    "deletable": false,
    "id": "77a68a90"
   },
   "outputs": [],
   "source": [
    "import pandas as pd\n",
    "\n",
    "try:\n",
    "    data = pd.read_csv('/datasets/data.csv')\n",
    "except:\n",
    "    data = pd.read_csv('https://code.s3.yandex.net/datasets/data.csv')"
   ]
  },
  {
   "cell_type": "markdown",
   "id": "45365635",
   "metadata": {
    "deletable": false,
    "editable": false,
    "id": "45365635"
   },
   "source": [
    "**Задание 2. Выведите первые 20 строчек датафрейма `data` на экран.**"
   ]
  },
  {
   "cell_type": "code",
   "execution_count": 2,
   "id": "b0451a9a",
   "metadata": {
    "deletable": false,
    "id": "b0451a9a",
    "outputId": "1a8f3ef2-d323-4ec2-ddf7-89670b5944c4"
   },
   "outputs": [
    {
     "data": {
      "text/html": [
       "<div>\n",
       "<style scoped>\n",
       "    .dataframe tbody tr th:only-of-type {\n",
       "        vertical-align: middle;\n",
       "    }\n",
       "\n",
       "    .dataframe tbody tr th {\n",
       "        vertical-align: top;\n",
       "    }\n",
       "\n",
       "    .dataframe thead th {\n",
       "        text-align: right;\n",
       "    }\n",
       "</style>\n",
       "<table border=\"1\" class=\"dataframe\">\n",
       "  <thead>\n",
       "    <tr style=\"text-align: right;\">\n",
       "      <th></th>\n",
       "      <th>children</th>\n",
       "      <th>days_employed</th>\n",
       "      <th>dob_years</th>\n",
       "      <th>education</th>\n",
       "      <th>education_id</th>\n",
       "      <th>family_status</th>\n",
       "      <th>family_status_id</th>\n",
       "      <th>gender</th>\n",
       "      <th>income_type</th>\n",
       "      <th>debt</th>\n",
       "      <th>total_income</th>\n",
       "      <th>purpose</th>\n",
       "    </tr>\n",
       "  </thead>\n",
       "  <tbody>\n",
       "    <tr>\n",
       "      <th>0</th>\n",
       "      <td>1</td>\n",
       "      <td>-8437.673028</td>\n",
       "      <td>42</td>\n",
       "      <td>высшее</td>\n",
       "      <td>0</td>\n",
       "      <td>женат / замужем</td>\n",
       "      <td>0</td>\n",
       "      <td>F</td>\n",
       "      <td>сотрудник</td>\n",
       "      <td>0</td>\n",
       "      <td>253875.639453</td>\n",
       "      <td>покупка жилья</td>\n",
       "    </tr>\n",
       "    <tr>\n",
       "      <th>1</th>\n",
       "      <td>1</td>\n",
       "      <td>-4024.803754</td>\n",
       "      <td>36</td>\n",
       "      <td>среднее</td>\n",
       "      <td>1</td>\n",
       "      <td>женат / замужем</td>\n",
       "      <td>0</td>\n",
       "      <td>F</td>\n",
       "      <td>сотрудник</td>\n",
       "      <td>0</td>\n",
       "      <td>112080.014102</td>\n",
       "      <td>приобретение автомобиля</td>\n",
       "    </tr>\n",
       "    <tr>\n",
       "      <th>2</th>\n",
       "      <td>0</td>\n",
       "      <td>-5623.422610</td>\n",
       "      <td>33</td>\n",
       "      <td>Среднее</td>\n",
       "      <td>1</td>\n",
       "      <td>женат / замужем</td>\n",
       "      <td>0</td>\n",
       "      <td>M</td>\n",
       "      <td>сотрудник</td>\n",
       "      <td>0</td>\n",
       "      <td>145885.952297</td>\n",
       "      <td>покупка жилья</td>\n",
       "    </tr>\n",
       "    <tr>\n",
       "      <th>3</th>\n",
       "      <td>3</td>\n",
       "      <td>-4124.747207</td>\n",
       "      <td>32</td>\n",
       "      <td>среднее</td>\n",
       "      <td>1</td>\n",
       "      <td>женат / замужем</td>\n",
       "      <td>0</td>\n",
       "      <td>M</td>\n",
       "      <td>сотрудник</td>\n",
       "      <td>0</td>\n",
       "      <td>267628.550329</td>\n",
       "      <td>дополнительное образование</td>\n",
       "    </tr>\n",
       "    <tr>\n",
       "      <th>4</th>\n",
       "      <td>0</td>\n",
       "      <td>340266.072047</td>\n",
       "      <td>53</td>\n",
       "      <td>среднее</td>\n",
       "      <td>1</td>\n",
       "      <td>гражданский брак</td>\n",
       "      <td>1</td>\n",
       "      <td>F</td>\n",
       "      <td>пенсионер</td>\n",
       "      <td>0</td>\n",
       "      <td>158616.077870</td>\n",
       "      <td>сыграть свадьбу</td>\n",
       "    </tr>\n",
       "    <tr>\n",
       "      <th>5</th>\n",
       "      <td>0</td>\n",
       "      <td>-926.185831</td>\n",
       "      <td>27</td>\n",
       "      <td>высшее</td>\n",
       "      <td>0</td>\n",
       "      <td>гражданский брак</td>\n",
       "      <td>1</td>\n",
       "      <td>M</td>\n",
       "      <td>компаньон</td>\n",
       "      <td>0</td>\n",
       "      <td>255763.565419</td>\n",
       "      <td>покупка жилья</td>\n",
       "    </tr>\n",
       "    <tr>\n",
       "      <th>6</th>\n",
       "      <td>0</td>\n",
       "      <td>-2879.202052</td>\n",
       "      <td>43</td>\n",
       "      <td>высшее</td>\n",
       "      <td>0</td>\n",
       "      <td>женат / замужем</td>\n",
       "      <td>0</td>\n",
       "      <td>F</td>\n",
       "      <td>компаньон</td>\n",
       "      <td>0</td>\n",
       "      <td>240525.971920</td>\n",
       "      <td>операции с жильем</td>\n",
       "    </tr>\n",
       "    <tr>\n",
       "      <th>7</th>\n",
       "      <td>0</td>\n",
       "      <td>-152.779569</td>\n",
       "      <td>50</td>\n",
       "      <td>СРЕДНЕЕ</td>\n",
       "      <td>1</td>\n",
       "      <td>женат / замужем</td>\n",
       "      <td>0</td>\n",
       "      <td>M</td>\n",
       "      <td>сотрудник</td>\n",
       "      <td>0</td>\n",
       "      <td>135823.934197</td>\n",
       "      <td>образование</td>\n",
       "    </tr>\n",
       "    <tr>\n",
       "      <th>8</th>\n",
       "      <td>2</td>\n",
       "      <td>-6929.865299</td>\n",
       "      <td>35</td>\n",
       "      <td>ВЫСШЕЕ</td>\n",
       "      <td>0</td>\n",
       "      <td>гражданский брак</td>\n",
       "      <td>1</td>\n",
       "      <td>F</td>\n",
       "      <td>сотрудник</td>\n",
       "      <td>0</td>\n",
       "      <td>95856.832424</td>\n",
       "      <td>на проведение свадьбы</td>\n",
       "    </tr>\n",
       "    <tr>\n",
       "      <th>9</th>\n",
       "      <td>0</td>\n",
       "      <td>-2188.756445</td>\n",
       "      <td>41</td>\n",
       "      <td>среднее</td>\n",
       "      <td>1</td>\n",
       "      <td>женат / замужем</td>\n",
       "      <td>0</td>\n",
       "      <td>M</td>\n",
       "      <td>сотрудник</td>\n",
       "      <td>0</td>\n",
       "      <td>144425.938277</td>\n",
       "      <td>покупка жилья для семьи</td>\n",
       "    </tr>\n",
       "    <tr>\n",
       "      <th>10</th>\n",
       "      <td>2</td>\n",
       "      <td>-4171.483647</td>\n",
       "      <td>36</td>\n",
       "      <td>высшее</td>\n",
       "      <td>0</td>\n",
       "      <td>женат / замужем</td>\n",
       "      <td>0</td>\n",
       "      <td>M</td>\n",
       "      <td>компаньон</td>\n",
       "      <td>0</td>\n",
       "      <td>113943.491460</td>\n",
       "      <td>покупка недвижимости</td>\n",
       "    </tr>\n",
       "    <tr>\n",
       "      <th>11</th>\n",
       "      <td>0</td>\n",
       "      <td>-792.701887</td>\n",
       "      <td>40</td>\n",
       "      <td>среднее</td>\n",
       "      <td>1</td>\n",
       "      <td>женат / замужем</td>\n",
       "      <td>0</td>\n",
       "      <td>F</td>\n",
       "      <td>сотрудник</td>\n",
       "      <td>0</td>\n",
       "      <td>77069.234271</td>\n",
       "      <td>покупка коммерческой недвижимости</td>\n",
       "    </tr>\n",
       "    <tr>\n",
       "      <th>12</th>\n",
       "      <td>0</td>\n",
       "      <td>NaN</td>\n",
       "      <td>65</td>\n",
       "      <td>среднее</td>\n",
       "      <td>1</td>\n",
       "      <td>гражданский брак</td>\n",
       "      <td>1</td>\n",
       "      <td>M</td>\n",
       "      <td>пенсионер</td>\n",
       "      <td>0</td>\n",
       "      <td>NaN</td>\n",
       "      <td>сыграть свадьбу</td>\n",
       "    </tr>\n",
       "    <tr>\n",
       "      <th>13</th>\n",
       "      <td>0</td>\n",
       "      <td>-1846.641941</td>\n",
       "      <td>54</td>\n",
       "      <td>неоконченное высшее</td>\n",
       "      <td>2</td>\n",
       "      <td>женат / замужем</td>\n",
       "      <td>0</td>\n",
       "      <td>F</td>\n",
       "      <td>сотрудник</td>\n",
       "      <td>0</td>\n",
       "      <td>130458.228857</td>\n",
       "      <td>приобретение автомобиля</td>\n",
       "    </tr>\n",
       "    <tr>\n",
       "      <th>14</th>\n",
       "      <td>0</td>\n",
       "      <td>-1844.956182</td>\n",
       "      <td>56</td>\n",
       "      <td>высшее</td>\n",
       "      <td>0</td>\n",
       "      <td>гражданский брак</td>\n",
       "      <td>1</td>\n",
       "      <td>F</td>\n",
       "      <td>компаньон</td>\n",
       "      <td>1</td>\n",
       "      <td>165127.911772</td>\n",
       "      <td>покупка жилой недвижимости</td>\n",
       "    </tr>\n",
       "    <tr>\n",
       "      <th>15</th>\n",
       "      <td>1</td>\n",
       "      <td>-972.364419</td>\n",
       "      <td>26</td>\n",
       "      <td>среднее</td>\n",
       "      <td>1</td>\n",
       "      <td>женат / замужем</td>\n",
       "      <td>0</td>\n",
       "      <td>F</td>\n",
       "      <td>сотрудник</td>\n",
       "      <td>0</td>\n",
       "      <td>116820.904450</td>\n",
       "      <td>строительство собственной недвижимости</td>\n",
       "    </tr>\n",
       "    <tr>\n",
       "      <th>16</th>\n",
       "      <td>0</td>\n",
       "      <td>-1719.934226</td>\n",
       "      <td>35</td>\n",
       "      <td>среднее</td>\n",
       "      <td>1</td>\n",
       "      <td>женат / замужем</td>\n",
       "      <td>0</td>\n",
       "      <td>F</td>\n",
       "      <td>сотрудник</td>\n",
       "      <td>0</td>\n",
       "      <td>289202.704229</td>\n",
       "      <td>недвижимость</td>\n",
       "    </tr>\n",
       "    <tr>\n",
       "      <th>17</th>\n",
       "      <td>0</td>\n",
       "      <td>-2369.999720</td>\n",
       "      <td>33</td>\n",
       "      <td>высшее</td>\n",
       "      <td>0</td>\n",
       "      <td>гражданский брак</td>\n",
       "      <td>1</td>\n",
       "      <td>M</td>\n",
       "      <td>сотрудник</td>\n",
       "      <td>0</td>\n",
       "      <td>90410.586745</td>\n",
       "      <td>строительство недвижимости</td>\n",
       "    </tr>\n",
       "    <tr>\n",
       "      <th>18</th>\n",
       "      <td>0</td>\n",
       "      <td>400281.136913</td>\n",
       "      <td>53</td>\n",
       "      <td>среднее</td>\n",
       "      <td>1</td>\n",
       "      <td>вдовец / вдова</td>\n",
       "      <td>2</td>\n",
       "      <td>F</td>\n",
       "      <td>пенсионер</td>\n",
       "      <td>0</td>\n",
       "      <td>56823.777243</td>\n",
       "      <td>на покупку подержанного автомобиля</td>\n",
       "    </tr>\n",
       "    <tr>\n",
       "      <th>19</th>\n",
       "      <td>0</td>\n",
       "      <td>-10038.818549</td>\n",
       "      <td>48</td>\n",
       "      <td>СРЕДНЕЕ</td>\n",
       "      <td>1</td>\n",
       "      <td>в разводе</td>\n",
       "      <td>3</td>\n",
       "      <td>F</td>\n",
       "      <td>сотрудник</td>\n",
       "      <td>0</td>\n",
       "      <td>242831.107982</td>\n",
       "      <td>на покупку своего автомобиля</td>\n",
       "    </tr>\n",
       "  </tbody>\n",
       "</table>\n",
       "</div>"
      ],
      "text/plain": [
       "    children  days_employed  dob_years            education  education_id  \\\n",
       "0          1   -8437.673028         42               высшее             0   \n",
       "1          1   -4024.803754         36              среднее             1   \n",
       "2          0   -5623.422610         33              Среднее             1   \n",
       "3          3   -4124.747207         32              среднее             1   \n",
       "4          0  340266.072047         53              среднее             1   \n",
       "5          0    -926.185831         27               высшее             0   \n",
       "6          0   -2879.202052         43               высшее             0   \n",
       "7          0    -152.779569         50              СРЕДНЕЕ             1   \n",
       "8          2   -6929.865299         35               ВЫСШЕЕ             0   \n",
       "9          0   -2188.756445         41              среднее             1   \n",
       "10         2   -4171.483647         36               высшее             0   \n",
       "11         0    -792.701887         40              среднее             1   \n",
       "12         0            NaN         65              среднее             1   \n",
       "13         0   -1846.641941         54  неоконченное высшее             2   \n",
       "14         0   -1844.956182         56               высшее             0   \n",
       "15         1    -972.364419         26              среднее             1   \n",
       "16         0   -1719.934226         35              среднее             1   \n",
       "17         0   -2369.999720         33               высшее             0   \n",
       "18         0  400281.136913         53              среднее             1   \n",
       "19         0  -10038.818549         48              СРЕДНЕЕ             1   \n",
       "\n",
       "       family_status  family_status_id gender income_type  debt  \\\n",
       "0    женат / замужем                 0      F   сотрудник     0   \n",
       "1    женат / замужем                 0      F   сотрудник     0   \n",
       "2    женат / замужем                 0      M   сотрудник     0   \n",
       "3    женат / замужем                 0      M   сотрудник     0   \n",
       "4   гражданский брак                 1      F   пенсионер     0   \n",
       "5   гражданский брак                 1      M   компаньон     0   \n",
       "6    женат / замужем                 0      F   компаньон     0   \n",
       "7    женат / замужем                 0      M   сотрудник     0   \n",
       "8   гражданский брак                 1      F   сотрудник     0   \n",
       "9    женат / замужем                 0      M   сотрудник     0   \n",
       "10   женат / замужем                 0      M   компаньон     0   \n",
       "11   женат / замужем                 0      F   сотрудник     0   \n",
       "12  гражданский брак                 1      M   пенсионер     0   \n",
       "13   женат / замужем                 0      F   сотрудник     0   \n",
       "14  гражданский брак                 1      F   компаньон     1   \n",
       "15   женат / замужем                 0      F   сотрудник     0   \n",
       "16   женат / замужем                 0      F   сотрудник     0   \n",
       "17  гражданский брак                 1      M   сотрудник     0   \n",
       "18    вдовец / вдова                 2      F   пенсионер     0   \n",
       "19         в разводе                 3      F   сотрудник     0   \n",
       "\n",
       "     total_income                                 purpose  \n",
       "0   253875.639453                           покупка жилья  \n",
       "1   112080.014102                 приобретение автомобиля  \n",
       "2   145885.952297                           покупка жилья  \n",
       "3   267628.550329              дополнительное образование  \n",
       "4   158616.077870                         сыграть свадьбу  \n",
       "5   255763.565419                           покупка жилья  \n",
       "6   240525.971920                       операции с жильем  \n",
       "7   135823.934197                             образование  \n",
       "8    95856.832424                   на проведение свадьбы  \n",
       "9   144425.938277                 покупка жилья для семьи  \n",
       "10  113943.491460                    покупка недвижимости  \n",
       "11   77069.234271       покупка коммерческой недвижимости  \n",
       "12            NaN                         сыграть свадьбу  \n",
       "13  130458.228857                 приобретение автомобиля  \n",
       "14  165127.911772              покупка жилой недвижимости  \n",
       "15  116820.904450  строительство собственной недвижимости  \n",
       "16  289202.704229                            недвижимость  \n",
       "17   90410.586745              строительство недвижимости  \n",
       "18   56823.777243      на покупку подержанного автомобиля  \n",
       "19  242831.107982            на покупку своего автомобиля  "
      ]
     },
     "execution_count": 2,
     "metadata": {},
     "output_type": "execute_result"
    }
   ],
   "source": [
    "data.head(20)"
   ]
  },
  {
   "cell_type": "markdown",
   "id": "0ed8f27f",
   "metadata": {
    "deletable": false,
    "editable": false,
    "id": "0ed8f27f"
   },
   "source": [
    "**Задание 3. Выведите основную информацию о датафрейме с помощью метода `info()`.**"
   ]
  },
  {
   "cell_type": "code",
   "execution_count": 3,
   "id": "ab3f863b",
   "metadata": {
    "deletable": false,
    "id": "ab3f863b",
    "outputId": "15376089-8dad-46c9-b520-c05248d43158"
   },
   "outputs": [
    {
     "name": "stdout",
     "output_type": "stream",
     "text": [
      "<class 'pandas.core.frame.DataFrame'>\n",
      "RangeIndex: 21525 entries, 0 to 21524\n",
      "Data columns (total 12 columns):\n",
      " #   Column            Non-Null Count  Dtype  \n",
      "---  ------            --------------  -----  \n",
      " 0   children          21525 non-null  int64  \n",
      " 1   days_employed     19351 non-null  float64\n",
      " 2   dob_years         21525 non-null  int64  \n",
      " 3   education         21525 non-null  object \n",
      " 4   education_id      21525 non-null  int64  \n",
      " 5   family_status     21525 non-null  object \n",
      " 6   family_status_id  21525 non-null  int64  \n",
      " 7   gender            21525 non-null  object \n",
      " 8   income_type       21525 non-null  object \n",
      " 9   debt              21525 non-null  int64  \n",
      " 10  total_income      19351 non-null  float64\n",
      " 11  purpose           21525 non-null  object \n",
      "dtypes: float64(2), int64(5), object(5)\n",
      "memory usage: 2.0+ MB\n"
     ]
    }
   ],
   "source": [
    "data.info()"
   ]
  },
  {
   "cell_type": "markdown",
   "id": "60e3e22d",
   "metadata": {
    "deletable": false,
    "editable": false,
    "id": "60e3e22d"
   },
   "source": [
    "## Предобработка данных"
   ]
  },
  {
   "cell_type": "markdown",
   "id": "03dc170c",
   "metadata": {
    "deletable": false,
    "editable": false,
    "id": "03dc170c"
   },
   "source": [
    "### Удаление пропусков"
   ]
  },
  {
   "cell_type": "markdown",
   "id": "a4f54eef",
   "metadata": {
    "deletable": false,
    "editable": false,
    "id": "a4f54eef"
   },
   "source": [
    "**Задание 4. Выведите количество пропущенных значений для каждого столбца. Используйте комбинацию двух методов.**"
   ]
  },
  {
   "cell_type": "code",
   "execution_count": 4,
   "id": "2dc372b2",
   "metadata": {
    "deletable": false,
    "id": "2dc372b2",
    "outputId": "81f4d817-781c-465c-ed15-91ce4446810d"
   },
   "outputs": [
    {
     "data": {
      "text/plain": [
       "children               0\n",
       "days_employed       2174\n",
       "dob_years              0\n",
       "education              0\n",
       "education_id           0\n",
       "family_status          0\n",
       "family_status_id       0\n",
       "gender                 0\n",
       "income_type            0\n",
       "debt                   0\n",
       "total_income        2174\n",
       "purpose                0\n",
       "dtype: int64"
      ]
     },
     "execution_count": 4,
     "metadata": {},
     "output_type": "execute_result"
    }
   ],
   "source": [
    "data.isna().sum()"
   ]
  },
  {
   "cell_type": "markdown",
   "id": "14f011b1",
   "metadata": {
    "deletable": false,
    "editable": false,
    "id": "14f011b1"
   },
   "source": [
    "**Задание 5. В двух столбцах есть пропущенные значения. Один из них — `days_employed`. Пропуски в этом столбце вы обработаете на следующем этапе. Другой столбец с пропущенными значениями — `total_income` — хранит данные о доходах. На сумму дохода сильнее всего влияет тип занятости, поэтому заполнить пропуски в этом столбце нужно медианным значением по каждому типу из столбца `income_type`. Например, у человека с типом занятости `сотрудник` пропуск в столбце `total_income` должен быть заполнен медианным доходом среди всех записей с тем же типом.**"
   ]
  },
  {
   "cell_type": "code",
   "execution_count": 5,
   "id": "bdabfb6e",
   "metadata": {
    "deletable": false,
    "id": "bdabfb6e"
   },
   "outputs": [],
   "source": [
    "for t in data['income_type'].unique():\n",
    "    data.loc[(data['income_type'] == t) & (data['total_income'].isna()), 'total_income'] = \\\n",
    "    data.loc[(data['income_type'] == t), 'total_income'].median()"
   ]
  },
  {
   "cell_type": "markdown",
   "id": "5be34059",
   "metadata": {
    "deletable": false,
    "editable": false,
    "id": "5be34059"
   },
   "source": [
    "### Обработка аномальных значений"
   ]
  },
  {
   "cell_type": "markdown",
   "id": "a87606cb",
   "metadata": {
    "deletable": false,
    "editable": false,
    "id": "a87606cb"
   },
   "source": [
    "**Задание 6. В данных могут встречаться артефакты (аномалии) — значения, которые не отражают действительность и появились по какой-то ошибке. таким артефактом будет отрицательное количество дней трудового стажа в столбце `days_employed`. Для реальных данных это нормально. Обработайте значения в этом столбце: замените все отрицательные значения положительными с помощью метода `abs()`.**"
   ]
  },
  {
   "cell_type": "code",
   "execution_count": 6,
   "id": "020c46cc",
   "metadata": {
    "deletable": false,
    "id": "020c46cc"
   },
   "outputs": [],
   "source": [
    "data['days_employed'] = data['days_employed'].abs()"
   ]
  },
  {
   "cell_type": "markdown",
   "id": "45538a3a",
   "metadata": {
    "deletable": false,
    "editable": false,
    "id": "45538a3a"
   },
   "source": [
    "**Задание 7. Для каждого типа занятости выведите медианное значение трудового стажа `days_employed` в днях.**"
   ]
  },
  {
   "cell_type": "code",
   "execution_count": 7,
   "id": "cd3e6328",
   "metadata": {
    "deletable": false,
    "id": "cd3e6328",
    "outputId": "801ef80e-522b-4668-f34e-565af7432bcf"
   },
   "outputs": [
    {
     "data": {
      "text/plain": [
       "income_type\n",
       "безработный        366413.652744\n",
       "в декрете            3296.759962\n",
       "госслужащий          2689.368353\n",
       "компаньон            1547.382223\n",
       "пенсионер          365213.306266\n",
       "предприниматель       520.848083\n",
       "сотрудник            1574.202821\n",
       "студент               578.751554\n",
       "Name: days_employed, dtype: float64"
      ]
     },
     "execution_count": 7,
     "metadata": {},
     "output_type": "execute_result"
    }
   ],
   "source": [
    "data.groupby('income_type')['days_employed'].agg('median')"
   ]
  },
  {
   "cell_type": "markdown",
   "id": "90c5f058",
   "metadata": {
    "deletable": false,
    "editable": false,
    "id": "90c5f058"
   },
   "source": [
    "У двух типов (безработные и пенсионеры) получатся аномально большие значения. Исправить такие значения сложно, поэтому оставьте их как есть."
   ]
  },
  {
   "cell_type": "markdown",
   "id": "9652e50d",
   "metadata": {
    "deletable": false,
    "editable": false,
    "id": "9652e50d"
   },
   "source": [
    "**Задание 8. Выведите перечень уникальных значений столбца `children`.**"
   ]
  },
  {
   "cell_type": "code",
   "execution_count": 8,
   "id": "dbb37b8e",
   "metadata": {
    "deletable": false,
    "id": "dbb37b8e",
    "outputId": "6975b15c-7f95-4697-d16d-a0c79b657b03"
   },
   "outputs": [
    {
     "data": {
      "text/plain": [
       "array([ 1,  0,  3,  2, -1,  4, 20,  5], dtype=int64)"
      ]
     },
     "execution_count": 8,
     "metadata": {},
     "output_type": "execute_result"
    }
   ],
   "source": [
    "data['children'].unique()"
   ]
  },
  {
   "cell_type": "markdown",
   "id": "2b8b0715",
   "metadata": {
    "deletable": false,
    "editable": false,
    "id": "2b8b0715"
   },
   "source": [
    "**Задание 9. В столбце `children` есть два аномальных значения. Удалите строки, в которых встречаются такие аномальные значения из датафрейма `data`.**"
   ]
  },
  {
   "cell_type": "code",
   "execution_count": 9,
   "id": "20009df8",
   "metadata": {
    "deletable": false,
    "id": "20009df8"
   },
   "outputs": [],
   "source": [
    "data = data[(data['children'] != -1) & (data['children'] != 20)]"
   ]
  },
  {
   "cell_type": "markdown",
   "id": "8c6ac9f1",
   "metadata": {
    "deletable": false,
    "editable": false,
    "id": "8c6ac9f1"
   },
   "source": [
    "**Задание 10. Ещё раз выведите перечень уникальных значений столбца `children`, чтобы убедиться, что артефакты удалены.**"
   ]
  },
  {
   "cell_type": "code",
   "execution_count": 10,
   "id": "07337b81",
   "metadata": {
    "deletable": false,
    "id": "07337b81",
    "outputId": "b2097101-d49d-44d9-901b-32a65c9463d1"
   },
   "outputs": [
    {
     "data": {
      "text/plain": [
       "array([1, 0, 3, 2, 4, 5], dtype=int64)"
      ]
     },
     "execution_count": 10,
     "metadata": {},
     "output_type": "execute_result"
    }
   ],
   "source": [
    "data['children'].unique()"
   ]
  },
  {
   "cell_type": "markdown",
   "id": "ee3f52d4",
   "metadata": {
    "deletable": false,
    "editable": false,
    "id": "ee3f52d4"
   },
   "source": [
    "### Удаление пропусков (продолжение)"
   ]
  },
  {
   "cell_type": "markdown",
   "id": "a700b0e4",
   "metadata": {
    "deletable": false,
    "editable": false,
    "id": "a700b0e4"
   },
   "source": [
    "**Задание 11. Заполните пропуски в столбце `days_employed` медианными значениями по каждого типа занятости `income_type`.**"
   ]
  },
  {
   "cell_type": "code",
   "execution_count": 11,
   "id": "61946b83",
   "metadata": {
    "deletable": false,
    "id": "61946b83"
   },
   "outputs": [],
   "source": [
    "for t in data['income_type'].unique():\n",
    "    data.loc[(data['income_type'] == t) & (data['days_employed'].isna()), 'days_employed'] = \\\n",
    "    data.loc[(data['income_type'] == t), 'days_employed'].median()"
   ]
  },
  {
   "cell_type": "markdown",
   "id": "550dcd9b",
   "metadata": {
    "deletable": false,
    "editable": false,
    "id": "550dcd9b"
   },
   "source": [
    "**Задание 12. Убедитесь, что все пропуски заполнены. Проверьте себя и ещё раз выведите количество пропущенных значений для каждого столбца с помощью двух методов.**"
   ]
  },
  {
   "cell_type": "code",
   "execution_count": 12,
   "id": "937c7014",
   "metadata": {
    "deletable": false,
    "id": "937c7014",
    "outputId": "8da1e4e1-358e-4e87-98c9-f261bce0a7b2"
   },
   "outputs": [
    {
     "data": {
      "text/plain": [
       "children            0\n",
       "days_employed       0\n",
       "dob_years           0\n",
       "education           0\n",
       "education_id        0\n",
       "family_status       0\n",
       "family_status_id    0\n",
       "gender              0\n",
       "income_type         0\n",
       "debt                0\n",
       "total_income        0\n",
       "purpose             0\n",
       "dtype: int64"
      ]
     },
     "execution_count": 12,
     "metadata": {},
     "output_type": "execute_result"
    }
   ],
   "source": [
    "data.isna().sum()"
   ]
  },
  {
   "cell_type": "markdown",
   "id": "d522e295",
   "metadata": {
    "deletable": false,
    "editable": false,
    "id": "d522e295"
   },
   "source": [
    "### Изменение типов данных"
   ]
  },
  {
   "cell_type": "markdown",
   "id": "c229c581",
   "metadata": {
    "deletable": false,
    "editable": false,
    "id": "c229c581"
   },
   "source": [
    "**Задание 13. Замените вещественный тип данных в столбце `total_income` на целочисленный с помощью метода `astype()`.**"
   ]
  },
  {
   "cell_type": "code",
   "execution_count": 13,
   "id": "31036462",
   "metadata": {
    "deletable": false,
    "id": "31036462"
   },
   "outputs": [],
   "source": [
    "data['total_income'] = data['total_income'].astype(int)"
   ]
  },
  {
   "cell_type": "markdown",
   "id": "b8e3d1d9",
   "metadata": {
    "deletable": false,
    "editable": false,
    "id": "b8e3d1d9"
   },
   "source": [
    "### Обработка дубликатов"
   ]
  },
  {
   "cell_type": "markdown",
   "id": "9be53c49",
   "metadata": {
    "deletable": false,
    "editable": false,
    "id": "9be53c49"
   },
   "source": [
    "**Задание 14. Обработайте неявные дубликаты в столбце `education`. В этом столбце есть одни и те же значения, но записанные по-разному: с использованием заглавных и строчных букв. Приведите их к нижнему регистру.**"
   ]
  },
  {
   "cell_type": "code",
   "execution_count": 28,
   "id": "d89e73e1",
   "metadata": {
    "deletable": false,
    "id": "d89e73e1"
   },
   "outputs": [],
   "source": [
    "data['education'] = data['education'].str.lower()"
   ]
  },
  {
   "cell_type": "markdown",
   "id": "01d4500e",
   "metadata": {
    "deletable": false,
    "editable": false,
    "id": "01d4500e"
   },
   "source": [
    "**Задание 15. Выведите на экран количество строк-дубликатов в данных. Если такие строки присутствуют, удалите их.**"
   ]
  },
  {
   "cell_type": "code",
   "execution_count": 15,
   "id": "e10efb23",
   "metadata": {
    "deletable": false,
    "id": "e10efb23",
    "outputId": "9684deba-1934-42d1-99e1-cda61740f822"
   },
   "outputs": [
    {
     "data": {
      "text/plain": [
       "71"
      ]
     },
     "execution_count": 15,
     "metadata": {},
     "output_type": "execute_result"
    }
   ],
   "source": [
    "data.duplicated().sum()"
   ]
  },
  {
   "cell_type": "code",
   "execution_count": 16,
   "id": "df853f20",
   "metadata": {
    "deletable": false,
    "id": "df853f20"
   },
   "outputs": [],
   "source": [
    "data = data.drop_duplicates()"
   ]
  },
  {
   "cell_type": "markdown",
   "id": "627be38f",
   "metadata": {
    "deletable": false,
    "editable": false,
    "id": "627be38f"
   },
   "source": [
    "### Категоризация данных"
   ]
  },
  {
   "cell_type": "markdown",
   "id": "4684c3e0",
   "metadata": {
    "deletable": false,
    "editable": false,
    "id": "4684c3e0"
   },
   "source": [
    "**Задание 16. На основании диапазонов, указанных ниже, создайте в датафрейме `data` столбец `total_income_category` с категориями:**\n",
    "\n",
    "- 0–30000 — `'E'`;\n",
    "- 30001–50000 — `'D'`;\n",
    "- 50001–200000 — `'C'`;\n",
    "- 200001–1000000 — `'B'`;\n",
    "- 1000001 и выше — `'A'`.\n",
    "\n",
    "\n",
    "**Например, кредитополучателю с доходом 25000 нужно назначить категорию `'E'`, а клиенту, получающему 235000, — `'B'`. Используйте собственную функцию с именем `categorize_income()` и метод `apply()`.**"
   ]
  },
  {
   "cell_type": "code",
   "execution_count": 17,
   "id": "78965238",
   "metadata": {
    "deletable": false,
    "id": "78965238"
   },
   "outputs": [],
   "source": [
    "def categorize_income(income):\n",
    "    try:\n",
    "        if 0 <= income <= 30000:\n",
    "            return 'E'\n",
    "        elif 30001 <= income <= 50000:\n",
    "            return 'D'\n",
    "        elif 50001 <= income <= 200000:\n",
    "            return 'C'\n",
    "        elif 200001 <= income <= 1000000:\n",
    "            return 'B'\n",
    "        elif income >= 1000001:\n",
    "            return 'A'\n",
    "    except:\n",
    "        pass"
   ]
  },
  {
   "cell_type": "code",
   "execution_count": 18,
   "id": "0980ada1",
   "metadata": {
    "deletable": false,
    "id": "0980ada1"
   },
   "outputs": [],
   "source": [
    "data['total_income_category'] = data['total_income'].apply(categorize_income)\n"
   ]
  },
  {
   "cell_type": "markdown",
   "id": "9917bba0",
   "metadata": {
    "deletable": false,
    "editable": false,
    "id": "9917bba0"
   },
   "source": [
    "**Задание 17. Выведите на экран перечень уникальных целей взятия кредита из столбца `purpose`.**"
   ]
  },
  {
   "cell_type": "code",
   "execution_count": 19,
   "id": "ee07b65e",
   "metadata": {
    "deletable": false,
    "id": "ee07b65e",
    "outputId": "673c12d9-7d7e-4ae0-9812-c622c89dd244"
   },
   "outputs": [
    {
     "data": {
      "text/plain": [
       "array(['покупка жилья', 'приобретение автомобиля',\n",
       "       'дополнительное образование', 'сыграть свадьбу',\n",
       "       'операции с жильем', 'образование', 'на проведение свадьбы',\n",
       "       'покупка жилья для семьи', 'покупка недвижимости',\n",
       "       'покупка коммерческой недвижимости', 'покупка жилой недвижимости',\n",
       "       'строительство собственной недвижимости', 'недвижимость',\n",
       "       'строительство недвижимости', 'на покупку подержанного автомобиля',\n",
       "       'на покупку своего автомобиля',\n",
       "       'операции с коммерческой недвижимостью',\n",
       "       'строительство жилой недвижимости', 'жилье',\n",
       "       'операции со своей недвижимостью', 'автомобили',\n",
       "       'заняться образованием', 'сделка с подержанным автомобилем',\n",
       "       'получение образования', 'автомобиль', 'свадьба',\n",
       "       'получение дополнительного образования', 'покупка своего жилья',\n",
       "       'операции с недвижимостью', 'получение высшего образования',\n",
       "       'свой автомобиль', 'сделка с автомобилем',\n",
       "       'профильное образование', 'высшее образование',\n",
       "       'покупка жилья для сдачи', 'на покупку автомобиля', 'ремонт жилью',\n",
       "       'заняться высшим образованием'], dtype=object)"
      ]
     },
     "execution_count": 19,
     "metadata": {},
     "output_type": "execute_result"
    }
   ],
   "source": [
    "data['purpose'].unique()"
   ]
  },
  {
   "cell_type": "markdown",
   "id": "52b79d56",
   "metadata": {
    "deletable": false,
    "editable": false,
    "id": "52b79d56"
   },
   "source": [
    "**Задание 18. Создайте функцию, которая на основании данных из столбца `purpose` сформирует новый столбец `purpose_category`, в который войдут следующие категории:**\n",
    "\n",
    "- `'операции с автомобилем'`,\n",
    "- `'операции с недвижимостью'`,\n",
    "- `'проведение свадьбы'`,\n",
    "- `'получение образования'`.\n",
    "\n",
    "**Например, если в столбце `purpose` находится подстрока `'на покупку автомобиля'`, то в столбце `purpose_category` должна появиться строка `'операции с автомобилем'`.**\n",
    "\n",
    "**Используйте собственную функцию с именем `categorize_purpose()` и метод `apply()`. Изучите данные в столбце `purpose` и определите, какие подстроки помогут вам правильно определить категорию.**"
   ]
  },
  {
   "cell_type": "code",
   "execution_count": 20,
   "id": "be41da5d",
   "metadata": {
    "deletable": false,
    "id": "be41da5d"
   },
   "outputs": [],
   "source": [
    "def categorize_purpose(row):\n",
    "    try:\n",
    "        if 'автом' in row:\n",
    "            return 'операции с автомобилем'\n",
    "        elif 'жил' in row or 'недвиж' in row:\n",
    "            return 'операции с недвижимостью'\n",
    "        elif 'свад' in row:\n",
    "            return 'проведение свадьбы'\n",
    "        elif 'образов' in row:\n",
    "            return 'получение образования'\n",
    "    except:\n",
    "        return 'нет категории'"
   ]
  },
  {
   "cell_type": "code",
   "execution_count": 27,
   "id": "94c4a19a",
   "metadata": {
    "deletable": false,
    "id": "94c4a19a"
   },
   "outputs": [
    {
     "data": {
      "text/plain": [
       "0        операции с недвижимостью\n",
       "1          операции с автомобилем\n",
       "2        операции с недвижимостью\n",
       "3           получение образования\n",
       "4              проведение свадьбы\n",
       "                   ...           \n",
       "21520    операции с недвижимостью\n",
       "21521      операции с автомобилем\n",
       "21522    операции с недвижимостью\n",
       "21523      операции с автомобилем\n",
       "21524      операции с автомобилем\n",
       "Name: purpose_category, Length: 21331, dtype: object"
      ]
     },
     "execution_count": 27,
     "metadata": {},
     "output_type": "execute_result"
    }
   ],
   "source": [
    "data['purpose_category'] = data['purpose'].apply(categorize_purpose)\n",
    "data['purpose_category']"
   ]
  },
  {
   "cell_type": "markdown",
   "id": "3d596c34",
   "metadata": {
    "deletable": false,
    "editable": false,
    "id": "3d596c34"
   },
   "source": [
    "### Шаг 3. Исследуйте данные и ответьте на вопросы"
   ]
  },
  {
   "cell_type": "markdown",
   "id": "648db036",
   "metadata": {
    "deletable": false,
    "editable": false,
    "id": "648db036"
   },
   "source": [
    "#### 3.1 Есть ли зависимость между количеством детей и возвратом кредита в срок?"
   ]
  },
  {
   "cell_type": "code",
   "execution_count": 22,
   "id": "7fcff25e",
   "metadata": {
    "deletable": false,
    "id": "7fcff25e"
   },
   "outputs": [
    {
     "data": {
      "text/html": [
       "<div>\n",
       "<style scoped>\n",
       "    .dataframe tbody tr th:only-of-type {\n",
       "        vertical-align: middle;\n",
       "    }\n",
       "\n",
       "    .dataframe tbody tr th {\n",
       "        vertical-align: top;\n",
       "    }\n",
       "\n",
       "    .dataframe thead th {\n",
       "        text-align: right;\n",
       "    }\n",
       "</style>\n",
       "<table border=\"1\" class=\"dataframe\">\n",
       "  <thead>\n",
       "    <tr style=\"text-align: right;\">\n",
       "      <th></th>\n",
       "      <th>count</th>\n",
       "      <th>sum</th>\n",
       "      <th>no_refund_in_%</th>\n",
       "    </tr>\n",
       "    <tr>\n",
       "      <th>children</th>\n",
       "      <th></th>\n",
       "      <th></th>\n",
       "      <th></th>\n",
       "    </tr>\n",
       "  </thead>\n",
       "  <tbody>\n",
       "    <tr>\n",
       "      <th>4</th>\n",
       "      <td>41</td>\n",
       "      <td>4</td>\n",
       "      <td>9.756098</td>\n",
       "    </tr>\n",
       "    <tr>\n",
       "      <th>2</th>\n",
       "      <td>2052</td>\n",
       "      <td>194</td>\n",
       "      <td>9.454191</td>\n",
       "    </tr>\n",
       "    <tr>\n",
       "      <th>1</th>\n",
       "      <td>4808</td>\n",
       "      <td>444</td>\n",
       "      <td>9.234609</td>\n",
       "    </tr>\n",
       "    <tr>\n",
       "      <th>3</th>\n",
       "      <td>330</td>\n",
       "      <td>27</td>\n",
       "      <td>8.181818</td>\n",
       "    </tr>\n",
       "    <tr>\n",
       "      <th>0</th>\n",
       "      <td>14091</td>\n",
       "      <td>1063</td>\n",
       "      <td>7.543822</td>\n",
       "    </tr>\n",
       "    <tr>\n",
       "      <th>5</th>\n",
       "      <td>9</td>\n",
       "      <td>0</td>\n",
       "      <td>0.000000</td>\n",
       "    </tr>\n",
       "  </tbody>\n",
       "</table>\n",
       "</div>"
      ],
      "text/plain": [
       "          count   sum  no_refund_in_%\n",
       "children                             \n",
       "4            41     4        9.756098\n",
       "2          2052   194        9.454191\n",
       "1          4808   444        9.234609\n",
       "3           330    27        8.181818\n",
       "0         14091  1063        7.543822\n",
       "5             9     0        0.000000"
      ]
     },
     "execution_count": 22,
     "metadata": {},
     "output_type": "execute_result"
    }
   ],
   "source": [
    "\n",
    "children_debt = pd.DataFrame()\n",
    "children_debt['count'] = data.groupby('children')['debt'].count()\n",
    "children_debt['sum'] = data.groupby('children')['debt'].sum()\n",
    "children_debt['no_refund_in_%'] = children_debt['sum'] / children_debt['count'] * 100 \n",
    "children_debt.sort_values('no_refund_in_%', ascending = False)"
   ]
  },
  {
   "cell_type": "markdown",
   "id": "032576e3",
   "metadata": {},
   "source": [
    "<div class=\"alert alert-success\"; style=\"border-left: 7px solid green\">\n",
    "<h5> ✔️ <font color=\"green\">Комментарий ревьюера (зеленый)</font></h5>\n",
    "\n",
    "Да, чем больше у заемщика детей, тем больше вероятность просрочки\n",
    "\n",
    "</div>"
   ]
  },
  {
   "cell_type": "markdown",
   "id": "2eb9088e",
   "metadata": {
    "deletable": false,
    "id": "2eb9088e"
   },
   "source": [
    "**Вывод:**  Наблюдается увеличение процента невозврата по кредиту при увеличении количества детей у заемщика (из связи выпадают заемщики с тремя детьми, процент невозвратов в таких семьях на один процент ниже, чем в семьях с одним ребенком, однако выше, чем у людей без детей). Данные по семьям с пятью детьми не являются корректными вследствие низкой выборки (9 человек). "
   ]
  },
  {
   "cell_type": "markdown",
   "id": "74c9b3a7",
   "metadata": {
    "deletable": false,
    "editable": false,
    "id": "74c9b3a7"
   },
   "source": [
    "#### 3.2 Есть ли зависимость между семейным положением и возвратом кредита в срок?"
   ]
  },
  {
   "cell_type": "code",
   "execution_count": 23,
   "id": "8098ab3b",
   "metadata": {
    "deletable": false,
    "id": "8098ab3b"
   },
   "outputs": [
    {
     "data": {
      "text/plain": [
       "array(['женат / замужем', 'гражданский брак', 'вдовец / вдова',\n",
       "       'в разводе', 'Не женат / не замужем'], dtype=object)"
      ]
     },
     "execution_count": 23,
     "metadata": {},
     "output_type": "execute_result"
    }
   ],
   "source": [
    "data['family_status'].unique()\n"
   ]
  },
  {
   "cell_type": "code",
   "execution_count": 24,
   "id": "dab812f4",
   "metadata": {
    "scrolled": true
   },
   "outputs": [
    {
     "data": {
      "text/html": [
       "<div>\n",
       "<style scoped>\n",
       "    .dataframe tbody tr th:only-of-type {\n",
       "        vertical-align: middle;\n",
       "    }\n",
       "\n",
       "    .dataframe tbody tr th {\n",
       "        vertical-align: top;\n",
       "    }\n",
       "\n",
       "    .dataframe thead th {\n",
       "        text-align: right;\n",
       "    }\n",
       "</style>\n",
       "<table border=\"1\" class=\"dataframe\">\n",
       "  <thead>\n",
       "    <tr style=\"text-align: right;\">\n",
       "      <th></th>\n",
       "      <th>count</th>\n",
       "      <th>sum</th>\n",
       "      <th>no_refund_in_%</th>\n",
       "    </tr>\n",
       "    <tr>\n",
       "      <th>family_status</th>\n",
       "      <th></th>\n",
       "      <th></th>\n",
       "      <th></th>\n",
       "    </tr>\n",
       "  </thead>\n",
       "  <tbody>\n",
       "    <tr>\n",
       "      <th>Не женат / не замужем</th>\n",
       "      <td>2796</td>\n",
       "      <td>273</td>\n",
       "      <td>9.763948</td>\n",
       "    </tr>\n",
       "    <tr>\n",
       "      <th>гражданский брак</th>\n",
       "      <td>4134</td>\n",
       "      <td>385</td>\n",
       "      <td>9.313014</td>\n",
       "    </tr>\n",
       "    <tr>\n",
       "      <th>женат / замужем</th>\n",
       "      <td>12261</td>\n",
       "      <td>927</td>\n",
       "      <td>7.560558</td>\n",
       "    </tr>\n",
       "    <tr>\n",
       "      <th>в разводе</th>\n",
       "      <td>1189</td>\n",
       "      <td>84</td>\n",
       "      <td>7.064760</td>\n",
       "    </tr>\n",
       "    <tr>\n",
       "      <th>вдовец / вдова</th>\n",
       "      <td>951</td>\n",
       "      <td>63</td>\n",
       "      <td>6.624606</td>\n",
       "    </tr>\n",
       "  </tbody>\n",
       "</table>\n",
       "</div>"
      ],
      "text/plain": [
       "                       count  sum  no_refund_in_%\n",
       "family_status                                    \n",
       "Не женат / не замужем   2796  273        9.763948\n",
       "гражданский брак        4134  385        9.313014\n",
       "женат / замужем        12261  927        7.560558\n",
       "в разводе               1189   84        7.064760\n",
       "вдовец / вдова           951   63        6.624606"
      ]
     },
     "execution_count": 24,
     "metadata": {},
     "output_type": "execute_result"
    }
   ],
   "source": [
    "family_status_debt = pd.DataFrame()\n",
    "family_status_debt['count'] = data.groupby('family_status')['debt'].count()\n",
    "family_status_debt['sum'] = data.groupby('family_status')['debt'].sum()\n",
    "family_status_debt['no_refund_in_%'] = family_status_debt['sum'] / family_status_debt['count'] * 100 \n",
    "family_status_debt.sort_values('no_refund_in_%', ascending = False)"
   ]
  },
  {
   "cell_type": "markdown",
   "id": "ffe0c4ce",
   "metadata": {},
   "source": [
    "<div class=\"alert alert-success\"; style=\"border-left: 7px solid green\">\n",
    "<h5> ✔️ <font color=\"green\">Комментарий ревьюера (зеленый)</font></h5>\n",
    "\n",
    "Правильно, заемщики состоящие или состоявшие в браке реже допускают просрочку\n",
    "\n",
    "</div>"
   ]
  },
  {
   "cell_type": "markdown",
   "id": "c389ca63",
   "metadata": {
    "deletable": false,
    "id": "c389ca63"
   },
   "source": [
    "**Вывод:** \n",
    "    \n",
    "        Наименьшее количество невозвратов по кредиту приходится на вдовцов/вдов и людей в разводе. Категории \"не женат/не замужем\" и \"гражданский брак\" показывают самый большой процент по невозврату кредита. \n",
    "        Между категориями \"вдовец/вдова\", \"в разводе\" и \"женат/замужем\" разница примерно 0,5% по невозврату, а между категориями \"женат/замужем\" и \"гражданский брак\" наблюдается скачкообразный рост на 1,8%.\n",
    "        Соответственно, семейное положение влияет на невозврат кредита, наиболее \"благонадежными\" категориями в данном случае являются те категории, которые имели или имеют в настоящее время опыт зарегистрированного брака (\"вловец/вдова\", \"в разводе\", \"женат/замужем\").\n",
    "        \n",
    "    "
   ]
  },
  {
   "cell_type": "markdown",
   "id": "9529de68",
   "metadata": {
    "deletable": false,
    "editable": false,
    "id": "9529de68"
   },
   "source": [
    "#### 3.3 Есть ли зависимость между уровнем дохода и возвратом кредита в срок?"
   ]
  },
  {
   "cell_type": "markdown",
   "id": "21df4990",
   "metadata": {},
   "source": [
    "Категории дохода:\n",
    "\n",
    "- 0–30000 — `'E'`;\n",
    "- 30001–50000 — `'D'`;\n",
    "- 50001–200000 — `'C'`;\n",
    "- 200001–1000000 — `'B'`;\n",
    "- 1000001 и выше — `'A'`.\n"
   ]
  },
  {
   "cell_type": "code",
   "execution_count": 25,
   "id": "8787f44a",
   "metadata": {
    "deletable": false,
    "id": "8787f44a"
   },
   "outputs": [
    {
     "data": {
      "text/html": [
       "<div>\n",
       "<style scoped>\n",
       "    .dataframe tbody tr th:only-of-type {\n",
       "        vertical-align: middle;\n",
       "    }\n",
       "\n",
       "    .dataframe tbody tr th {\n",
       "        vertical-align: top;\n",
       "    }\n",
       "\n",
       "    .dataframe thead th {\n",
       "        text-align: right;\n",
       "    }\n",
       "</style>\n",
       "<table border=\"1\" class=\"dataframe\">\n",
       "  <thead>\n",
       "    <tr style=\"text-align: right;\">\n",
       "      <th></th>\n",
       "      <th>count</th>\n",
       "      <th>sum</th>\n",
       "      <th>no_refund_in_%</th>\n",
       "    </tr>\n",
       "    <tr>\n",
       "      <th>total_income_category</th>\n",
       "      <th></th>\n",
       "      <th></th>\n",
       "      <th></th>\n",
       "    </tr>\n",
       "  </thead>\n",
       "  <tbody>\n",
       "    <tr>\n",
       "      <th>E</th>\n",
       "      <td>22</td>\n",
       "      <td>2</td>\n",
       "      <td>9.090909</td>\n",
       "    </tr>\n",
       "    <tr>\n",
       "      <th>C</th>\n",
       "      <td>15921</td>\n",
       "      <td>1353</td>\n",
       "      <td>8.498210</td>\n",
       "    </tr>\n",
       "    <tr>\n",
       "      <th>A</th>\n",
       "      <td>25</td>\n",
       "      <td>2</td>\n",
       "      <td>8.000000</td>\n",
       "    </tr>\n",
       "    <tr>\n",
       "      <th>B</th>\n",
       "      <td>5014</td>\n",
       "      <td>354</td>\n",
       "      <td>7.060231</td>\n",
       "    </tr>\n",
       "    <tr>\n",
       "      <th>D</th>\n",
       "      <td>349</td>\n",
       "      <td>21</td>\n",
       "      <td>6.017192</td>\n",
       "    </tr>\n",
       "  </tbody>\n",
       "</table>\n",
       "</div>"
      ],
      "text/plain": [
       "                       count   sum  no_refund_in_%\n",
       "total_income_category                             \n",
       "E                         22     2        9.090909\n",
       "C                      15921  1353        8.498210\n",
       "A                         25     2        8.000000\n",
       "B                       5014   354        7.060231\n",
       "D                        349    21        6.017192"
      ]
     },
     "execution_count": 25,
     "metadata": {},
     "output_type": "execute_result"
    }
   ],
   "source": [
    "total_income_category_debt = pd.DataFrame()\n",
    "total_income_category_debt['count'] = data.groupby('total_income_category')['debt'].count()\n",
    "total_income_category_debt['sum'] = data.groupby('total_income_category')['debt'].sum()\n",
    "total_income_category_debt['no_refund_in_%'] = total_income_category_debt['sum'] / total_income_category_debt['count'] * 100 \n",
    "total_income_category_debt.sort_values('no_refund_in_%', ascending = False)"
   ]
  },
  {
   "cell_type": "markdown",
   "id": "6e6eae8f",
   "metadata": {},
   "source": [
    "<div class=\"alert alert-danger\"; style=\"border-left: 7px solid FireBrick\">\n",
    "<h5> ❌ <font color=\"FireBrick\">Комментарий ревьюера (красный)</font></h5>\n",
    "\n",
    "По группам А, D, E крайне мало данных, чтобы на них опираться\n",
    "    \n",
    "\n",
    "</div>"
   ]
  },
  {
   "cell_type": "markdown",
   "id": "ea75dc4d",
   "metadata": {},
   "source": [
    "<div class=\"alert alert-success\"; style=\"border-left: 7px solid green\">\n",
    "<h5> ✔️ <font color=\"green\">v2 Комментарий ревьюера (зеленый)</font></h5>\n",
    "\n",
    "✅ Спасибо за интересные наблюдения, на малочисленные категории заемщиков(А, D, E) ориентироваться не стоит, поэтому можно предположить, что более состоятельный клиент - более надежный 👍\n",
    " \n",
    "</div>"
   ]
  },
  {
   "cell_type": "markdown",
   "id": "6dd14b57",
   "metadata": {
    "deletable": false,
    "id": "6dd14b57"
   },
   "source": [
    "**Вывод:** \n",
    "    \n",
    "        В категориях \"A\",\"D\",\"E\" низкая выборка, чтобы опираться на эти данные. Используем их только для информациооных целей и исключаем их из анализа.\n",
    "        Лучше отдают кредит категория \"B\" с зарплатой от 200000 до 1000000 рублей. Категория \"С\" (с зарплатой 50000 до 200000) является самой многочисленной группой, это связано с тем что в эту группу попадает средняя зарплата по России. Люди категории \"С\"  отдают гредит на 1,5 % хуже, чем люди категории \"B\".\n",
    "        Выявленно, чем больше зарплата, тем люди лучше отдают кредит.\n",
    "        "
   ]
  },
  {
   "cell_type": "markdown",
   "id": "1dcc9b12",
   "metadata": {
    "deletable": false,
    "editable": false,
    "id": "1dcc9b12"
   },
   "source": [
    "#### 3.4 Как разные цели кредита влияют на его возврат в срок?"
   ]
  },
  {
   "cell_type": "code",
   "execution_count": 26,
   "id": "c602bc8b",
   "metadata": {
    "deletable": false,
    "id": "c602bc8b"
   },
   "outputs": [
    {
     "data": {
      "text/html": [
       "<div>\n",
       "<style scoped>\n",
       "    .dataframe tbody tr th:only-of-type {\n",
       "        vertical-align: middle;\n",
       "    }\n",
       "\n",
       "    .dataframe tbody tr th {\n",
       "        vertical-align: top;\n",
       "    }\n",
       "\n",
       "    .dataframe thead th {\n",
       "        text-align: right;\n",
       "    }\n",
       "</style>\n",
       "<table border=\"1\" class=\"dataframe\">\n",
       "  <thead>\n",
       "    <tr style=\"text-align: right;\">\n",
       "      <th></th>\n",
       "      <th>count</th>\n",
       "      <th>sum</th>\n",
       "      <th>no_refund_in_%</th>\n",
       "    </tr>\n",
       "    <tr>\n",
       "      <th>purpose_category</th>\n",
       "      <th></th>\n",
       "      <th></th>\n",
       "      <th></th>\n",
       "    </tr>\n",
       "  </thead>\n",
       "  <tbody>\n",
       "    <tr>\n",
       "      <th>операции с автомобилем</th>\n",
       "      <td>4279</td>\n",
       "      <td>400</td>\n",
       "      <td>9.347978</td>\n",
       "    </tr>\n",
       "    <tr>\n",
       "      <th>получение образования</th>\n",
       "      <td>3988</td>\n",
       "      <td>369</td>\n",
       "      <td>9.252758</td>\n",
       "    </tr>\n",
       "    <tr>\n",
       "      <th>проведение свадьбы</th>\n",
       "      <td>2313</td>\n",
       "      <td>183</td>\n",
       "      <td>7.911803</td>\n",
       "    </tr>\n",
       "    <tr>\n",
       "      <th>операции с недвижимостью</th>\n",
       "      <td>10751</td>\n",
       "      <td>780</td>\n",
       "      <td>7.255139</td>\n",
       "    </tr>\n",
       "  </tbody>\n",
       "</table>\n",
       "</div>"
      ],
      "text/plain": [
       "                          count  sum  no_refund_in_%\n",
       "purpose_category                                    \n",
       "операции с автомобилем     4279  400        9.347978\n",
       "получение образования      3988  369        9.252758\n",
       "проведение свадьбы         2313  183        7.911803\n",
       "операции с недвижимостью  10751  780        7.255139"
      ]
     },
     "execution_count": 26,
     "metadata": {},
     "output_type": "execute_result"
    }
   ],
   "source": [
    "purpose_category_debt = pd.DataFrame()\n",
    "purpose_category_debt['count'] = data.groupby('purpose_category')['debt'].count()\n",
    "purpose_category_debt['sum'] = data.groupby('purpose_category')['debt'].sum()\n",
    "purpose_category_debt['no_refund_in_%'] = purpose_category_debt['sum'] / purpose_category_debt['count'] * 100 \n",
    "purpose_category_debt.sort_values('no_refund_in_%', ascending = False)"
   ]
  },
  {
   "cell_type": "markdown",
   "id": "2e6c55ca",
   "metadata": {},
   "source": [
    "<div class=\"alert alert-success\"; style=\"border-left: 7px solid green\">\n",
    "<h5> ✔️ <font color=\"green\">Комментарий ревьюера (зеленый)</font></h5>\n",
    "\n",
    "Хорошее обоснование, ипотечники являются самой обширной категорией и самой добросовестной\n",
    "\n",
    "</div>"
   ]
  },
  {
   "cell_type": "markdown",
   "id": "cf05ed63",
   "metadata": {
    "deletable": false,
    "id": "cf05ed63"
   },
   "source": [
    "**Вывод:** Наибольший процент невозвратов по кредиту приходится на кредиты, полученные на автомобиль и на образование. Наименьший процент по невозврату имеют кредиты на проведение свадьбы и на операции с недвижимостью.\n",
    "Я связываю это с тем, что данные кредиты чаще всего берут молодые люди, у которых может отсутствовать стабильная трудовая занятость.\n",
    "Кредит на операции с недвижимостью - самый частый по возвращаемости. Это может быть связано с тем, что при неупрате данного кредита недвижимость может быть возвращена банку."
   ]
  },
  {
   "cell_type": "markdown",
   "id": "46c1f10b",
   "metadata": {
    "deletable": false,
    "editable": false,
    "id": "46c1f10b"
   },
   "source": [
    "#### 3.5 Приведите возможные причины появления пропусков в исходных данных."
   ]
  },
  {
   "cell_type": "markdown",
   "id": "3697d2a9",
   "metadata": {
    "deletable": false,
    "id": "3697d2a9"
   },
   "source": [
    "*Ответ:* \n",
    "- Сам пользователь не предоставил данных.\n",
    "- Система сбора данных дала сбой. \n",
    "- Данные не предоставлены умышленно, так как пользователь полагал, что данные установятся по умолчанию. \n",
    "- Данные при вводе были повреждены. \n",
    "- Запрос данных не понятен пользователю.\n",
    "- При вводе данных пропуски оставлены случайно."
   ]
  },
  {
   "cell_type": "markdown",
   "id": "8baa1266",
   "metadata": {},
   "source": [
    "<div class=\"alert alert-success\"; style=\"border-left: 7px solid green\">\n",
    "<h5> ✔️ <font color=\"green\">Комментарий ревьюера (зеленый)</font></h5>\n",
    "\n",
    "Да, основные причины — технические ошибки и человеческий фактор\n",
    "\n",
    "</div>"
   ]
  },
  {
   "cell_type": "markdown",
   "id": "3137d257",
   "metadata": {
    "deletable": false,
    "editable": false,
    "id": "3137d257"
   },
   "source": [
    "#### 3.6 Объясните, почему заполнить пропуски медианным значением — лучшее решение для количественных переменных."
   ]
  },
  {
   "cell_type": "markdown",
   "id": "cf40012a",
   "metadata": {
    "deletable": false,
    "id": "cf40012a"
   },
   "source": [
    "        \"Кто-то ест капусту, кто-то - мясо, в среднем все едят голубцы\" - народная мудрость. \n",
    "\n",
    "        Среднее арифметическое отражает ситуацию некорректно, так как не учитывает разброс данных. \n",
    "        Медианное значение наиболее корректно отражает выборку в целом, в случае, если есть незаполненные данные, присутствуют ошибочные данные(сильно высокие или сильно низкие) и те которые выбиваются из общего числа.  \n",
    "\n"
   ]
  },
  {
   "cell_type": "markdown",
   "id": "6fd4e711",
   "metadata": {},
   "source": [
    "<div class=\"alert alert-success\"; style=\"border-left: 7px solid green\">\n",
    "<h5> ✔️ <font color=\"green\">Комментарий ревьюера (зеленый)</font></h5>\n",
    "\n",
    "Верно, медиана в отличие от среднего значения, менее чувствительна к выбросам, среднее значение смещается в сторону выбросов.\n",
    "\n",
    "</div>"
   ]
  },
  {
   "cell_type": "markdown",
   "id": "57bc304e",
   "metadata": {
    "deletable": false,
    "editable": false,
    "id": "57bc304e"
   },
   "source": [
    "### Шаг 4: общий вывод."
   ]
  },
  {
   "cell_type": "markdown",
   "id": "1ab75d1c",
   "metadata": {
    "deletable": false,
    "id": "1ab75d1c"
   },
   "source": [
    "В этом проекте мы выполняли исследование надежности заемщиков. \n",
    "\n",
    "В первой части проекта произведенна предобработка данных: \n",
    "- Выявили пропущенных значения в столбцах \"days_employed\" и \"total_income\". В столбце \"total_income\" и \"days_employed\" пропуски в  столбце заполнили медианным значением по каждому типу из столбца \"income_type\". \n",
    "- Выполнили удаление дубликатов. \n",
    "- Произвели категоризацию данных сформировав новые столбцы \"purpose_category\" и \"total_income_category\".\n",
    "    \n",
    "Во второй части проекта произвели исследованние  данных:\n",
    "- между количеством детей и возвратом кредита в срок\n",
    "- между семейным положением и возвратом кредита в срок\n",
    "- между уровнем дохода и возвратом кредита в срок\n",
    "- как разные цели кредита влияют на его возврат в срок\n",
    "\n",
    "Создали по каждому типу сводные таблицы и выявили закономерности. Наблюдается увеличение процента невозврата по кредиту при увеличении количества детей у заемщика.  Семейное положение влияет на невозврат кредита, наиболее \"благонадежными\" категориями  являются те категории, которые имели или имеют в настоящее время опыт зарегистрированного брака (\"вловец/вдова\", \"в разводе\", \"женат/замужем\").Люди с более высокой зарплатой лучше отдают кредит. Лучше всего отдают кредит по операциям с недвижимостью и для проведения свадьбы, хуже всего по операции с автомобилем и получение образования.\t\n",
    "        "
   ]
  },
  {
   "cell_type": "markdown",
   "id": "cf9e213f",
   "metadata": {},
   "source": [
    "     \n",
    "\n"
   ]
  },
  {
   "cell_type": "markdown",
   "id": "a0770dce",
   "metadata": {},
   "source": [
    "<div class=\"alert alert-danger\"; style=\"border-left: 7px solid FireBrick\">\n",
    "<h5> ❌ <font color=\"FireBrick\">Комментарий ревьюера (красный)</font></h5>\n",
    "\n",
    "В общем выводе хочется тезисно видеть все промежуточные выводы с цифрами. Это очень важно, поскольку топ-менеджеры, в большинстве своем, смотрят сразу сюда и только сюда...\n",
    "\n",
    "Тут важно обратиться к целям, которые были озвучены в самом начале и ответить на все вопросы. Важно оформить все тезисно и с цифрами. Еще важно описать все промежуточные выводы, которых не прописано в целях.\n",
    "Вкратце структура такая:\n",
    "- как были предобработаны данные(тут важно написать про изменения, если заполнялись пропуски или преобразовывались строки)\n",
    "- пройдись по целям и ответь на вопросы\n",
    "- добавь промежуточные выводы, которые считаешь нужным отметить\n",
    "\n",
    "Еще очень важно помнить, для кого ты делаешь проект, в зависимости от этого нужно сделать определенные акценты. В данном случае проект учебный, поэтому нужно ориентироваться по описанию.\n",
    "\n",
    "Для красивого оформления можешь воспользоваться [Кратким руководством по Маркдауну](https://paulradzkov.com/2014/markdown_cheatsheet/).\n",
    "    \n",
    "\n",
    "</div>"
   ]
  },
  {
   "cell_type": "markdown",
   "id": "944933cb",
   "metadata": {},
   "source": [
    "<div class=\"alert alert-success\"; style=\"border-left: 7px solid green\">\n",
    "<h5> ✔️ <font color=\"green\">v2 Комментарий ревьюера (зеленый)</font></h5>\n",
    "\n",
    "✅ Спасибо, очень хороший и подробный общий вывод, которые содержит все промежуточные результаты 👍\n",
    " \n",
    "</div>"
   ]
  }
 ],
 "metadata": {
  "ExecuteTimeLog": [
   {
    "duration": 99,
    "start_time": "2023-07-24T16:09:31.191Z"
   },
   {
    "duration": 646,
    "start_time": "2023-07-24T16:10:50.033Z"
   },
   {
    "duration": 37,
    "start_time": "2023-07-24T16:10:50.682Z"
   },
   {
    "duration": 30,
    "start_time": "2023-07-24T16:10:50.725Z"
   },
   {
    "duration": 21,
    "start_time": "2023-07-24T16:10:50.758Z"
   },
   {
    "duration": 77,
    "start_time": "2023-07-24T16:10:50.781Z"
   },
   {
    "duration": 5,
    "start_time": "2023-07-24T16:10:50.862Z"
   },
   {
    "duration": 39,
    "start_time": "2023-07-24T16:10:50.869Z"
   },
   {
    "duration": 73,
    "start_time": "2023-07-24T16:10:50.909Z"
   },
   {
    "duration": 65,
    "start_time": "2023-07-24T16:10:50.985Z"
   },
   {
    "duration": 19,
    "start_time": "2023-07-24T16:10:51.054Z"
   },
   {
    "duration": 74,
    "start_time": "2023-07-24T16:10:51.075Z"
   },
   {
    "duration": 23,
    "start_time": "2023-07-24T16:10:51.153Z"
   },
   {
    "duration": 9,
    "start_time": "2023-07-24T16:10:51.178Z"
   },
   {
    "duration": 90,
    "start_time": "2023-07-24T16:10:51.189Z"
   },
   {
    "duration": 82,
    "start_time": "2023-07-24T16:10:51.281Z"
   },
   {
    "duration": 24,
    "start_time": "2023-07-24T16:10:51.365Z"
   },
   {
    "duration": 5,
    "start_time": "2023-07-24T16:10:51.391Z"
   },
   {
    "duration": 64,
    "start_time": "2023-07-24T16:10:51.402Z"
   },
   {
    "duration": 6,
    "start_time": "2023-07-24T16:10:51.468Z"
   },
   {
    "duration": 60,
    "start_time": "2023-07-24T16:10:51.476Z"
   },
   {
    "duration": 18,
    "start_time": "2023-07-24T16:10:51.538Z"
   },
   {
    "duration": 49,
    "start_time": "2023-07-24T16:10:51.558Z"
   },
   {
    "duration": 12,
    "start_time": "2023-07-24T16:10:51.614Z"
   },
   {
    "duration": 51,
    "start_time": "2023-07-24T16:10:51.635Z"
   },
   {
    "duration": 86,
    "start_time": "2023-07-24T16:10:51.689Z"
   },
   {
    "duration": 5,
    "start_time": "2023-07-24T16:12:53.655Z"
   },
   {
    "duration": 97,
    "start_time": "2023-07-24T16:13:49.180Z"
   },
   {
    "duration": 7,
    "start_time": "2023-07-24T16:15:33.084Z"
   },
   {
    "duration": 5,
    "start_time": "2023-07-24T16:17:54.547Z"
   },
   {
    "duration": 3,
    "start_time": "2023-07-24T16:18:03.584Z"
   },
   {
    "duration": 17,
    "start_time": "2023-07-24T16:18:06.817Z"
   },
   {
    "duration": 10,
    "start_time": "2023-07-24T16:18:11.121Z"
   },
   {
    "duration": 20,
    "start_time": "2023-07-24T16:18:42.499Z"
   },
   {
    "duration": 9,
    "start_time": "2023-07-24T16:21:16.884Z"
   },
   {
    "duration": 9,
    "start_time": "2023-07-24T16:21:32.121Z"
   },
   {
    "duration": 9,
    "start_time": "2023-07-24T16:22:11.022Z"
   },
   {
    "duration": 8,
    "start_time": "2023-07-24T16:25:24.730Z"
   },
   {
    "duration": 11,
    "start_time": "2023-07-24T16:25:54.917Z"
   },
   {
    "duration": 10,
    "start_time": "2023-07-24T16:26:11.012Z"
   },
   {
    "duration": 11,
    "start_time": "2023-07-24T16:26:56.421Z"
   },
   {
    "duration": 7,
    "start_time": "2023-07-24T16:27:44.373Z"
   },
   {
    "duration": 8,
    "start_time": "2023-07-24T16:27:58.275Z"
   },
   {
    "duration": 9,
    "start_time": "2023-07-24T16:28:16.748Z"
   },
   {
    "duration": 467,
    "start_time": "2023-07-24T16:28:57.222Z"
   },
   {
    "duration": 28,
    "start_time": "2023-07-24T16:28:57.691Z"
   },
   {
    "duration": 26,
    "start_time": "2023-07-24T16:28:57.721Z"
   },
   {
    "duration": 9,
    "start_time": "2023-07-24T16:28:57.749Z"
   },
   {
    "duration": 39,
    "start_time": "2023-07-24T16:28:57.759Z"
   },
   {
    "duration": 8,
    "start_time": "2023-07-24T16:28:57.799Z"
   },
   {
    "duration": 70,
    "start_time": "2023-07-24T16:28:57.809Z"
   },
   {
    "duration": 5,
    "start_time": "2023-07-24T16:28:57.881Z"
   },
   {
    "duration": 13,
    "start_time": "2023-07-24T16:28:57.888Z"
   },
   {
    "duration": 38,
    "start_time": "2023-07-24T16:28:57.906Z"
   },
   {
    "duration": 79,
    "start_time": "2023-07-24T16:28:57.946Z"
   },
   {
    "duration": 10,
    "start_time": "2023-07-24T16:28:58.027Z"
   },
   {
    "duration": 10,
    "start_time": "2023-07-24T16:28:58.038Z"
   },
   {
    "duration": 14,
    "start_time": "2023-07-24T16:28:58.049Z"
   },
   {
    "duration": 19,
    "start_time": "2023-07-24T16:28:58.065Z"
   },
   {
    "duration": 36,
    "start_time": "2023-07-24T16:28:58.086Z"
   },
   {
    "duration": 9,
    "start_time": "2023-07-24T16:28:58.124Z"
   },
   {
    "duration": 13,
    "start_time": "2023-07-24T16:28:58.134Z"
   },
   {
    "duration": 21,
    "start_time": "2023-07-24T16:28:58.149Z"
   },
   {
    "duration": 5,
    "start_time": "2023-07-24T16:28:58.171Z"
   },
   {
    "duration": 27,
    "start_time": "2023-07-24T16:28:58.179Z"
   },
   {
    "duration": 55,
    "start_time": "2023-07-24T16:28:58.208Z"
   },
   {
    "duration": 3,
    "start_time": "2023-07-24T16:28:58.264Z"
   },
   {
    "duration": 20,
    "start_time": "2023-07-24T16:28:58.269Z"
   },
   {
    "duration": 41,
    "start_time": "2023-07-24T16:28:58.290Z"
   },
   {
    "duration": 7,
    "start_time": "2023-07-24T16:29:19.753Z"
   },
   {
    "duration": 7,
    "start_time": "2023-07-24T16:29:59.123Z"
   },
   {
    "duration": 67,
    "start_time": "2023-07-24T18:07:49.198Z"
   },
   {
    "duration": 7,
    "start_time": "2023-07-24T18:07:57.044Z"
   },
   {
    "duration": 3,
    "start_time": "2023-07-24T18:21:53.628Z"
   },
   {
    "duration": 19,
    "start_time": "2023-07-24T18:22:28.699Z"
   },
   {
    "duration": 13,
    "start_time": "2023-07-24T18:22:59.916Z"
   },
   {
    "duration": 9,
    "start_time": "2023-07-24T18:23:14.311Z"
   },
   {
    "duration": 15,
    "start_time": "2023-07-24T18:23:18.781Z"
   },
   {
    "duration": 11,
    "start_time": "2023-07-24T18:23:38.215Z"
   },
   {
    "duration": 14,
    "start_time": "2023-07-24T18:23:42.267Z"
   },
   {
    "duration": 9,
    "start_time": "2023-07-24T18:24:06.559Z"
   },
   {
    "duration": 10,
    "start_time": "2023-07-24T18:24:11.251Z"
   },
   {
    "duration": 14,
    "start_time": "2023-07-24T18:24:15.750Z"
   },
   {
    "duration": 16,
    "start_time": "2023-07-24T18:29:52.499Z"
   },
   {
    "duration": 21,
    "start_time": "2023-07-24T18:30:32.701Z"
   },
   {
    "duration": 15,
    "start_time": "2023-07-24T18:30:49.757Z"
   },
   {
    "duration": 11,
    "start_time": "2023-07-24T18:33:16.630Z"
   },
   {
    "duration": 10,
    "start_time": "2023-07-24T18:33:44.378Z"
   },
   {
    "duration": 462,
    "start_time": "2023-07-24T18:33:57.235Z"
   },
   {
    "duration": 25,
    "start_time": "2023-07-24T18:33:57.699Z"
   },
   {
    "duration": 17,
    "start_time": "2023-07-24T18:33:57.726Z"
   },
   {
    "duration": 24,
    "start_time": "2023-07-24T18:33:57.745Z"
   },
   {
    "duration": 61,
    "start_time": "2023-07-24T18:33:57.771Z"
   },
   {
    "duration": 4,
    "start_time": "2023-07-24T18:33:57.834Z"
   },
   {
    "duration": 14,
    "start_time": "2023-07-24T18:33:57.839Z"
   },
   {
    "duration": 24,
    "start_time": "2023-07-24T18:33:57.854Z"
   },
   {
    "duration": 15,
    "start_time": "2023-07-24T18:33:57.880Z"
   },
   {
    "duration": 12,
    "start_time": "2023-07-24T18:33:57.898Z"
   },
   {
    "duration": 52,
    "start_time": "2023-07-24T18:33:57.912Z"
   },
   {
    "duration": 10,
    "start_time": "2023-07-24T18:33:57.967Z"
   },
   {
    "duration": 5,
    "start_time": "2023-07-24T18:33:57.978Z"
   },
   {
    "duration": 18,
    "start_time": "2023-07-24T18:33:57.985Z"
   },
   {
    "duration": 31,
    "start_time": "2023-07-24T18:33:58.005Z"
   },
   {
    "duration": 19,
    "start_time": "2023-07-24T18:33:58.037Z"
   },
   {
    "duration": 3,
    "start_time": "2023-07-24T18:33:58.058Z"
   },
   {
    "duration": 25,
    "start_time": "2023-07-24T18:33:58.063Z"
   },
   {
    "duration": 9,
    "start_time": "2023-07-24T18:33:58.090Z"
   },
   {
    "duration": 7,
    "start_time": "2023-07-24T18:33:58.100Z"
   },
   {
    "duration": 18,
    "start_time": "2023-07-24T18:33:58.108Z"
   },
   {
    "duration": 79,
    "start_time": "2023-07-24T18:33:58.128Z"
   },
   {
    "duration": 0,
    "start_time": "2023-07-24T18:33:58.209Z"
   },
   {
    "duration": 0,
    "start_time": "2023-07-24T18:33:58.210Z"
   },
   {
    "duration": 0,
    "start_time": "2023-07-24T18:33:58.213Z"
   },
   {
    "duration": 6,
    "start_time": "2023-07-24T18:34:11.751Z"
   },
   {
    "duration": 8,
    "start_time": "2023-07-24T18:34:18.381Z"
   },
   {
    "duration": 6,
    "start_time": "2023-07-24T18:34:44.954Z"
   },
   {
    "duration": 493,
    "start_time": "2023-07-24T18:34:49.412Z"
   },
   {
    "duration": 23,
    "start_time": "2023-07-24T18:34:49.908Z"
   },
   {
    "duration": 17,
    "start_time": "2023-07-24T18:34:49.933Z"
   },
   {
    "duration": 11,
    "start_time": "2023-07-24T18:34:49.952Z"
   },
   {
    "duration": 64,
    "start_time": "2023-07-24T18:34:49.964Z"
   },
   {
    "duration": 4,
    "start_time": "2023-07-24T18:34:50.030Z"
   },
   {
    "duration": 27,
    "start_time": "2023-07-24T18:34:50.036Z"
   },
   {
    "duration": 19,
    "start_time": "2023-07-24T18:34:50.065Z"
   },
   {
    "duration": 28,
    "start_time": "2023-07-24T18:34:50.086Z"
   },
   {
    "duration": 18,
    "start_time": "2023-07-24T18:34:50.118Z"
   },
   {
    "duration": 44,
    "start_time": "2023-07-24T18:34:50.138Z"
   },
   {
    "duration": 17,
    "start_time": "2023-07-24T18:34:50.184Z"
   },
   {
    "duration": 12,
    "start_time": "2023-07-24T18:34:50.203Z"
   },
   {
    "duration": 32,
    "start_time": "2023-07-24T18:34:50.216Z"
   },
   {
    "duration": 60,
    "start_time": "2023-07-24T18:34:50.249Z"
   },
   {
    "duration": 32,
    "start_time": "2023-07-24T18:34:50.311Z"
   },
   {
    "duration": 13,
    "start_time": "2023-07-24T18:34:50.345Z"
   },
   {
    "duration": 29,
    "start_time": "2023-07-24T18:34:50.360Z"
   },
   {
    "duration": 45,
    "start_time": "2023-07-24T18:34:50.391Z"
   },
   {
    "duration": 11,
    "start_time": "2023-07-24T18:34:50.438Z"
   },
   {
    "duration": 27,
    "start_time": "2023-07-24T18:34:50.451Z"
   },
   {
    "duration": 96,
    "start_time": "2023-07-24T18:34:50.480Z"
   },
   {
    "duration": 0,
    "start_time": "2023-07-24T18:34:50.578Z"
   },
   {
    "duration": 0,
    "start_time": "2023-07-24T18:34:50.579Z"
   },
   {
    "duration": 0,
    "start_time": "2023-07-24T18:34:50.580Z"
   },
   {
    "duration": 9,
    "start_time": "2023-07-24T18:34:54.692Z"
   },
   {
    "duration": 9,
    "start_time": "2023-07-24T18:34:58.922Z"
   },
   {
    "duration": 445,
    "start_time": "2023-07-24T18:35:03.656Z"
   },
   {
    "duration": 23,
    "start_time": "2023-07-24T18:35:04.103Z"
   },
   {
    "duration": 107,
    "start_time": "2023-07-24T18:35:04.128Z"
   },
   {
    "duration": 101,
    "start_time": "2023-07-24T18:35:04.238Z"
   },
   {
    "duration": 36,
    "start_time": "2023-07-24T18:35:04.341Z"
   },
   {
    "duration": 5,
    "start_time": "2023-07-24T18:35:04.379Z"
   },
   {
    "duration": 19,
    "start_time": "2023-07-24T18:35:04.386Z"
   },
   {
    "duration": 23,
    "start_time": "2023-07-24T18:35:04.407Z"
   },
   {
    "duration": 16,
    "start_time": "2023-07-24T18:35:04.431Z"
   },
   {
    "duration": 11,
    "start_time": "2023-07-24T18:35:04.450Z"
   },
   {
    "duration": 49,
    "start_time": "2023-07-24T18:35:04.463Z"
   },
   {
    "duration": 9,
    "start_time": "2023-07-24T18:35:04.514Z"
   },
   {
    "duration": 5,
    "start_time": "2023-07-24T18:35:04.524Z"
   },
   {
    "duration": 13,
    "start_time": "2023-07-24T18:35:04.531Z"
   },
   {
    "duration": 24,
    "start_time": "2023-07-24T18:35:04.545Z"
   },
   {
    "duration": 30,
    "start_time": "2023-07-24T18:35:04.570Z"
   },
   {
    "duration": 3,
    "start_time": "2023-07-24T18:35:04.602Z"
   },
   {
    "duration": 13,
    "start_time": "2023-07-24T18:35:04.607Z"
   },
   {
    "duration": 8,
    "start_time": "2023-07-24T18:35:04.622Z"
   },
   {
    "duration": 5,
    "start_time": "2023-07-24T18:35:04.631Z"
   },
   {
    "duration": 14,
    "start_time": "2023-07-24T18:35:04.637Z"
   },
   {
    "duration": 84,
    "start_time": "2023-07-24T18:35:04.653Z"
   },
   {
    "duration": 0,
    "start_time": "2023-07-24T18:35:04.738Z"
   },
   {
    "duration": 0,
    "start_time": "2023-07-24T18:35:04.739Z"
   },
   {
    "duration": 0,
    "start_time": "2023-07-24T18:35:04.740Z"
   },
   {
    "duration": 9,
    "start_time": "2023-07-24T18:35:30.055Z"
   },
   {
    "duration": 6,
    "start_time": "2023-07-24T18:47:35.943Z"
   },
   {
    "duration": 536,
    "start_time": "2023-07-24T18:47:47.970Z"
   },
   {
    "duration": 24,
    "start_time": "2023-07-24T18:47:48.508Z"
   },
   {
    "duration": 16,
    "start_time": "2023-07-24T18:47:48.534Z"
   },
   {
    "duration": 11,
    "start_time": "2023-07-24T18:47:48.553Z"
   },
   {
    "duration": 58,
    "start_time": "2023-07-24T18:47:48.566Z"
   },
   {
    "duration": 4,
    "start_time": "2023-07-24T18:47:48.626Z"
   },
   {
    "duration": 31,
    "start_time": "2023-07-24T18:47:48.632Z"
   },
   {
    "duration": 17,
    "start_time": "2023-07-24T18:47:48.664Z"
   },
   {
    "duration": 14,
    "start_time": "2023-07-24T18:47:48.684Z"
   },
   {
    "duration": 8,
    "start_time": "2023-07-24T18:47:48.704Z"
   },
   {
    "duration": 38,
    "start_time": "2023-07-24T18:47:48.713Z"
   },
   {
    "duration": 11,
    "start_time": "2023-07-24T18:47:48.753Z"
   },
   {
    "duration": 5,
    "start_time": "2023-07-24T18:47:48.766Z"
   },
   {
    "duration": 30,
    "start_time": "2023-07-24T18:47:48.773Z"
   },
   {
    "duration": 23,
    "start_time": "2023-07-24T18:47:48.805Z"
   },
   {
    "duration": 22,
    "start_time": "2023-07-24T18:47:48.830Z"
   },
   {
    "duration": 3,
    "start_time": "2023-07-24T18:47:48.854Z"
   },
   {
    "duration": 37,
    "start_time": "2023-07-24T18:47:48.859Z"
   },
   {
    "duration": 6,
    "start_time": "2023-07-24T18:47:48.899Z"
   },
   {
    "duration": 8,
    "start_time": "2023-07-24T18:47:48.906Z"
   },
   {
    "duration": 19,
    "start_time": "2023-07-24T18:47:48.916Z"
   },
   {
    "duration": 8,
    "start_time": "2023-07-24T18:47:48.936Z"
   },
   {
    "duration": 7,
    "start_time": "2023-07-24T18:47:48.945Z"
   },
   {
    "duration": 9,
    "start_time": "2023-07-24T18:47:48.954Z"
   },
   {
    "duration": 16,
    "start_time": "2023-07-24T18:47:48.965Z"
   },
   {
    "duration": 119,
    "start_time": "2023-07-24T18:48:48.652Z"
   },
   {
    "duration": 5,
    "start_time": "2023-07-24T18:48:56.061Z"
   },
   {
    "duration": 8,
    "start_time": "2023-07-24T18:49:03.760Z"
   },
   {
    "duration": 6,
    "start_time": "2023-07-24T18:49:20.798Z"
   },
   {
    "duration": 5,
    "start_time": "2023-07-24T18:50:33.127Z"
   },
   {
    "duration": 7,
    "start_time": "2023-07-24T18:50:38.303Z"
   },
   {
    "duration": 66,
    "start_time": "2023-07-24T18:52:25.884Z"
   },
   {
    "duration": 9,
    "start_time": "2023-07-24T18:52:33.597Z"
   },
   {
    "duration": 10,
    "start_time": "2023-07-24T18:52:52.199Z"
   },
   {
    "duration": 8,
    "start_time": "2023-07-24T18:52:57.399Z"
   },
   {
    "duration": 10,
    "start_time": "2023-07-24T18:53:34.202Z"
   },
   {
    "duration": 13,
    "start_time": "2023-07-24T18:53:43.534Z"
   },
   {
    "duration": 10,
    "start_time": "2023-07-24T18:55:18.669Z"
   },
   {
    "duration": 6,
    "start_time": "2023-07-24T18:56:26.110Z"
   },
   {
    "duration": 10,
    "start_time": "2023-07-24T18:56:33.979Z"
   },
   {
    "duration": 1629,
    "start_time": "2023-07-24T18:58:30.486Z"
   },
   {
    "duration": 10,
    "start_time": "2023-07-24T18:59:25.562Z"
   },
   {
    "duration": 18,
    "start_time": "2023-07-24T19:00:52.832Z"
   },
   {
    "duration": 11,
    "start_time": "2023-07-24T19:01:19.087Z"
   },
   {
    "duration": 13,
    "start_time": "2023-07-24T19:02:30.247Z"
   },
   {
    "duration": 10,
    "start_time": "2023-07-24T19:02:39.160Z"
   },
   {
    "duration": 11,
    "start_time": "2023-07-24T19:03:03.499Z"
   },
   {
    "duration": 8,
    "start_time": "2023-07-24T19:03:24.552Z"
   },
   {
    "duration": 1681,
    "start_time": "2023-07-24T19:03:29.714Z"
   },
   {
    "duration": 12,
    "start_time": "2023-07-24T19:03:50.035Z"
   },
   {
    "duration": 12,
    "start_time": "2023-07-24T19:03:54.520Z"
   },
   {
    "duration": 13,
    "start_time": "2023-07-24T19:04:04.987Z"
   },
   {
    "duration": 9,
    "start_time": "2023-07-24T19:07:24.622Z"
   },
   {
    "duration": 20,
    "start_time": "2023-07-24T19:10:10.228Z"
   },
   {
    "duration": 21,
    "start_time": "2023-07-24T19:11:47.050Z"
   },
   {
    "duration": 14,
    "start_time": "2023-07-24T19:11:54.552Z"
   },
   {
    "duration": 461,
    "start_time": "2023-07-24T19:11:57.753Z"
   },
   {
    "duration": 23,
    "start_time": "2023-07-24T19:11:58.216Z"
   },
   {
    "duration": 28,
    "start_time": "2023-07-24T19:11:58.241Z"
   },
   {
    "duration": 12,
    "start_time": "2023-07-24T19:11:58.271Z"
   },
   {
    "duration": 44,
    "start_time": "2023-07-24T19:11:58.297Z"
   },
   {
    "duration": 4,
    "start_time": "2023-07-24T19:11:58.343Z"
   },
   {
    "duration": 22,
    "start_time": "2023-07-24T19:11:58.349Z"
   },
   {
    "duration": 6,
    "start_time": "2023-07-24T19:11:58.373Z"
   },
   {
    "duration": 23,
    "start_time": "2023-07-24T19:11:58.380Z"
   },
   {
    "duration": 5,
    "start_time": "2023-07-24T19:11:58.406Z"
   },
   {
    "duration": 45,
    "start_time": "2023-07-24T19:11:58.413Z"
   },
   {
    "duration": 12,
    "start_time": "2023-07-24T19:11:58.460Z"
   },
   {
    "duration": 5,
    "start_time": "2023-07-24T19:11:58.494Z"
   },
   {
    "duration": 27,
    "start_time": "2023-07-24T19:11:58.501Z"
   },
   {
    "duration": 33,
    "start_time": "2023-07-24T19:11:58.530Z"
   },
   {
    "duration": 43,
    "start_time": "2023-07-24T19:11:58.565Z"
   },
   {
    "duration": 4,
    "start_time": "2023-07-24T19:11:58.610Z"
   },
   {
    "duration": 18,
    "start_time": "2023-07-24T19:11:58.616Z"
   },
   {
    "duration": 10,
    "start_time": "2023-07-24T19:11:58.636Z"
   },
   {
    "duration": 5,
    "start_time": "2023-07-24T19:11:58.648Z"
   },
   {
    "duration": 13,
    "start_time": "2023-07-24T19:11:58.655Z"
   },
   {
    "duration": 87,
    "start_time": "2023-07-24T19:11:58.670Z"
   },
   {
    "duration": 0,
    "start_time": "2023-07-24T19:11:58.759Z"
   },
   {
    "duration": 0,
    "start_time": "2023-07-24T19:11:58.760Z"
   },
   {
    "duration": 0,
    "start_time": "2023-07-24T19:11:58.761Z"
   },
   {
    "duration": 9,
    "start_time": "2023-07-24T19:12:33.068Z"
   },
   {
    "duration": 13,
    "start_time": "2023-07-24T19:12:38.014Z"
   },
   {
    "duration": 10,
    "start_time": "2023-07-24T19:12:52.613Z"
   },
   {
    "duration": 9,
    "start_time": "2023-07-24T19:12:59.762Z"
   },
   {
    "duration": 12,
    "start_time": "2023-07-24T19:13:01.403Z"
   },
   {
    "duration": 487,
    "start_time": "2023-07-24T19:13:14.650Z"
   },
   {
    "duration": 25,
    "start_time": "2023-07-24T19:13:15.140Z"
   },
   {
    "duration": 32,
    "start_time": "2023-07-24T19:13:15.168Z"
   },
   {
    "duration": 21,
    "start_time": "2023-07-24T19:13:15.202Z"
   },
   {
    "duration": 62,
    "start_time": "2023-07-24T19:13:15.226Z"
   },
   {
    "duration": 4,
    "start_time": "2023-07-24T19:13:15.289Z"
   },
   {
    "duration": 15,
    "start_time": "2023-07-24T19:13:15.295Z"
   },
   {
    "duration": 5,
    "start_time": "2023-07-24T19:13:15.313Z"
   },
   {
    "duration": 28,
    "start_time": "2023-07-24T19:13:15.320Z"
   },
   {
    "duration": 25,
    "start_time": "2023-07-24T19:13:15.350Z"
   },
   {
    "duration": 86,
    "start_time": "2023-07-24T19:13:15.377Z"
   },
   {
    "duration": 17,
    "start_time": "2023-07-24T19:13:15.466Z"
   },
   {
    "duration": 9,
    "start_time": "2023-07-24T19:13:15.486Z"
   },
   {
    "duration": 19,
    "start_time": "2023-07-24T19:13:15.499Z"
   },
   {
    "duration": 39,
    "start_time": "2023-07-24T19:13:15.521Z"
   },
   {
    "duration": 37,
    "start_time": "2023-07-24T19:13:15.562Z"
   },
   {
    "duration": 4,
    "start_time": "2023-07-24T19:13:15.601Z"
   },
   {
    "duration": 22,
    "start_time": "2023-07-24T19:13:15.606Z"
   },
   {
    "duration": 6,
    "start_time": "2023-07-24T19:13:15.630Z"
   },
   {
    "duration": 19,
    "start_time": "2023-07-24T19:13:15.638Z"
   },
   {
    "duration": 17,
    "start_time": "2023-07-24T19:13:15.659Z"
   },
   {
    "duration": 85,
    "start_time": "2023-07-24T19:13:15.678Z"
   },
   {
    "duration": 0,
    "start_time": "2023-07-24T19:13:15.765Z"
   },
   {
    "duration": 0,
    "start_time": "2023-07-24T19:13:15.766Z"
   },
   {
    "duration": 0,
    "start_time": "2023-07-24T19:13:15.767Z"
   },
   {
    "duration": 2519,
    "start_time": "2023-07-24T19:13:49.265Z"
   },
   {
    "duration": 2877,
    "start_time": "2023-07-24T19:13:52.122Z"
   },
   {
    "duration": 14,
    "start_time": "2023-07-24T19:14:25.220Z"
   },
   {
    "duration": 16,
    "start_time": "2023-07-24T19:14:31.747Z"
   },
   {
    "duration": 13,
    "start_time": "2023-07-24T19:15:02.007Z"
   },
   {
    "duration": 500,
    "start_time": "2023-07-24T19:18:07.872Z"
   },
   {
    "duration": 21,
    "start_time": "2023-07-24T19:18:08.374Z"
   },
   {
    "duration": 14,
    "start_time": "2023-07-24T19:18:08.397Z"
   },
   {
    "duration": 10,
    "start_time": "2023-07-24T19:18:08.413Z"
   },
   {
    "duration": 41,
    "start_time": "2023-07-24T19:18:08.425Z"
   },
   {
    "duration": 3,
    "start_time": "2023-07-24T19:18:08.468Z"
   },
   {
    "duration": 25,
    "start_time": "2023-07-24T19:18:08.473Z"
   },
   {
    "duration": 12,
    "start_time": "2023-07-24T19:18:08.499Z"
   },
   {
    "duration": 20,
    "start_time": "2023-07-24T19:18:08.513Z"
   },
   {
    "duration": 6,
    "start_time": "2023-07-24T19:18:08.535Z"
   },
   {
    "duration": 41,
    "start_time": "2023-07-24T19:18:08.542Z"
   },
   {
    "duration": 15,
    "start_time": "2023-07-24T19:18:08.585Z"
   },
   {
    "duration": 15,
    "start_time": "2023-07-24T19:18:08.602Z"
   },
   {
    "duration": 18,
    "start_time": "2023-07-24T19:18:08.620Z"
   },
   {
    "duration": 25,
    "start_time": "2023-07-24T19:18:08.640Z"
   },
   {
    "duration": 17,
    "start_time": "2023-07-24T19:18:08.666Z"
   },
   {
    "duration": 10,
    "start_time": "2023-07-24T19:18:08.685Z"
   },
   {
    "duration": 18,
    "start_time": "2023-07-24T19:18:08.697Z"
   },
   {
    "duration": 21,
    "start_time": "2023-07-24T19:18:08.717Z"
   },
   {
    "duration": 4,
    "start_time": "2023-07-24T19:18:08.740Z"
   },
   {
    "duration": 30,
    "start_time": "2023-07-24T19:18:08.746Z"
   },
   {
    "duration": 86,
    "start_time": "2023-07-24T19:18:08.779Z"
   },
   {
    "duration": 0,
    "start_time": "2023-07-24T19:18:08.867Z"
   },
   {
    "duration": 0,
    "start_time": "2023-07-24T19:18:08.868Z"
   },
   {
    "duration": 0,
    "start_time": "2023-07-24T19:18:08.869Z"
   },
   {
    "duration": 471,
    "start_time": "2023-07-24T19:18:15.506Z"
   },
   {
    "duration": 27,
    "start_time": "2023-07-24T19:18:15.979Z"
   },
   {
    "duration": 17,
    "start_time": "2023-07-24T19:18:16.008Z"
   },
   {
    "duration": 11,
    "start_time": "2023-07-24T19:18:16.028Z"
   },
   {
    "duration": 61,
    "start_time": "2023-07-24T19:18:16.041Z"
   },
   {
    "duration": 4,
    "start_time": "2023-07-24T19:18:16.103Z"
   },
   {
    "duration": 33,
    "start_time": "2023-07-24T19:18:16.108Z"
   },
   {
    "duration": 20,
    "start_time": "2023-07-24T19:18:16.142Z"
   },
   {
    "duration": 16,
    "start_time": "2023-07-24T19:18:16.164Z"
   },
   {
    "duration": 6,
    "start_time": "2023-07-24T19:18:16.183Z"
   },
   {
    "duration": 42,
    "start_time": "2023-07-24T19:18:16.191Z"
   },
   {
    "duration": 14,
    "start_time": "2023-07-24T19:18:16.236Z"
   },
   {
    "duration": 8,
    "start_time": "2023-07-24T19:18:16.252Z"
   },
   {
    "duration": 16,
    "start_time": "2023-07-24T19:18:16.261Z"
   },
   {
    "duration": 32,
    "start_time": "2023-07-24T19:18:16.279Z"
   },
   {
    "duration": 19,
    "start_time": "2023-07-24T19:18:16.313Z"
   },
   {
    "duration": 4,
    "start_time": "2023-07-24T19:18:16.334Z"
   },
   {
    "duration": 30,
    "start_time": "2023-07-24T19:18:16.340Z"
   },
   {
    "duration": 11,
    "start_time": "2023-07-24T19:18:16.372Z"
   },
   {
    "duration": 5,
    "start_time": "2023-07-24T19:18:16.395Z"
   },
   {
    "duration": 18,
    "start_time": "2023-07-24T19:18:16.401Z"
   },
   {
    "duration": 75,
    "start_time": "2023-07-24T19:18:16.421Z"
   },
   {
    "duration": 0,
    "start_time": "2023-07-24T19:18:16.498Z"
   },
   {
    "duration": 0,
    "start_time": "2023-07-24T19:18:16.499Z"
   },
   {
    "duration": 0,
    "start_time": "2023-07-24T19:18:16.500Z"
   },
   {
    "duration": 13,
    "start_time": "2023-07-24T19:18:27.040Z"
   },
   {
    "duration": 490,
    "start_time": "2023-07-24T19:18:31.488Z"
   },
   {
    "duration": 23,
    "start_time": "2023-07-24T19:18:31.980Z"
   },
   {
    "duration": 31,
    "start_time": "2023-07-24T19:18:32.004Z"
   },
   {
    "duration": 14,
    "start_time": "2023-07-24T19:18:32.038Z"
   },
   {
    "duration": 56,
    "start_time": "2023-07-24T19:18:32.054Z"
   },
   {
    "duration": 4,
    "start_time": "2023-07-24T19:18:32.112Z"
   },
   {
    "duration": 23,
    "start_time": "2023-07-24T19:18:32.118Z"
   },
   {
    "duration": 14,
    "start_time": "2023-07-24T19:18:32.142Z"
   },
   {
    "duration": 23,
    "start_time": "2023-07-24T19:18:32.158Z"
   },
   {
    "duration": 19,
    "start_time": "2023-07-24T19:18:32.184Z"
   },
   {
    "duration": 53,
    "start_time": "2023-07-24T19:18:32.205Z"
   },
   {
    "duration": 12,
    "start_time": "2023-07-24T19:18:32.259Z"
   },
   {
    "duration": 7,
    "start_time": "2023-07-24T19:18:32.272Z"
   },
   {
    "duration": 33,
    "start_time": "2023-07-24T19:18:32.281Z"
   },
   {
    "duration": 36,
    "start_time": "2023-07-24T19:18:32.316Z"
   },
   {
    "duration": 21,
    "start_time": "2023-07-24T19:18:32.353Z"
   },
   {
    "duration": 6,
    "start_time": "2023-07-24T19:18:32.376Z"
   },
   {
    "duration": 28,
    "start_time": "2023-07-24T19:18:32.384Z"
   },
   {
    "duration": 17,
    "start_time": "2023-07-24T19:18:32.414Z"
   },
   {
    "duration": 26,
    "start_time": "2023-07-24T19:18:32.433Z"
   },
   {
    "duration": 49,
    "start_time": "2023-07-24T19:18:32.462Z"
   },
   {
    "duration": 100,
    "start_time": "2023-07-24T19:18:32.513Z"
   },
   {
    "duration": 0,
    "start_time": "2023-07-24T19:18:32.614Z"
   },
   {
    "duration": 0,
    "start_time": "2023-07-24T19:18:32.616Z"
   },
   {
    "duration": 0,
    "start_time": "2023-07-24T19:18:32.617Z"
   },
   {
    "duration": 470,
    "start_time": "2023-07-24T19:18:37.947Z"
   },
   {
    "duration": 22,
    "start_time": "2023-07-24T19:18:38.419Z"
   },
   {
    "duration": 41,
    "start_time": "2023-07-24T19:18:38.443Z"
   },
   {
    "duration": 30,
    "start_time": "2023-07-24T19:18:38.486Z"
   },
   {
    "duration": 58,
    "start_time": "2023-07-24T19:18:38.518Z"
   },
   {
    "duration": 3,
    "start_time": "2023-07-24T19:18:38.578Z"
   },
   {
    "duration": 27,
    "start_time": "2023-07-24T19:18:38.583Z"
   },
   {
    "duration": 29,
    "start_time": "2023-07-24T19:18:38.612Z"
   },
   {
    "duration": 25,
    "start_time": "2023-07-24T19:18:38.642Z"
   },
   {
    "duration": 23,
    "start_time": "2023-07-24T19:18:38.670Z"
   },
   {
    "duration": 48,
    "start_time": "2023-07-24T19:18:38.694Z"
   },
   {
    "duration": 9,
    "start_time": "2023-07-24T19:18:38.744Z"
   },
   {
    "duration": 26,
    "start_time": "2023-07-24T19:18:38.754Z"
   },
   {
    "duration": 39,
    "start_time": "2023-07-24T19:18:38.782Z"
   },
   {
    "duration": 45,
    "start_time": "2023-07-24T19:18:38.822Z"
   },
   {
    "duration": 20,
    "start_time": "2023-07-24T19:18:38.868Z"
   },
   {
    "duration": 18,
    "start_time": "2023-07-24T19:18:38.890Z"
   },
   {
    "duration": 20,
    "start_time": "2023-07-24T19:18:38.909Z"
   },
   {
    "duration": 13,
    "start_time": "2023-07-24T19:18:38.931Z"
   },
   {
    "duration": 22,
    "start_time": "2023-07-24T19:18:38.946Z"
   },
   {
    "duration": 31,
    "start_time": "2023-07-24T19:18:38.970Z"
   },
   {
    "duration": 86,
    "start_time": "2023-07-24T19:18:39.003Z"
   },
   {
    "duration": 0,
    "start_time": "2023-07-24T19:18:39.091Z"
   },
   {
    "duration": 0,
    "start_time": "2023-07-24T19:18:39.092Z"
   },
   {
    "duration": 0,
    "start_time": "2023-07-24T19:18:39.093Z"
   },
   {
    "duration": 558,
    "start_time": "2023-07-24T19:18:46.671Z"
   },
   {
    "duration": 24,
    "start_time": "2023-07-24T19:18:47.231Z"
   },
   {
    "duration": 15,
    "start_time": "2023-07-24T19:18:47.257Z"
   },
   {
    "duration": 25,
    "start_time": "2023-07-24T19:18:47.274Z"
   },
   {
    "duration": 43,
    "start_time": "2023-07-24T19:18:47.301Z"
   },
   {
    "duration": 3,
    "start_time": "2023-07-24T19:18:47.346Z"
   },
   {
    "duration": 13,
    "start_time": "2023-07-24T19:18:47.351Z"
   },
   {
    "duration": 6,
    "start_time": "2023-07-24T19:18:47.365Z"
   },
   {
    "duration": 27,
    "start_time": "2023-07-24T19:18:47.373Z"
   },
   {
    "duration": 4,
    "start_time": "2023-07-24T19:18:47.403Z"
   },
   {
    "duration": 44,
    "start_time": "2023-07-24T19:18:47.409Z"
   },
   {
    "duration": 10,
    "start_time": "2023-07-24T19:18:47.455Z"
   },
   {
    "duration": 4,
    "start_time": "2023-07-24T19:18:47.466Z"
   },
   {
    "duration": 28,
    "start_time": "2023-07-24T19:18:47.472Z"
   },
   {
    "duration": 23,
    "start_time": "2023-07-24T19:18:47.502Z"
   },
   {
    "duration": 17,
    "start_time": "2023-07-24T19:18:47.527Z"
   },
   {
    "duration": 3,
    "start_time": "2023-07-24T19:18:47.546Z"
   },
   {
    "duration": 16,
    "start_time": "2023-07-24T19:18:47.551Z"
   },
   {
    "duration": 26,
    "start_time": "2023-07-24T19:18:47.569Z"
   },
   {
    "duration": 4,
    "start_time": "2023-07-24T19:18:47.596Z"
   },
   {
    "duration": 15,
    "start_time": "2023-07-24T19:18:47.601Z"
   },
   {
    "duration": 69,
    "start_time": "2023-07-24T19:18:47.618Z"
   },
   {
    "duration": 0,
    "start_time": "2023-07-24T19:18:47.695Z"
   },
   {
    "duration": 0,
    "start_time": "2023-07-24T19:18:47.696Z"
   },
   {
    "duration": 0,
    "start_time": "2023-07-24T19:18:47.697Z"
   },
   {
    "duration": 10,
    "start_time": "2023-07-24T19:19:12.990Z"
   },
   {
    "duration": 445,
    "start_time": "2023-07-24T19:19:18.839Z"
   },
   {
    "duration": 24,
    "start_time": "2023-07-24T19:19:19.287Z"
   },
   {
    "duration": 17,
    "start_time": "2023-07-24T19:19:19.312Z"
   },
   {
    "duration": 11,
    "start_time": "2023-07-24T19:19:19.331Z"
   },
   {
    "duration": 61,
    "start_time": "2023-07-24T19:19:19.345Z"
   },
   {
    "duration": 4,
    "start_time": "2023-07-24T19:19:19.407Z"
   },
   {
    "duration": 25,
    "start_time": "2023-07-24T19:19:19.413Z"
   },
   {
    "duration": 3,
    "start_time": "2023-07-24T19:19:19.441Z"
   },
   {
    "duration": 11,
    "start_time": "2023-07-24T19:19:19.446Z"
   },
   {
    "duration": 4,
    "start_time": "2023-07-24T19:19:19.459Z"
   },
   {
    "duration": 48,
    "start_time": "2023-07-24T19:19:19.465Z"
   },
   {
    "duration": 10,
    "start_time": "2023-07-24T19:19:19.515Z"
   },
   {
    "duration": 6,
    "start_time": "2023-07-24T19:19:19.526Z"
   },
   {
    "duration": 15,
    "start_time": "2023-07-24T19:19:19.533Z"
   },
   {
    "duration": 25,
    "start_time": "2023-07-24T19:19:19.549Z"
   },
   {
    "duration": 36,
    "start_time": "2023-07-24T19:19:19.575Z"
   },
   {
    "duration": 4,
    "start_time": "2023-07-24T19:19:19.612Z"
   },
   {
    "duration": 15,
    "start_time": "2023-07-24T19:19:19.617Z"
   },
   {
    "duration": 6,
    "start_time": "2023-07-24T19:19:19.634Z"
   },
   {
    "duration": 5,
    "start_time": "2023-07-24T19:19:19.641Z"
   },
   {
    "duration": 22,
    "start_time": "2023-07-24T19:19:19.647Z"
   },
   {
    "duration": 85,
    "start_time": "2023-07-24T19:19:19.670Z"
   },
   {
    "duration": 0,
    "start_time": "2023-07-24T19:19:19.756Z"
   },
   {
    "duration": 0,
    "start_time": "2023-07-24T19:19:19.757Z"
   },
   {
    "duration": 0,
    "start_time": "2023-07-24T19:19:19.758Z"
   },
   {
    "duration": 8,
    "start_time": "2023-07-24T19:19:27.420Z"
   },
   {
    "duration": 8,
    "start_time": "2023-07-24T19:19:34.351Z"
   },
   {
    "duration": 14,
    "start_time": "2023-07-24T19:19:52.380Z"
   },
   {
    "duration": 22,
    "start_time": "2023-07-24T19:21:12.158Z"
   },
   {
    "duration": 15,
    "start_time": "2023-07-24T19:21:24.179Z"
   },
   {
    "duration": 15,
    "start_time": "2023-07-24T19:22:22.322Z"
   },
   {
    "duration": 126,
    "start_time": "2023-07-24T19:23:04.048Z"
   },
   {
    "duration": 16,
    "start_time": "2023-07-24T19:23:08.363Z"
   },
   {
    "duration": 18,
    "start_time": "2023-07-24T19:25:29.619Z"
   },
   {
    "duration": 13,
    "start_time": "2023-07-24T19:25:34.146Z"
   },
   {
    "duration": 130,
    "start_time": "2023-07-24T19:25:42.787Z"
   },
   {
    "duration": 123,
    "start_time": "2023-07-24T19:25:45.114Z"
   },
   {
    "duration": 18,
    "start_time": "2023-07-24T19:25:49.915Z"
   },
   {
    "duration": 6,
    "start_time": "2023-07-24T19:52:28.210Z"
   },
   {
    "duration": 21,
    "start_time": "2023-07-24T19:56:20.858Z"
   },
   {
    "duration": 18,
    "start_time": "2023-07-24T19:56:32.492Z"
   },
   {
    "duration": 11,
    "start_time": "2023-07-24T19:58:13.611Z"
   },
   {
    "duration": 14,
    "start_time": "2023-07-24T19:59:27.634Z"
   },
   {
    "duration": 499,
    "start_time": "2023-07-24T19:59:34.208Z"
   },
   {
    "duration": 23,
    "start_time": "2023-07-24T19:59:34.710Z"
   },
   {
    "duration": 35,
    "start_time": "2023-07-24T19:59:34.734Z"
   },
   {
    "duration": 44,
    "start_time": "2023-07-24T19:59:34.771Z"
   },
   {
    "duration": 93,
    "start_time": "2023-07-24T19:59:34.817Z"
   },
   {
    "duration": 4,
    "start_time": "2023-07-24T19:59:34.912Z"
   },
   {
    "duration": 38,
    "start_time": "2023-07-24T19:59:34.918Z"
   },
   {
    "duration": 25,
    "start_time": "2023-07-24T19:59:34.958Z"
   },
   {
    "duration": 34,
    "start_time": "2023-07-24T19:59:34.985Z"
   },
   {
    "duration": 21,
    "start_time": "2023-07-24T19:59:35.021Z"
   },
   {
    "duration": 68,
    "start_time": "2023-07-24T19:59:35.043Z"
   },
   {
    "duration": 9,
    "start_time": "2023-07-24T19:59:35.113Z"
   },
   {
    "duration": 20,
    "start_time": "2023-07-24T19:59:35.123Z"
   },
   {
    "duration": 26,
    "start_time": "2023-07-24T19:59:35.145Z"
   },
   {
    "duration": 45,
    "start_time": "2023-07-24T19:59:35.172Z"
   },
   {
    "duration": 17,
    "start_time": "2023-07-24T19:59:35.218Z"
   },
   {
    "duration": 4,
    "start_time": "2023-07-24T19:59:35.236Z"
   },
   {
    "duration": 34,
    "start_time": "2023-07-24T19:59:35.241Z"
   },
   {
    "duration": 31,
    "start_time": "2023-07-24T19:59:35.277Z"
   },
   {
    "duration": 25,
    "start_time": "2023-07-24T19:59:35.309Z"
   },
   {
    "duration": 82,
    "start_time": "2023-07-24T19:59:35.336Z"
   },
   {
    "duration": 130,
    "start_time": "2023-07-24T19:59:35.420Z"
   },
   {
    "duration": 0,
    "start_time": "2023-07-24T19:59:35.551Z"
   },
   {
    "duration": 0,
    "start_time": "2023-07-24T19:59:35.553Z"
   },
   {
    "duration": 0,
    "start_time": "2023-07-24T19:59:35.554Z"
   },
   {
    "duration": 22,
    "start_time": "2023-07-24T19:59:49.351Z"
   },
   {
    "duration": 15,
    "start_time": "2023-07-24T20:01:51.357Z"
   },
   {
    "duration": 14,
    "start_time": "2023-07-24T20:02:01.999Z"
   },
   {
    "duration": 13,
    "start_time": "2023-07-24T20:05:25.445Z"
   },
   {
    "duration": 17,
    "start_time": "2023-07-24T20:05:33.147Z"
   },
   {
    "duration": 6,
    "start_time": "2023-07-24T20:06:01.359Z"
   },
   {
    "duration": 7,
    "start_time": "2023-07-24T20:08:48.158Z"
   },
   {
    "duration": 8,
    "start_time": "2023-07-24T20:08:58.624Z"
   },
   {
    "duration": 27,
    "start_time": "2023-07-24T20:11:09.788Z"
   },
   {
    "duration": 16,
    "start_time": "2023-07-24T20:13:55.680Z"
   },
   {
    "duration": 13,
    "start_time": "2023-07-24T20:14:17.590Z"
   },
   {
    "duration": 16,
    "start_time": "2023-07-24T20:14:28.660Z"
   },
   {
    "duration": 14,
    "start_time": "2023-07-24T20:14:35.590Z"
   },
   {
    "duration": 16,
    "start_time": "2023-07-24T20:15:19.895Z"
   },
   {
    "duration": 17,
    "start_time": "2023-07-24T20:16:57.964Z"
   },
   {
    "duration": 10,
    "start_time": "2023-07-24T20:25:13.807Z"
   },
   {
    "duration": 9,
    "start_time": "2023-07-24T20:26:31.352Z"
   },
   {
    "duration": 19,
    "start_time": "2023-07-24T20:27:04.014Z"
   },
   {
    "duration": 459,
    "start_time": "2023-07-24T20:27:08.438Z"
   },
   {
    "duration": 24,
    "start_time": "2023-07-24T20:27:08.899Z"
   },
   {
    "duration": 16,
    "start_time": "2023-07-24T20:27:08.925Z"
   },
   {
    "duration": 13,
    "start_time": "2023-07-24T20:27:08.943Z"
   },
   {
    "duration": 56,
    "start_time": "2023-07-24T20:27:08.957Z"
   },
   {
    "duration": 3,
    "start_time": "2023-07-24T20:27:09.015Z"
   },
   {
    "duration": 12,
    "start_time": "2023-07-24T20:27:09.019Z"
   },
   {
    "duration": 10,
    "start_time": "2023-07-24T20:27:09.032Z"
   },
   {
    "duration": 15,
    "start_time": "2023-07-24T20:27:09.044Z"
   },
   {
    "duration": 4,
    "start_time": "2023-07-24T20:27:09.061Z"
   },
   {
    "duration": 53,
    "start_time": "2023-07-24T20:27:09.067Z"
   },
   {
    "duration": 13,
    "start_time": "2023-07-24T20:27:09.122Z"
   },
   {
    "duration": 17,
    "start_time": "2023-07-24T20:27:09.137Z"
   },
   {
    "duration": 18,
    "start_time": "2023-07-24T20:27:09.156Z"
   },
   {
    "duration": 25,
    "start_time": "2023-07-24T20:27:09.176Z"
   },
   {
    "duration": 18,
    "start_time": "2023-07-24T20:27:09.202Z"
   },
   {
    "duration": 3,
    "start_time": "2023-07-24T20:27:09.222Z"
   },
   {
    "duration": 13,
    "start_time": "2023-07-24T20:27:09.226Z"
   },
   {
    "duration": 6,
    "start_time": "2023-07-24T20:27:09.241Z"
   },
   {
    "duration": 9,
    "start_time": "2023-07-24T20:27:09.248Z"
   },
   {
    "duration": 21,
    "start_time": "2023-07-24T20:27:09.258Z"
   },
   {
    "duration": 20,
    "start_time": "2023-07-24T20:27:09.294Z"
   },
   {
    "duration": 16,
    "start_time": "2023-07-24T20:27:09.316Z"
   },
   {
    "duration": 18,
    "start_time": "2023-07-24T20:27:09.334Z"
   },
   {
    "duration": 75,
    "start_time": "2023-07-24T20:27:09.354Z"
   },
   {
    "duration": 0,
    "start_time": "2023-07-24T20:27:09.431Z"
   },
   {
    "duration": 0,
    "start_time": "2023-07-24T20:27:09.433Z"
   },
   {
    "duration": 10,
    "start_time": "2023-07-24T20:27:21.141Z"
   },
   {
    "duration": 6,
    "start_time": "2023-07-24T20:29:22.702Z"
   },
   {
    "duration": 8,
    "start_time": "2023-07-24T20:29:45.244Z"
   },
   {
    "duration": 14,
    "start_time": "2023-07-24T20:30:06.168Z"
   },
   {
    "duration": 27,
    "start_time": "2023-07-24T20:30:36.003Z"
   },
   {
    "duration": 51,
    "start_time": "2023-07-25T15:50:23.039Z"
   },
   {
    "duration": 6,
    "start_time": "2023-07-25T15:50:26.964Z"
   },
   {
    "duration": 7,
    "start_time": "2023-07-25T15:50:38.731Z"
   },
   {
    "duration": 6,
    "start_time": "2023-07-25T15:50:45.435Z"
   },
   {
    "duration": 714,
    "start_time": "2023-07-25T15:50:53.354Z"
   },
   {
    "duration": 24,
    "start_time": "2023-07-25T15:50:54.070Z"
   },
   {
    "duration": 15,
    "start_time": "2023-07-25T15:50:54.095Z"
   },
   {
    "duration": 29,
    "start_time": "2023-07-25T15:50:54.113Z"
   },
   {
    "duration": 62,
    "start_time": "2023-07-25T15:50:54.144Z"
   },
   {
    "duration": 3,
    "start_time": "2023-07-25T15:50:54.208Z"
   },
   {
    "duration": 34,
    "start_time": "2023-07-25T15:50:54.213Z"
   },
   {
    "duration": 11,
    "start_time": "2023-07-25T15:50:54.248Z"
   },
   {
    "duration": 30,
    "start_time": "2023-07-25T15:50:54.260Z"
   },
   {
    "duration": 33,
    "start_time": "2023-07-25T15:50:54.294Z"
   },
   {
    "duration": 56,
    "start_time": "2023-07-25T15:50:54.329Z"
   },
   {
    "duration": 10,
    "start_time": "2023-07-25T15:50:54.387Z"
   },
   {
    "duration": 44,
    "start_time": "2023-07-25T15:50:54.398Z"
   },
   {
    "duration": 50,
    "start_time": "2023-07-25T15:50:54.444Z"
   },
   {
    "duration": 29,
    "start_time": "2023-07-25T15:50:54.496Z"
   },
   {
    "duration": 25,
    "start_time": "2023-07-25T15:50:54.527Z"
   },
   {
    "duration": 9,
    "start_time": "2023-07-25T15:50:54.554Z"
   },
   {
    "duration": 55,
    "start_time": "2023-07-25T15:50:54.564Z"
   },
   {
    "duration": 18,
    "start_time": "2023-07-25T15:50:54.621Z"
   },
   {
    "duration": 15,
    "start_time": "2023-07-25T15:50:54.640Z"
   },
   {
    "duration": 103,
    "start_time": "2023-07-25T15:50:54.656Z"
   },
   {
    "duration": 21,
    "start_time": "2023-07-25T15:50:54.761Z"
   },
   {
    "duration": 12,
    "start_time": "2023-07-25T15:50:54.784Z"
   },
   {
    "duration": 67,
    "start_time": "2023-07-25T15:50:54.798Z"
   },
   {
    "duration": 88,
    "start_time": "2023-07-25T15:50:54.867Z"
   },
   {
    "duration": 0,
    "start_time": "2023-07-25T15:50:54.956Z"
   },
   {
    "duration": 15,
    "start_time": "2023-07-25T15:51:51.159Z"
   },
   {
    "duration": 10,
    "start_time": "2023-07-25T15:52:26.911Z"
   },
   {
    "duration": 16,
    "start_time": "2023-07-25T15:59:27.414Z"
   },
   {
    "duration": 25,
    "start_time": "2023-07-25T16:01:31.661Z"
   },
   {
    "duration": 21,
    "start_time": "2023-07-25T16:16:28.809Z"
   },
   {
    "duration": 23,
    "start_time": "2023-07-25T16:17:10.631Z"
   },
   {
    "duration": 459,
    "start_time": "2023-07-25T16:34:30.300Z"
   },
   {
    "duration": 25,
    "start_time": "2023-07-25T16:34:30.761Z"
   },
   {
    "duration": 140,
    "start_time": "2023-07-25T16:34:30.787Z"
   },
   {
    "duration": 54,
    "start_time": "2023-07-25T16:34:30.929Z"
   },
   {
    "duration": 73,
    "start_time": "2023-07-25T16:34:30.984Z"
   },
   {
    "duration": 24,
    "start_time": "2023-07-25T16:34:31.059Z"
   },
   {
    "duration": 50,
    "start_time": "2023-07-25T16:34:31.085Z"
   },
   {
    "duration": 56,
    "start_time": "2023-07-25T16:34:31.137Z"
   },
   {
    "duration": 30,
    "start_time": "2023-07-25T16:34:31.194Z"
   },
   {
    "duration": 49,
    "start_time": "2023-07-25T16:34:31.229Z"
   },
   {
    "duration": 58,
    "start_time": "2023-07-25T16:34:31.280Z"
   },
   {
    "duration": 16,
    "start_time": "2023-07-25T16:34:31.340Z"
   },
   {
    "duration": 35,
    "start_time": "2023-07-25T16:34:31.358Z"
   },
   {
    "duration": 33,
    "start_time": "2023-07-25T16:34:31.395Z"
   },
   {
    "duration": 36,
    "start_time": "2023-07-25T16:34:31.430Z"
   },
   {
    "duration": 25,
    "start_time": "2023-07-25T16:34:31.467Z"
   },
   {
    "duration": 22,
    "start_time": "2023-07-25T16:34:31.494Z"
   },
   {
    "duration": 48,
    "start_time": "2023-07-25T16:34:31.517Z"
   },
   {
    "duration": 36,
    "start_time": "2023-07-25T16:34:31.567Z"
   },
   {
    "duration": 27,
    "start_time": "2023-07-25T16:34:31.604Z"
   },
   {
    "duration": 55,
    "start_time": "2023-07-25T16:34:31.632Z"
   },
   {
    "duration": 25,
    "start_time": "2023-07-25T16:34:31.689Z"
   },
   {
    "duration": 17,
    "start_time": "2023-07-25T16:34:31.715Z"
   },
   {
    "duration": 33,
    "start_time": "2023-07-25T16:34:31.734Z"
   },
   {
    "duration": 18,
    "start_time": "2023-07-25T16:34:31.769Z"
   },
   {
    "duration": 41,
    "start_time": "2023-07-25T16:34:31.789Z"
   },
   {
    "duration": 502,
    "start_time": "2023-07-25T16:34:49.740Z"
   },
   {
    "duration": 23,
    "start_time": "2023-07-25T16:34:50.244Z"
   },
   {
    "duration": 34,
    "start_time": "2023-07-25T16:34:50.268Z"
   },
   {
    "duration": 13,
    "start_time": "2023-07-25T16:34:50.305Z"
   },
   {
    "duration": 57,
    "start_time": "2023-07-25T16:34:50.320Z"
   },
   {
    "duration": 66,
    "start_time": "2023-07-25T16:34:50.379Z"
   },
   {
    "duration": 17,
    "start_time": "2023-07-25T16:34:50.448Z"
   },
   {
    "duration": 22,
    "start_time": "2023-07-25T16:34:50.467Z"
   },
   {
    "duration": 20,
    "start_time": "2023-07-25T16:34:50.491Z"
   },
   {
    "duration": 26,
    "start_time": "2023-07-25T16:34:50.515Z"
   },
   {
    "duration": 56,
    "start_time": "2023-07-25T16:34:50.543Z"
   },
   {
    "duration": 20,
    "start_time": "2023-07-25T16:34:50.601Z"
   },
   {
    "duration": 29,
    "start_time": "2023-07-25T16:34:50.622Z"
   },
   {
    "duration": 24,
    "start_time": "2023-07-25T16:34:50.652Z"
   },
   {
    "duration": 49,
    "start_time": "2023-07-25T16:34:50.678Z"
   },
   {
    "duration": 18,
    "start_time": "2023-07-25T16:34:50.728Z"
   },
   {
    "duration": 9,
    "start_time": "2023-07-25T16:34:50.747Z"
   },
   {
    "duration": 28,
    "start_time": "2023-07-25T16:34:50.758Z"
   },
   {
    "duration": 11,
    "start_time": "2023-07-25T16:34:50.788Z"
   },
   {
    "duration": 7,
    "start_time": "2023-07-25T16:34:50.800Z"
   },
   {
    "duration": 30,
    "start_time": "2023-07-25T16:34:50.809Z"
   },
   {
    "duration": 14,
    "start_time": "2023-07-25T16:34:50.841Z"
   },
   {
    "duration": 5,
    "start_time": "2023-07-25T16:34:50.857Z"
   },
   {
    "duration": 25,
    "start_time": "2023-07-25T16:34:50.863Z"
   },
   {
    "duration": 15,
    "start_time": "2023-07-25T16:34:50.890Z"
   },
   {
    "duration": 6,
    "start_time": "2023-07-25T16:34:50.907Z"
   },
   {
    "duration": 483,
    "start_time": "2023-07-25T16:37:16.556Z"
   },
   {
    "duration": 24,
    "start_time": "2023-07-25T16:37:17.041Z"
   },
   {
    "duration": 31,
    "start_time": "2023-07-25T16:37:17.067Z"
   },
   {
    "duration": 9,
    "start_time": "2023-07-25T16:37:17.101Z"
   },
   {
    "duration": 41,
    "start_time": "2023-07-25T16:37:17.112Z"
   },
   {
    "duration": 4,
    "start_time": "2023-07-25T16:37:17.155Z"
   },
   {
    "duration": 56,
    "start_time": "2023-07-25T16:37:17.161Z"
   },
   {
    "duration": 70,
    "start_time": "2023-07-25T16:37:17.218Z"
   },
   {
    "duration": 11,
    "start_time": "2023-07-25T16:37:17.290Z"
   },
   {
    "duration": 9,
    "start_time": "2023-07-25T16:37:17.307Z"
   },
   {
    "duration": 64,
    "start_time": "2023-07-25T16:37:17.318Z"
   },
   {
    "duration": 10,
    "start_time": "2023-07-25T16:37:17.384Z"
   },
   {
    "duration": 11,
    "start_time": "2023-07-25T16:37:17.396Z"
   },
   {
    "duration": 29,
    "start_time": "2023-07-25T16:37:17.409Z"
   },
   {
    "duration": 24,
    "start_time": "2023-07-25T16:37:17.440Z"
   },
   {
    "duration": 18,
    "start_time": "2023-07-25T16:37:17.466Z"
   },
   {
    "duration": 11,
    "start_time": "2023-07-25T16:37:17.486Z"
   },
   {
    "duration": 38,
    "start_time": "2023-07-25T16:37:17.499Z"
   },
   {
    "duration": 26,
    "start_time": "2023-07-25T16:37:17.539Z"
   },
   {
    "duration": 23,
    "start_time": "2023-07-25T16:37:17.566Z"
   },
   {
    "duration": 33,
    "start_time": "2023-07-25T16:37:17.591Z"
   },
   {
    "duration": 14,
    "start_time": "2023-07-25T16:37:17.625Z"
   },
   {
    "duration": 6,
    "start_time": "2023-07-25T16:37:17.641Z"
   },
   {
    "duration": 22,
    "start_time": "2023-07-25T16:37:17.649Z"
   },
   {
    "duration": 16,
    "start_time": "2023-07-25T16:37:17.673Z"
   },
   {
    "duration": 3,
    "start_time": "2023-07-25T16:37:17.690Z"
   },
   {
    "duration": 7,
    "start_time": "2023-07-25T16:43:44.098Z"
   },
   {
    "duration": 68,
    "start_time": "2023-07-25T16:51:06.648Z"
   },
   {
    "duration": 29,
    "start_time": "2023-07-25T16:51:37.124Z"
   },
   {
    "duration": 25,
    "start_time": "2023-07-25T16:53:09.737Z"
   },
   {
    "duration": 28,
    "start_time": "2023-07-25T16:53:31.764Z"
   },
   {
    "duration": 35,
    "start_time": "2023-07-25T16:53:44.752Z"
   },
   {
    "duration": 6,
    "start_time": "2023-07-25T16:55:25.929Z"
   },
   {
    "duration": 7,
    "start_time": "2023-07-25T16:56:09.912Z"
   },
   {
    "duration": 17,
    "start_time": "2023-07-25T16:56:48.792Z"
   },
   {
    "duration": 16,
    "start_time": "2023-07-25T16:56:55.440Z"
   },
   {
    "duration": 7,
    "start_time": "2023-07-25T16:58:47.913Z"
   },
   {
    "duration": 6,
    "start_time": "2023-07-25T17:04:39.958Z"
   },
   {
    "duration": 21,
    "start_time": "2023-07-25T17:06:53.738Z"
   },
   {
    "duration": 4,
    "start_time": "2023-07-25T17:07:26.785Z"
   },
   {
    "duration": 7,
    "start_time": "2023-07-25T17:07:31.890Z"
   },
   {
    "duration": 11,
    "start_time": "2023-07-25T17:08:54.517Z"
   },
   {
    "duration": 11,
    "start_time": "2023-07-25T17:09:05.413Z"
   },
   {
    "duration": 449,
    "start_time": "2023-07-25T17:09:09.602Z"
   },
   {
    "duration": 26,
    "start_time": "2023-07-25T17:09:10.053Z"
   },
   {
    "duration": 18,
    "start_time": "2023-07-25T17:09:10.081Z"
   },
   {
    "duration": 17,
    "start_time": "2023-07-25T17:09:10.102Z"
   },
   {
    "duration": 56,
    "start_time": "2023-07-25T17:09:10.121Z"
   },
   {
    "duration": 5,
    "start_time": "2023-07-25T17:09:10.178Z"
   },
   {
    "duration": 13,
    "start_time": "2023-07-25T17:09:10.185Z"
   },
   {
    "duration": 6,
    "start_time": "2023-07-25T17:09:10.199Z"
   },
   {
    "duration": 10,
    "start_time": "2023-07-25T17:09:10.206Z"
   },
   {
    "duration": 5,
    "start_time": "2023-07-25T17:09:10.220Z"
   },
   {
    "duration": 40,
    "start_time": "2023-07-25T17:09:10.254Z"
   },
   {
    "duration": 10,
    "start_time": "2023-07-25T17:09:10.296Z"
   },
   {
    "duration": 8,
    "start_time": "2023-07-25T17:09:10.308Z"
   },
   {
    "duration": 13,
    "start_time": "2023-07-25T17:09:10.318Z"
   },
   {
    "duration": 22,
    "start_time": "2023-07-25T17:09:10.351Z"
   },
   {
    "duration": 19,
    "start_time": "2023-07-25T17:09:10.375Z"
   },
   {
    "duration": 4,
    "start_time": "2023-07-25T17:09:10.396Z"
   },
   {
    "duration": 21,
    "start_time": "2023-07-25T17:09:10.401Z"
   },
   {
    "duration": 30,
    "start_time": "2023-07-25T17:09:10.423Z"
   },
   {
    "duration": 4,
    "start_time": "2023-07-25T17:09:10.456Z"
   },
   {
    "duration": 40,
    "start_time": "2023-07-25T17:09:10.461Z"
   },
   {
    "duration": 14,
    "start_time": "2023-07-25T17:09:10.503Z"
   },
   {
    "duration": 81,
    "start_time": "2023-07-25T17:09:10.518Z"
   },
   {
    "duration": 0,
    "start_time": "2023-07-25T17:09:10.600Z"
   },
   {
    "duration": 0,
    "start_time": "2023-07-25T17:09:10.601Z"
   },
   {
    "duration": 0,
    "start_time": "2023-07-25T17:09:10.602Z"
   },
   {
    "duration": 9,
    "start_time": "2023-07-25T17:09:40.490Z"
   },
   {
    "duration": 7,
    "start_time": "2023-07-25T17:09:42.946Z"
   },
   {
    "duration": 13,
    "start_time": "2023-07-25T17:09:50.219Z"
   },
   {
    "duration": 156,
    "start_time": "2023-07-25T17:10:19.832Z"
   },
   {
    "duration": 31,
    "start_time": "2023-07-25T17:10:29.698Z"
   },
   {
    "duration": 21,
    "start_time": "2023-07-25T17:10:32.134Z"
   },
   {
    "duration": 25,
    "start_time": "2023-07-25T17:11:23.122Z"
   },
   {
    "duration": 24,
    "start_time": "2023-07-25T17:11:29.902Z"
   },
   {
    "duration": 24,
    "start_time": "2023-07-25T17:11:34.021Z"
   },
   {
    "duration": 12,
    "start_time": "2023-07-25T17:12:58.120Z"
   },
   {
    "duration": 13,
    "start_time": "2023-07-25T17:13:43.310Z"
   },
   {
    "duration": 11,
    "start_time": "2023-07-25T17:14:19.576Z"
   },
   {
    "duration": 24,
    "start_time": "2023-07-25T17:14:20.394Z"
   },
   {
    "duration": 11,
    "start_time": "2023-07-25T17:14:37.726Z"
   },
   {
    "duration": 13,
    "start_time": "2023-07-25T17:15:19.261Z"
   },
   {
    "duration": 17,
    "start_time": "2023-07-25T17:16:03.260Z"
   },
   {
    "duration": 12,
    "start_time": "2023-07-25T17:16:07.218Z"
   },
   {
    "duration": 11,
    "start_time": "2023-07-25T17:16:41.022Z"
   },
   {
    "duration": 22,
    "start_time": "2023-07-25T17:17:57.612Z"
   },
   {
    "duration": 18,
    "start_time": "2023-07-25T17:21:00.022Z"
   },
   {
    "duration": 5,
    "start_time": "2023-07-25T17:21:07.143Z"
   },
   {
    "duration": 16,
    "start_time": "2023-07-25T17:21:51.290Z"
   },
   {
    "duration": 3,
    "start_time": "2023-07-26T15:41:48.711Z"
   },
   {
    "duration": 21,
    "start_time": "2023-07-26T16:11:26.164Z"
   },
   {
    "duration": 13,
    "start_time": "2023-07-26T16:11:34.913Z"
   },
   {
    "duration": 19,
    "start_time": "2023-07-26T16:13:15.528Z"
   },
   {
    "duration": 17,
    "start_time": "2023-07-26T16:13:40.265Z"
   },
   {
    "duration": 107,
    "start_time": "2023-07-26T17:36:57.153Z"
   },
   {
    "duration": 203,
    "start_time": "2023-07-26T17:37:01.367Z"
   },
   {
    "duration": 478,
    "start_time": "2023-07-26T18:25:32.346Z"
   },
   {
    "duration": 32,
    "start_time": "2023-07-26T18:25:32.826Z"
   },
   {
    "duration": 40,
    "start_time": "2023-07-26T18:25:32.860Z"
   },
   {
    "duration": 9,
    "start_time": "2023-07-26T18:25:32.902Z"
   },
   {
    "duration": 50,
    "start_time": "2023-07-26T18:25:32.913Z"
   },
   {
    "duration": 4,
    "start_time": "2023-07-26T18:25:32.964Z"
   },
   {
    "duration": 30,
    "start_time": "2023-07-26T18:25:32.970Z"
   },
   {
    "duration": 5,
    "start_time": "2023-07-26T18:25:33.002Z"
   },
   {
    "duration": 13,
    "start_time": "2023-07-26T18:25:33.009Z"
   },
   {
    "duration": 5,
    "start_time": "2023-07-26T18:25:33.026Z"
   },
   {
    "duration": 39,
    "start_time": "2023-07-26T18:25:33.033Z"
   },
   {
    "duration": 31,
    "start_time": "2023-07-26T18:25:33.073Z"
   },
   {
    "duration": 15,
    "start_time": "2023-07-26T18:25:33.106Z"
   },
   {
    "duration": 19,
    "start_time": "2023-07-26T18:25:33.122Z"
   },
   {
    "duration": 24,
    "start_time": "2023-07-26T18:25:33.142Z"
   },
   {
    "duration": 31,
    "start_time": "2023-07-26T18:25:33.168Z"
   },
   {
    "duration": 4,
    "start_time": "2023-07-26T18:25:33.201Z"
   },
   {
    "duration": 12,
    "start_time": "2023-07-26T18:25:33.206Z"
   },
   {
    "duration": 6,
    "start_time": "2023-07-26T18:25:33.219Z"
   },
   {
    "duration": 8,
    "start_time": "2023-07-26T18:25:33.226Z"
   },
   {
    "duration": 17,
    "start_time": "2023-07-26T18:25:33.236Z"
   },
   {
    "duration": 13,
    "start_time": "2023-07-26T18:25:33.255Z"
   },
   {
    "duration": 33,
    "start_time": "2023-07-26T18:25:33.269Z"
   },
   {
    "duration": 26,
    "start_time": "2023-07-26T18:25:33.303Z"
   },
   {
    "duration": 44,
    "start_time": "2023-07-26T18:25:33.332Z"
   },
   {
    "duration": 24,
    "start_time": "2023-07-26T18:25:33.378Z"
   },
   {
    "duration": 897,
    "start_time": "2023-07-29T14:31:02.636Z"
   },
   {
    "duration": 22,
    "start_time": "2023-07-29T14:31:03.536Z"
   },
   {
    "duration": 46,
    "start_time": "2023-07-29T14:31:03.560Z"
   },
   {
    "duration": 21,
    "start_time": "2023-07-29T14:31:03.608Z"
   },
   {
    "duration": 49,
    "start_time": "2023-07-29T14:31:03.632Z"
   },
   {
    "duration": 3,
    "start_time": "2023-07-29T14:31:03.683Z"
   },
   {
    "duration": 41,
    "start_time": "2023-07-29T14:31:03.702Z"
   },
   {
    "duration": 6,
    "start_time": "2023-07-29T14:31:03.745Z"
   },
   {
    "duration": 16,
    "start_time": "2023-07-29T14:31:03.753Z"
   },
   {
    "duration": 5,
    "start_time": "2023-07-29T14:31:03.770Z"
   },
   {
    "duration": 69,
    "start_time": "2023-07-29T14:31:03.776Z"
   },
   {
    "duration": 10,
    "start_time": "2023-07-29T14:31:03.848Z"
   },
   {
    "duration": 46,
    "start_time": "2023-07-29T14:31:03.859Z"
   },
   {
    "duration": 38,
    "start_time": "2023-07-29T14:31:03.908Z"
   },
   {
    "duration": 101,
    "start_time": "2023-07-29T14:31:03.948Z"
   },
   {
    "duration": 28,
    "start_time": "2023-07-29T14:31:04.051Z"
   },
   {
    "duration": 4,
    "start_time": "2023-07-29T14:31:04.080Z"
   },
   {
    "duration": 49,
    "start_time": "2023-07-29T14:31:04.086Z"
   },
   {
    "duration": 11,
    "start_time": "2023-07-29T14:31:04.140Z"
   },
   {
    "duration": 22,
    "start_time": "2023-07-29T14:31:04.152Z"
   },
   {
    "duration": 40,
    "start_time": "2023-07-29T14:31:04.176Z"
   },
   {
    "duration": 17,
    "start_time": "2023-07-29T14:31:04.217Z"
   },
   {
    "duration": 9,
    "start_time": "2023-07-29T14:31:04.235Z"
   },
   {
    "duration": 21,
    "start_time": "2023-07-29T14:31:04.246Z"
   },
   {
    "duration": 26,
    "start_time": "2023-07-29T14:31:04.269Z"
   },
   {
    "duration": 54,
    "start_time": "2023-07-29T14:31:04.297Z"
   }
  ],
  "colab": {
   "provenance": []
  },
  "kernelspec": {
   "display_name": "Python 3 (ipykernel)",
   "language": "python",
   "name": "python3"
  },
  "language_info": {
   "codemirror_mode": {
    "name": "ipython",
    "version": 3
   },
   "file_extension": ".py",
   "mimetype": "text/x-python",
   "name": "python",
   "nbconvert_exporter": "python",
   "pygments_lexer": "ipython3",
   "version": "3.11.5"
  },
  "toc": {
   "base_numbering": 1,
   "nav_menu": {},
   "number_sections": true,
   "sideBar": true,
   "skip_h1_title": true,
   "title_cell": "Table of Contents",
   "title_sidebar": "Contents",
   "toc_cell": false,
   "toc_position": {
    "height": "calc(100% - 180px)",
    "left": "10px",
    "top": "150px",
    "width": "321px"
   },
   "toc_section_display": true,
   "toc_window_display": false
  }
 },
 "nbformat": 4,
 "nbformat_minor": 5
}
